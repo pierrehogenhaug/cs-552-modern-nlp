{
 "cells": [
  {
   "cell_type": "markdown",
   "metadata": {},
   "source": [
    "# 📚 Exercise Session - Week 1\n",
    "\n",
    "Welcome to Week 1 exercise session of **CS-552: Modern NLP**!\n",
    "\n",
    "> **What will be covered:**\n",
    "> 1. [**TASK A:** Training a word embedding model](#1)\n",
    "> 2. [**TASK B:** Word embedding similarity](#2)\n",
    "> 3. [**TASK C:** Sentiment analysis of movie reviews](#3)\n",
    "\n",
    "> **By the end of the session you will be able to:**\n",
    "> - ✅  train from scratch a word embedding model\n",
    "> - ✅  load and use pre-trained word embeddings \n",
    "> - ✅  perform word embedding analogies and understand their implicit biases\n",
    "> - ✅  train and evaluate a sentiment classifier using word embeddings "
   ]
  },
  {
   "cell_type": "markdown",
   "metadata": {},
   "source": [
    "## Intro - Word embedding models\n",
    "\n",
    "#### 🔵 What?\n",
    "A word embedding is a learned representation for text where words that have the same meaning have a similar representation. It is this approach to representing words and documents that may be considered one of the key breakthroughs of deep learning on challenging natural language processing problems.\n",
    "\n",
    "\n",
    "#### 🟡 How?\n",
    "There are different versions of word embeddings depending on the way the embeddings are learned.\n",
    "- Some of the models learn a focus word given the neighboring words that surround them\n",
    "- Some other models learn the neighboring words given the focus word.\n",
    "- Some other word embedding models try to derive the relationship between the words from global statistics of the words in the overall corpus.\n",
    "\n",
    "\n",
    "#### 🟣 Why?\n",
    "Word embedding in NLP is an important concept that is used for representing words for text analysis in the form of real-valued vectors. It is an advancement in NLP that has improved the ability of computers to understand text-based content in a better way. \n",
    "\n",
    "\n",
    "#### A little bit of history on word embeddings\n",
    "In 2013, Tomas Mikolov et al. developed an algorithm for learning word embeddings called **Word2vec** [[paper](https://arxiv.org/abs/1301.3781)][[code](https://code.google.com/archive/p/word2vec/)]. This algorithm uses a shallow neural network to learn word vectors so that the representation of each word of a given corpus is good at predicting its own contexts (Skip-Gram) or vice versa (CBOW).\n",
    "\n",
    "One year after the publication of Word2vec, Pennington et al. developed a new algorithm for learning word embeddings called **GloVe** [[paper](https://nlp.stanford.edu/pubs/glove.pdf)][[code](https://github.com/stanfordnlp/GloVe)]. This algorithm is based on the observation that word relationships can be recovered from the co-occurrence statistics of any (large enough) corpus."
   ]
  },
  {
   "cell_type": "markdown",
   "metadata": {},
   "source": [
    "<div style=\"padding:8px 0 8px 15px;border-left:3px solid orange;background-color:#F3F3F3;\">\n",
    "    <h3>Goal of today's exercise</h3><br/>\n",
    "In this exercise session, we will use both variants of these word embedding models (Word2Vec and GloVe) for our experiments.\n",
    "For the first part, we will train from scratch a Word2vec model with different datasets. In the second part, we will load pre-trained Word2vec and GloVe embeddings and test them on how well they capture concept similarity among words. Finally, for the last part, we will train a simple sentiment analysis classifier with these pre-trained embeddings as we discussed in the lecture.\n",
    "\n",
    "You will need to fill in all the missing pieces of code. For each one, you will be given a 🎯 `Goal` guidance that explains the steps you need to implement and a 💻 `API` reference with the functions or classes you can use to achieve each goal.\n",
    "\n",
    "#### Setup\n",
    "Please check the [setup guide]() of the course before you start.\n",
    "\n",
    "</div>"
   ]
  },
  {
   "cell_type": "code",
   "execution_count": 1,
   "metadata": {},
   "outputs": [],
   "source": [
    "#!conda create -n \"modern_nlp\" python=3.10"
   ]
  },
  {
   "cell_type": "code",
   "execution_count": 2,
   "metadata": {},
   "outputs": [],
   "source": [
    "#!pip3 install pandas gensim numpy matplotlib seaborn scikit-learn tqdm torch torchmetrics"
   ]
  },
  {
   "cell_type": "code",
   "execution_count": 3,
   "metadata": {},
   "outputs": [
    {
     "name": "stderr",
     "output_type": "stream",
     "text": [
      "/opt/homebrew/Caskroom/miniforge/base/envs/modern_nlp/lib/python3.10/site-packages/tqdm/auto.py:21: TqdmWarning: IProgress not found. Please update jupyter and ipywidgets. See https://ipywidgets.readthedocs.io/en/stable/user_install.html\n",
      "  from .autonotebook import tqdm as notebook_tqdm\n"
     ]
    }
   ],
   "source": [
    "# imported libraries for this exercise\n",
    "import pandas as pd\n",
    "import numpy as np\n",
    "from gensim.test.utils import common_texts\n",
    "from gensim.utils import tokenize   \n",
    "from gensim.models import Word2Vec\n",
    "import gensim.downloader\n",
    "import torch \n",
    "from torch import nn\n",
    "from torch.utils.data import Dataset, DataLoader\n",
    "from torchmetrics.classification import BinaryAccuracy\n",
    "from sklearn.manifold import TSNE\n",
    "import matplotlib.pyplot as plt\n",
    "import seaborn as sns\n",
    "from tqdm import tqdm"
   ]
  },
  {
   "cell_type": "markdown",
   "metadata": {},
   "source": [
    "<a id=\"1\"></a>\n",
    "## 1. TASK A: Training a word embedding model from stratch \n",
    "\n",
    "In this part, you will train a model to learn vector representations of words and more specifically, we will train the word2vec model. \n",
    "To train the model we will use the Gensim library which is a free open-source Python library for representing documents as semantic vectors.\n",
    " \n",
    "> **Gensim** is designed to process raw, unstructured digital texts (“plain text”) using unsupervised machine learning algorithms. The algorithms in Gensim, such as Word2Vec, FastText, Latent Semantic Indexing (LSI, LSA, LsiModel), Latent Dirichlet Allocation (LDA, LdaModel) etc, automatically discover the semantic structure of documents by examining statistical co-occurrence patterns within a corpus of training documents. These algorithms are unsupervised, which means no human input is necessary – you only need a corpus of plain text documents.\n",
    ">\n",
    "> You can discover all Gensim functionalities [here](https://radimrehurek.com/gensim/index.html).\n",
    "\n",
    "To train your embedding model, you will need to instantiate Word2Vec and pass the data to the model to train with. We essentially need to pass on a list of lists, where each list within the main list contains a set of tokens from a user review. Word2Vec uses all these tokens to internally create a vocabulary.\n",
    "\n",
    "**Data:** We will train our embedding model using a toy dataset that is provided by the Gensim library. You can use the dataset under the following path `gensim.test.utils.common_texts`. "
   ]
  },
  {
   "cell_type": "code",
   "execution_count": 4,
   "metadata": {},
   "outputs": [
    {
     "data": {
      "text/plain": [
       "[['human', 'interface', 'computer'],\n",
       " ['survey', 'user', 'computer', 'system', 'response', 'time'],\n",
       " ['eps', 'user', 'interface', 'system'],\n",
       " ['system', 'human', 'system', 'eps'],\n",
       " ['user', 'response', 'time'],\n",
       " ['trees'],\n",
       " ['graph', 'trees'],\n",
       " ['graph', 'minors', 'trees'],\n",
       " ['graph', 'minors', 'survey']]"
      ]
     },
     "execution_count": 4,
     "metadata": {},
     "output_type": "execute_result"
    }
   ],
   "source": [
    "# bag of words for each sentence in toy dataset (imported from the gensim library in cell 2)\n",
    "common_texts"
   ]
  },
  {
   "cell_type": "markdown",
   "metadata": {},
   "source": [
    "#### Train a Gensim Word2Vec model"
   ]
  },
  {
   "cell_type": "markdown",
   "metadata": {},
   "source": [
    "<div style=\"padding:8px 0 8px 15px;border-left:3px solid #03befc;background-color:#F3F3F3;\">\n",
    "    \n",
    "- 🎯 **Goal:** Train with `common_texts` dataset a Gensim word2vec model.<br>\n",
    "\n",
    "- 💻  **API:** You can use `gensim.models.Word2Vec` class.\n",
    "</div>"
   ]
  },
  {
   "cell_type": "code",
   "execution_count": 5,
   "metadata": {},
   "outputs": [
    {
     "data": {
      "text/plain": [
       "<gensim.models.word2vec.Word2Vec at 0x29a9325f0>"
      ]
     },
     "execution_count": 5,
     "metadata": {},
     "output_type": "execute_result"
    }
   ],
   "source": [
    "# instantiate and train model\n",
    "# window: The maximum distance between the current and predicted word within a sentence. Essentially, this defines the context size.\n",
    "# vector_size: The dimensionality of the feature vectors.\n",
    "# min_count: Ignores all words with total frequency lower than this.\n",
    "# workers: Use these many worker threads to train the model (=faster training with multicore machines).\n",
    "\n",
    "w2v_model = Word2Vec(sentences=common_texts, vector_size=100, window=5, min_count=1)\n",
    "w2v_model"
   ]
  },
  {
   "cell_type": "code",
   "execution_count": 6,
   "metadata": {},
   "outputs": [
    {
     "data": {
      "text/plain": [
       "{'system': 0,\n",
       " 'graph': 1,\n",
       " 'trees': 2,\n",
       " 'user': 3,\n",
       " 'minors': 4,\n",
       " 'eps': 5,\n",
       " 'time': 6,\n",
       " 'response': 7,\n",
       " 'survey': 8,\n",
       " 'computer': 9,\n",
       " 'interface': 10,\n",
       " 'human': 11}"
      ]
     },
     "execution_count": 6,
     "metadata": {},
     "output_type": "execute_result"
    }
   ],
   "source": [
    "# dict with vocabulary frequencies\n",
    "words = w2v_model.wv.key_to_index\n",
    "words"
   ]
  },
  {
   "cell_type": "markdown",
   "metadata": {},
   "source": [
    "#### Find word similarities"
   ]
  },
  {
   "cell_type": "code",
   "execution_count": 7,
   "metadata": {},
   "outputs": [
    {
     "name": "stdout",
     "output_type": "stream",
     "text": [
      "The vector length of the word is 100.\n"
     ]
    },
    {
     "data": {
      "text/plain": [
       "array([-0.00515774, -0.00667028, -0.0077791 ,  0.00831315, -0.00198292,\n",
       "       -0.00685696, -0.0041556 ,  0.00514562, -0.00286997, -0.00375075,\n",
       "        0.0016219 , -0.0027771 , -0.00158482,  0.0010748 , -0.00297881,\n",
       "        0.00852176,  0.00391207, -0.00996176,  0.00626142, -0.00675622,\n",
       "        0.00076966,  0.00440552, -0.00510486, -0.00211128,  0.00809783,\n",
       "       -0.00424503, -0.00763848,  0.00926061, -0.00215612, -0.00472081,\n",
       "        0.00857329,  0.00428459,  0.0043261 ,  0.00928722, -0.00845554,\n",
       "        0.00525685,  0.00203994,  0.0041895 ,  0.00169839,  0.00446543,\n",
       "        0.0044876 ,  0.0061063 , -0.00320303, -0.00457706, -0.00042664,\n",
       "        0.00253447, -0.00326412,  0.00605948,  0.00415534,  0.00776685,\n",
       "        0.00257002,  0.00811905, -0.00138761,  0.00808028,  0.0037181 ,\n",
       "       -0.00804967, -0.00393476, -0.0024726 ,  0.00489447, -0.00087241,\n",
       "       -0.00283173,  0.00783599,  0.00932561, -0.0016154 , -0.00516075,\n",
       "       -0.00470313, -0.00484746, -0.00960562,  0.00137242, -0.00422615,\n",
       "        0.00252744,  0.00561612, -0.00406709, -0.00959937,  0.00154715,\n",
       "       -0.00670207,  0.0024959 , -0.00378173,  0.00708048,  0.00064041,\n",
       "        0.00356198, -0.00273993, -0.00171105,  0.00765502,  0.00140809,\n",
       "       -0.00585215, -0.00783678,  0.00123305,  0.00645651,  0.00555797,\n",
       "       -0.00897966,  0.00859466,  0.00404816,  0.00747178,  0.00974917,\n",
       "       -0.0072917 , -0.00904259,  0.0058377 ,  0.00939395,  0.00350795],\n",
       "      dtype=float32)"
      ]
     },
     "execution_count": 7,
     "metadata": {},
     "output_type": "execute_result"
    }
   ],
   "source": [
    "# explore embeddings\n",
    "vector = w2v_model.wv['computer']  # get numpy vector of a word\n",
    "print('The vector length of the word is {}.'.format(len(vector)))\n",
    "vector"
   ]
  },
  {
   "cell_type": "markdown",
   "metadata": {},
   "source": [
    "<div style=\"padding:8px 0 8px 15px;border-left:3px solid #03befc;background-color:#F3F3F3;\">\n",
    "\n",
    "- 🎯 **Goal:** Use the trained word2vec model to find most similar words for token _\"computer\"_.\n",
    "- 💻 **API:** You can use Gensim's `.most_similar` function.\n",
    "\n",
    "</div>"
   ]
  },
  {
   "cell_type": "code",
   "execution_count": 8,
   "metadata": {},
   "outputs": [
    {
     "data": {
      "text/plain": [
       "[('system', 0.21617141366004944),\n",
       " ('survey', 0.04468922317028046),\n",
       " ('interface', 0.015203384682536125),\n",
       " ('time', 0.0019510771380737424),\n",
       " ('trees', -0.03284314274787903),\n",
       " ('human', -0.07424270361661911),\n",
       " ('response', -0.09317589551210403),\n",
       " ('graph', -0.09575342386960983),\n",
       " ('eps', -0.10513808578252792),\n",
       " ('user', -0.16911624372005463),\n",
       " ('minors', -0.17323409020900726)]"
      ]
     },
     "execution_count": 8,
     "metadata": {},
     "output_type": "execute_result"
    }
   ],
   "source": [
    "# print most similar words\n",
    "similar = w2v_model.wv.most_similar('computer', topn=15)\n",
    "similar"
   ]
  },
  {
   "cell_type": "markdown",
   "metadata": {},
   "source": [
    "<div style=\"padding:8px 0 8px 15px;border-left:3px solid gray;background-color:#F3F3F3;\">\n",
    "\n",
    "#### Play around with inital settings\n",
    "\n",
    "- Re-train the model with different datasets ( [Wikipedia](https://radimrehurek.com/gensim/corpora/wikicorpus.html), [Opinosis](https://radimrehurek.com/gensim/corpora/opinosiscorpus.html) ) and vector sizes and run similarity with different top-n. How would you comment on the results?\n",
    "- Think about the limitations of the Word2vec approach.\n",
    "\n",
    "</div>"
   ]
  },
  {
   "cell_type": "markdown",
   "metadata": {},
   "source": [
    "***--- YOU CAN WRITE YOU ANSWER HERE ---***\n",
    "\n",
    "---"
   ]
  },
  {
   "cell_type": "code",
   "execution_count": null,
   "metadata": {},
   "outputs": [
    {
     "name": "stdout",
     "output_type": "stream",
     "text": [
      "Vector size: 50 | Top-n: 5 | Similar words: [('computers', 0.916504442691803), ('software', 0.8814992904663086), ('technology', 0.852556049823761), ('electronic', 0.812586784362793), ('internet', 0.8060455322265625)]\n"
     ]
    },
    {
     "name": "stdout",
     "output_type": "stream",
     "text": [
      "Vector size: 50 | Top-n: 10 | Similar words: [('computers', 0.916504442691803), ('software', 0.8814992904663086), ('technology', 0.852556049823761), ('electronic', 0.812586784362793), ('internet', 0.8060455322265625), ('computing', 0.8026036620140076), ('devices', 0.8016184568405151), ('digital', 0.7991793751716614), ('applications', 0.7912740707397461), ('pc', 0.7883159518241882)]\n",
      "Vector size: 50 | Top-n: 15 | Similar words: [('computers', 0.916504442691803), ('software', 0.8814992904663086), ('technology', 0.852556049823761), ('electronic', 0.812586784362793), ('internet', 0.8060455322265625), ('computing', 0.8026036620140076), ('devices', 0.8016184568405151), ('digital', 0.7991793751716614), ('applications', 0.7912740707397461), ('pc', 0.7883159518241882), ('hardware', 0.78669673204422), ('systems', 0.7800467014312744), ('web', 0.7793424725532532), ('laptop', 0.7741158604621887), ('desktop', 0.7662739753723145)]\n"
     ]
    }
   ],
   "source": [
    "# Retrain the model with different dataset (Wikipedia) and vector sizes and run similarity with different top-n\n",
    "vector_sizes = [50, 100, 200]  # Different vector sizes to experiment with\n",
    "top_n_values = [5, 10, 15]  # Different top-n values for similarity queries\n",
    "for vector_size in vector_sizes:\n",
    "    for top_n in top_n_values:\n",
    "        w2v_model = gensim.downloader.load('glove-wiki-gigaword-{}'.format(vector_size))\n",
    "        similar = w2v_model.most_similar('computer', topn=top_n)\n",
    "        print('Vector size: {} | Top-n: {} | Similar words: {}'.format(vector_size, top_n, similar))"
   ]
  },
  {
   "cell_type": "markdown",
   "metadata": {},
   "source": [
    "<a id=\"2\"></a>\n",
    "## 2. TASK B: Word embedding similarity\n",
    "\n",
    "For this task, we will use pre-trained word embedding models. \n",
    "\n",
    "**Word2Vec:** We will use once again Word2vec as in the previous question, but in this case we will load the pre-trained version of it that has been trained on a part of the Google News dataset (about 100 billion words). The model variant that we will use, contains 300-dimensional vectors for 3 million words and phrases.\n",
    "\n",
    "**GloVe:** We will also use GloVe word embeddings that have been pre-trained on 2B tweets, 27B tokens, 1.2M vocab, uncased. The model variant that we will use contains 100-dimensional vectors.\n",
    "\n",
    "Once we load the vector represenation of words, we will:\n",
    "- find similarities between group of words.\n",
    "- discover a very cool property of word embeddings through analogies.\n",
    "- evaluate their performance on how well they capture the semantics between words on the SimLex task.\n"
   ]
  },
  {
   "cell_type": "markdown",
   "metadata": {},
   "source": [
    "### 2.1 Using pre-trained word embedding models"
   ]
  },
  {
   "cell_type": "code",
   "execution_count": 10,
   "metadata": {},
   "outputs": [
    {
     "name": "stdout",
     "output_type": "stream",
     "text": [
      "['fasttext-wiki-news-subwords-300', 'conceptnet-numberbatch-17-06-300', 'word2vec-ruscorpora-300', 'word2vec-google-news-300', 'glove-wiki-gigaword-50', 'glove-wiki-gigaword-100', 'glove-wiki-gigaword-200', 'glove-wiki-gigaword-300', 'glove-twitter-25', 'glove-twitter-50', 'glove-twitter-100', 'glove-twitter-200', '__testing_word2vec-matrix-synopsis']\n"
     ]
    }
   ],
   "source": [
    "# Show all available models in gensim-data\n",
    "print(list(gensim.downloader.info()['models'].keys()))"
   ]
  },
  {
   "cell_type": "code",
   "execution_count": 11,
   "metadata": {},
   "outputs": [],
   "source": [
    "# Download the \"word2vec-google-news-300\" embeddings\n",
    "w2v_vectors = gensim.downloader.load('word2vec-google-news-300')"
   ]
  },
  {
   "cell_type": "code",
   "execution_count": 12,
   "metadata": {},
   "outputs": [],
   "source": [
    "# Download the \"glove-wiki-gigaword-100\" embeddings\n",
    "glove_vectors = gensim.downloader.load('glove-wiki-gigaword-100')"
   ]
  },
  {
   "cell_type": "markdown",
   "metadata": {},
   "source": [
    "The best way to understand a data is by visualizing them. We will use t-SNE to reduce the data with 300 dimensions to 2 dimensions, so that we can plot the data on our screens.\n",
    "t-SNE is a non-linear dimensionality reduction algorithm that attempts to represent high-dimensional data and the underlying relationships between vectors in a lower-dimensional space."
   ]
  },
  {
   "cell_type": "code",
   "execution_count": 13,
   "metadata": {},
   "outputs": [],
   "source": [
    "# visualization utility function. NO NEED TO CHANGE ANYTHING HERE\n",
    "sns.set_style('whitegrid')\n",
    "sns.set_theme(rc={'figure.figsize':(11.7,8.27)})\n",
    "\n",
    "def tsne_scatterplot(model, search_word, topn):\n",
    "    labels = [search_word]\n",
    "    tokens = [model[search_word]]\n",
    "    similar = [1]\n",
    "    close_words = model.similar_by_word(search_word, topn=topn)\n",
    "    for word in close_words:\n",
    "        tokens.append(model[word[0]])\n",
    "        labels.append(word[0])\n",
    "        similar.append(word[1])\n",
    "\n",
    "    tsne_model = TSNE(n_components=2, perplexity=topn, init='pca')\n",
    "    coordinates = tsne_model.fit_transform(np.array(tokens))\n",
    "    df = pd.DataFrame({'x': [x for x in coordinates[:, 0]],\n",
    "                       'y': [y for y in coordinates[:, 1]],\n",
    "                       'words': labels,\n",
    "                       'similarity': similar}\n",
    "                      )\n",
    "    fig, ax = plt.subplots()\n",
    "    plot = ax.scatter(df.x, df.y, c=df.similarity, cmap='Reds')\n",
    "    for i in range(len(df)):\n",
    "        ax.annotate(\"  {} ({:.2f})\".format(df.words[i].title(),\n",
    "                                           df.similarity[i]),\n",
    "                    (df.x[i], df.y[i]))\n",
    "\n",
    "    plt.colorbar(mappable=plot, ax=ax)\n",
    "    plt.title('t-SNE visualization for {}'.format(search_word))\n",
    "    plt.show()"
   ]
  },
  {
   "cell_type": "code",
   "execution_count": 14,
   "metadata": {},
   "outputs": [
    {
     "data": {
      "image/png": "[encoded data removed]",
      "text/plain": [
       "<Figure size 1170x827 with 2 Axes>"
      ]
     },
     "metadata": {},
     "output_type": "display_data"
    }
   ],
   "source": [
    "# visualize the most similar words for a given word.\n",
    "tsne_scatterplot(glove_vectors, \"computer\", 20)"
   ]
  },
  {
   "cell_type": "markdown",
   "metadata": {},
   "source": [
    "#### Interactive visualization\n",
    "\n",
    "In the following link, you can explore the state-of-the-art models in an interactive embedding visualization: https://projector.tensorflow.org/.\n",
    "\n",
    "Using the TensorBoard Embedding Projector, you can graphically represent high dimensional embeddings. This can be helpful in visualizing, examining, and understanding your embeddings.\n",
    "\n",
    "Give it a try! Test interesting clusters of similar words! "
   ]
  },
  {
   "cell_type": "markdown",
   "metadata": {},
   "source": [
    "### 2.2 Check word analogies\n",
    "\n",
    "The fact that we can analyze the use of words in language to deduce their meaning is a fundamental idea of [distributional semantics](https://en.wikipedia.org/wiki/Distributional_semantics). This is the inspiration behind many algorithms for learning numerical representations of words (word embeddings). An important aspect of these representations is the ability to solve word analogies of the form “A is to B what C is to X” using simple arithmetic. This is generally simplified as “King — Man + Woman $\\sim$ Queen.\n",
    "\n",
    "In this subquestion we will explore interesting relations that can be extracted from word embeddings. You will be given semantic relations and you need to implement the respective code using the embedding model."
   ]
  },
  {
   "cell_type": "markdown",
   "metadata": {},
   "source": [
    "<div style=\"padding:8px 0 8px 15px;border-left:3px solid #03befc;background-color:#F3F3F3;\">\n",
    "\n",
    "- 🎯 **Goal:** Use the pre-trained GloVe embeddings to implement the following analogies.\n",
    "- 💻 **API:** You can use Gensim's `.most_similar` function.\n",
    "\n",
    "</div>"
   ]
  },
  {
   "cell_type": "markdown",
   "metadata": {},
   "source": [
    "**Analogy A:**  `King` — `Man` + `Woman` ~ `?`\n",
    "\n",
    "`?`: `Queen`"
   ]
  },
  {
   "cell_type": "code",
   "execution_count": 15,
   "metadata": {},
   "outputs": [
    {
     "name": "stdout",
     "output_type": "stream",
     "text": [
      "[('queen', 0.7698541283607483)]\n"
     ]
    },
    {
     "name": "stdout",
     "output_type": "stream",
     "text": [
      "[('queen', 0.7118192911148071)]\n"
     ]
    }
   ],
   "source": [
    "# Check the \"most similar words\", using the default \"cosine similarity\" measure. \n",
    "\n",
    "print(glove_vectors.most_similar(positive=['woman', 'king'], negative=['man'], topn=1))\n",
    "# w2v_vectors\n",
    "print(w2v_vectors.most_similar(positive=['woman', 'king'], negative=['man'], topn=1))"
   ]
  },
  {
   "cell_type": "markdown",
   "metadata": {},
   "source": [
    "**Analogy B:**  `France` — `Paris` + `Athens` ~ `?`\n",
    "\n",
    "`?`: `Greece`"
   ]
  },
  {
   "cell_type": "code",
   "execution_count": 16,
   "metadata": {},
   "outputs": [
    {
     "name": "stdout",
     "output_type": "stream",
     "text": [
      "[('Greece', 0.6378624439239502)]\n"
     ]
    }
   ],
   "source": [
    "# Check the \"most similar words\", using the default \"cosine similarity\" measure. \n",
    "\n",
    "# glove_vectors\n",
    "#print(glove_vectors.most_similar(positive=['France', 'Athens'], negative=['Paris'], topn=1))\n",
    "# w2v_vectors\n",
    "print(w2v_vectors.most_similar(positive=['France', 'Athens'], negative=['Paris'], topn=1))"
   ]
  },
  {
   "cell_type": "markdown",
   "metadata": {},
   "source": [
    "However, we should not forget that these models are trained in human generated language. Meaning that sociatital and demographic biases are inevitable. In the following example you will unfortunatelly witness these kind of biases that the model unitentionally proragates to its final output.\n",
    "\n",
    "Fortunately, extensive reaserch has been developed the last years to tackle this issue trying to de-bias the embeddings models. More regarding this topic will be covered in Week 11  when we will be talking about Ethics in NLP regarding Toxicity, Bias and Fairness.\n",
    "\n",
    "**Analogy C:**  `Doctor` - `Man` + `Woman` ~ `Nurse`"
   ]
  },
  {
   "cell_type": "code",
   "execution_count": 17,
   "metadata": {},
   "outputs": [
    {
     "name": "stdout",
     "output_type": "stream",
     "text": [
      "[('nurse', 0.7735227942466736)]\n",
      "[('gynecologist', 0.7093892097473145)]\n"
     ]
    }
   ],
   "source": [
    "# Check the \"most similar words\", using the default \"cosine similarity\" measure. \n",
    "# glove_vectors\n",
    "print(glove_vectors.most_similar(positive=['doctor', 'woman'], negative=['man'], topn=1))\n",
    "# w2v_vectors\n",
    "print(w2v_vectors.most_similar(positive=['doctor', 'woman'], negative=['man'], topn=1))"
   ]
  },
  {
   "cell_type": "markdown",
   "metadata": {},
   "source": [
    "### 2.3 Evaluate different models with SimLex\n",
    "\n",
    "In this part of the exercise, we will evaluate the syntactic concreteness of the created vectors using their similarity. For this task, we will use the SimLex999 dataset which is a human-annotated dataset regarding the similarity of concepts of words.\n",
    "\n",
    "- 📄 Paper: https://aclanthology.org/J15-4004.pdf\n",
    "- 👾 More about the task: https://fh295.github.io/simlex.html\n",
    "\n",
    "> - Download the data from [here](https://fh295.github.io/SimLex-999.zip)\n",
    "> - Unzip the file and put the corresponding folder with the dataset in the same dir as this notebook\n",
    "\n",
    "SimLex-999 is a gold standard resource for the evaluation of models that learn the meaning of words and concepts. SimLex-999 provides a way of measuring how well models capture similarity, rather than relatedness or association.\n",
    "\n",
    "#### Dataset:\n",
    "SimLex-999.txt is a tab-separated plaintext file, where rows correspond to concept pairs and columns correspond to the properties of each pair.\n",
    "\n",
    "|Column | Description |\n",
    "|-------|:-------------|\n",
    "|word1| The first concept in the pair.|\n",
    "|word2| The second concept in the pair. Note that the order is only relevant to the column Assoc(USF). These values (free association scores) are asymmetric. All other values are symmetric properties independent of the ordering word1, word2.|\n",
    "|POS| The majority part-of-speech of the concept words, as determined by occurrence in the POS-tagged British National Corpus. Only pairs of matching POS are included in SimLex-999.|\n",
    "|SimLex999 | The SimLex999 similarity rating. Note that average annotator scores have been (linearly) mapped from the range [0,6] to the range [0,10] to match other datasets such as WordSim-353. |\n",
    "|conc(w1)| The concreteness rating of word1 on a scale of 1-7. Taken from the University of South Florida Free Association Norms database. |\n",
    "|conc(w2)| The concreteness rating of word2 on a scale of 1-7. Taken from the University of South Florida Free Association Norms database.|\n",
    "|concQ| The quartile the pair occupies based on the two concreteness ratings. Used for some analyses in the above paper.|\n",
    "|Assoc(USF)| The strength of free association from word1 to word2. Values are taken from the University of South Florida Free Association Dataset.|\n",
    "|SimAssoc333| Binary indicator of whether the pair is one of the 333 most associated in the dataset (according to Assoc(USF)). This subset of SimLex999 is often the hardest for computational models to capture because the noise from high association can confound the similarity rating. See the paper for more details.|\n",
    "|SD(SimLex)| The standard deviation of annotator scores when rating this pair. Low values indicate good agreement between the 15+ annotators on the similarity value SimLex999. Higher scores indicate less certainty. |"
   ]
  },
  {
   "cell_type": "markdown",
   "metadata": {},
   "source": [
    "We will be using the **`SimLex999` similarity column** to evaluate our word embeddings on this dataset. We will select the top 50 most similar pairs according to simlex999 column which a score from 0 to 10 regarding the similarities of the two words (columns: word1, word2) and it has been annotated by humans. On this subset of data, we will find the similarity score of the two words using our two pre-trained embedding models (Word2Vec, GloVe). "
   ]
  },
  {
   "cell_type": "code",
   "execution_count": 18,
   "metadata": {},
   "outputs": [
    {
     "data": {
      "text/html": [
       "<div>\n",
       "<style scoped>\n",
       "    .dataframe tbody tr th:only-of-type {\n",
       "        vertical-align: middle;\n",
       "    }\n",
       "\n",
       "    .dataframe tbody tr th {\n",
       "        vertical-align: top;\n",
       "    }\n",
       "\n",
       "    .dataframe thead th {\n",
       "        text-align: right;\n",
       "    }\n",
       "</style>\n",
       "<table border=\"1\" class=\"dataframe\">\n",
       "  <thead>\n",
       "    <tr style=\"text-align: right;\">\n",
       "      <th></th>\n",
       "      <th>word1</th>\n",
       "      <th>word2</th>\n",
       "      <th>SimLex999</th>\n",
       "    </tr>\n",
       "  </thead>\n",
       "  <tbody>\n",
       "    <tr>\n",
       "      <th>0</th>\n",
       "      <td>old</td>\n",
       "      <td>new</td>\n",
       "      <td>1.58</td>\n",
       "    </tr>\n",
       "    <tr>\n",
       "      <th>1</th>\n",
       "      <td>smart</td>\n",
       "      <td>intelligent</td>\n",
       "      <td>9.20</td>\n",
       "    </tr>\n",
       "    <tr>\n",
       "      <th>2</th>\n",
       "      <td>hard</td>\n",
       "      <td>difficult</td>\n",
       "      <td>8.77</td>\n",
       "    </tr>\n",
       "    <tr>\n",
       "      <th>3</th>\n",
       "      <td>happy</td>\n",
       "      <td>cheerful</td>\n",
       "      <td>9.55</td>\n",
       "    </tr>\n",
       "    <tr>\n",
       "      <th>4</th>\n",
       "      <td>hard</td>\n",
       "      <td>easy</td>\n",
       "      <td>0.95</td>\n",
       "    </tr>\n",
       "  </tbody>\n",
       "</table>\n",
       "</div>"
      ],
      "text/plain": [
       "   word1        word2  SimLex999\n",
       "0    old          new       1.58\n",
       "1  smart  intelligent       9.20\n",
       "2   hard    difficult       8.77\n",
       "3  happy     cheerful       9.55\n",
       "4   hard         easy       0.95"
      ]
     },
     "execution_count": 18,
     "metadata": {},
     "output_type": "execute_result"
    }
   ],
   "source": [
    "# read data\n",
    "simlex = pd.read_csv('SimLex-999/SimLex-999.txt', delimiter='\\t')\n",
    "simlex = simlex[['word1', 'word2', 'SimLex999']]\n",
    "simlex.head()"
   ]
  },
  {
   "cell_type": "markdown",
   "metadata": {},
   "source": [
    "<div style=\"padding:8px 0 8px 15px;border-left:3px solid #03befc;background-color:#F3F3F3;\">\n",
    "\n",
    "- 🎯 **Goal:** Print the min, avg and max values of SimLex999 score.\n",
    "\n",
    "</div>"
   ]
  },
  {
   "cell_type": "code",
   "execution_count": 19,
   "metadata": {},
   "outputs": [
    {
     "name": "stdout",
     "output_type": "stream",
     "text": [
      "Top 5 least similar pairs according to SimLex999 scores:\n",
      "  word1   word2  SimLex999\n",
      " shrink    grow       0.23\n",
      "    new ancient       0.23\n",
      " island    task       0.30\n",
      "chapter    tail       0.30\n",
      "  dirty  narrow       0.30 \n",
      "\n",
      "Top 5 most similar pairs according to SimLex999 scores:\n",
      "  word1     word2  SimLex999\n",
      " vanish disappear       9.80\n",
      "  quick     rapid       9.70\n",
      "creator     maker       9.62\n",
      " stupid      dumb       9.58\n",
      " insane     crazy       9.57 \n",
      "\n",
      "Average SimLex999 similarity score across all pairs: 4.56\n"
     ]
    }
   ],
   "source": [
    "# stats on the SimLex999 similarity score\n",
    "# Sorting and printing the top 5 least similar pairs\n",
    "print(\"Top 5 least similar pairs according to SimLex999 scores:\")\n",
    "print(simlex.sort_values(by='SimLex999', ascending=True).head().to_string(index=False), \"\\n\")\n",
    "\n",
    "# Sorting and printing the top 5 most similar pairs\n",
    "print(\"Top 5 most similar pairs according to SimLex999 scores:\")\n",
    "print(simlex.sort_values(by='SimLex999', ascending=False).head().to_string(index=False), \"\\n\")\n",
    "\n",
    "# Printing the average SimLex999 similarity score\n",
    "mean_score = simlex['SimLex999'].mean()\n",
    "print(f\"Average SimLex999 similarity score across all pairs: {mean_score:.2f}\")"
   ]
  },
  {
   "cell_type": "markdown",
   "metadata": {},
   "source": [
    "<div style=\"padding:8px 0 8px 15px;border-left:3px solid #03befc;background-color:#F3F3F3;\">\n",
    "\n",
    "- 🎯 **Goal:** Select the top 50 pairs with the highest SimLex similarity score.\n",
    "</div>"
   ]
  },
  {
   "cell_type": "code",
   "execution_count": 20,
   "metadata": {},
   "outputs": [
    {
     "data": {
      "text/plain": [
       "(50, 3)"
      ]
     },
     "execution_count": 20,
     "metadata": {},
     "output_type": "execute_result"
    }
   ],
   "source": [
    "# select a subset of word-pairs with the highest similiarity score given by annotators\n",
    "simlex_similar_pairs = simlex.sort_values(by='SimLex999', ascending=False).head(50)\n",
    "simlex_similar_pairs.shape"
   ]
  },
  {
   "cell_type": "code",
   "execution_count": 21,
   "metadata": {},
   "outputs": [
    {
     "data": {
      "text/html": [
       "<div>\n",
       "<style scoped>\n",
       "    .dataframe tbody tr th:only-of-type {\n",
       "        vertical-align: middle;\n",
       "    }\n",
       "\n",
       "    .dataframe tbody tr th {\n",
       "        vertical-align: top;\n",
       "    }\n",
       "\n",
       "    .dataframe thead th {\n",
       "        text-align: right;\n",
       "    }\n",
       "</style>\n",
       "<table border=\"1\" class=\"dataframe\">\n",
       "  <thead>\n",
       "    <tr style=\"text-align: right;\">\n",
       "      <th></th>\n",
       "      <th>word1</th>\n",
       "      <th>word2</th>\n",
       "      <th>SimLex999</th>\n",
       "    </tr>\n",
       "  </thead>\n",
       "  <tbody>\n",
       "    <tr>\n",
       "      <th>782</th>\n",
       "      <td>vanish</td>\n",
       "      <td>disappear</td>\n",
       "      <td>9.8</td>\n",
       "    </tr>\n",
       "    <tr>\n",
       "      <th>22</th>\n",
       "      <td>quick</td>\n",
       "      <td>rapid</td>\n",
       "      <td>9.7</td>\n",
       "    </tr>\n",
       "  </tbody>\n",
       "</table>\n",
       "</div>"
      ],
      "text/plain": [
       "      word1      word2  SimLex999\n",
       "782  vanish  disappear        9.8\n",
       "22    quick      rapid        9.7"
      ]
     },
     "execution_count": 21,
     "metadata": {},
     "output_type": "execute_result"
    }
   ],
   "source": [
    "simlex_similar_pairs.head(2)"
   ]
  },
  {
   "cell_type": "markdown",
   "metadata": {},
   "source": [
    "<div style=\"padding:8px 0 8px 15px;border-left:3px solid #03befc;background-color:#F3F3F3;\">\n",
    "\n",
    "- 🎯 **Goal:** For each word pair from `simlex_similar_pairs`, compute the similarity between the GloVe embeddings (also Word2Vec embeddings) of the words.\n",
    "- 💻 **API:** You can use Gensim's `.similarity` function.\n",
    "\n",
    "</div>"
   ]
  },
  {
   "cell_type": "code",
   "execution_count": 22,
   "metadata": {},
   "outputs": [
    {
     "name": "stdout",
     "output_type": "stream",
     "text": [
      "vanish disappear 9.8\n",
      "quick rapid 9.7\n",
      "creator maker 9.62\n",
      "stupid dumb 9.58\n",
      "insane crazy 9.57\n"
     ]
    }
   ],
   "source": [
    "for penis, pussy in simlex_similar_pairs[:5].iterrows():\n",
    "    print(pussy['word1'], pussy['word2'], pussy['SimLex999'])"
   ]
  },
  {
   "cell_type": "code",
   "execution_count": 23,
   "metadata": {},
   "outputs": [
    {
     "data": {
      "text/html": [
       "<div>\n",
       "<style scoped>\n",
       "    .dataframe tbody tr th:only-of-type {\n",
       "        vertical-align: middle;\n",
       "    }\n",
       "\n",
       "    .dataframe tbody tr th {\n",
       "        vertical-align: top;\n",
       "    }\n",
       "\n",
       "    .dataframe thead th {\n",
       "        text-align: right;\n",
       "    }\n",
       "</style>\n",
       "<table border=\"1\" class=\"dataframe\">\n",
       "  <thead>\n",
       "    <tr style=\"text-align: right;\">\n",
       "      <th></th>\n",
       "      <th>word1</th>\n",
       "      <th>word2</th>\n",
       "      <th>SimLex999</th>\n",
       "      <th>similarity_glove</th>\n",
       "      <th>similarity_w2v</th>\n",
       "    </tr>\n",
       "  </thead>\n",
       "  <tbody>\n",
       "    <tr>\n",
       "      <th>782</th>\n",
       "      <td>vanish</td>\n",
       "      <td>disappear</td>\n",
       "      <td>9.80</td>\n",
       "      <td>0.881494</td>\n",
       "      <td>0.900423</td>\n",
       "    </tr>\n",
       "    <tr>\n",
       "      <th>22</th>\n",
       "      <td>quick</td>\n",
       "      <td>rapid</td>\n",
       "      <td>9.70</td>\n",
       "      <td>0.561225</td>\n",
       "      <td>0.497791</td>\n",
       "    </tr>\n",
       "    <tr>\n",
       "      <th>205</th>\n",
       "      <td>creator</td>\n",
       "      <td>maker</td>\n",
       "      <td>9.62</td>\n",
       "      <td>0.243845</td>\n",
       "      <td>0.260506</td>\n",
       "    </tr>\n",
       "    <tr>\n",
       "      <th>8</th>\n",
       "      <td>stupid</td>\n",
       "      <td>dumb</td>\n",
       "      <td>9.58</td>\n",
       "      <td>0.836065</td>\n",
       "      <td>0.817314</td>\n",
       "    </tr>\n",
       "    <tr>\n",
       "      <th>16</th>\n",
       "      <td>insane</td>\n",
       "      <td>crazy</td>\n",
       "      <td>9.57</td>\n",
       "      <td>0.591737</td>\n",
       "      <td>0.733904</td>\n",
       "    </tr>\n",
       "  </tbody>\n",
       "</table>\n",
       "</div>"
      ],
      "text/plain": [
       "       word1      word2  SimLex999  similarity_glove  similarity_w2v\n",
       "782   vanish  disappear       9.80          0.881494        0.900423\n",
       "22     quick      rapid       9.70          0.561225        0.497791\n",
       "205  creator      maker       9.62          0.243845        0.260506\n",
       "8     stupid       dumb       9.58          0.836065        0.817314\n",
       "16    insane      crazy       9.57          0.591737        0.733904"
      ]
     },
     "execution_count": 23,
     "metadata": {},
     "output_type": "execute_result"
    }
   ],
   "source": [
    "# Assuming simlex_similar_pairs is a DataFrame with columns 'word1' and 'word2'\n",
    "glove_similarities = []\n",
    "w2v_similarities = []\n",
    "\n",
    "for index, row in simlex_similar_pairs.iterrows():\n",
    "    word1 = row['word1']\n",
    "    word2 = row['word2']\n",
    "    \n",
    "    # Compute similarity using GloVe embeddings\n",
    "    glove_similarity = glove_vectors.similarity(word1, word2)\n",
    "    glove_similarities.append(glove_similarity)\n",
    "    \n",
    "    # Compute similarity using Word2Vec embeddings\n",
    "    w2v_similarity = w2v_vectors.similarity(word1, word2)\n",
    "    w2v_similarities.append(w2v_similarity)\n",
    "\n",
    "# Add computed similarities back to the DataFrame\n",
    "simlex_similar_pairs['similarity_glove'] = glove_similarities\n",
    "simlex_similar_pairs['similarity_w2v'] = w2v_similarities\n",
    "\n",
    "# Print the updated DataFrame\n",
    "simlex_similar_pairs.head()"
   ]
  },
  {
   "cell_type": "code",
   "execution_count": 24,
   "metadata": {},
   "outputs": [
    {
     "data": {
      "text/plain": [
       "Text(25.586805555555543, 0.5, 'Density')"
      ]
     },
     "execution_count": 24,
     "metadata": {},
     "output_type": "execute_result"
    },
    {
     "data": {
      "image/png": "[encoded data removed]",
      "text/plain": [
       "<Figure size 625x500 with 1 Axes>"
      ]
     },
     "metadata": {},
     "output_type": "display_data"
    }
   ],
   "source": [
    "similarities = simlex_similar_pairs.copy()\n",
    "\n",
    "# plots the distribution of similarity scores for each model\n",
    "sims_w2v = similarities[['similarity_w2v']].rename(columns={'similarity_w2v': 'similarity'})\n",
    "sims_w2v['model'] = 'Word2Vec'\n",
    "\n",
    "# Rename and add a 'model' column for GloVe similarities\n",
    "sims_glove = similarities[['similarity_glove']].rename(columns={'similarity_glove': 'similarity'})\n",
    "sims_glove['model'] = 'GloVe'\n",
    "\n",
    "# Combine the two DataFrames\n",
    "to_plot = pd.concat([sims_w2v, sims_glove], ignore_index=True)\n",
    "\n",
    "# Plot the distribution using Seaborn's displot with KDE\n",
    "sns.displot(to_plot, x=\"similarity\", hue=\"model\", kind=\"kde\", fill=True)\n",
    "\n",
    "# Optional: Improve the plot's appearance\n",
    "plt.title('Distribution of Similarity Scores')\n",
    "plt.xlabel('Similarity')\n",
    "plt.ylabel('Density')"
   ]
  },
  {
   "cell_type": "markdown",
   "metadata": {},
   "source": [
    "<div style=\"padding:8px 0 8px 15px;border-left:3px solid gray;background-color:#F3F3F3;\">\n",
    "\n",
    "#### Extra quiz: \n",
    "Think about which model seems to perform better on these high-similarity examples and why based on your knowledge of how the embedding models have been trained.\n",
    "\n",
    "</div>"
   ]
  },
  {
   "cell_type": "markdown",
   "metadata": {},
   "source": [
    "----"
   ]
  },
  {
   "cell_type": "markdown",
   "metadata": {},
   "source": [
    "<a id=\"3\"></a>\n",
    "## 3. TASK C: Sentiment analysis of movie reviews\n",
    "\n",
    "For this part, we will be using only the GloVe pre-trained embeddings. \n",
    "\n",
    "**Data:** We will build a sentiment classification model using the IMDB review dataset.\n",
    "\n",
    "> - Download the dataset [here](https://www.kaggle.com/datasets/lakshmi25npathi/imdb-dataset-of-50k-movie-reviews/download?datasetVersionNumber=1)\n",
    "> - Save the .csv file in the same dir as this notebook. \n",
    "\n",
    "The IMDB dataset has 50K movie reviews for natural language processing or Text analytics. This is a dataset for binary sentiment classification containing substantially more data than previous benchmark datasets. We provide a set of 25,000 highly polar movie reviews for training and 25,000 for testing.\n",
    "\n",
    "The goal is to predict if a review is positive or negative using a classification (potentiall deep learning) algorithm.\n",
    "\n",
    "For more dataset information, please go through the following link,\n",
    "http://ai.stanford.edu/~amaas/data/sentiment/"
   ]
  },
  {
   "attachments": {
    "IMDB-reviews-dataset-stats.png": {
     "image/png": "[encoded data removed]"
    }
   },
   "cell_type": "markdown",
   "metadata": {},
   "source": [
    "![IMDB-reviews-dataset-stats.png](attachment:IMDB-reviews-dataset-stats.png)"
   ]
  },
  {
   "cell_type": "markdown",
   "metadata": {},
   "source": [
    "### 3.1 Dataset exploration"
   ]
  },
  {
   "cell_type": "code",
   "execution_count": 25,
   "metadata": {},
   "outputs": [
    {
     "data": {
      "text/html": [
       "<div>\n",
       "<style scoped>\n",
       "    .dataframe tbody tr th:only-of-type {\n",
       "        vertical-align: middle;\n",
       "    }\n",
       "\n",
       "    .dataframe tbody tr th {\n",
       "        vertical-align: top;\n",
       "    }\n",
       "\n",
       "    .dataframe thead th {\n",
       "        text-align: right;\n",
       "    }\n",
       "</style>\n",
       "<table border=\"1\" class=\"dataframe\">\n",
       "  <thead>\n",
       "    <tr style=\"text-align: right;\">\n",
       "      <th></th>\n",
       "      <th>review</th>\n",
       "      <th>sentiment</th>\n",
       "    </tr>\n",
       "  </thead>\n",
       "  <tbody>\n",
       "    <tr>\n",
       "      <th>0</th>\n",
       "      <td>One of the other reviewers has mentioned that ...</td>\n",
       "      <td>positive</td>\n",
       "    </tr>\n",
       "    <tr>\n",
       "      <th>1</th>\n",
       "      <td>A wonderful little production. &lt;br /&gt;&lt;br /&gt;The...</td>\n",
       "      <td>positive</td>\n",
       "    </tr>\n",
       "    <tr>\n",
       "      <th>2</th>\n",
       "      <td>I thought this was a wonderful way to spend ti...</td>\n",
       "      <td>positive</td>\n",
       "    </tr>\n",
       "    <tr>\n",
       "      <th>3</th>\n",
       "      <td>Basically there's a family where a little boy ...</td>\n",
       "      <td>negative</td>\n",
       "    </tr>\n",
       "    <tr>\n",
       "      <th>4</th>\n",
       "      <td>Petter Mattei's \"Love in the Time of Money\" is...</td>\n",
       "      <td>positive</td>\n",
       "    </tr>\n",
       "  </tbody>\n",
       "</table>\n",
       "</div>"
      ],
      "text/plain": [
       "                                              review sentiment\n",
       "0  One of the other reviewers has mentioned that ...  positive\n",
       "1  A wonderful little production. <br /><br />The...  positive\n",
       "2  I thought this was a wonderful way to spend ti...  positive\n",
       "3  Basically there's a family where a little boy ...  negative\n",
       "4  Petter Mattei's \"Love in the Time of Money\" is...  positive"
      ]
     },
     "execution_count": 25,
     "metadata": {},
     "output_type": "execute_result"
    }
   ],
   "source": [
    "#read dataset\n",
    "movie_reviews = pd.read_csv('IMDB Dataset.csv')\n",
    "movie_reviews.head()"
   ]
  },
  {
   "cell_type": "code",
   "execution_count": 26,
   "metadata": {},
   "outputs": [
    {
     "name": "stdout",
     "output_type": "stream",
     "text": [
      "Number of movie reviews: 50000\n",
      "Number of classes: 2 with values: ['positive' 'negative']\n"
     ]
    }
   ],
   "source": [
    "print('Number of movie reviews: {}'.format(len(movie_reviews)))\n",
    "classes = movie_reviews['sentiment'].unique()\n",
    "print('Number of classes: {} with values: {}'.format(len(classes), classes))"
   ]
  },
  {
   "cell_type": "code",
   "execution_count": 27,
   "metadata": {},
   "outputs": [
    {
     "name": "stdout",
     "output_type": "stream",
     "text": [
      "# of positive samples: 25000\n",
      "# of negative samples: 25000\n"
     ]
    },
    {
     "data": {
      "text/plain": [
       "<Axes: xlabel='sentiment', ylabel='count'>"
      ]
     },
     "execution_count": 27,
     "metadata": {},
     "output_type": "execute_result"
    },
    {
     "data": {
      "image/png": "[encoded data removed]",
      "text/plain": [
       "<Figure size 570x527 with 1 Axes>"
      ]
     },
     "metadata": {},
     "output_type": "display_data"
    }
   ],
   "source": [
    "# class distribution\n",
    "positive = len(movie_reviews[movie_reviews['sentiment']=='positive'])\n",
    "negative = len(movie_reviews[movie_reviews['sentiment']=='negative'])\n",
    "\n",
    "print('# of positive samples: {}'.format(positive))\n",
    "print('# of negative samples: {}'.format(negative))\n",
    "\n",
    "sns.set_theme(rc={'figure.figsize':(5.7,5.27)})\n",
    "sns.countplot(x=movie_reviews['sentiment'])"
   ]
  },
  {
   "cell_type": "markdown",
   "metadata": {},
   "source": [
    "### 3.2 Data preprocessing\n",
    "\n",
    "To build our classifier, we will leverage the pre-trained word embeddings (GloVe). Going from word embeddings to sentence vectors, we will need to find a way to take into account the embeddings of all the words each review contains. We will apply 2 techniques to do so: average and max pooling.  \n",
    "\n",
    "We will perform the following preprocessing steps:\n",
    "- Change the classes from str (negative, positive) to binary `(0, 1)`.\n",
    "- Get word embeddings and calculate the sentence vectors with both max and avg pooling.\n",
    "- Create a `pytorch.Dataset` instance of the IMDB data."
   ]
  },
  {
   "cell_type": "markdown",
   "metadata": {},
   "source": [
    "#### From class names to binary"
   ]
  },
  {
   "cell_type": "markdown",
   "metadata": {},
   "source": [
    "<div style=\"padding:8px 0 8px 15px;border-left:3px solid #03befc;background-color:#F3F3F3;\">\n",
    "\n",
    "- 🎯 **Goal:** Change the classe names from str (negative, positive) to binary `(0, 1)` and add it as a new column to the exising dataframe.\n",
    "\n",
    "</div>"
   ]
  },
  {
   "cell_type": "code",
   "execution_count": 28,
   "metadata": {},
   "outputs": [
    {
     "data": {
      "text/html": [
       "<div>\n",
       "<style scoped>\n",
       "    .dataframe tbody tr th:only-of-type {\n",
       "        vertical-align: middle;\n",
       "    }\n",
       "\n",
       "    .dataframe tbody tr th {\n",
       "        vertical-align: top;\n",
       "    }\n",
       "\n",
       "    .dataframe thead th {\n",
       "        text-align: right;\n",
       "    }\n",
       "</style>\n",
       "<table border=\"1\" class=\"dataframe\">\n",
       "  <thead>\n",
       "    <tr style=\"text-align: right;\">\n",
       "      <th></th>\n",
       "      <th>review</th>\n",
       "      <th>sentiment</th>\n",
       "      <th>target</th>\n",
       "    </tr>\n",
       "  </thead>\n",
       "  <tbody>\n",
       "    <tr>\n",
       "      <th>0</th>\n",
       "      <td>One of the other reviewers has mentioned that ...</td>\n",
       "      <td>positive</td>\n",
       "      <td>1</td>\n",
       "    </tr>\n",
       "    <tr>\n",
       "      <th>1</th>\n",
       "      <td>A wonderful little production. &lt;br /&gt;&lt;br /&gt;The...</td>\n",
       "      <td>positive</td>\n",
       "      <td>1</td>\n",
       "    </tr>\n",
       "    <tr>\n",
       "      <th>2</th>\n",
       "      <td>I thought this was a wonderful way to spend ti...</td>\n",
       "      <td>positive</td>\n",
       "      <td>1</td>\n",
       "    </tr>\n",
       "    <tr>\n",
       "      <th>3</th>\n",
       "      <td>Basically there's a family where a little boy ...</td>\n",
       "      <td>negative</td>\n",
       "      <td>0</td>\n",
       "    </tr>\n",
       "    <tr>\n",
       "      <th>4</th>\n",
       "      <td>Petter Mattei's \"Love in the Time of Money\" is...</td>\n",
       "      <td>positive</td>\n",
       "      <td>1</td>\n",
       "    </tr>\n",
       "  </tbody>\n",
       "</table>\n",
       "</div>"
      ],
      "text/plain": [
       "                                              review sentiment  target\n",
       "0  One of the other reviewers has mentioned that ...  positive       1\n",
       "1  A wonderful little production. <br /><br />The...  positive       1\n",
       "2  I thought this was a wonderful way to spend ti...  positive       1\n",
       "3  Basically there's a family where a little boy ...  negative       0\n",
       "4  Petter Mattei's \"Love in the Time of Money\" is...  positive       1"
      ]
     },
     "execution_count": 28,
     "metadata": {},
     "output_type": "execute_result"
    }
   ],
   "source": [
    "# classes to binary\n",
    "movie_reviews['target'] = movie_reviews['sentiment'].map({'positive': 1, 'negative': 0})\n",
    "movie_reviews.head()"
   ]
  },
  {
   "cell_type": "markdown",
   "metadata": {},
   "source": [
    "#### From word embeddings to review embeddings"
   ]
  },
  {
   "cell_type": "markdown",
   "metadata": {},
   "source": [
    "<div style=\"padding:8px 0 8px 15px;border-left:3px solid #03befc;background-color:#F3F3F3;\">\n",
    "\n",
    "- 🎯 **Goal:** For each review in the dataset, calculate the review vector by pooling from the review's word embeddings. Implement both max and avg pooling.\n",
    "- 💻 **API:** You can use numpy functions to manipulate the arrays. For review tokenization you can use `gensim.utils.tokenize` function.\n",
    "\n",
    "</div>"
   ]
  },
  {
   "cell_type": "code",
   "execution_count": 29,
   "metadata": {},
   "outputs": [
    {
     "name": "stderr",
     "output_type": "stream",
     "text": [
      "17717it [00:09, 1786.24it/s]"
     ]
    },
    {
     "name": "stderr",
     "output_type": "stream",
     "text": [
      "50000it [00:27, 1799.48it/s]\n"
     ]
    }
   ],
   "source": [
    "# apply embedding model to reviews\n",
    "review_vectors_max = list()\n",
    "review_vectors_avg = list()\n",
    "for index, row in tqdm(movie_reviews.iterrows()):\n",
    "#for index, row in tqdm(movie_reviews.head(1).iterrows()):\n",
    "    #print(row['review'])\n",
    "    # tokenize sentence\n",
    "    tokens = list(tokenize(row['review'], deacc = True))\n",
    "    word_vectors = list()\n",
    "    for token in tokens:\n",
    "        \n",
    "        # get the pre-trained embedding for the token\n",
    "        if token.lower() in glove_vectors.key_to_index.keys():\n",
    "            vector = glove_vectors[token.lower()]\n",
    "            #print(f\"vector for {token.lower()}: {vector}\")\n",
    "            word_vectors.append(vector)\n",
    "    \n",
    "    # for all word embeddings => compute the sentence embedding (both by summing and averaging word embeedings)\n",
    "    review_vec_max = np.array(word_vectors).max(axis=0)\n",
    "    review_vec_avg = np.array(word_vectors).mean(axis=0)\n",
    "    review_vectors_max.append(review_vec_max)\n",
    "    review_vectors_avg.append(review_vec_avg)\n",
    "    \n",
    "# transform to arrays\n",
    "review_vectors_max = np.array(review_vectors_max)\n",
    "review_vectors_avg = np.array(review_vectors_avg)"
   ]
  },
  {
   "cell_type": "code",
   "execution_count": 30,
   "metadata": {},
   "outputs": [
    {
     "data": {
      "text/plain": [
       "(50000, 100)"
      ]
     },
     "execution_count": 30,
     "metadata": {},
     "output_type": "execute_result"
    }
   ],
   "source": [
    "# The shape is (50.000, 100) which means that we have 50.000 reviews and each review is represented by a 100-dimensional vector.\n",
    "review_vectors_max.shape"
   ]
  },
  {
   "cell_type": "markdown",
   "metadata": {},
   "source": [
    "#### Pytorch Dataset class for the imported data"
   ]
  },
  {
   "cell_type": "markdown",
   "metadata": {},
   "source": [
    "<div style=\"padding:8px 0 8px 15px;border-left:3px solid #03befc;background-color:#F3F3F3;\">\n",
    "\n",
    "- 🎯 **Goal:** Create a pytorch Dataset class with the input data. Instantiate this class with the input data.\n",
    "- 💻 **API:** You can use `torch.utils.data.Dataset` class.\n",
    "\n",
    "</div>"
   ]
  },
  {
   "cell_type": "code",
   "execution_count": 31,
   "metadata": {},
   "outputs": [],
   "source": [
    "# create a pytorch Dataset class for our imported data\n",
    "class IMDBreviews(Dataset):\n",
    "    def __init__(self, review_vectors, targets):\n",
    "        self.x=torch.tensor(review_vectors)\n",
    "        self.y=torch.tensor(targets)\n",
    "        \n",
    "    def __len__(self):\n",
    "        return len(self.y)\n",
    "\n",
    "    def __getitem__(self,idx):\n",
    "        return self.x[idx],self.y[idx]\n",
    "    \n",
    "dataset = IMDBreviews(review_vectors_avg, movie_reviews['target'].values)"
   ]
  },
  {
   "cell_type": "code",
   "execution_count": 32,
   "metadata": {},
   "outputs": [
    {
     "name": "stdout",
     "output_type": "stream",
     "text": [
      "Total samples 50000 with sentence embedding size: 100\n"
     ]
    }
   ],
   "source": [
    "# print tensors for sanity check\n",
    "print('Total samples {} with sentence embedding size: {}'.format(dataset.x.shape[0], dataset.x.shape[1]))"
   ]
  },
  {
   "cell_type": "markdown",
   "metadata": {},
   "source": [
    "#### Splitting dataset to train and test subsets"
   ]
  },
  {
   "cell_type": "markdown",
   "metadata": {},
   "source": [
    "<div style=\"padding:8px 0 8px 15px;border-left:3px solid #03befc;background-color:#F3F3F3;\">\n",
    "\n",
    "- 🎯 **Goal:** Split the dataset into train and test tests (80-20% splits).\n",
    "- 💻 **API:** You can use `torch.utils.data.random_split` function.\n",
    "\n",
    "</div>"
   ]
  },
  {
   "cell_type": "code",
   "execution_count": 33,
   "metadata": {},
   "outputs": [],
   "source": [
    "# split to train and test sets using torch.utils.data.random_split\n",
    "train_size = int(0.8 * len(dataset))\n",
    "test_size = len(dataset) - train_size\n",
    "train, test = torch.utils.data.random_split(dataset, [train_size, test_size])"
   ]
  },
  {
   "cell_type": "code",
   "execution_count": 34,
   "metadata": {},
   "outputs": [
    {
     "name": "stdout",
     "output_type": "stream",
     "text": [
      "Train size: 40000\n",
      "Test size: 10000\n"
     ]
    }
   ],
   "source": [
    "print('Train size: {}'.format(len(train)))\n",
    "print('Test size: {}'.format(len(test)))"
   ]
  },
  {
   "cell_type": "markdown",
   "metadata": {},
   "source": [
    "### 3.3 Train & evaluate a classifier on the movie reviews\n",
    "\n",
    "Once we have proprocessed the data, we will create the training and evaluation pipelines.\n"
   ]
  },
  {
   "cell_type": "markdown",
   "metadata": {},
   "source": [
    "#### Pytorch Module class for model setup"
   ]
  },
  {
   "cell_type": "markdown",
   "metadata": {},
   "source": [
    "<div style=\"padding:8px 0 8px 15px;border-left:3px solid #03befc;background-color:#F3F3F3;\">\n",
    "\n",
    "- 🎯 **Goal:** Create a pytorch model class. The architecture of the model can be as simple as a Linear layer along with a sigmoid activation function, or a more complicated deep architecture. Play around with different settings and architectures.\n",
    "- 💻 **API:** You can use `torch.nn.Module` class.\n",
    "\n",
    "</div>"
   ]
  },
  {
   "cell_type": "code",
   "execution_count": 35,
   "metadata": {},
   "outputs": [],
   "source": [
    "# create a pytorch nn.Module class for the simple NN model\n",
    "class SentimentAnalysisModel(nn.Module):\n",
    "    def __init__(self, features):\n",
    "        # super() function is used to call the __init__() of the parent class (nn.Module)\n",
    "        super(SentimentAnalysisModel, self).__init__()\n",
    "        # nn.Linear(features.shape[1], 1) creates a linear transformation with input size features.shape[1] and output size 1\n",
    "        self.linear = nn.Linear(features.shape[1], 1)\n",
    "\n",
    "    def forward(self, text, offsets):\n",
    "        # apply the linear transformation to the input tensor\n",
    "        out = torch.sigmoid(self.linear(text))\n",
    "        return out"
   ]
  },
  {
   "cell_type": "code",
   "execution_count": 36,
   "metadata": {},
   "outputs": [
    {
     "name": "stdout",
     "output_type": "stream",
     "text": [
      "torch.Size([50000, 100])\n",
      "torch.Size([50000])\n"
     ]
    }
   ],
   "source": [
    "# dataset.x is a tensor with shape (50000, 100)\n",
    "print(dataset.x.shape)\n",
    "# dataset.y is a tensor with shape (50000,)\n",
    "print(dataset.y.shape)"
   ]
  },
  {
   "cell_type": "code",
   "execution_count": 37,
   "metadata": {},
   "outputs": [
    {
     "data": {
      "text/plain": [
       "SentimentAnalysisModel(\n",
       "  (linear): Linear(in_features=100, out_features=1, bias=True)\n",
       ")"
      ]
     },
     "execution_count": 37,
     "metadata": {},
     "output_type": "execute_result"
    }
   ],
   "source": [
    "model = SentimentAnalysisModel(dataset.x)\n",
    "model"
   ]
  },
  {
   "cell_type": "code",
   "execution_count": 38,
   "metadata": {},
   "outputs": [
    {
     "name": "stdout",
     "output_type": "stream",
     "text": [
      "The model has 101 trainable parameters\n"
     ]
    }
   ],
   "source": [
    "def count_parameters(model):\n",
    "    return sum(p.numel() for p in model.parameters() if p.requires_grad)\n",
    "\n",
    "print(f'The model has {count_parameters(model):,} trainable parameters')\n",
    "# the model has 101 trainable parameters (100 for the weights and 1 for the bias)"
   ]
  },
  {
   "cell_type": "markdown",
   "metadata": {},
   "source": [
    "#### Pytorch Data loader class for dataset batching"
   ]
  },
  {
   "cell_type": "code",
   "execution_count": 39,
   "metadata": {},
   "outputs": [],
   "source": [
    "# create data loader\n",
    "# Batch size is refers to the number of training examples utilized in one iteration\n",
    "BATCH_SIZE = 64\n",
    "# DataLoader combines a dataset and a sampler, and provides an iterable over the given dataset\n",
    "train_loader = DataLoader(train, batch_size=BATCH_SIZE, shuffle=True)\n",
    "test_loader= DataLoader(test, batch_size=BATCH_SIZE)"
   ]
  },
  {
   "cell_type": "markdown",
   "metadata": {},
   "source": [
    "#### Training the model"
   ]
  },
  {
   "cell_type": "code",
   "execution_count": 40,
   "metadata": {},
   "outputs": [],
   "source": [
    "# Construct our loss function and an Optimizer. The call to model.parameters()\n",
    "# in the SGD constructor will contain the learnable parameters of the two\n",
    "# nn.Linear modules which are members of the model.\n",
    "from torch import optim\n",
    "criterion = nn.BCELoss()\n",
    "optimizer = optim.SGD(model.parameters(), lr=1e-1)"
   ]
  },
  {
   "cell_type": "code",
   "execution_count": 41,
   "metadata": {},
   "outputs": [
    {
     "name": "stdout",
     "output_type": "stream",
     "text": [
      "linear.weight tensor([[-0.0641,  0.0496,  0.0536,  0.0973,  0.0643,  0.0255,  0.0454,  0.0483,\n",
      "         -0.0071, -0.0699, -0.0767, -0.0551, -0.0887, -0.0299, -0.0369, -0.0766,\n",
      "         -0.0333, -0.0692, -0.0739,  0.0491,  0.0290, -0.0884,  0.0277,  0.0554,\n",
      "         -0.0341, -0.0241,  0.0772, -0.0773,  0.0414,  0.0753,  0.0479, -0.0346,\n",
      "          0.0832, -0.0818, -0.0524, -0.0290, -0.0066, -0.0804, -0.0101, -0.0757,\n",
      "          0.0719, -0.0949,  0.0278,  0.0448,  0.0978, -0.0151, -0.0715, -0.0391,\n",
      "          0.0271,  0.0032, -0.0344, -0.0658, -0.0010,  0.0834,  0.0994, -0.0909,\n",
      "         -0.0210,  0.0648,  0.0833,  0.0837,  0.0281, -0.0647, -0.0366, -0.0202,\n",
      "         -0.0224, -0.0056, -0.0248, -0.0659,  0.0427,  0.0189, -0.0077, -0.0127,\n",
      "         -0.0609, -0.0907,  0.0959,  0.0620,  0.0397, -0.0740,  0.0941,  0.0484,\n",
      "         -0.0210,  0.0959, -0.0452,  0.0820,  0.0091,  0.0866,  0.0819,  0.0813,\n",
      "          0.0433, -0.0940,  0.0299,  0.0843, -0.0478,  0.0880,  0.0164, -0.0353,\n",
      "         -0.0662, -0.0669,  0.0167,  0.0700]])\n",
      "linear.bias tensor([-0.0271])\n"
     ]
    }
   ],
   "source": [
    "for name, param in model.named_parameters():\n",
    "    if param.requires_grad:\n",
    "        print(name, param.data)"
   ]
  },
  {
   "cell_type": "markdown",
   "metadata": {},
   "source": [
    "<div style=\"padding:8px 0 8px 15px;border-left:3px solid #03befc;background-color:#F3F3F3;\">\n",
    "\n",
    "- 🎯 **Goal:** Create the training loop: for each epoch, do the forward pass, compute the loss and do the backward propagation.\n",
    "- 💻 **API:** Check the official API for the [training process](https://pytorch.org/tutorials/beginner/blitz/cifar10_tutorial.html#train-the-network).\n",
    "\n",
    "</div>"
   ]
  },
  {
   "cell_type": "code",
   "execution_count": 42,
   "metadata": {},
   "outputs": [
    {
     "name": "stdout",
     "output_type": "stream",
     "text": [
      "Epoch 1 | Loss: 0.6613\n",
      "Epoch 2 | Loss: 0.6261\n",
      "Epoch 3 | Loss: 0.6045\n",
      "Epoch 4 | Loss: 0.5884\n",
      "Epoch 5 | Loss: 0.5756\n",
      "Epoch 6 | Loss: 0.5655\n",
      "Epoch 7 | Loss: 0.5570\n",
      "Epoch 8 | Loss: 0.5497\n",
      "Epoch 9 | Loss: 0.5434\n",
      "Epoch 10 | Loss: 0.5372\n",
      "Epoch 11 | Loss: 0.5323\n",
      "Epoch 12 | Loss: 0.5280\n",
      "Epoch 13 | Loss: 0.5238\n",
      "Epoch 14 | Loss: 0.5201\n",
      "Epoch 15 | Loss: 0.5169\n",
      "Epoch 16 | Loss: 0.5138\n",
      "Epoch 17 | Loss: 0.5107\n",
      "Epoch 18 | Loss: 0.5079\n",
      "Epoch 19 | Loss: 0.5054\n"
     ]
    },
    {
     "name": "stdout",
     "output_type": "stream",
     "text": [
      "Epoch 20 | Loss: 0.5033\n",
      "Epoch 21 | Loss: 0.5010\n",
      "Epoch 22 | Loss: 0.4990\n",
      "Epoch 23 | Loss: 0.4972\n",
      "Epoch 24 | Loss: 0.4955\n",
      "Epoch 25 | Loss: 0.4935\n",
      "Epoch 26 | Loss: 0.4923\n",
      "Epoch 27 | Loss: 0.4905\n",
      "Epoch 28 | Loss: 0.4888\n",
      "Epoch 29 | Loss: 0.4877\n",
      "Epoch 30 | Loss: 0.4861\n",
      "Epoch 31 | Loss: 0.4852\n",
      "Epoch 32 | Loss: 0.4841\n",
      "Epoch 33 | Loss: 0.4829\n",
      "Epoch 34 | Loss: 0.4814\n",
      "Epoch 35 | Loss: 0.4805\n",
      "Epoch 36 | Loss: 0.4796\n",
      "Epoch 37 | Loss: 0.4783\n",
      "Epoch 38 | Loss: 0.4776\n",
      "Epoch 39 | Loss: 0.4764\n",
      "Epoch 40 | Loss: 0.4755\n",
      "Epoch 41 | Loss: 0.4746\n",
      "Epoch 42 | Loss: 0.4741\n",
      "Epoch 43 | Loss: 0.4733\n",
      "Epoch 44 | Loss: 0.4725\n",
      "Epoch 45 | Loss: 0.4716\n",
      "Epoch 46 | Loss: 0.4710\n",
      "Epoch 47 | Loss: 0.4702\n",
      "Epoch 48 | Loss: 0.4698\n",
      "Epoch 49 | Loss: 0.4691\n",
      "Epoch 50 | Loss: 0.4682\n"
     ]
    }
   ],
   "source": [
    "# Training loop\n",
    "model.train()\n",
    "for epoch in range(50):\n",
    "    epoch_loss = 0\n",
    "    for i, data in enumerate(train_loader, 0):\n",
    "        # get the inputs\n",
    "        # inputs is a tensor with shape (BATCH_SIZE, 100)\n",
    "        # labels is a tensor with shape (BATCH_SIZE,)\n",
    "        inputs, labels = data\n",
    "\n",
    "        # Forward pass: Compute predicted y by passing x to the model\n",
    "        y_pred = model(inputs, labels.float())\n",
    "\n",
    "        # Compute loss\n",
    "        # criterion takes the predicted y and the true y and returns the loss\n",
    "        loss = criterion(torch.squeeze(y_pred), labels.float())\n",
    "        # epoch loss is the sum of all losses in the epoch\n",
    "        epoch_loss += loss\n",
    "        \n",
    "        # Zero gradients, perform a backward pass, and update the weights.\n",
    "        # We first zero the gradients to prevent them from accumulating in the next iteration\n",
    "        optimizer.zero_grad()\n",
    "        # loss.backward() computes dloss/dx for every parameter x which has requires_grad=True\n",
    "        # loss.backward is used to compute the gradients of the loss with respect to the model parameters\n",
    "        loss.backward()\n",
    "        # optimizer.step updates the value of x using the gradient x.grad\n",
    "        optimizer.step()\n",
    "    \n",
    "    print(f'Epoch {epoch + 1} | Loss: {(epoch_loss / len(train_loader)):.4f}')"
   ]
  },
  {
   "cell_type": "markdown",
   "metadata": {},
   "source": [
    "#### Inference on the test set"
   ]
  },
  {
   "cell_type": "markdown",
   "metadata": {},
   "source": [
    "\n",
    "<div style=\"padding:8px 0 8px 15px;border-left:3px solid #03befc;background-color:#F3F3F3;\">\n",
    "\n",
    "- 🎯 **Goal:** Evaluate your model on the test set: for each batch of data, do the forward pass and compute the loss and the accuracy score.\n",
    "- 💻 **API:** Check the official API for the [testing process](https://pytorch.org/tutorials/beginner/blitz/cifar10_tutorial.html#test-the-network-on-the-test-data).\n",
    "\n",
    "</div>"
   ]
  },
  {
   "cell_type": "code",
   "execution_count": 43,
   "metadata": {},
   "outputs": [
    {
     "name": "stdout",
     "output_type": "stream",
     "text": [
      "linear.weight tensor([[-2.0820,  0.8406, -0.9172,  2.7078,  2.9113, -0.1858,  0.1727, -1.3589,\n",
      "         -4.2255, -2.9508, -0.7017, -3.4218, -0.2353, -0.1942, -1.3632,  0.3494,\n",
      "          1.4083, -0.9999, -3.7229,  0.7272, -0.5627, -2.0642, -1.1609, -0.0355,\n",
      "          2.1588,  1.8440,  2.0450,  0.6622,  1.9088, -0.4884, -2.9693,  1.9055,\n",
      "         -1.1693,  2.6787,  3.2228,  0.6514,  0.5825,  0.7895, -1.3607, -2.8063,\n",
      "          1.7153, -2.7241,  3.5900, -1.3253, -0.5770,  1.2386,  1.9402, -1.7825,\n",
      "          5.3433,  0.9160, -1.5495, -0.5307, -0.3647,  0.5741,  1.6419, -0.8943,\n",
      "          2.1361, -0.4508, -0.2421, -0.4938,  1.2882,  3.4401,  1.1892, -1.5389,\n",
      "          0.6129,  0.7112, -2.9664,  0.9410,  3.4458,  1.5001,  3.2841,  1.0890,\n",
      "         -0.0498, -2.5922,  1.3052,  0.0708,  1.9265, -3.9326,  1.8171, -2.1075,\n",
      "          0.2802,  1.0777,  1.7341,  2.3769,  4.3425,  1.1658, -1.3638, -0.8831,\n",
      "         -0.9523,  0.2275,  0.2168, -0.5516,  1.3078,  0.0683, -3.3178,  1.5440,\n",
      "         -1.8847, -3.4913,  0.0781,  4.3763]])\n",
      "linear.bias tensor([-3.3716])\n"
     ]
    }
   ],
   "source": [
    "for name, param in model.named_parameters():\n",
    "    if param.requires_grad:\n",
    "        print(name, param.data)"
   ]
  },
  {
   "cell_type": "code",
   "execution_count": 44,
   "metadata": {},
   "outputs": [
    {
     "name": "stdout",
     "output_type": "stream",
     "text": [
      "Test Acc: 79.27%\n"
     ]
    }
   ],
   "source": [
    "batch_loss = 0\n",
    "batch_acc = 0\n",
    "\n",
    "model.eval()\n",
    "# If you don't wrap eval code in torch.no_grad():,\n",
    "# PyTorch will still track operations on tensors for which requires_grad=True, \n",
    "# preparing to calculate gradients that you won't actually use. \n",
    "with torch.no_grad():\n",
    "    for i, data in enumerate(test_loader, 0):\n",
    "        # get the inputs\n",
    "        inputs, labels = data\n",
    "        \n",
    "        # run forward pass\n",
    "        predictions = model(inputs, labels.float())\n",
    "        \n",
    "        # Compute and print loss\n",
    "        predictions = torch.squeeze(predictions)\n",
    "        test_loss = criterion(predictions, labels.float())\n",
    "        predictions = torch.tensor([1. if i > 0.5 else 0. for i in predictions])\n",
    "        \n",
    "        # BinaryAccuracy() computes the accuracy for binary classification\n",
    "        acc = BinaryAccuracy()\n",
    "        acc = acc(labels, predictions)\n",
    "        \n",
    "        batch_loss += test_loss.item()\n",
    "        batch_acc += acc.item()\n",
    "\n",
    "test_loss = batch_loss / len(test_loader)\n",
    "test_acc = batch_acc / len(test_loader)\n",
    "\n",
    "print(f'Test Acc: {test_acc*100:.2f}%')"
   ]
  },
  {
   "cell_type": "markdown",
   "metadata": {},
   "source": [
    "<div style=\"padding:8px 0 8px 15px;border-left:3px solid gray;background-color:#F3F3F3;\">\n",
    "\n",
    "#### Extra quiz:\n",
    "Play around with different settings (e.g. learning rate, batch size, epochs) and different architectures. Additionally try different pooling methods. Think how your design choices affect model performance on both train and test sets.\n",
    "\n",
    "</div>"
   ]
  },
  {
   "cell_type": "code",
   "execution_count": 46,
   "metadata": {},
   "outputs": [
    {
     "name": "stderr",
     "output_type": "stream",
     "text": [
      "Failed to detect the name of this notebook, you can set it manually with the WANDB_NOTEBOOK_NAME environment variable to enable code saving.\n"
     ]
    },
    {
     "name": "stdout",
     "output_type": "stream",
     "text": [
      "\n",
      "Training with avg_pool, lr=0.001, batch_size=32, epochs=30\n"
     ]
    },
    {
     "name": "stderr",
     "output_type": "stream",
     "text": [
      "\u001b[34m\u001b[1mwandb\u001b[0m: Currently logged in as: \u001b[33mpierrehogenhaug\u001b[0m. Use \u001b[1m`wandb login --relogin`\u001b[0m to force relogin\n"
     ]
    },
    {
     "data": {
      "text/html": [
       "Tracking run with wandb version 0.16.4"
      ],
      "text/plain": [
       "<IPython.core.display.HTML object>"
      ]
     },
     "metadata": {},
     "output_type": "display_data"
    },
    {
     "data": {
      "text/html": [
       "Run data is saved locally in <code>/Users/phog/Desktop/cleverThings/Modern_NLP/cs-552-modern-nlp/Exercises/Week 1 - Word Embeddings/wandb/run-20240313_105946-z1vi8wmy</code>"
      ],
      "text/plain": [
       "<IPython.core.display.HTML object>"
      ]
     },
     "metadata": {},
     "output_type": "display_data"
    },
    {
     "data": {
      "text/html": [
       "Syncing run <strong><a href='https://wandb.ai/pierrehogenhaug/modern_nlp_ex/runs/z1vi8wmy' target=\"_blank\">major-elevator-2</a></strong> to <a href='https://wandb.ai/pierrehogenhaug/modern_nlp_ex' target=\"_blank\">Weights & Biases</a> (<a href='https://wandb.me/run' target=\"_blank\">docs</a>)<br/>"
      ],
      "text/plain": [
       "<IPython.core.display.HTML object>"
      ]
     },
     "metadata": {},
     "output_type": "display_data"
    },
    {
     "data": {
      "text/html": [
       " View project at <a href='https://wandb.ai/pierrehogenhaug/modern_nlp_ex' target=\"_blank\">https://wandb.ai/pierrehogenhaug/modern_nlp_ex</a>"
      ],
      "text/plain": [
       "<IPython.core.display.HTML object>"
      ]
     },
     "metadata": {},
     "output_type": "display_data"
    },
    {
     "data": {
      "text/html": [
       " View run at <a href='https://wandb.ai/pierrehogenhaug/modern_nlp_ex/runs/z1vi8wmy' target=\"_blank\">https://wandb.ai/pierrehogenhaug/modern_nlp_ex/runs/z1vi8wmy</a>"
      ],
      "text/plain": [
       "<IPython.core.display.HTML object>"
      ]
     },
     "metadata": {},
     "output_type": "display_data"
    },
    {
     "name": "stdout",
     "output_type": "stream",
     "text": [
      "Epoch 1/30 | Loss: 0.6920\n",
      "Epoch 2/30 | Loss: 0.6898\n",
      "Epoch 3/30 | Loss: 0.6883\n",
      "Epoch 4/30 | Loss: 0.6868\n",
      "Epoch 5/30 | Loss: 0.6853\n",
      "Epoch 6/30 | Loss: 0.6838\n",
      "Epoch 7/30 | Loss: 0.6824\n",
      "Epoch 8/30 | Loss: 0.6810\n",
      "Epoch 9/30 | Loss: 0.6796\n",
      "Epoch 10/30 | Loss: 0.6782\n",
      "Epoch 11/30 | Loss: 0.6770\n",
      "Epoch 12/30 | Loss: 0.6757\n",
      "Epoch 13/30 | Loss: 0.6744\n",
      "Epoch 14/30 | Loss: 0.6732\n",
      "Epoch 15/30 | Loss: 0.6720\n",
      "Epoch 16/30 | Loss: 0.6708\n",
      "Epoch 17/30 | Loss: 0.6696\n",
      "Epoch 18/30 | Loss: 0.6684\n",
      "Epoch 19/30 | Loss: 0.6673\n",
      "Epoch 20/30 | Loss: 0.6662\n",
      "Epoch 21/30 | Loss: 0.6651\n",
      "Epoch 22/30 | Loss: 0.6641\n",
      "Epoch 23/30 | Loss: 0.6630\n",
      "Epoch 24/30 | Loss: 0.6620\n",
      "Epoch 25/30 | Loss: 0.6610\n",
      "Epoch 26/30 | Loss: 0.6600\n",
      "Epoch 27/30 | Loss: 0.6590\n",
      "Epoch 28/30 | Loss: 0.6580\n",
      "Epoch 29/30 | Loss: 0.6571\n",
      "Epoch 30/30 | Loss: 0.6562\n",
      "Test Acc: 68.21%\n"
     ]
    },
    {
     "name": "stderr",
     "output_type": "stream",
     "text": [
      "wandb: WARNING Source type is set to 'repo' but some required information is missing from the environment. A job will not be created from this run. See https://docs.wandb.ai/guides/launch/create-job\n"
     ]
    },
    {
     "data": {
      "text/html": [
       "<style>\n",
       "    table.wandb td:nth-child(1) { padding: 0 10px; text-align: left ; width: auto;} td:nth-child(2) {text-align: left ; width: 100%}\n",
       "    .wandb-row { display: flex; flex-direction: row; flex-wrap: wrap; justify-content: flex-start; width: 100% }\n",
       "    .wandb-col { display: flex; flex-direction: column; flex-basis: 100%; flex: 1; padding: 10px; }\n",
       "    </style>\n",
       "<div class=\"wandb-row\"><div class=\"wandb-col\"><h3>Run history:</h3><br/><table class=\"wandb\"><tr><td>epoch</td><td>▁▁▁▂▂▂▂▃▃▃▃▄▄▄▄▅▅▅▅▆▆▆▆▇▇▇▇███</td></tr><tr><td>test_accuracy</td><td>▁</td></tr><tr><td>test_loss</td><td>▁</td></tr><tr><td>train_loss</td><td>██▇▇▇▆▆▆▆▅▅▅▅▄▄▄▄▃▃▃▃▃▂▂▂▂▂▁▁▁</td></tr></table><br/></div><div class=\"wandb-col\"><h3>Run summary:</h3><br/><table class=\"wandb\"><tr><td>epoch</td><td>30</td></tr><tr><td>test_accuracy</td><td>0.68211</td></tr><tr><td>test_loss</td><td>0.65547</td></tr><tr><td>train_loss</td><td>0.65616</td></tr></table><br/></div></div>"
      ],
      "text/plain": [
       "<IPython.core.display.HTML object>"
      ]
     },
     "metadata": {},
     "output_type": "display_data"
    },
    {
     "data": {
      "text/html": [
       " View run <strong style=\"color:#cdcd00\">major-elevator-2</strong> at: <a href='https://wandb.ai/pierrehogenhaug/modern_nlp_ex/runs/z1vi8wmy' target=\"_blank\">https://wandb.ai/pierrehogenhaug/modern_nlp_ex/runs/z1vi8wmy</a><br/>Synced 6 W&B file(s), 0 media file(s), 0 artifact file(s) and 0 other file(s)"
      ],
      "text/plain": [
       "<IPython.core.display.HTML object>"
      ]
     },
     "metadata": {},
     "output_type": "display_data"
    },
    {
     "data": {
      "text/html": [
       "Find logs at: <code>./wandb/run-20240313_105946-z1vi8wmy/logs</code>"
      ],
      "text/plain": [
       "<IPython.core.display.HTML object>"
      ]
     },
     "metadata": {},
     "output_type": "display_data"
    },
    {
     "name": "stdout",
     "output_type": "stream",
     "text": [
      "\n",
      "Training with avg_pool, lr=0.001, batch_size=32, epochs=50\n"
     ]
    },
    {
     "data": {
      "text/html": [
       "Tracking run with wandb version 0.16.4"
      ],
      "text/plain": [
       "<IPython.core.display.HTML object>"
      ]
     },
     "metadata": {},
     "output_type": "display_data"
    },
    {
     "data": {
      "text/html": [
       "Run data is saved locally in <code>/Users/phog/Desktop/cleverThings/Modern_NLP/cs-552-modern-nlp/Exercises/Week 1 - Word Embeddings/wandb/run-20240313_110002-txge7z2p</code>"
      ],
      "text/plain": [
       "<IPython.core.display.HTML object>"
      ]
     },
     "metadata": {},
     "output_type": "display_data"
    },
    {
     "data": {
      "text/html": [
       "Syncing run <strong><a href='https://wandb.ai/pierrehogenhaug/modern_nlp_ex/runs/txge7z2p' target=\"_blank\">vital-star-3</a></strong> to <a href='https://wandb.ai/pierrehogenhaug/modern_nlp_ex' target=\"_blank\">Weights & Biases</a> (<a href='https://wandb.me/run' target=\"_blank\">docs</a>)<br/>"
      ],
      "text/plain": [
       "<IPython.core.display.HTML object>"
      ]
     },
     "metadata": {},
     "output_type": "display_data"
    },
    {
     "data": {
      "text/html": [
       " View project at <a href='https://wandb.ai/pierrehogenhaug/modern_nlp_ex' target=\"_blank\">https://wandb.ai/pierrehogenhaug/modern_nlp_ex</a>"
      ],
      "text/plain": [
       "<IPython.core.display.HTML object>"
      ]
     },
     "metadata": {},
     "output_type": "display_data"
    },
    {
     "data": {
      "text/html": [
       " View run at <a href='https://wandb.ai/pierrehogenhaug/modern_nlp_ex/runs/txge7z2p' target=\"_blank\">https://wandb.ai/pierrehogenhaug/modern_nlp_ex/runs/txge7z2p</a>"
      ],
      "text/plain": [
       "<IPython.core.display.HTML object>"
      ]
     },
     "metadata": {},
     "output_type": "display_data"
    },
    {
     "name": "stdout",
     "output_type": "stream",
     "text": [
      "Epoch 1/50 | Loss: 0.6910\n",
      "Epoch 2/50 | Loss: 0.6890\n",
      "Epoch 3/50 | Loss: 0.6875\n",
      "Epoch 4/50 | Loss: 0.6861\n",
      "Epoch 5/50 | Loss: 0.6847\n",
      "Epoch 6/50 | Loss: 0.6833\n",
      "Epoch 7/50 | Loss: 0.6819\n",
      "Epoch 8/50 | Loss: 0.6806\n",
      "Epoch 9/50 | Loss: 0.6792\n",
      "Epoch 10/50 | Loss: 0.6780\n",
      "Epoch 11/50 | Loss: 0.6767\n",
      "Epoch 12/50 | Loss: 0.6755\n",
      "Epoch 13/50 | Loss: 0.6743\n",
      "Epoch 14/50 | Loss: 0.6731\n",
      "Epoch 15/50 | Loss: 0.6719\n",
      "Epoch 16/50 | Loss: 0.6707\n",
      "Epoch 17/50 | Loss: 0.6696\n",
      "Epoch 18/50 | Loss: 0.6685\n",
      "Epoch 19/50 | Loss: 0.6674\n",
      "Epoch 20/50 | Loss: 0.6663\n",
      "Epoch 21/50 | Loss: 0.6653\n",
      "Epoch 22/50 | Loss: 0.6643\n",
      "Epoch 23/50 | Loss: 0.6632\n",
      "Epoch 24/50 | Loss: 0.6622\n",
      "Epoch 25/50 | Loss: 0.6613\n",
      "Epoch 26/50 | Loss: 0.6603\n",
      "Epoch 27/50 | Loss: 0.6594\n",
      "Epoch 28/50 | Loss: 0.6584\n",
      "Epoch 29/50 | Loss: 0.6574\n",
      "Epoch 30/50 | Loss: 0.6566\n",
      "Epoch 31/50 | Loss: 0.6557\n",
      "Epoch 32/50 | Loss: 0.6548\n",
      "Epoch 33/50 | Loss: 0.6539\n",
      "Epoch 34/50 | Loss: 0.6531\n",
      "Epoch 35/50 | Loss: 0.6523\n",
      "Epoch 36/50 | Loss: 0.6514\n",
      "Epoch 37/50 | Loss: 0.6506\n",
      "Epoch 38/50 | Loss: 0.6498\n",
      "Epoch 39/50 | Loss: 0.6490\n",
      "Epoch 40/50 | Loss: 0.6482\n",
      "Epoch 41/50 | Loss: 0.6475\n",
      "Epoch 42/50 | Loss: 0.6467\n",
      "Epoch 43/50 | Loss: 0.6459\n",
      "Epoch 44/50 | Loss: 0.6452\n",
      "Epoch 45/50 | Loss: 0.6445\n",
      "Epoch 46/50 | Loss: 0.6438\n",
      "Epoch 47/50 | Loss: 0.6430\n",
      "Epoch 48/50 | Loss: 0.6423\n",
      "Epoch 49/50 | Loss: 0.6416\n",
      "Epoch 50/50 | Loss: 0.6410\n",
      "Test Acc: 69.28%\n"
     ]
    },
    {
     "name": "stderr",
     "output_type": "stream",
     "text": [
      "wandb: WARNING Source type is set to 'repo' but some required information is missing from the environment. A job will not be created from this run. See https://docs.wandb.ai/guides/launch/create-job\n"
     ]
    },
    {
     "data": {
      "text/html": [
       "<style>\n",
       "    table.wandb td:nth-child(1) { padding: 0 10px; text-align: left ; width: auto;} td:nth-child(2) {text-align: left ; width: 100%}\n",
       "    .wandb-row { display: flex; flex-direction: row; flex-wrap: wrap; justify-content: flex-start; width: 100% }\n",
       "    .wandb-col { display: flex; flex-direction: column; flex-basis: 100%; flex: 1; padding: 10px; }\n",
       "    </style>\n",
       "<div class=\"wandb-row\"><div class=\"wandb-col\"><h3>Run history:</h3><br/><table class=\"wandb\"><tr><td>epoch</td><td>▁▁▁▁▂▂▂▂▂▃▃▃▃▃▃▄▄▄▄▄▅▅▅▅▅▅▆▆▆▆▆▆▇▇▇▇▇███</td></tr><tr><td>test_accuracy</td><td>▁</td></tr><tr><td>test_loss</td><td>▁</td></tr><tr><td>train_loss</td><td>███▇▇▇▇▆▆▆▆▅▅▅▅▅▄▄▄▄▄▄▃▃▃▃▃▃▂▂▂▂▂▂▂▂▁▁▁▁</td></tr></table><br/></div><div class=\"wandb-col\"><h3>Run summary:</h3><br/><table class=\"wandb\"><tr><td>epoch</td><td>50</td></tr><tr><td>test_accuracy</td><td>0.69279</td></tr><tr><td>test_loss</td><td>0.6386</td></tr><tr><td>train_loss</td><td>0.64096</td></tr></table><br/></div></div>"
      ],
      "text/plain": [
       "<IPython.core.display.HTML object>"
      ]
     },
     "metadata": {},
     "output_type": "display_data"
    },
    {
     "data": {
      "text/html": [
       " View run <strong style=\"color:#cdcd00\">vital-star-3</strong> at: <a href='https://wandb.ai/pierrehogenhaug/modern_nlp_ex/runs/txge7z2p' target=\"_blank\">https://wandb.ai/pierrehogenhaug/modern_nlp_ex/runs/txge7z2p</a><br/>Synced 6 W&B file(s), 0 media file(s), 0 artifact file(s) and 0 other file(s)"
      ],
      "text/plain": [
       "<IPython.core.display.HTML object>"
      ]
     },
     "metadata": {},
     "output_type": "display_data"
    },
    {
     "data": {
      "text/html": [
       "Find logs at: <code>./wandb/run-20240313_110002-txge7z2p/logs</code>"
      ],
      "text/plain": [
       "<IPython.core.display.HTML object>"
      ]
     },
     "metadata": {},
     "output_type": "display_data"
    },
    {
     "name": "stdout",
     "output_type": "stream",
     "text": [
      "\n",
      "Training with avg_pool, lr=0.001, batch_size=32, epochs=70\n"
     ]
    },
    {
     "data": {
      "text/html": [
       "Tracking run with wandb version 0.16.4"
      ],
      "text/plain": [
       "<IPython.core.display.HTML object>"
      ]
     },
     "metadata": {},
     "output_type": "display_data"
    },
    {
     "data": {
      "text/html": [
       "Run data is saved locally in <code>/Users/phog/Desktop/cleverThings/Modern_NLP/cs-552-modern-nlp/Exercises/Week 1 - Word Embeddings/wandb/run-20240313_110029-zxmgsv28</code>"
      ],
      "text/plain": [
       "<IPython.core.display.HTML object>"
      ]
     },
     "metadata": {},
     "output_type": "display_data"
    },
    {
     "data": {
      "text/html": [
       "Syncing run <strong><a href='https://wandb.ai/pierrehogenhaug/modern_nlp_ex/runs/zxmgsv28' target=\"_blank\">honest-snowball-4</a></strong> to <a href='https://wandb.ai/pierrehogenhaug/modern_nlp_ex' target=\"_blank\">Weights & Biases</a> (<a href='https://wandb.me/run' target=\"_blank\">docs</a>)<br/>"
      ],
      "text/plain": [
       "<IPython.core.display.HTML object>"
      ]
     },
     "metadata": {},
     "output_type": "display_data"
    },
    {
     "data": {
      "text/html": [
       " View project at <a href='https://wandb.ai/pierrehogenhaug/modern_nlp_ex' target=\"_blank\">https://wandb.ai/pierrehogenhaug/modern_nlp_ex</a>"
      ],
      "text/plain": [
       "<IPython.core.display.HTML object>"
      ]
     },
     "metadata": {},
     "output_type": "display_data"
    },
    {
     "data": {
      "text/html": [
       " View run at <a href='https://wandb.ai/pierrehogenhaug/modern_nlp_ex/runs/zxmgsv28' target=\"_blank\">https://wandb.ai/pierrehogenhaug/modern_nlp_ex/runs/zxmgsv28</a>"
      ],
      "text/plain": [
       "<IPython.core.display.HTML object>"
      ]
     },
     "metadata": {},
     "output_type": "display_data"
    },
    {
     "name": "stdout",
     "output_type": "stream",
     "text": [
      "Epoch 1/70 | Loss: 0.6931\n",
      "Epoch 2/70 | Loss: 0.6912\n",
      "Epoch 3/70 | Loss: 0.6897\n",
      "Epoch 4/70 | Loss: 0.6882\n",
      "Epoch 5/70 | Loss: 0.6867\n",
      "Epoch 6/70 | Loss: 0.6852\n",
      "Epoch 7/70 | Loss: 0.6838\n",
      "Epoch 8/70 | Loss: 0.6824\n",
      "Epoch 9/70 | Loss: 0.6810\n",
      "Epoch 10/70 | Loss: 0.6797\n",
      "Epoch 11/70 | Loss: 0.6784\n",
      "Epoch 12/70 | Loss: 0.6771\n",
      "Epoch 13/70 | Loss: 0.6759\n",
      "Epoch 14/70 | Loss: 0.6746\n",
      "Epoch 15/70 | Loss: 0.6734\n",
      "Epoch 16/70 | Loss: 0.6722\n",
      "Epoch 17/70 | Loss: 0.6710\n",
      "Epoch 18/70 | Loss: 0.6698\n",
      "Epoch 19/70 | Loss: 0.6687\n",
      "Epoch 20/70 | Loss: 0.6676\n",
      "Epoch 21/70 | Loss: 0.6665\n",
      "Epoch 22/70 | Loss: 0.6655\n",
      "Epoch 23/70 | Loss: 0.6644\n",
      "Epoch 24/70 | Loss: 0.6634\n",
      "Epoch 25/70 | Loss: 0.6624\n",
      "Epoch 26/70 | Loss: 0.6613\n",
      "Epoch 27/70 | Loss: 0.6604\n",
      "Epoch 28/70 | Loss: 0.6594\n",
      "Epoch 29/70 | Loss: 0.6584\n",
      "Epoch 30/70 | Loss: 0.6575\n",
      "Epoch 31/70 | Loss: 0.6566\n",
      "Epoch 32/70 | Loss: 0.6557\n",
      "Epoch 33/70 | Loss: 0.6548\n",
      "Epoch 34/70 | Loss: 0.6539\n",
      "Epoch 35/70 | Loss: 0.6530\n",
      "Epoch 36/70 | Loss: 0.6522\n",
      "Epoch 37/70 | Loss: 0.6513\n",
      "Epoch 38/70 | Loss: 0.6505\n",
      "Epoch 39/70 | Loss: 0.6497\n",
      "Epoch 40/70 | Loss: 0.6489\n",
      "Epoch 41/70 | Loss: 0.6481\n",
      "Epoch 42/70 | Loss: 0.6473\n",
      "Epoch 43/70 | Loss: 0.6465\n",
      "Epoch 44/70 | Loss: 0.6458\n",
      "Epoch 45/70 | Loss: 0.6450\n",
      "Epoch 46/70 | Loss: 0.6443\n",
      "Epoch 47/70 | Loss: 0.6435\n",
      "Epoch 48/70 | Loss: 0.6428\n",
      "Epoch 49/70 | Loss: 0.6421\n",
      "Epoch 50/70 | Loss: 0.6414\n",
      "Epoch 51/70 | Loss: 0.6407\n",
      "Epoch 52/70 | Loss: 0.6400\n",
      "Epoch 53/70 | Loss: 0.6393\n",
      "Epoch 54/70 | Loss: 0.6387\n",
      "Epoch 55/70 | Loss: 0.6380\n",
      "Epoch 56/70 | Loss: 0.6373\n",
      "Epoch 57/70 | Loss: 0.6367\n",
      "Epoch 58/70 | Loss: 0.6361\n",
      "Epoch 59/70 | Loss: 0.6354\n",
      "Epoch 60/70 | Loss: 0.6348\n",
      "Epoch 61/70 | Loss: 0.6342\n",
      "Epoch 62/70 | Loss: 0.6336\n",
      "Epoch 63/70 | Loss: 0.6329\n",
      "Epoch 64/70 | Loss: 0.6323\n",
      "Epoch 65/70 | Loss: 0.6317\n",
      "Epoch 66/70 | Loss: 0.6312\n",
      "Epoch 67/70 | Loss: 0.6306\n",
      "Epoch 68/70 | Loss: 0.6300\n",
      "Epoch 69/70 | Loss: 0.6294\n",
      "Epoch 70/70 | Loss: 0.6289\n",
      "Test Acc: 69.44%\n"
     ]
    },
    {
     "name": "stderr",
     "output_type": "stream",
     "text": [
      "wandb: WARNING Source type is set to 'repo' but some required information is missing from the environment. A job will not be created from this run. See https://docs.wandb.ai/guides/launch/create-job\n"
     ]
    },
    {
     "data": {
      "text/html": [
       "<style>\n",
       "    table.wandb td:nth-child(1) { padding: 0 10px; text-align: left ; width: auto;} td:nth-child(2) {text-align: left ; width: 100%}\n",
       "    .wandb-row { display: flex; flex-direction: row; flex-wrap: wrap; justify-content: flex-start; width: 100% }\n",
       "    .wandb-col { display: flex; flex-direction: column; flex-basis: 100%; flex: 1; padding: 10px; }\n",
       "    </style>\n",
       "<div class=\"wandb-row\"><div class=\"wandb-col\"><h3>Run history:</h3><br/><table class=\"wandb\"><tr><td>epoch</td><td>▁▁▁▂▂▂▂▂▂▃▃▃▃▃▃▄▄▄▄▄▅▅▅▅▅▅▆▆▆▆▆▆▇▇▇▇▇███</td></tr><tr><td>test_accuracy</td><td>▁</td></tr><tr><td>test_loss</td><td>▁</td></tr><tr><td>train_loss</td><td>██▇▇▇▇▆▆▆▆▅▅▅▅▅▄▄▄▄▄▄▃▃▃▃▃▃▃▂▂▂▂▂▂▂▂▁▁▁▁</td></tr></table><br/></div><div class=\"wandb-col\"><h3>Run summary:</h3><br/><table class=\"wandb\"><tr><td>epoch</td><td>70</td></tr><tr><td>test_accuracy</td><td>0.69439</td></tr><tr><td>test_loss</td><td>0.62778</td></tr><tr><td>train_loss</td><td>0.62886</td></tr></table><br/></div></div>"
      ],
      "text/plain": [
       "<IPython.core.display.HTML object>"
      ]
     },
     "metadata": {},
     "output_type": "display_data"
    },
    {
     "data": {
      "text/html": [
       " View run <strong style=\"color:#cdcd00\">honest-snowball-4</strong> at: <a href='https://wandb.ai/pierrehogenhaug/modern_nlp_ex/runs/zxmgsv28' target=\"_blank\">https://wandb.ai/pierrehogenhaug/modern_nlp_ex/runs/zxmgsv28</a><br/>Synced 6 W&B file(s), 0 media file(s), 0 artifact file(s) and 0 other file(s)"
      ],
      "text/plain": [
       "<IPython.core.display.HTML object>"
      ]
     },
     "metadata": {},
     "output_type": "display_data"
    },
    {
     "data": {
      "text/html": [
       "Find logs at: <code>./wandb/run-20240313_110029-zxmgsv28/logs</code>"
      ],
      "text/plain": [
       "<IPython.core.display.HTML object>"
      ]
     },
     "metadata": {},
     "output_type": "display_data"
    },
    {
     "name": "stdout",
     "output_type": "stream",
     "text": [
      "\n",
      "Training with avg_pool, lr=0.001, batch_size=64, epochs=30\n"
     ]
    },
    {
     "data": {
      "text/html": [
       "Tracking run with wandb version 0.16.4"
      ],
      "text/plain": [
       "<IPython.core.display.HTML object>"
      ]
     },
     "metadata": {},
     "output_type": "display_data"
    },
    {
     "data": {
      "text/html": [
       "Run data is saved locally in <code>/Users/phog/Desktop/cleverThings/Modern_NLP/cs-552-modern-nlp/Exercises/Week 1 - Word Embeddings/wandb/run-20240313_110059-xbpv4gny</code>"
      ],
      "text/plain": [
       "<IPython.core.display.HTML object>"
      ]
     },
     "metadata": {},
     "output_type": "display_data"
    },
    {
     "data": {
      "text/html": [
       "Syncing run <strong><a href='https://wandb.ai/pierrehogenhaug/modern_nlp_ex/runs/xbpv4gny' target=\"_blank\">worldly-fire-5</a></strong> to <a href='https://wandb.ai/pierrehogenhaug/modern_nlp_ex' target=\"_blank\">Weights & Biases</a> (<a href='https://wandb.me/run' target=\"_blank\">docs</a>)<br/>"
      ],
      "text/plain": [
       "<IPython.core.display.HTML object>"
      ]
     },
     "metadata": {},
     "output_type": "display_data"
    },
    {
     "data": {
      "text/html": [
       " View project at <a href='https://wandb.ai/pierrehogenhaug/modern_nlp_ex' target=\"_blank\">https://wandb.ai/pierrehogenhaug/modern_nlp_ex</a>"
      ],
      "text/plain": [
       "<IPython.core.display.HTML object>"
      ]
     },
     "metadata": {},
     "output_type": "display_data"
    },
    {
     "data": {
      "text/html": [
       " View run at <a href='https://wandb.ai/pierrehogenhaug/modern_nlp_ex/runs/xbpv4gny' target=\"_blank\">https://wandb.ai/pierrehogenhaug/modern_nlp_ex/runs/xbpv4gny</a>"
      ],
      "text/plain": [
       "<IPython.core.display.HTML object>"
      ]
     },
     "metadata": {},
     "output_type": "display_data"
    },
    {
     "name": "stdout",
     "output_type": "stream",
     "text": [
      "Epoch 1/30 | Loss: 0.6945\n",
      "Epoch 2/30 | Loss: 0.6887\n",
      "Epoch 3/30 | Loss: 0.6879\n",
      "Epoch 4/30 | Loss: 0.6872\n",
      "Epoch 5/30 | Loss: 0.6864\n",
      "Epoch 6/30 | Loss: 0.6857\n",
      "Epoch 7/30 | Loss: 0.6850\n",
      "Epoch 8/30 | Loss: 0.6843\n",
      "Epoch 9/30 | Loss: 0.6836\n",
      "Epoch 10/30 | Loss: 0.6829\n",
      "Epoch 11/30 | Loss: 0.6822\n",
      "Epoch 12/30 | Loss: 0.6815\n",
      "Epoch 13/30 | Loss: 0.6809\n",
      "Epoch 14/30 | Loss: 0.6802\n",
      "Epoch 15/30 | Loss: 0.6795\n",
      "Epoch 16/30 | Loss: 0.6789\n",
      "Epoch 17/30 | Loss: 0.6782\n",
      "Epoch 18/30 | Loss: 0.6776\n",
      "Epoch 19/30 | Loss: 0.6770\n",
      "Epoch 20/30 | Loss: 0.6763\n",
      "Epoch 21/30 | Loss: 0.6757\n",
      "Epoch 22/30 | Loss: 0.6751\n",
      "Epoch 23/30 | Loss: 0.6745\n",
      "Epoch 24/30 | Loss: 0.6739\n",
      "Epoch 25/30 | Loss: 0.6733\n",
      "Epoch 26/30 | Loss: 0.6727\n",
      "Epoch 27/30 | Loss: 0.6721\n",
      "Epoch 28/30 | Loss: 0.6715\n",
      "Epoch 29/30 | Loss: 0.6709\n",
      "Epoch 30/30 | Loss: 0.6704\n",
      "Test Acc: 66.27%\n"
     ]
    },
    {
     "name": "stderr",
     "output_type": "stream",
     "text": [
      "wandb: WARNING Source type is set to 'repo' but some required information is missing from the environment. A job will not be created from this run. See https://docs.wandb.ai/guides/launch/create-job\n"
     ]
    },
    {
     "data": {
      "text/html": [
       "<style>\n",
       "    table.wandb td:nth-child(1) { padding: 0 10px; text-align: left ; width: auto;} td:nth-child(2) {text-align: left ; width: 100%}\n",
       "    .wandb-row { display: flex; flex-direction: row; flex-wrap: wrap; justify-content: flex-start; width: 100% }\n",
       "    .wandb-col { display: flex; flex-direction: column; flex-basis: 100%; flex: 1; padding: 10px; }\n",
       "    </style>\n",
       "<div class=\"wandb-row\"><div class=\"wandb-col\"><h3>Run history:</h3><br/><table class=\"wandb\"><tr><td>epoch</td><td>▁▁▁▂▂▂▂▃▃▃▃▄▄▄▄▅▅▅▅▆▆▆▆▇▇▇▇███</td></tr><tr><td>test_accuracy</td><td>▁</td></tr><tr><td>test_loss</td><td>▁</td></tr><tr><td>train_loss</td><td>█▆▆▆▆▅▅▅▅▅▄▄▄▄▄▃▃▃▃▃▃▂▂▂▂▂▁▁▁▁</td></tr></table><br/></div><div class=\"wandb-col\"><h3>Run summary:</h3><br/><table class=\"wandb\"><tr><td>epoch</td><td>30</td></tr><tr><td>test_accuracy</td><td>0.66272</td></tr><tr><td>test_loss</td><td>0.67068</td></tr><tr><td>train_loss</td><td>0.67037</td></tr></table><br/></div></div>"
      ],
      "text/plain": [
       "<IPython.core.display.HTML object>"
      ]
     },
     "metadata": {},
     "output_type": "display_data"
    },
    {
     "data": {
      "text/html": [
       " View run <strong style=\"color:#cdcd00\">worldly-fire-5</strong> at: <a href='https://wandb.ai/pierrehogenhaug/modern_nlp_ex/runs/xbpv4gny' target=\"_blank\">https://wandb.ai/pierrehogenhaug/modern_nlp_ex/runs/xbpv4gny</a><br/>Synced 6 W&B file(s), 0 media file(s), 0 artifact file(s) and 0 other file(s)"
      ],
      "text/plain": [
       "<IPython.core.display.HTML object>"
      ]
     },
     "metadata": {},
     "output_type": "display_data"
    },
    {
     "data": {
      "text/html": [
       "Find logs at: <code>./wandb/run-20240313_110059-xbpv4gny/logs</code>"
      ],
      "text/plain": [
       "<IPython.core.display.HTML object>"
      ]
     },
     "metadata": {},
     "output_type": "display_data"
    },
    {
     "name": "stdout",
     "output_type": "stream",
     "text": [
      "\n",
      "Training with avg_pool, lr=0.001, batch_size=64, epochs=50\n"
     ]
    },
    {
     "data": {
      "text/html": [
       "Tracking run with wandb version 0.16.4"
      ],
      "text/plain": [
       "<IPython.core.display.HTML object>"
      ]
     },
     "metadata": {},
     "output_type": "display_data"
    },
    {
     "data": {
      "text/html": [
       "Run data is saved locally in <code>/Users/phog/Desktop/cleverThings/Modern_NLP/cs-552-modern-nlp/Exercises/Week 1 - Word Embeddings/wandb/run-20240313_110114-h6qj6o82</code>"
      ],
      "text/plain": [
       "<IPython.core.display.HTML object>"
      ]
     },
     "metadata": {},
     "output_type": "display_data"
    },
    {
     "data": {
      "text/html": [
       "Syncing run <strong><a href='https://wandb.ai/pierrehogenhaug/modern_nlp_ex/runs/h6qj6o82' target=\"_blank\">eager-thunder-6</a></strong> to <a href='https://wandb.ai/pierrehogenhaug/modern_nlp_ex' target=\"_blank\">Weights & Biases</a> (<a href='https://wandb.me/run' target=\"_blank\">docs</a>)<br/>"
      ],
      "text/plain": [
       "<IPython.core.display.HTML object>"
      ]
     },
     "metadata": {},
     "output_type": "display_data"
    },
    {
     "data": {
      "text/html": [
       " View project at <a href='https://wandb.ai/pierrehogenhaug/modern_nlp_ex' target=\"_blank\">https://wandb.ai/pierrehogenhaug/modern_nlp_ex</a>"
      ],
      "text/plain": [
       "<IPython.core.display.HTML object>"
      ]
     },
     "metadata": {},
     "output_type": "display_data"
    },
    {
     "data": {
      "text/html": [
       " View run at <a href='https://wandb.ai/pierrehogenhaug/modern_nlp_ex/runs/h6qj6o82' target=\"_blank\">https://wandb.ai/pierrehogenhaug/modern_nlp_ex/runs/h6qj6o82</a>"
      ],
      "text/plain": [
       "<IPython.core.display.HTML object>"
      ]
     },
     "metadata": {},
     "output_type": "display_data"
    },
    {
     "name": "stdout",
     "output_type": "stream",
     "text": [
      "Epoch 1/50 | Loss: 0.6942\n",
      "Epoch 2/50 | Loss: 0.6932\n",
      "Epoch 3/50 | Loss: 0.6924\n",
      "Epoch 4/50 | Loss: 0.6916\n",
      "Epoch 5/50 | Loss: 0.6908\n",
      "Epoch 6/50 | Loss: 0.6900\n",
      "Epoch 7/50 | Loss: 0.6892\n",
      "Epoch 8/50 | Loss: 0.6885\n",
      "Epoch 9/50 | Loss: 0.6877\n",
      "Epoch 10/50 | Loss: 0.6869\n",
      "Epoch 11/50 | Loss: 0.6862\n",
      "Epoch 12/50 | Loss: 0.6855\n",
      "Epoch 13/50 | Loss: 0.6848\n",
      "Epoch 14/50 | Loss: 0.6840\n",
      "Epoch 15/50 | Loss: 0.6833\n",
      "Epoch 16/50 | Loss: 0.6826\n",
      "Epoch 17/50 | Loss: 0.6819\n",
      "Epoch 18/50 | Loss: 0.6812\n",
      "Epoch 19/50 | Loss: 0.6805\n",
      "Epoch 20/50 | Loss: 0.6799\n",
      "Epoch 21/50 | Loss: 0.6792\n",
      "Epoch 22/50 | Loss: 0.6785\n",
      "Epoch 23/50 | Loss: 0.6779\n",
      "Epoch 24/50 | Loss: 0.6772\n",
      "Epoch 25/50 | Loss: 0.6766\n",
      "Epoch 26/50 | Loss: 0.6760\n",
      "Epoch 27/50 | Loss: 0.6753\n",
      "Epoch 28/50 | Loss: 0.6747\n",
      "Epoch 29/50 | Loss: 0.6741\n",
      "Epoch 30/50 | Loss: 0.6735\n",
      "Epoch 31/50 | Loss: 0.6729\n",
      "Epoch 32/50 | Loss: 0.6723\n",
      "Epoch 33/50 | Loss: 0.6717\n",
      "Epoch 34/50 | Loss: 0.6711\n",
      "Epoch 35/50 | Loss: 0.6705\n",
      "Epoch 36/50 | Loss: 0.6699\n",
      "Epoch 37/50 | Loss: 0.6693\n",
      "Epoch 38/50 | Loss: 0.6688\n",
      "Epoch 39/50 | Loss: 0.6682\n",
      "Epoch 40/50 | Loss: 0.6677\n",
      "Epoch 41/50 | Loss: 0.6671\n",
      "Epoch 42/50 | Loss: 0.6666\n",
      "Epoch 43/50 | Loss: 0.6660\n",
      "Epoch 44/50 | Loss: 0.6655\n",
      "Epoch 45/50 | Loss: 0.6650\n",
      "Epoch 46/50 | Loss: 0.6644\n",
      "Epoch 47/50 | Loss: 0.6639\n",
      "Epoch 48/50 | Loss: 0.6634\n",
      "Epoch 49/50 | Loss: 0.6629\n",
      "Epoch 50/50 | Loss: 0.6624\n",
      "Test Acc: 66.69%\n"
     ]
    },
    {
     "name": "stderr",
     "output_type": "stream",
     "text": [
      "wandb: WARNING Source type is set to 'repo' but some required information is missing from the environment. A job will not be created from this run. See https://docs.wandb.ai/guides/launch/create-job\n"
     ]
    },
    {
     "data": {
      "text/html": [
       "<style>\n",
       "    table.wandb td:nth-child(1) { padding: 0 10px; text-align: left ; width: auto;} td:nth-child(2) {text-align: left ; width: 100%}\n",
       "    .wandb-row { display: flex; flex-direction: row; flex-wrap: wrap; justify-content: flex-start; width: 100% }\n",
       "    .wandb-col { display: flex; flex-direction: column; flex-basis: 100%; flex: 1; padding: 10px; }\n",
       "    </style>\n",
       "<div class=\"wandb-row\"><div class=\"wandb-col\"><h3>Run history:</h3><br/><table class=\"wandb\"><tr><td>epoch</td><td>▁▁▁▁▂▂▂▂▂▃▃▃▃▃▃▄▄▄▄▄▅▅▅▅▅▅▆▆▆▆▆▆▇▇▇▇▇███</td></tr><tr><td>test_accuracy</td><td>▁</td></tr><tr><td>test_loss</td><td>▁</td></tr><tr><td>train_loss</td><td>███▇▇▇▇▇▆▆▆▆▅▅▅▅▅▅▄▄▄▄▄▄▃▃▃▃▃▃▂▂▂▂▂▂▁▁▁▁</td></tr></table><br/></div><div class=\"wandb-col\"><h3>Run summary:</h3><br/><table class=\"wandb\"><tr><td>epoch</td><td>50</td></tr><tr><td>test_accuracy</td><td>0.6669</td></tr><tr><td>test_loss</td><td>0.66289</td></tr><tr><td>train_loss</td><td>0.66237</td></tr></table><br/></div></div>"
      ],
      "text/plain": [
       "<IPython.core.display.HTML object>"
      ]
     },
     "metadata": {},
     "output_type": "display_data"
    },
    {
     "data": {
      "text/html": [
       " View run <strong style=\"color:#cdcd00\">eager-thunder-6</strong> at: <a href='https://wandb.ai/pierrehogenhaug/modern_nlp_ex/runs/h6qj6o82' target=\"_blank\">https://wandb.ai/pierrehogenhaug/modern_nlp_ex/runs/h6qj6o82</a><br/>Synced 6 W&B file(s), 0 media file(s), 0 artifact file(s) and 0 other file(s)"
      ],
      "text/plain": [
       "<IPython.core.display.HTML object>"
      ]
     },
     "metadata": {},
     "output_type": "display_data"
    },
    {
     "data": {
      "text/html": [
       "Find logs at: <code>./wandb/run-20240313_110114-h6qj6o82/logs</code>"
      ],
      "text/plain": [
       "<IPython.core.display.HTML object>"
      ]
     },
     "metadata": {},
     "output_type": "display_data"
    },
    {
     "name": "stdout",
     "output_type": "stream",
     "text": [
      "\n",
      "Training with avg_pool, lr=0.001, batch_size=64, epochs=70\n"
     ]
    },
    {
     "data": {
      "text/html": [
       "Tracking run with wandb version 0.16.4"
      ],
      "text/plain": [
       "<IPython.core.display.HTML object>"
      ]
     },
     "metadata": {},
     "output_type": "display_data"
    },
    {
     "data": {
      "text/html": [
       "Run data is saved locally in <code>/Users/phog/Desktop/cleverThings/Modern_NLP/cs-552-modern-nlp/Exercises/Week 1 - Word Embeddings/wandb/run-20240313_110133-o9dlqvd0</code>"
      ],
      "text/plain": [
       "<IPython.core.display.HTML object>"
      ]
     },
     "metadata": {},
     "output_type": "display_data"
    },
    {
     "data": {
      "text/html": [
       "Syncing run <strong><a href='https://wandb.ai/pierrehogenhaug/modern_nlp_ex/runs/o9dlqvd0' target=\"_blank\">fast-cosmos-7</a></strong> to <a href='https://wandb.ai/pierrehogenhaug/modern_nlp_ex' target=\"_blank\">Weights & Biases</a> (<a href='https://wandb.me/run' target=\"_blank\">docs</a>)<br/>"
      ],
      "text/plain": [
       "<IPython.core.display.HTML object>"
      ]
     },
     "metadata": {},
     "output_type": "display_data"
    },
    {
     "data": {
      "text/html": [
       " View project at <a href='https://wandb.ai/pierrehogenhaug/modern_nlp_ex' target=\"_blank\">https://wandb.ai/pierrehogenhaug/modern_nlp_ex</a>"
      ],
      "text/plain": [
       "<IPython.core.display.HTML object>"
      ]
     },
     "metadata": {},
     "output_type": "display_data"
    },
    {
     "data": {
      "text/html": [
       " View run at <a href='https://wandb.ai/pierrehogenhaug/modern_nlp_ex/runs/o9dlqvd0' target=\"_blank\">https://wandb.ai/pierrehogenhaug/modern_nlp_ex/runs/o9dlqvd0</a>"
      ],
      "text/plain": [
       "<IPython.core.display.HTML object>"
      ]
     },
     "metadata": {},
     "output_type": "display_data"
    },
    {
     "name": "stdout",
     "output_type": "stream",
     "text": [
      "Epoch 1/70 | Loss: 0.6897\n",
      "Epoch 2/70 | Loss: 0.6883\n",
      "Epoch 3/70 | Loss: 0.6875\n",
      "Epoch 4/70 | Loss: 0.6868\n",
      "Epoch 5/70 | Loss: 0.6860\n",
      "Epoch 6/70 | Loss: 0.6853\n",
      "Epoch 7/70 | Loss: 0.6845\n",
      "Epoch 8/70 | Loss: 0.6838\n",
      "Epoch 9/70 | Loss: 0.6831\n",
      "Epoch 10/70 | Loss: 0.6824\n",
      "Epoch 11/70 | Loss: 0.6817\n",
      "Epoch 12/70 | Loss: 0.6810\n",
      "Epoch 13/70 | Loss: 0.6803\n",
      "Epoch 14/70 | Loss: 0.6797\n",
      "Epoch 15/70 | Loss: 0.6790\n",
      "Epoch 16/70 | Loss: 0.6783\n",
      "Epoch 17/70 | Loss: 0.6777\n",
      "Epoch 18/70 | Loss: 0.6770\n",
      "Epoch 19/70 | Loss: 0.6764\n",
      "Epoch 20/70 | Loss: 0.6757\n",
      "Epoch 21/70 | Loss: 0.6751\n",
      "Epoch 22/70 | Loss: 0.6745\n",
      "Epoch 23/70 | Loss: 0.6739\n",
      "Epoch 24/70 | Loss: 0.6733\n",
      "Epoch 25/70 | Loss: 0.6726\n",
      "Epoch 26/70 | Loss: 0.6720\n",
      "Epoch 27/70 | Loss: 0.6714\n",
      "Epoch 28/70 | Loss: 0.6709\n",
      "Epoch 29/70 | Loss: 0.6703\n",
      "Epoch 30/70 | Loss: 0.6697\n",
      "Epoch 31/70 | Loss: 0.6691\n",
      "Epoch 32/70 | Loss: 0.6685\n",
      "Epoch 33/70 | Loss: 0.6680\n",
      "Epoch 34/70 | Loss: 0.6674\n",
      "Epoch 35/70 | Loss: 0.6669\n",
      "Epoch 36/70 | Loss: 0.6663\n",
      "Epoch 37/70 | Loss: 0.6658\n",
      "Epoch 38/70 | Loss: 0.6653\n",
      "Epoch 39/70 | Loss: 0.6647\n",
      "Epoch 40/70 | Loss: 0.6642\n",
      "Epoch 41/70 | Loss: 0.6637\n",
      "Epoch 42/70 | Loss: 0.6632\n",
      "Epoch 43/70 | Loss: 0.6626\n",
      "Epoch 44/70 | Loss: 0.6621\n",
      "Epoch 45/70 | Loss: 0.6616\n",
      "Epoch 46/70 | Loss: 0.6611\n",
      "Epoch 47/70 | Loss: 0.6606\n",
      "Epoch 48/70 | Loss: 0.6601\n",
      "Epoch 49/70 | Loss: 0.6597\n",
      "Epoch 50/70 | Loss: 0.6592\n",
      "Epoch 51/70 | Loss: 0.6587\n",
      "Epoch 52/70 | Loss: 0.6582\n",
      "Epoch 53/70 | Loss: 0.6578\n",
      "Epoch 54/70 | Loss: 0.6573\n",
      "Epoch 55/70 | Loss: 0.6568\n",
      "Epoch 56/70 | Loss: 0.6564\n",
      "Epoch 57/70 | Loss: 0.6559\n",
      "Epoch 58/70 | Loss: 0.6554\n",
      "Epoch 59/70 | Loss: 0.6550\n",
      "Epoch 60/70 | Loss: 0.6545\n",
      "Epoch 61/70 | Loss: 0.6541\n",
      "Epoch 62/70 | Loss: 0.6537\n",
      "Epoch 63/70 | Loss: 0.6532\n",
      "Epoch 64/70 | Loss: 0.6528\n",
      "Epoch 65/70 | Loss: 0.6524\n",
      "Epoch 66/70 | Loss: 0.6519\n",
      "Epoch 67/70 | Loss: 0.6515\n",
      "Epoch 68/70 | Loss: 0.6511\n",
      "Epoch 69/70 | Loss: 0.6507\n",
      "Epoch 70/70 | Loss: 0.6503\n",
      "Test Acc: 68.32%\n"
     ]
    },
    {
     "name": "stderr",
     "output_type": "stream",
     "text": [
      "wandb: WARNING Source type is set to 'repo' but some required information is missing from the environment. A job will not be created from this run. See https://docs.wandb.ai/guides/launch/create-job\n"
     ]
    },
    {
     "data": {
      "text/html": [
       "<style>\n",
       "    table.wandb td:nth-child(1) { padding: 0 10px; text-align: left ; width: auto;} td:nth-child(2) {text-align: left ; width: 100%}\n",
       "    .wandb-row { display: flex; flex-direction: row; flex-wrap: wrap; justify-content: flex-start; width: 100% }\n",
       "    .wandb-col { display: flex; flex-direction: column; flex-basis: 100%; flex: 1; padding: 10px; }\n",
       "    </style>\n",
       "<div class=\"wandb-row\"><div class=\"wandb-col\"><h3>Run history:</h3><br/><table class=\"wandb\"><tr><td>epoch</td><td>▁▁▁▂▂▂▂▂▂▃▃▃▃▃▃▄▄▄▄▄▅▅▅▅▅▅▆▆▆▆▆▆▇▇▇▇▇███</td></tr><tr><td>test_accuracy</td><td>▁</td></tr><tr><td>test_loss</td><td>▁</td></tr><tr><td>train_loss</td><td>██▇▇▇▇▇▆▆▆▆▆▅▅▅▅▅▄▄▄▄▄▄▃▃▃▃▃▃▂▂▂▂▂▂▂▁▁▁▁</td></tr></table><br/></div><div class=\"wandb-col\"><h3>Run summary:</h3><br/><table class=\"wandb\"><tr><td>epoch</td><td>70</td></tr><tr><td>test_accuracy</td><td>0.68322</td></tr><tr><td>test_loss</td><td>0.64995</td></tr><tr><td>train_loss</td><td>0.65028</td></tr></table><br/></div></div>"
      ],
      "text/plain": [
       "<IPython.core.display.HTML object>"
      ]
     },
     "metadata": {},
     "output_type": "display_data"
    },
    {
     "data": {
      "text/html": [
       " View run <strong style=\"color:#cdcd00\">fast-cosmos-7</strong> at: <a href='https://wandb.ai/pierrehogenhaug/modern_nlp_ex/runs/o9dlqvd0' target=\"_blank\">https://wandb.ai/pierrehogenhaug/modern_nlp_ex/runs/o9dlqvd0</a><br/>Synced 6 W&B file(s), 0 media file(s), 0 artifact file(s) and 0 other file(s)"
      ],
      "text/plain": [
       "<IPython.core.display.HTML object>"
      ]
     },
     "metadata": {},
     "output_type": "display_data"
    },
    {
     "data": {
      "text/html": [
       "Find logs at: <code>./wandb/run-20240313_110133-o9dlqvd0/logs</code>"
      ],
      "text/plain": [
       "<IPython.core.display.HTML object>"
      ]
     },
     "metadata": {},
     "output_type": "display_data"
    },
    {
     "name": "stdout",
     "output_type": "stream",
     "text": [
      "\n",
      "Training with avg_pool, lr=0.001, batch_size=128, epochs=30\n"
     ]
    },
    {
     "data": {
      "text/html": [
       "Tracking run with wandb version 0.16.4"
      ],
      "text/plain": [
       "<IPython.core.display.HTML object>"
      ]
     },
     "metadata": {},
     "output_type": "display_data"
    },
    {
     "data": {
      "text/html": [
       "Run data is saved locally in <code>/Users/phog/Desktop/cleverThings/Modern_NLP/cs-552-modern-nlp/Exercises/Week 1 - Word Embeddings/wandb/run-20240313_110157-kktua6f8</code>"
      ],
      "text/plain": [
       "<IPython.core.display.HTML object>"
      ]
     },
     "metadata": {},
     "output_type": "display_data"
    },
    {
     "data": {
      "text/html": [
       "Syncing run <strong><a href='https://wandb.ai/pierrehogenhaug/modern_nlp_ex/runs/kktua6f8' target=\"_blank\">fancy-night-8</a></strong> to <a href='https://wandb.ai/pierrehogenhaug/modern_nlp_ex' target=\"_blank\">Weights & Biases</a> (<a href='https://wandb.me/run' target=\"_blank\">docs</a>)<br/>"
      ],
      "text/plain": [
       "<IPython.core.display.HTML object>"
      ]
     },
     "metadata": {},
     "output_type": "display_data"
    },
    {
     "data": {
      "text/html": [
       " View project at <a href='https://wandb.ai/pierrehogenhaug/modern_nlp_ex' target=\"_blank\">https://wandb.ai/pierrehogenhaug/modern_nlp_ex</a>"
      ],
      "text/plain": [
       "<IPython.core.display.HTML object>"
      ]
     },
     "metadata": {},
     "output_type": "display_data"
    },
    {
     "data": {
      "text/html": [
       " View run at <a href='https://wandb.ai/pierrehogenhaug/modern_nlp_ex/runs/kktua6f8' target=\"_blank\">https://wandb.ai/pierrehogenhaug/modern_nlp_ex/runs/kktua6f8</a>"
      ],
      "text/plain": [
       "<IPython.core.display.HTML object>"
      ]
     },
     "metadata": {},
     "output_type": "display_data"
    },
    {
     "name": "stdout",
     "output_type": "stream",
     "text": [
      "Epoch 1/30 | Loss: 0.7018\n",
      "Epoch 2/30 | Loss: 0.6934\n",
      "Epoch 3/30 | Loss: 0.6923\n",
      "Epoch 4/30 | Loss: 0.6919\n",
      "Epoch 5/30 | Loss: 0.6915\n",
      "Epoch 6/30 | Loss: 0.6911\n",
      "Epoch 7/30 | Loss: 0.6907\n",
      "Epoch 8/30 | Loss: 0.6903\n",
      "Epoch 9/30 | Loss: 0.6900\n",
      "Epoch 10/30 | Loss: 0.6896\n",
      "Epoch 11/30 | Loss: 0.6892\n",
      "Epoch 12/30 | Loss: 0.6888\n",
      "Epoch 13/30 | Loss: 0.6885\n",
      "Epoch 14/30 | Loss: 0.6881\n",
      "Epoch 15/30 | Loss: 0.6877\n",
      "Epoch 16/30 | Loss: 0.6874\n",
      "Epoch 17/30 | Loss: 0.6870\n",
      "Epoch 18/30 | Loss: 0.6866\n",
      "Epoch 19/30 | Loss: 0.6863\n",
      "Epoch 20/30 | Loss: 0.6859\n",
      "Epoch 21/30 | Loss: 0.6856\n",
      "Epoch 22/30 | Loss: 0.6852\n",
      "Epoch 23/30 | Loss: 0.6849\n",
      "Epoch 24/30 | Loss: 0.6845\n",
      "Epoch 25/30 | Loss: 0.6841\n",
      "Epoch 26/30 | Loss: 0.6838\n",
      "Epoch 27/30 | Loss: 0.6835\n",
      "Epoch 28/30 | Loss: 0.6831\n",
      "Epoch 29/30 | Loss: 0.6828\n",
      "Epoch 30/30 | Loss: 0.6824\n",
      "Test Acc: 63.87%\n"
     ]
    },
    {
     "name": "stderr",
     "output_type": "stream",
     "text": [
      "wandb: WARNING Source type is set to 'repo' but some required information is missing from the environment. A job will not be created from this run. See https://docs.wandb.ai/guides/launch/create-job\n"
     ]
    },
    {
     "data": {
      "text/html": [
       "<style>\n",
       "    table.wandb td:nth-child(1) { padding: 0 10px; text-align: left ; width: auto;} td:nth-child(2) {text-align: left ; width: 100%}\n",
       "    .wandb-row { display: flex; flex-direction: row; flex-wrap: wrap; justify-content: flex-start; width: 100% }\n",
       "    .wandb-col { display: flex; flex-direction: column; flex-basis: 100%; flex: 1; padding: 10px; }\n",
       "    </style>\n",
       "<div class=\"wandb-row\"><div class=\"wandb-col\"><h3>Run history:</h3><br/><table class=\"wandb\"><tr><td>epoch</td><td>▁▁▁▂▂▂▂▃▃▃▃▄▄▄▄▅▅▅▅▆▆▆▆▇▇▇▇███</td></tr><tr><td>test_accuracy</td><td>▁</td></tr><tr><td>test_loss</td><td>▁</td></tr><tr><td>train_loss</td><td>█▅▅▄▄▄▄▄▄▄▃▃▃▃▃▃▃▃▂▂▂▂▂▂▂▂▁▁▁▁</td></tr></table><br/></div><div class=\"wandb-col\"><h3>Run summary:</h3><br/><table class=\"wandb\"><tr><td>epoch</td><td>30</td></tr><tr><td>test_accuracy</td><td>0.63875</td></tr><tr><td>test_loss</td><td>0.6823</td></tr><tr><td>train_loss</td><td>0.68241</td></tr></table><br/></div></div>"
      ],
      "text/plain": [
       "<IPython.core.display.HTML object>"
      ]
     },
     "metadata": {},
     "output_type": "display_data"
    },
    {
     "data": {
      "text/html": [
       " View run <strong style=\"color:#cdcd00\">fancy-night-8</strong> at: <a href='https://wandb.ai/pierrehogenhaug/modern_nlp_ex/runs/kktua6f8' target=\"_blank\">https://wandb.ai/pierrehogenhaug/modern_nlp_ex/runs/kktua6f8</a><br/>Synced 6 W&B file(s), 0 media file(s), 0 artifact file(s) and 0 other file(s)"
      ],
      "text/plain": [
       "<IPython.core.display.HTML object>"
      ]
     },
     "metadata": {},
     "output_type": "display_data"
    },
    {
     "data": {
      "text/html": [
       "Find logs at: <code>./wandb/run-20240313_110157-kktua6f8/logs</code>"
      ],
      "text/plain": [
       "<IPython.core.display.HTML object>"
      ]
     },
     "metadata": {},
     "output_type": "display_data"
    },
    {
     "name": "stdout",
     "output_type": "stream",
     "text": [
      "\n",
      "Training with avg_pool, lr=0.001, batch_size=128, epochs=50\n"
     ]
    },
    {
     "data": {
      "text/html": [
       "Tracking run with wandb version 0.16.4"
      ],
      "text/plain": [
       "<IPython.core.display.HTML object>"
      ]
     },
     "metadata": {},
     "output_type": "display_data"
    },
    {
     "data": {
      "text/html": [
       "Run data is saved locally in <code>/Users/phog/Desktop/cleverThings/Modern_NLP/cs-552-modern-nlp/Exercises/Week 1 - Word Embeddings/wandb/run-20240313_110212-rxjsi8cn</code>"
      ],
      "text/plain": [
       "<IPython.core.display.HTML object>"
      ]
     },
     "metadata": {},
     "output_type": "display_data"
    },
    {
     "data": {
      "text/html": [
       "Syncing run <strong><a href='https://wandb.ai/pierrehogenhaug/modern_nlp_ex/runs/rxjsi8cn' target=\"_blank\">swift-vortex-9</a></strong> to <a href='https://wandb.ai/pierrehogenhaug/modern_nlp_ex' target=\"_blank\">Weights & Biases</a> (<a href='https://wandb.me/run' target=\"_blank\">docs</a>)<br/>"
      ],
      "text/plain": [
       "<IPython.core.display.HTML object>"
      ]
     },
     "metadata": {},
     "output_type": "display_data"
    },
    {
     "data": {
      "text/html": [
       " View project at <a href='https://wandb.ai/pierrehogenhaug/modern_nlp_ex' target=\"_blank\">https://wandb.ai/pierrehogenhaug/modern_nlp_ex</a>"
      ],
      "text/plain": [
       "<IPython.core.display.HTML object>"
      ]
     },
     "metadata": {},
     "output_type": "display_data"
    },
    {
     "data": {
      "text/html": [
       " View run at <a href='https://wandb.ai/pierrehogenhaug/modern_nlp_ex/runs/rxjsi8cn' target=\"_blank\">https://wandb.ai/pierrehogenhaug/modern_nlp_ex/runs/rxjsi8cn</a>"
      ],
      "text/plain": [
       "<IPython.core.display.HTML object>"
      ]
     },
     "metadata": {},
     "output_type": "display_data"
    },
    {
     "name": "stdout",
     "output_type": "stream",
     "text": [
      "Epoch 1/50 | Loss: 0.6955\n",
      "Epoch 2/50 | Loss: 0.6949\n",
      "Epoch 3/50 | Loss: 0.6945\n",
      "Epoch 4/50 | Loss: 0.6941\n",
      "Epoch 5/50 | Loss: 0.6937\n",
      "Epoch 6/50 | Loss: 0.6933\n",
      "Epoch 7/50 | Loss: 0.6929\n",
      "Epoch 8/50 | Loss: 0.6925\n",
      "Epoch 9/50 | Loss: 0.6920\n",
      "Epoch 10/50 | Loss: 0.6916\n",
      "Epoch 11/50 | Loss: 0.6913\n",
      "Epoch 12/50 | Loss: 0.6909\n",
      "Epoch 13/50 | Loss: 0.6905\n",
      "Epoch 14/50 | Loss: 0.6901\n",
      "Epoch 15/50 | Loss: 0.6897\n",
      "Epoch 16/50 | Loss: 0.6893\n",
      "Epoch 17/50 | Loss: 0.6889\n",
      "Epoch 18/50 | Loss: 0.6885\n",
      "Epoch 19/50 | Loss: 0.6882\n",
      "Epoch 20/50 | Loss: 0.6878\n",
      "Epoch 21/50 | Loss: 0.6874\n",
      "Epoch 22/50 | Loss: 0.6870\n",
      "Epoch 23/50 | Loss: 0.6867\n",
      "Epoch 24/50 | Loss: 0.6863\n",
      "Epoch 25/50 | Loss: 0.6859\n",
      "Epoch 26/50 | Loss: 0.6856\n",
      "Epoch 27/50 | Loss: 0.6852\n",
      "Epoch 28/50 | Loss: 0.6848\n",
      "Epoch 29/50 | Loss: 0.6845\n",
      "Epoch 30/50 | Loss: 0.6841\n",
      "Epoch 31/50 | Loss: 0.6838\n",
      "Epoch 32/50 | Loss: 0.6834\n",
      "Epoch 33/50 | Loss: 0.6831\n",
      "Epoch 34/50 | Loss: 0.6827\n",
      "Epoch 35/50 | Loss: 0.6824\n",
      "Epoch 36/50 | Loss: 0.6820\n",
      "Epoch 37/50 | Loss: 0.6817\n",
      "Epoch 38/50 | Loss: 0.6813\n",
      "Epoch 39/50 | Loss: 0.6810\n",
      "Epoch 40/50 | Loss: 0.6806\n",
      "Epoch 41/50 | Loss: 0.6803\n",
      "Epoch 42/50 | Loss: 0.6800\n",
      "Epoch 43/50 | Loss: 0.6797\n",
      "Epoch 44/50 | Loss: 0.6793\n",
      "Epoch 45/50 | Loss: 0.6790\n",
      "Epoch 46/50 | Loss: 0.6786\n",
      "Epoch 47/50 | Loss: 0.6783\n",
      "Epoch 48/50 | Loss: 0.6780\n",
      "Epoch 49/50 | Loss: 0.6777\n",
      "Epoch 50/50 | Loss: 0.6773\n",
      "Test Acc: 68.65%\n"
     ]
    },
    {
     "name": "stderr",
     "output_type": "stream",
     "text": [
      "wandb: WARNING Source type is set to 'repo' but some required information is missing from the environment. A job will not be created from this run. See https://docs.wandb.ai/guides/launch/create-job\n"
     ]
    },
    {
     "data": {
      "text/html": [
       "<style>\n",
       "    table.wandb td:nth-child(1) { padding: 0 10px; text-align: left ; width: auto;} td:nth-child(2) {text-align: left ; width: 100%}\n",
       "    .wandb-row { display: flex; flex-direction: row; flex-wrap: wrap; justify-content: flex-start; width: 100% }\n",
       "    .wandb-col { display: flex; flex-direction: column; flex-basis: 100%; flex: 1; padding: 10px; }\n",
       "    </style>\n",
       "<div class=\"wandb-row\"><div class=\"wandb-col\"><h3>Run history:</h3><br/><table class=\"wandb\"><tr><td>epoch</td><td>▁▁▁▁▂▂▂▂▂▃▃▃▃▃▃▄▄▄▄▄▅▅▅▅▅▅▆▆▆▆▆▆▇▇▇▇▇███</td></tr><tr><td>test_accuracy</td><td>▁</td></tr><tr><td>test_loss</td><td>▁</td></tr><tr><td>train_loss</td><td>███▇▇▇▇▇▆▆▆▆▆▅▅▅▅▅▅▄▄▄▄▄▃▃▃▃▃▃▃▂▂▂▂▂▂▁▁▁</td></tr></table><br/></div><div class=\"wandb-col\"><h3>Run summary:</h3><br/><table class=\"wandb\"><tr><td>epoch</td><td>50</td></tr><tr><td>test_accuracy</td><td>0.68651</td></tr><tr><td>test_loss</td><td>0.67687</td></tr><tr><td>train_loss</td><td>0.67735</td></tr></table><br/></div></div>"
      ],
      "text/plain": [
       "<IPython.core.display.HTML object>"
      ]
     },
     "metadata": {},
     "output_type": "display_data"
    },
    {
     "data": {
      "text/html": [
       " View run <strong style=\"color:#cdcd00\">swift-vortex-9</strong> at: <a href='https://wandb.ai/pierrehogenhaug/modern_nlp_ex/runs/rxjsi8cn' target=\"_blank\">https://wandb.ai/pierrehogenhaug/modern_nlp_ex/runs/rxjsi8cn</a><br/>Synced 6 W&B file(s), 0 media file(s), 0 artifact file(s) and 0 other file(s)"
      ],
      "text/plain": [
       "<IPython.core.display.HTML object>"
      ]
     },
     "metadata": {},
     "output_type": "display_data"
    },
    {
     "data": {
      "text/html": [
       "Find logs at: <code>./wandb/run-20240313_110212-rxjsi8cn/logs</code>"
      ],
      "text/plain": [
       "<IPython.core.display.HTML object>"
      ]
     },
     "metadata": {},
     "output_type": "display_data"
    },
    {
     "name": "stdout",
     "output_type": "stream",
     "text": [
      "\n",
      "Training with avg_pool, lr=0.001, batch_size=128, epochs=70\n"
     ]
    },
    {
     "data": {
      "text/html": [
       "Tracking run with wandb version 0.16.4"
      ],
      "text/plain": [
       "<IPython.core.display.HTML object>"
      ]
     },
     "metadata": {},
     "output_type": "display_data"
    },
    {
     "data": {
      "text/html": [
       "Run data is saved locally in <code>/Users/phog/Desktop/cleverThings/Modern_NLP/cs-552-modern-nlp/Exercises/Week 1 - Word Embeddings/wandb/run-20240313_110228-0ghhkoxt</code>"
      ],
      "text/plain": [
       "<IPython.core.display.HTML object>"
      ]
     },
     "metadata": {},
     "output_type": "display_data"
    },
    {
     "data": {
      "text/html": [
       "Syncing run <strong><a href='https://wandb.ai/pierrehogenhaug/modern_nlp_ex/runs/0ghhkoxt' target=\"_blank\">swift-aardvark-10</a></strong> to <a href='https://wandb.ai/pierrehogenhaug/modern_nlp_ex' target=\"_blank\">Weights & Biases</a> (<a href='https://wandb.me/run' target=\"_blank\">docs</a>)<br/>"
      ],
      "text/plain": [
       "<IPython.core.display.HTML object>"
      ]
     },
     "metadata": {},
     "output_type": "display_data"
    },
    {
     "data": {
      "text/html": [
       " View project at <a href='https://wandb.ai/pierrehogenhaug/modern_nlp_ex' target=\"_blank\">https://wandb.ai/pierrehogenhaug/modern_nlp_ex</a>"
      ],
      "text/plain": [
       "<IPython.core.display.HTML object>"
      ]
     },
     "metadata": {},
     "output_type": "display_data"
    },
    {
     "data": {
      "text/html": [
       " View run at <a href='https://wandb.ai/pierrehogenhaug/modern_nlp_ex/runs/0ghhkoxt' target=\"_blank\">https://wandb.ai/pierrehogenhaug/modern_nlp_ex/runs/0ghhkoxt</a>"
      ],
      "text/plain": [
       "<IPython.core.display.HTML object>"
      ]
     },
     "metadata": {},
     "output_type": "display_data"
    },
    {
     "name": "stdout",
     "output_type": "stream",
     "text": [
      "Epoch 1/70 | Loss: 0.6938\n",
      "Epoch 2/70 | Loss: 0.6933\n",
      "Epoch 3/70 | Loss: 0.6929\n",
      "Epoch 4/70 | Loss: 0.6925\n",
      "Epoch 5/70 | Loss: 0.6921\n",
      "Epoch 6/70 | Loss: 0.6917\n",
      "Epoch 7/70 | Loss: 0.6913\n",
      "Epoch 8/70 | Loss: 0.6909\n",
      "Epoch 9/70 | Loss: 0.6905\n",
      "Epoch 10/70 | Loss: 0.6902\n",
      "Epoch 11/70 | Loss: 0.6898\n",
      "Epoch 12/70 | Loss: 0.6894\n",
      "Epoch 13/70 | Loss: 0.6890\n",
      "Epoch 14/70 | Loss: 0.6887\n",
      "Epoch 15/70 | Loss: 0.6883\n",
      "Epoch 16/70 | Loss: 0.6879\n",
      "Epoch 17/70 | Loss: 0.6876\n",
      "Epoch 18/70 | Loss: 0.6872\n",
      "Epoch 19/70 | Loss: 0.6868\n",
      "Epoch 20/70 | Loss: 0.6865\n",
      "Epoch 21/70 | Loss: 0.6861\n",
      "Epoch 22/70 | Loss: 0.6857\n",
      "Epoch 23/70 | Loss: 0.6854\n",
      "Epoch 24/70 | Loss: 0.6850\n",
      "Epoch 25/70 | Loss: 0.6847\n",
      "Epoch 26/70 | Loss: 0.6843\n",
      "Epoch 27/70 | Loss: 0.6840\n",
      "Epoch 28/70 | Loss: 0.6836\n",
      "Epoch 29/70 | Loss: 0.6833\n",
      "Epoch 30/70 | Loss: 0.6829\n",
      "Epoch 31/70 | Loss: 0.6826\n",
      "Epoch 32/70 | Loss: 0.6823\n",
      "Epoch 33/70 | Loss: 0.6819\n",
      "Epoch 34/70 | Loss: 0.6816\n",
      "Epoch 35/70 | Loss: 0.6813\n",
      "Epoch 36/70 | Loss: 0.6809\n",
      "Epoch 37/70 | Loss: 0.6806\n",
      "Epoch 38/70 | Loss: 0.6803\n",
      "Epoch 39/70 | Loss: 0.6799\n",
      "Epoch 40/70 | Loss: 0.6796\n",
      "Epoch 41/70 | Loss: 0.6793\n",
      "Epoch 42/70 | Loss: 0.6790\n",
      "Epoch 43/70 | Loss: 0.6786\n",
      "Epoch 44/70 | Loss: 0.6783\n",
      "Epoch 45/70 | Loss: 0.6780\n",
      "Epoch 46/70 | Loss: 0.6777\n",
      "Epoch 47/70 | Loss: 0.6774\n",
      "Epoch 48/70 | Loss: 0.6770\n",
      "Epoch 49/70 | Loss: 0.6767\n",
      "Epoch 50/70 | Loss: 0.6764\n",
      "Epoch 51/70 | Loss: 0.6761\n",
      "Epoch 52/70 | Loss: 0.6758\n",
      "Epoch 53/70 | Loss: 0.6755\n",
      "Epoch 54/70 | Loss: 0.6752\n",
      "Epoch 55/70 | Loss: 0.6749\n",
      "Epoch 56/70 | Loss: 0.6746\n",
      "Epoch 57/70 | Loss: 0.6743\n",
      "Epoch 58/70 | Loss: 0.6740\n",
      "Epoch 59/70 | Loss: 0.6737\n",
      "Epoch 60/70 | Loss: 0.6734\n",
      "Epoch 61/70 | Loss: 0.6730\n",
      "Epoch 62/70 | Loss: 0.6728\n",
      "Epoch 63/70 | Loss: 0.6725\n",
      "Epoch 64/70 | Loss: 0.6722\n",
      "Epoch 65/70 | Loss: 0.6719\n",
      "Epoch 66/70 | Loss: 0.6716\n",
      "Epoch 67/70 | Loss: 0.6713\n",
      "Epoch 68/70 | Loss: 0.6710\n",
      "Epoch 69/70 | Loss: 0.6708\n",
      "Epoch 70/70 | Loss: 0.6705\n",
      "Test Acc: 66.47%\n"
     ]
    },
    {
     "name": "stderr",
     "output_type": "stream",
     "text": [
      "wandb: WARNING Source type is set to 'repo' but some required information is missing from the environment. A job will not be created from this run. See https://docs.wandb.ai/guides/launch/create-job\n"
     ]
    },
    {
     "data": {
      "text/html": [
       "<style>\n",
       "    table.wandb td:nth-child(1) { padding: 0 10px; text-align: left ; width: auto;} td:nth-child(2) {text-align: left ; width: 100%}\n",
       "    .wandb-row { display: flex; flex-direction: row; flex-wrap: wrap; justify-content: flex-start; width: 100% }\n",
       "    .wandb-col { display: flex; flex-direction: column; flex-basis: 100%; flex: 1; padding: 10px; }\n",
       "    </style>\n",
       "<div class=\"wandb-row\"><div class=\"wandb-col\"><h3>Run history:</h3><br/><table class=\"wandb\"><tr><td>epoch</td><td>▁▁▁▂▂▂▂▂▂▃▃▃▃▃▃▄▄▄▄▄▅▅▅▅▅▅▆▆▆▆▆▆▇▇▇▇▇███</td></tr><tr><td>test_accuracy</td><td>▁</td></tr><tr><td>test_loss</td><td>▁</td></tr><tr><td>train_loss</td><td>███▇▇▇▇▇▆▆▆▆▆▅▅▅▅▅▅▄▄▄▄▄▃▃▃▃▃▃▂▂▂▂▂▂▂▁▁▁</td></tr></table><br/></div><div class=\"wandb-col\"><h3>Run summary:</h3><br/><table class=\"wandb\"><tr><td>epoch</td><td>70</td></tr><tr><td>test_accuracy</td><td>0.66466</td></tr><tr><td>test_loss</td><td>0.67031</td></tr><tr><td>train_loss</td><td>0.67047</td></tr></table><br/></div></div>"
      ],
      "text/plain": [
       "<IPython.core.display.HTML object>"
      ]
     },
     "metadata": {},
     "output_type": "display_data"
    },
    {
     "data": {
      "text/html": [
       " View run <strong style=\"color:#cdcd00\">swift-aardvark-10</strong> at: <a href='https://wandb.ai/pierrehogenhaug/modern_nlp_ex/runs/0ghhkoxt' target=\"_blank\">https://wandb.ai/pierrehogenhaug/modern_nlp_ex/runs/0ghhkoxt</a><br/>Synced 6 W&B file(s), 0 media file(s), 0 artifact file(s) and 0 other file(s)"
      ],
      "text/plain": [
       "<IPython.core.display.HTML object>"
      ]
     },
     "metadata": {},
     "output_type": "display_data"
    },
    {
     "data": {
      "text/html": [
       "Find logs at: <code>./wandb/run-20240313_110228-0ghhkoxt/logs</code>"
      ],
      "text/plain": [
       "<IPython.core.display.HTML object>"
      ]
     },
     "metadata": {},
     "output_type": "display_data"
    },
    {
     "name": "stdout",
     "output_type": "stream",
     "text": [
      "\n",
      "Training with avg_pool, lr=0.01, batch_size=32, epochs=30\n"
     ]
    },
    {
     "data": {
      "text/html": [
       "Tracking run with wandb version 0.16.4"
      ],
      "text/plain": [
       "<IPython.core.display.HTML object>"
      ]
     },
     "metadata": {},
     "output_type": "display_data"
    },
    {
     "data": {
      "text/html": [
       "Run data is saved locally in <code>/Users/phog/Desktop/cleverThings/Modern_NLP/cs-552-modern-nlp/Exercises/Week 1 - Word Embeddings/wandb/run-20240313_110247-gn41yihh</code>"
      ],
      "text/plain": [
       "<IPython.core.display.HTML object>"
      ]
     },
     "metadata": {},
     "output_type": "display_data"
    },
    {
     "data": {
      "text/html": [
       "Syncing run <strong><a href='https://wandb.ai/pierrehogenhaug/modern_nlp_ex/runs/gn41yihh' target=\"_blank\">dandy-plant-11</a></strong> to <a href='https://wandb.ai/pierrehogenhaug/modern_nlp_ex' target=\"_blank\">Weights & Biases</a> (<a href='https://wandb.me/run' target=\"_blank\">docs</a>)<br/>"
      ],
      "text/plain": [
       "<IPython.core.display.HTML object>"
      ]
     },
     "metadata": {},
     "output_type": "display_data"
    },
    {
     "data": {
      "text/html": [
       " View project at <a href='https://wandb.ai/pierrehogenhaug/modern_nlp_ex' target=\"_blank\">https://wandb.ai/pierrehogenhaug/modern_nlp_ex</a>"
      ],
      "text/plain": [
       "<IPython.core.display.HTML object>"
      ]
     },
     "metadata": {},
     "output_type": "display_data"
    },
    {
     "data": {
      "text/html": [
       " View run at <a href='https://wandb.ai/pierrehogenhaug/modern_nlp_ex/runs/gn41yihh' target=\"_blank\">https://wandb.ai/pierrehogenhaug/modern_nlp_ex/runs/gn41yihh</a>"
      ],
      "text/plain": [
       "<IPython.core.display.HTML object>"
      ]
     },
     "metadata": {},
     "output_type": "display_data"
    },
    {
     "name": "stdout",
     "output_type": "stream",
     "text": [
      "Epoch 1/30 | Loss: 0.6868\n",
      "Epoch 2/30 | Loss: 0.6740\n",
      "Epoch 3/30 | Loss: 0.6631\n",
      "Epoch 4/30 | Loss: 0.6541\n",
      "Epoch 5/30 | Loss: 0.6463\n",
      "Epoch 6/30 | Loss: 0.6394\n",
      "Epoch 7/30 | Loss: 0.6331\n",
      "Epoch 8/30 | Loss: 0.6276\n",
      "Epoch 9/30 | Loss: 0.6225\n",
      "Epoch 10/30 | Loss: 0.6178\n",
      "Epoch 11/30 | Loss: 0.6134\n",
      "Epoch 12/30 | Loss: 0.6093\n",
      "Epoch 13/30 | Loss: 0.6056\n",
      "Epoch 14/30 | Loss: 0.6019\n",
      "Epoch 15/30 | Loss: 0.5985\n",
      "Epoch 16/30 | Loss: 0.5953\n",
      "Epoch 17/30 | Loss: 0.5922\n",
      "Epoch 18/30 | Loss: 0.5893\n",
      "Epoch 19/30 | Loss: 0.5866\n",
      "Epoch 20/30 | Loss: 0.5840\n",
      "Epoch 21/30 | Loss: 0.5813\n",
      "Epoch 22/30 | Loss: 0.5790\n",
      "Epoch 23/30 | Loss: 0.5766\n",
      "Epoch 24/30 | Loss: 0.5743\n",
      "Epoch 25/30 | Loss: 0.5723\n",
      "Epoch 26/30 | Loss: 0.5701\n",
      "Epoch 27/30 | Loss: 0.5682\n",
      "Epoch 28/30 | Loss: 0.5663\n",
      "Epoch 29/30 | Loss: 0.5644\n",
      "Epoch 30/30 | Loss: 0.5625\n",
      "Test Acc: 73.96%\n"
     ]
    },
    {
     "name": "stderr",
     "output_type": "stream",
     "text": [
      "wandb: WARNING Source type is set to 'repo' but some required information is missing from the environment. A job will not be created from this run. See https://docs.wandb.ai/guides/launch/create-job\n"
     ]
    },
    {
     "data": {
      "text/html": [
       "<style>\n",
       "    table.wandb td:nth-child(1) { padding: 0 10px; text-align: left ; width: auto;} td:nth-child(2) {text-align: left ; width: 100%}\n",
       "    .wandb-row { display: flex; flex-direction: row; flex-wrap: wrap; justify-content: flex-start; width: 100% }\n",
       "    .wandb-col { display: flex; flex-direction: column; flex-basis: 100%; flex: 1; padding: 10px; }\n",
       "    </style>\n",
       "<div class=\"wandb-row\"><div class=\"wandb-col\"><h3>Run history:</h3><br/><table class=\"wandb\"><tr><td>epoch</td><td>▁▁▁▂▂▂▂▃▃▃▃▄▄▄▄▅▅▅▅▆▆▆▆▇▇▇▇███</td></tr><tr><td>test_accuracy</td><td>▁</td></tr><tr><td>test_loss</td><td>▁</td></tr><tr><td>train_loss</td><td>█▇▇▆▆▅▅▅▄▄▄▄▃▃▃▃▃▃▂▂▂▂▂▂▂▁▁▁▁▁</td></tr></table><br/></div><div class=\"wandb-col\"><h3>Run summary:</h3><br/><table class=\"wandb\"><tr><td>epoch</td><td>30</td></tr><tr><td>test_accuracy</td><td>0.73962</td></tr><tr><td>test_loss</td><td>0.55976</td></tr><tr><td>train_loss</td><td>0.56253</td></tr></table><br/></div></div>"
      ],
      "text/plain": [
       "<IPython.core.display.HTML object>"
      ]
     },
     "metadata": {},
     "output_type": "display_data"
    },
    {
     "data": {
      "text/html": [
       " View run <strong style=\"color:#cdcd00\">dandy-plant-11</strong> at: <a href='https://wandb.ai/pierrehogenhaug/modern_nlp_ex/runs/gn41yihh' target=\"_blank\">https://wandb.ai/pierrehogenhaug/modern_nlp_ex/runs/gn41yihh</a><br/>Synced 6 W&B file(s), 0 media file(s), 0 artifact file(s) and 0 other file(s)"
      ],
      "text/plain": [
       "<IPython.core.display.HTML object>"
      ]
     },
     "metadata": {},
     "output_type": "display_data"
    },
    {
     "data": {
      "text/html": [
       "Find logs at: <code>./wandb/run-20240313_110247-gn41yihh/logs</code>"
      ],
      "text/plain": [
       "<IPython.core.display.HTML object>"
      ]
     },
     "metadata": {},
     "output_type": "display_data"
    },
    {
     "name": "stdout",
     "output_type": "stream",
     "text": [
      "\n",
      "Training with avg_pool, lr=0.01, batch_size=32, epochs=50\n"
     ]
    },
    {
     "data": {
      "text/html": [
       "Tracking run with wandb version 0.16.4"
      ],
      "text/plain": [
       "<IPython.core.display.HTML object>"
      ]
     },
     "metadata": {},
     "output_type": "display_data"
    },
    {
     "data": {
      "text/html": [
       "Run data is saved locally in <code>/Users/phog/Desktop/cleverThings/Modern_NLP/cs-552-modern-nlp/Exercises/Week 1 - Word Embeddings/wandb/run-20240313_110304-e0amzlvs</code>"
      ],
      "text/plain": [
       "<IPython.core.display.HTML object>"
      ]
     },
     "metadata": {},
     "output_type": "display_data"
    },
    {
     "data": {
      "text/html": [
       "Syncing run <strong><a href='https://wandb.ai/pierrehogenhaug/modern_nlp_ex/runs/e0amzlvs' target=\"_blank\">ruby-lake-12</a></strong> to <a href='https://wandb.ai/pierrehogenhaug/modern_nlp_ex' target=\"_blank\">Weights & Biases</a> (<a href='https://wandb.me/run' target=\"_blank\">docs</a>)<br/>"
      ],
      "text/plain": [
       "<IPython.core.display.HTML object>"
      ]
     },
     "metadata": {},
     "output_type": "display_data"
    },
    {
     "data": {
      "text/html": [
       " View project at <a href='https://wandb.ai/pierrehogenhaug/modern_nlp_ex' target=\"_blank\">https://wandb.ai/pierrehogenhaug/modern_nlp_ex</a>"
      ],
      "text/plain": [
       "<IPython.core.display.HTML object>"
      ]
     },
     "metadata": {},
     "output_type": "display_data"
    },
    {
     "data": {
      "text/html": [
       " View run at <a href='https://wandb.ai/pierrehogenhaug/modern_nlp_ex/runs/e0amzlvs' target=\"_blank\">https://wandb.ai/pierrehogenhaug/modern_nlp_ex/runs/e0amzlvs</a>"
      ],
      "text/plain": [
       "<IPython.core.display.HTML object>"
      ]
     },
     "metadata": {},
     "output_type": "display_data"
    },
    {
     "name": "stdout",
     "output_type": "stream",
     "text": [
      "Epoch 1/50 | Loss: 0.6843\n",
      "Epoch 2/50 | Loss: 0.6711\n",
      "Epoch 3/50 | Loss: 0.6599\n",
      "Epoch 4/50 | Loss: 0.6507\n",
      "Epoch 5/50 | Loss: 0.6427\n",
      "Epoch 6/50 | Loss: 0.6357\n",
      "Epoch 7/50 | Loss: 0.6295\n",
      "Epoch 8/50 | Loss: 0.6238\n",
      "Epoch 9/50 | Loss: 0.6188\n",
      "Epoch 10/50 | Loss: 0.6141\n",
      "Epoch 11/50 | Loss: 0.6098\n",
      "Epoch 12/50 | Loss: 0.6058\n",
      "Epoch 13/50 | Loss: 0.6020\n",
      "Epoch 14/50 | Loss: 0.5984\n",
      "Epoch 15/50 | Loss: 0.5951\n",
      "Epoch 16/50 | Loss: 0.5921\n",
      "Epoch 17/50 | Loss: 0.5890\n",
      "Epoch 18/50 | Loss: 0.5861\n",
      "Epoch 19/50 | Loss: 0.5834\n",
      "Epoch 20/50 | Loss: 0.5807\n",
      "Epoch 21/50 | Loss: 0.5783\n",
      "Epoch 22/50 | Loss: 0.5759\n",
      "Epoch 23/50 | Loss: 0.5736\n",
      "Epoch 24/50 | Loss: 0.5714\n",
      "Epoch 25/50 | Loss: 0.5693\n",
      "Epoch 26/50 | Loss: 0.5673\n",
      "Epoch 27/50 | Loss: 0.5653\n",
      "Epoch 28/50 | Loss: 0.5634\n",
      "Epoch 29/50 | Loss: 0.5615\n",
      "Epoch 30/50 | Loss: 0.5597\n",
      "Epoch 31/50 | Loss: 0.5580\n",
      "Epoch 32/50 | Loss: 0.5563\n",
      "Epoch 33/50 | Loss: 0.5547\n",
      "Epoch 34/50 | Loss: 0.5532\n",
      "Epoch 35/50 | Loss: 0.5516\n",
      "Epoch 36/50 | Loss: 0.5502\n",
      "Epoch 37/50 | Loss: 0.5487\n",
      "Epoch 38/50 | Loss: 0.5474\n",
      "Epoch 39/50 | Loss: 0.5460\n",
      "Epoch 40/50 | Loss: 0.5447\n",
      "Epoch 41/50 | Loss: 0.5434\n",
      "Epoch 42/50 | Loss: 0.5422\n",
      "Epoch 43/50 | Loss: 0.5409\n",
      "Epoch 44/50 | Loss: 0.5397\n",
      "Epoch 45/50 | Loss: 0.5386\n",
      "Epoch 46/50 | Loss: 0.5376\n",
      "Epoch 47/50 | Loss: 0.5364\n",
      "Epoch 48/50 | Loss: 0.5353\n",
      "Epoch 49/50 | Loss: 0.5342\n",
      "Epoch 50/50 | Loss: 0.5332\n",
      "Test Acc: 74.76%\n"
     ]
    },
    {
     "name": "stderr",
     "output_type": "stream",
     "text": [
      "wandb: WARNING Source type is set to 'repo' but some required information is missing from the environment. A job will not be created from this run. See https://docs.wandb.ai/guides/launch/create-job\n"
     ]
    },
    {
     "data": {
      "text/html": [
       "<style>\n",
       "    table.wandb td:nth-child(1) { padding: 0 10px; text-align: left ; width: auto;} td:nth-child(2) {text-align: left ; width: 100%}\n",
       "    .wandb-row { display: flex; flex-direction: row; flex-wrap: wrap; justify-content: flex-start; width: 100% }\n",
       "    .wandb-col { display: flex; flex-direction: column; flex-basis: 100%; flex: 1; padding: 10px; }\n",
       "    </style>\n",
       "<div class=\"wandb-row\"><div class=\"wandb-col\"><h3>Run history:</h3><br/><table class=\"wandb\"><tr><td>epoch</td><td>▁▁▁▁▂▂▂▂▂▃▃▃▃▃▃▄▄▄▄▄▅▅▅▅▅▅▆▆▆▆▆▆▇▇▇▇▇███</td></tr><tr><td>test_accuracy</td><td>▁</td></tr><tr><td>test_loss</td><td>▁</td></tr><tr><td>train_loss</td><td>█▇▇▆▆▅▅▅▅▄▄▄▄▄▃▃▃▃▃▃▃▂▂▂▂▂▂▂▂▂▂▂▁▁▁▁▁▁▁▁</td></tr></table><br/></div><div class=\"wandb-col\"><h3>Run summary:</h3><br/><table class=\"wandb\"><tr><td>epoch</td><td>50</td></tr><tr><td>test_accuracy</td><td>0.7476</td></tr><tr><td>test_loss</td><td>0.53984</td></tr><tr><td>train_loss</td><td>0.53318</td></tr></table><br/></div></div>"
      ],
      "text/plain": [
       "<IPython.core.display.HTML object>"
      ]
     },
     "metadata": {},
     "output_type": "display_data"
    },
    {
     "data": {
      "text/html": [
       " View run <strong style=\"color:#cdcd00\">ruby-lake-12</strong> at: <a href='https://wandb.ai/pierrehogenhaug/modern_nlp_ex/runs/e0amzlvs' target=\"_blank\">https://wandb.ai/pierrehogenhaug/modern_nlp_ex/runs/e0amzlvs</a><br/>Synced 6 W&B file(s), 0 media file(s), 0 artifact file(s) and 0 other file(s)"
      ],
      "text/plain": [
       "<IPython.core.display.HTML object>"
      ]
     },
     "metadata": {},
     "output_type": "display_data"
    },
    {
     "data": {
      "text/html": [
       "Find logs at: <code>./wandb/run-20240313_110304-e0amzlvs/logs</code>"
      ],
      "text/plain": [
       "<IPython.core.display.HTML object>"
      ]
     },
     "metadata": {},
     "output_type": "display_data"
    },
    {
     "name": "stdout",
     "output_type": "stream",
     "text": [
      "\n",
      "Training with avg_pool, lr=0.01, batch_size=32, epochs=70\n"
     ]
    },
    {
     "data": {
      "text/html": [
       "Tracking run with wandb version 0.16.4"
      ],
      "text/plain": [
       "<IPython.core.display.HTML object>"
      ]
     },
     "metadata": {},
     "output_type": "display_data"
    },
    {
     "data": {
      "text/html": [
       "Run data is saved locally in <code>/Users/phog/Desktop/cleverThings/Modern_NLP/cs-552-modern-nlp/Exercises/Week 1 - Word Embeddings/wandb/run-20240313_110330-ltgenhxm</code>"
      ],
      "text/plain": [
       "<IPython.core.display.HTML object>"
      ]
     },
     "metadata": {},
     "output_type": "display_data"
    },
    {
     "data": {
      "text/html": [
       "Syncing run <strong><a href='https://wandb.ai/pierrehogenhaug/modern_nlp_ex/runs/ltgenhxm' target=\"_blank\">peachy-water-13</a></strong> to <a href='https://wandb.ai/pierrehogenhaug/modern_nlp_ex' target=\"_blank\">Weights & Biases</a> (<a href='https://wandb.me/run' target=\"_blank\">docs</a>)<br/>"
      ],
      "text/plain": [
       "<IPython.core.display.HTML object>"
      ]
     },
     "metadata": {},
     "output_type": "display_data"
    },
    {
     "data": {
      "text/html": [
       " View project at <a href='https://wandb.ai/pierrehogenhaug/modern_nlp_ex' target=\"_blank\">https://wandb.ai/pierrehogenhaug/modern_nlp_ex</a>"
      ],
      "text/plain": [
       "<IPython.core.display.HTML object>"
      ]
     },
     "metadata": {},
     "output_type": "display_data"
    },
    {
     "data": {
      "text/html": [
       " View run at <a href='https://wandb.ai/pierrehogenhaug/modern_nlp_ex/runs/ltgenhxm' target=\"_blank\">https://wandb.ai/pierrehogenhaug/modern_nlp_ex/runs/ltgenhxm</a>"
      ],
      "text/plain": [
       "<IPython.core.display.HTML object>"
      ]
     },
     "metadata": {},
     "output_type": "display_data"
    },
    {
     "name": "stdout",
     "output_type": "stream",
     "text": [
      "Epoch 1/70 | Loss: 0.6866\n",
      "Epoch 2/70 | Loss: 0.6732\n",
      "Epoch 3/70 | Loss: 0.6626\n",
      "Epoch 4/70 | Loss: 0.6534\n",
      "Epoch 5/70 | Loss: 0.6454\n",
      "Epoch 6/70 | Loss: 0.6383\n",
      "Epoch 7/70 | Loss: 0.6323\n",
      "Epoch 8/70 | Loss: 0.6267\n",
      "Epoch 9/70 | Loss: 0.6215\n",
      "Epoch 10/70 | Loss: 0.6168\n",
      "Epoch 11/70 | Loss: 0.6124\n",
      "Epoch 12/70 | Loss: 0.6084\n",
      "Epoch 13/70 | Loss: 0.6045\n",
      "Epoch 14/70 | Loss: 0.6009\n",
      "Epoch 15/70 | Loss: 0.5975\n",
      "Epoch 16/70 | Loss: 0.5945\n",
      "Epoch 17/70 | Loss: 0.5912\n",
      "Epoch 18/70 | Loss: 0.5883\n",
      "Epoch 19/70 | Loss: 0.5857\n",
      "Epoch 20/70 | Loss: 0.5830\n",
      "Epoch 21/70 | Loss: 0.5805\n",
      "Epoch 22/70 | Loss: 0.5779\n",
      "Epoch 23/70 | Loss: 0.5755\n",
      "Epoch 24/70 | Loss: 0.5734\n",
      "Epoch 25/70 | Loss: 0.5712\n",
      "Epoch 26/70 | Loss: 0.5691\n",
      "Epoch 27/70 | Loss: 0.5670\n",
      "Epoch 28/70 | Loss: 0.5652\n",
      "Epoch 29/70 | Loss: 0.5634\n",
      "Epoch 30/70 | Loss: 0.5615\n",
      "Epoch 31/70 | Loss: 0.5598\n",
      "Epoch 32/70 | Loss: 0.5581\n",
      "Epoch 33/70 | Loss: 0.5565\n",
      "Epoch 34/70 | Loss: 0.5548\n",
      "Epoch 35/70 | Loss: 0.5533\n",
      "Epoch 36/70 | Loss: 0.5518\n",
      "Epoch 37/70 | Loss: 0.5503\n",
      "Epoch 38/70 | Loss: 0.5490\n",
      "Epoch 39/70 | Loss: 0.5476\n",
      "Epoch 40/70 | Loss: 0.5463\n",
      "Epoch 41/70 | Loss: 0.5449\n",
      "Epoch 42/70 | Loss: 0.5437\n",
      "Epoch 43/70 | Loss: 0.5424\n",
      "Epoch 44/70 | Loss: 0.5412\n",
      "Epoch 45/70 | Loss: 0.5401\n",
      "Epoch 46/70 | Loss: 0.5389\n",
      "Epoch 47/70 | Loss: 0.5378\n",
      "Epoch 48/70 | Loss: 0.5367\n",
      "Epoch 49/70 | Loss: 0.5356\n",
      "Epoch 50/70 | Loss: 0.5345\n",
      "Epoch 51/70 | Loss: 0.5335\n",
      "Epoch 52/70 | Loss: 0.5325\n",
      "Epoch 53/70 | Loss: 0.5316\n",
      "Epoch 54/70 | Loss: 0.5306\n",
      "Epoch 55/70 | Loss: 0.5297\n",
      "Epoch 56/70 | Loss: 0.5287\n",
      "Epoch 57/70 | Loss: 0.5279\n",
      "Epoch 58/70 | Loss: 0.5270\n",
      "Epoch 59/70 | Loss: 0.5261\n",
      "Epoch 60/70 | Loss: 0.5253\n",
      "Epoch 61/70 | Loss: 0.5244\n",
      "Epoch 62/70 | Loss: 0.5236\n",
      "Epoch 63/70 | Loss: 0.5229\n",
      "Epoch 64/70 | Loss: 0.5221\n",
      "Epoch 65/70 | Loss: 0.5212\n",
      "Epoch 66/70 | Loss: 0.5206\n",
      "Epoch 67/70 | Loss: 0.5199\n",
      "Epoch 68/70 | Loss: 0.5192\n",
      "Epoch 69/70 | Loss: 0.5185\n",
      "Epoch 70/70 | Loss: 0.5177\n",
      "Test Acc: 76.93%\n"
     ]
    },
    {
     "name": "stderr",
     "output_type": "stream",
     "text": [
      "wandb: WARNING Source type is set to 'repo' but some required information is missing from the environment. A job will not be created from this run. See https://docs.wandb.ai/guides/launch/create-job\n"
     ]
    },
    {
     "data": {
      "text/html": [
       "<style>\n",
       "    table.wandb td:nth-child(1) { padding: 0 10px; text-align: left ; width: auto;} td:nth-child(2) {text-align: left ; width: 100%}\n",
       "    .wandb-row { display: flex; flex-direction: row; flex-wrap: wrap; justify-content: flex-start; width: 100% }\n",
       "    .wandb-col { display: flex; flex-direction: column; flex-basis: 100%; flex: 1; padding: 10px; }\n",
       "    </style>\n",
       "<div class=\"wandb-row\"><div class=\"wandb-col\"><h3>Run history:</h3><br/><table class=\"wandb\"><tr><td>epoch</td><td>▁▁▁▂▂▂▂▂▂▃▃▃▃▃▃▄▄▄▄▄▅▅▅▅▅▅▆▆▆▆▆▆▇▇▇▇▇███</td></tr><tr><td>test_accuracy</td><td>▁</td></tr><tr><td>test_loss</td><td>▁</td></tr><tr><td>train_loss</td><td>█▇▇▆▆▅▅▅▄▄▄▄▃▃▃▃▃▃▃▃▂▂▂▂▂▂▂▂▂▂▂▁▁▁▁▁▁▁▁▁</td></tr></table><br/></div><div class=\"wandb-col\"><h3>Run summary:</h3><br/><table class=\"wandb\"><tr><td>epoch</td><td>70</td></tr><tr><td>test_accuracy</td><td>0.76927</td></tr><tr><td>test_loss</td><td>0.51882</td></tr><tr><td>train_loss</td><td>0.5177</td></tr></table><br/></div></div>"
      ],
      "text/plain": [
       "<IPython.core.display.HTML object>"
      ]
     },
     "metadata": {},
     "output_type": "display_data"
    },
    {
     "data": {
      "text/html": [
       " View run <strong style=\"color:#cdcd00\">peachy-water-13</strong> at: <a href='https://wandb.ai/pierrehogenhaug/modern_nlp_ex/runs/ltgenhxm' target=\"_blank\">https://wandb.ai/pierrehogenhaug/modern_nlp_ex/runs/ltgenhxm</a><br/>Synced 6 W&B file(s), 0 media file(s), 0 artifact file(s) and 0 other file(s)"
      ],
      "text/plain": [
       "<IPython.core.display.HTML object>"
      ]
     },
     "metadata": {},
     "output_type": "display_data"
    },
    {
     "data": {
      "text/html": [
       "Find logs at: <code>./wandb/run-20240313_110330-ltgenhxm/logs</code>"
      ],
      "text/plain": [
       "<IPython.core.display.HTML object>"
      ]
     },
     "metadata": {},
     "output_type": "display_data"
    },
    {
     "name": "stdout",
     "output_type": "stream",
     "text": [
      "\n",
      "Training with avg_pool, lr=0.01, batch_size=64, epochs=30\n"
     ]
    },
    {
     "data": {
      "text/html": [
       "Tracking run with wandb version 0.16.4"
      ],
      "text/plain": [
       "<IPython.core.display.HTML object>"
      ]
     },
     "metadata": {},
     "output_type": "display_data"
    },
    {
     "data": {
      "text/html": [
       "Run data is saved locally in <code>/Users/phog/Desktop/cleverThings/Modern_NLP/cs-552-modern-nlp/Exercises/Week 1 - Word Embeddings/wandb/run-20240313_110358-z3bknoul</code>"
      ],
      "text/plain": [
       "<IPython.core.display.HTML object>"
      ]
     },
     "metadata": {},
     "output_type": "display_data"
    },
    {
     "data": {
      "text/html": [
       "Syncing run <strong><a href='https://wandb.ai/pierrehogenhaug/modern_nlp_ex/runs/z3bknoul' target=\"_blank\">charmed-butterfly-14</a></strong> to <a href='https://wandb.ai/pierrehogenhaug/modern_nlp_ex' target=\"_blank\">Weights & Biases</a> (<a href='https://wandb.me/run' target=\"_blank\">docs</a>)<br/>"
      ],
      "text/plain": [
       "<IPython.core.display.HTML object>"
      ]
     },
     "metadata": {},
     "output_type": "display_data"
    },
    {
     "data": {
      "text/html": [
       " View project at <a href='https://wandb.ai/pierrehogenhaug/modern_nlp_ex' target=\"_blank\">https://wandb.ai/pierrehogenhaug/modern_nlp_ex</a>"
      ],
      "text/plain": [
       "<IPython.core.display.HTML object>"
      ]
     },
     "metadata": {},
     "output_type": "display_data"
    },
    {
     "data": {
      "text/html": [
       " View run at <a href='https://wandb.ai/pierrehogenhaug/modern_nlp_ex/runs/z3bknoul' target=\"_blank\">https://wandb.ai/pierrehogenhaug/modern_nlp_ex/runs/z3bknoul</a>"
      ],
      "text/plain": [
       "<IPython.core.display.HTML object>"
      ]
     },
     "metadata": {},
     "output_type": "display_data"
    },
    {
     "name": "stdout",
     "output_type": "stream",
     "text": [
      "Epoch 1/30 | Loss: 0.6897\n",
      "Epoch 2/30 | Loss: 0.6821\n",
      "Epoch 3/30 | Loss: 0.6755\n",
      "Epoch 4/30 | Loss: 0.6694\n",
      "Epoch 5/30 | Loss: 0.6638\n",
      "Epoch 6/30 | Loss: 0.6588\n",
      "Epoch 7/30 | Loss: 0.6542\n",
      "Epoch 8/30 | Loss: 0.6498\n",
      "Epoch 9/30 | Loss: 0.6459\n",
      "Epoch 10/30 | Loss: 0.6421\n",
      "Epoch 11/30 | Loss: 0.6387\n",
      "Epoch 12/30 | Loss: 0.6354\n",
      "Epoch 13/30 | Loss: 0.6324\n",
      "Epoch 14/30 | Loss: 0.6293\n",
      "Epoch 15/30 | Loss: 0.6267\n",
      "Epoch 16/30 | Loss: 0.6240\n",
      "Epoch 17/30 | Loss: 0.6214\n",
      "Epoch 18/30 | Loss: 0.6190\n",
      "Epoch 19/30 | Loss: 0.6166\n",
      "Epoch 20/30 | Loss: 0.6144\n",
      "Epoch 21/30 | Loss: 0.6123\n",
      "Epoch 22/30 | Loss: 0.6101\n",
      "Epoch 23/30 | Loss: 0.6082\n",
      "Epoch 24/30 | Loss: 0.6063\n",
      "Epoch 25/30 | Loss: 0.6043\n",
      "Epoch 26/30 | Loss: 0.6025\n",
      "Epoch 27/30 | Loss: 0.6007\n",
      "Epoch 28/30 | Loss: 0.5991\n",
      "Epoch 29/30 | Loss: 0.5973\n",
      "Epoch 30/30 | Loss: 0.5958\n",
      "Test Acc: 71.69%\n"
     ]
    },
    {
     "name": "stderr",
     "output_type": "stream",
     "text": [
      "wandb: WARNING Source type is set to 'repo' but some required information is missing from the environment. A job will not be created from this run. See https://docs.wandb.ai/guides/launch/create-job\n"
     ]
    },
    {
     "data": {
      "text/html": [
       "<style>\n",
       "    table.wandb td:nth-child(1) { padding: 0 10px; text-align: left ; width: auto;} td:nth-child(2) {text-align: left ; width: 100%}\n",
       "    .wandb-row { display: flex; flex-direction: row; flex-wrap: wrap; justify-content: flex-start; width: 100% }\n",
       "    .wandb-col { display: flex; flex-direction: column; flex-basis: 100%; flex: 1; padding: 10px; }\n",
       "    </style>\n",
       "<div class=\"wandb-row\"><div class=\"wandb-col\"><h3>Run history:</h3><br/><table class=\"wandb\"><tr><td>epoch</td><td>▁▁▁▂▂▂▂▃▃▃▃▄▄▄▄▅▅▅▅▆▆▆▆▇▇▇▇███</td></tr><tr><td>test_accuracy</td><td>▁</td></tr><tr><td>test_loss</td><td>▁</td></tr><tr><td>train_loss</td><td>█▇▇▆▆▆▅▅▅▄▄▄▄▄▃▃▃▃▃▂▂▂▂▂▂▂▁▁▁▁</td></tr></table><br/></div><div class=\"wandb-col\"><h3>Run summary:</h3><br/><table class=\"wandb\"><tr><td>epoch</td><td>30</td></tr><tr><td>test_accuracy</td><td>0.71686</td></tr><tr><td>test_loss</td><td>0.59476</td></tr><tr><td>train_loss</td><td>0.59578</td></tr></table><br/></div></div>"
      ],
      "text/plain": [
       "<IPython.core.display.HTML object>"
      ]
     },
     "metadata": {},
     "output_type": "display_data"
    },
    {
     "data": {
      "text/html": [
       " View run <strong style=\"color:#cdcd00\">charmed-butterfly-14</strong> at: <a href='https://wandb.ai/pierrehogenhaug/modern_nlp_ex/runs/z3bknoul' target=\"_blank\">https://wandb.ai/pierrehogenhaug/modern_nlp_ex/runs/z3bknoul</a><br/>Synced 6 W&B file(s), 0 media file(s), 0 artifact file(s) and 0 other file(s)"
      ],
      "text/plain": [
       "<IPython.core.display.HTML object>"
      ]
     },
     "metadata": {},
     "output_type": "display_data"
    },
    {
     "data": {
      "text/html": [
       "Find logs at: <code>./wandb/run-20240313_110358-z3bknoul/logs</code>"
      ],
      "text/plain": [
       "<IPython.core.display.HTML object>"
      ]
     },
     "metadata": {},
     "output_type": "display_data"
    },
    {
     "name": "stdout",
     "output_type": "stream",
     "text": [
      "\n",
      "Training with avg_pool, lr=0.01, batch_size=64, epochs=50\n"
     ]
    },
    {
     "data": {
      "text/html": [
       "Tracking run with wandb version 0.16.4"
      ],
      "text/plain": [
       "<IPython.core.display.HTML object>"
      ]
     },
     "metadata": {},
     "output_type": "display_data"
    },
    {
     "data": {
      "text/html": [
       "Run data is saved locally in <code>/Users/phog/Desktop/cleverThings/Modern_NLP/cs-552-modern-nlp/Exercises/Week 1 - Word Embeddings/wandb/run-20240313_110413-wn2wh88n</code>"
      ],
      "text/plain": [
       "<IPython.core.display.HTML object>"
      ]
     },
     "metadata": {},
     "output_type": "display_data"
    },
    {
     "data": {
      "text/html": [
       "Syncing run <strong><a href='https://wandb.ai/pierrehogenhaug/modern_nlp_ex/runs/wn2wh88n' target=\"_blank\">brisk-sea-15</a></strong> to <a href='https://wandb.ai/pierrehogenhaug/modern_nlp_ex' target=\"_blank\">Weights & Biases</a> (<a href='https://wandb.me/run' target=\"_blank\">docs</a>)<br/>"
      ],
      "text/plain": [
       "<IPython.core.display.HTML object>"
      ]
     },
     "metadata": {},
     "output_type": "display_data"
    },
    {
     "data": {
      "text/html": [
       " View project at <a href='https://wandb.ai/pierrehogenhaug/modern_nlp_ex' target=\"_blank\">https://wandb.ai/pierrehogenhaug/modern_nlp_ex</a>"
      ],
      "text/plain": [
       "<IPython.core.display.HTML object>"
      ]
     },
     "metadata": {},
     "output_type": "display_data"
    },
    {
     "data": {
      "text/html": [
       " View run at <a href='https://wandb.ai/pierrehogenhaug/modern_nlp_ex/runs/wn2wh88n' target=\"_blank\">https://wandb.ai/pierrehogenhaug/modern_nlp_ex/runs/wn2wh88n</a>"
      ],
      "text/plain": [
       "<IPython.core.display.HTML object>"
      ]
     },
     "metadata": {},
     "output_type": "display_data"
    },
    {
     "name": "stdout",
     "output_type": "stream",
     "text": [
      "Epoch 1/50 | Loss: 0.6902\n",
      "Epoch 2/50 | Loss: 0.6827\n",
      "Epoch 3/50 | Loss: 0.6760\n",
      "Epoch 4/50 | Loss: 0.6700\n",
      "Epoch 5/50 | Loss: 0.6644\n",
      "Epoch 6/50 | Loss: 0.6594\n",
      "Epoch 7/50 | Loss: 0.6548\n",
      "Epoch 8/50 | Loss: 0.6504\n",
      "Epoch 9/50 | Loss: 0.6464\n",
      "Epoch 10/50 | Loss: 0.6427\n",
      "Epoch 11/50 | Loss: 0.6391\n",
      "Epoch 12/50 | Loss: 0.6359\n",
      "Epoch 13/50 | Loss: 0.6327\n",
      "Epoch 14/50 | Loss: 0.6298\n",
      "Epoch 15/50 | Loss: 0.6271\n",
      "Epoch 16/50 | Loss: 0.6244\n",
      "Epoch 17/50 | Loss: 0.6219\n",
      "Epoch 18/50 | Loss: 0.6193\n",
      "Epoch 19/50 | Loss: 0.6170\n",
      "Epoch 20/50 | Loss: 0.6148\n",
      "Epoch 21/50 | Loss: 0.6126\n",
      "Epoch 22/50 | Loss: 0.6105\n",
      "Epoch 23/50 | Loss: 0.6085\n",
      "Epoch 24/50 | Loss: 0.6065\n",
      "Epoch 25/50 | Loss: 0.6047\n",
      "Epoch 26/50 | Loss: 0.6027\n",
      "Epoch 27/50 | Loss: 0.6010\n",
      "Epoch 28/50 | Loss: 0.5993\n",
      "Epoch 29/50 | Loss: 0.5976\n",
      "Epoch 30/50 | Loss: 0.5960\n",
      "Epoch 31/50 | Loss: 0.5943\n",
      "Epoch 32/50 | Loss: 0.5928\n",
      "Epoch 33/50 | Loss: 0.5913\n",
      "Epoch 34/50 | Loss: 0.5898\n",
      "Epoch 35/50 | Loss: 0.5884\n",
      "Epoch 36/50 | Loss: 0.5870\n",
      "Epoch 37/50 | Loss: 0.5856\n",
      "Epoch 38/50 | Loss: 0.5843\n",
      "Epoch 39/50 | Loss: 0.5830\n",
      "Epoch 40/50 | Loss: 0.5816\n",
      "Epoch 41/50 | Loss: 0.5804\n",
      "Epoch 42/50 | Loss: 0.5792\n",
      "Epoch 43/50 | Loss: 0.5779\n",
      "Epoch 44/50 | Loss: 0.5767\n",
      "Epoch 45/50 | Loss: 0.5756\n",
      "Epoch 46/50 | Loss: 0.5745\n",
      "Epoch 47/50 | Loss: 0.5733\n",
      "Epoch 48/50 | Loss: 0.5723\n",
      "Epoch 49/50 | Loss: 0.5712\n",
      "Epoch 50/50 | Loss: 0.5700\n",
      "Test Acc: 73.38%\n"
     ]
    },
    {
     "name": "stderr",
     "output_type": "stream",
     "text": [
      "wandb: WARNING Source type is set to 'repo' but some required information is missing from the environment. A job will not be created from this run. See https://docs.wandb.ai/guides/launch/create-job\n"
     ]
    },
    {
     "data": {
      "text/html": [
       "<style>\n",
       "    table.wandb td:nth-child(1) { padding: 0 10px; text-align: left ; width: auto;} td:nth-child(2) {text-align: left ; width: 100%}\n",
       "    .wandb-row { display: flex; flex-direction: row; flex-wrap: wrap; justify-content: flex-start; width: 100% }\n",
       "    .wandb-col { display: flex; flex-direction: column; flex-basis: 100%; flex: 1; padding: 10px; }\n",
       "    </style>\n",
       "<div class=\"wandb-row\"><div class=\"wandb-col\"><h3>Run history:</h3><br/><table class=\"wandb\"><tr><td>epoch</td><td>▁▁▁▁▂▂▂▂▂▃▃▃▃▃▃▄▄▄▄▄▅▅▅▅▅▅▆▆▆▆▆▆▇▇▇▇▇███</td></tr><tr><td>test_accuracy</td><td>▁</td></tr><tr><td>test_loss</td><td>▁</td></tr><tr><td>train_loss</td><td>██▇▇▆▆▆▅▅▅▅▄▄▄▄▄▃▃▃▃▃▃▃▃▂▂▂▂▂▂▂▂▂▂▁▁▁▁▁▁</td></tr></table><br/></div><div class=\"wandb-col\"><h3>Run summary:</h3><br/><table class=\"wandb\"><tr><td>epoch</td><td>50</td></tr><tr><td>test_accuracy</td><td>0.73378</td></tr><tr><td>test_loss</td><td>0.56785</td></tr><tr><td>train_loss</td><td>0.57004</td></tr></table><br/></div></div>"
      ],
      "text/plain": [
       "<IPython.core.display.HTML object>"
      ]
     },
     "metadata": {},
     "output_type": "display_data"
    },
    {
     "data": {
      "text/html": [
       " View run <strong style=\"color:#cdcd00\">brisk-sea-15</strong> at: <a href='https://wandb.ai/pierrehogenhaug/modern_nlp_ex/runs/wn2wh88n' target=\"_blank\">https://wandb.ai/pierrehogenhaug/modern_nlp_ex/runs/wn2wh88n</a><br/>Synced 6 W&B file(s), 0 media file(s), 0 artifact file(s) and 0 other file(s)"
      ],
      "text/plain": [
       "<IPython.core.display.HTML object>"
      ]
     },
     "metadata": {},
     "output_type": "display_data"
    },
    {
     "data": {
      "text/html": [
       "Find logs at: <code>./wandb/run-20240313_110413-wn2wh88n/logs</code>"
      ],
      "text/plain": [
       "<IPython.core.display.HTML object>"
      ]
     },
     "metadata": {},
     "output_type": "display_data"
    },
    {
     "name": "stdout",
     "output_type": "stream",
     "text": [
      "\n",
      "Training with avg_pool, lr=0.01, batch_size=64, epochs=70\n"
     ]
    },
    {
     "data": {
      "text/html": [
       "Tracking run with wandb version 0.16.4"
      ],
      "text/plain": [
       "<IPython.core.display.HTML object>"
      ]
     },
     "metadata": {},
     "output_type": "display_data"
    },
    {
     "data": {
      "text/html": [
       "Run data is saved locally in <code>/Users/phog/Desktop/cleverThings/Modern_NLP/cs-552-modern-nlp/Exercises/Week 1 - Word Embeddings/wandb/run-20240313_110431-bzutwgmu</code>"
      ],
      "text/plain": [
       "<IPython.core.display.HTML object>"
      ]
     },
     "metadata": {},
     "output_type": "display_data"
    },
    {
     "data": {
      "text/html": [
       "Syncing run <strong><a href='https://wandb.ai/pierrehogenhaug/modern_nlp_ex/runs/bzutwgmu' target=\"_blank\">golden-galaxy-16</a></strong> to <a href='https://wandb.ai/pierrehogenhaug/modern_nlp_ex' target=\"_blank\">Weights & Biases</a> (<a href='https://wandb.me/run' target=\"_blank\">docs</a>)<br/>"
      ],
      "text/plain": [
       "<IPython.core.display.HTML object>"
      ]
     },
     "metadata": {},
     "output_type": "display_data"
    },
    {
     "data": {
      "text/html": [
       " View project at <a href='https://wandb.ai/pierrehogenhaug/modern_nlp_ex' target=\"_blank\">https://wandb.ai/pierrehogenhaug/modern_nlp_ex</a>"
      ],
      "text/plain": [
       "<IPython.core.display.HTML object>"
      ]
     },
     "metadata": {},
     "output_type": "display_data"
    },
    {
     "data": {
      "text/html": [
       " View run at <a href='https://wandb.ai/pierrehogenhaug/modern_nlp_ex/runs/bzutwgmu' target=\"_blank\">https://wandb.ai/pierrehogenhaug/modern_nlp_ex/runs/bzutwgmu</a>"
      ],
      "text/plain": [
       "<IPython.core.display.HTML object>"
      ]
     },
     "metadata": {},
     "output_type": "display_data"
    },
    {
     "name": "stdout",
     "output_type": "stream",
     "text": [
      "Epoch 1/70 | Loss: 0.6848\n",
      "Epoch 2/70 | Loss: 0.6782\n",
      "Epoch 3/70 | Loss: 0.6720\n",
      "Epoch 4/70 | Loss: 0.6663\n",
      "Epoch 5/70 | Loss: 0.6612\n",
      "Epoch 6/70 | Loss: 0.6564\n",
      "Epoch 7/70 | Loss: 0.6520\n",
      "Epoch 8/70 | Loss: 0.6480\n",
      "Epoch 9/70 | Loss: 0.6441\n",
      "Epoch 10/70 | Loss: 0.6405\n",
      "Epoch 11/70 | Loss: 0.6371\n",
      "Epoch 12/70 | Loss: 0.6339\n",
      "Epoch 13/70 | Loss: 0.6309\n",
      "Epoch 14/70 | Loss: 0.6281\n",
      "Epoch 15/70 | Loss: 0.6253\n",
      "Epoch 16/70 | Loss: 0.6227\n",
      "Epoch 17/70 | Loss: 0.6201\n",
      "Epoch 18/70 | Loss: 0.6177\n",
      "Epoch 19/70 | Loss: 0.6154\n",
      "Epoch 20/70 | Loss: 0.6132\n",
      "Epoch 21/70 | Loss: 0.6110\n",
      "Epoch 22/70 | Loss: 0.6089\n",
      "Epoch 23/70 | Loss: 0.6069\n",
      "Epoch 24/70 | Loss: 0.6050\n",
      "Epoch 25/70 | Loss: 0.6031\n",
      "Epoch 26/70 | Loss: 0.6013\n",
      "Epoch 27/70 | Loss: 0.5995\n",
      "Epoch 28/70 | Loss: 0.5978\n",
      "Epoch 29/70 | Loss: 0.5961\n",
      "Epoch 30/70 | Loss: 0.5944\n",
      "Epoch 31/70 | Loss: 0.5928\n",
      "Epoch 32/70 | Loss: 0.5913\n",
      "Epoch 33/70 | Loss: 0.5898\n",
      "Epoch 34/70 | Loss: 0.5884\n",
      "Epoch 35/70 | Loss: 0.5869\n",
      "Epoch 36/70 | Loss: 0.5854\n",
      "Epoch 37/70 | Loss: 0.5841\n",
      "Epoch 38/70 | Loss: 0.5827\n",
      "Epoch 39/70 | Loss: 0.5814\n",
      "Epoch 40/70 | Loss: 0.5801\n",
      "Epoch 41/70 | Loss: 0.5789\n",
      "Epoch 42/70 | Loss: 0.5776\n",
      "Epoch 43/70 | Loss: 0.5764\n",
      "Epoch 44/70 | Loss: 0.5752\n",
      "Epoch 45/70 | Loss: 0.5741\n",
      "Epoch 46/70 | Loss: 0.5729\n",
      "Epoch 47/70 | Loss: 0.5718\n",
      "Epoch 48/70 | Loss: 0.5708\n",
      "Epoch 49/70 | Loss: 0.5696\n",
      "Epoch 50/70 | Loss: 0.5686\n",
      "Epoch 51/70 | Loss: 0.5675\n",
      "Epoch 52/70 | Loss: 0.5665\n",
      "Epoch 53/70 | Loss: 0.5655\n",
      "Epoch 54/70 | Loss: 0.5645\n",
      "Epoch 55/70 | Loss: 0.5636\n",
      "Epoch 56/70 | Loss: 0.5627\n",
      "Epoch 57/70 | Loss: 0.5617\n",
      "Epoch 58/70 | Loss: 0.5607\n",
      "Epoch 59/70 | Loss: 0.5599\n",
      "Epoch 60/70 | Loss: 0.5590\n",
      "Epoch 61/70 | Loss: 0.5581\n",
      "Epoch 62/70 | Loss: 0.5572\n",
      "Epoch 63/70 | Loss: 0.5564\n",
      "Epoch 64/70 | Loss: 0.5555\n",
      "Epoch 65/70 | Loss: 0.5547\n",
      "Epoch 66/70 | Loss: 0.5539\n",
      "Epoch 67/70 | Loss: 0.5532\n",
      "Epoch 68/70 | Loss: 0.5523\n",
      "Epoch 69/70 | Loss: 0.5516\n",
      "Epoch 70/70 | Loss: 0.5508\n",
      "Test Acc: 73.51%\n"
     ]
    },
    {
     "name": "stderr",
     "output_type": "stream",
     "text": [
      "wandb: WARNING Source type is set to 'repo' but some required information is missing from the environment. A job will not be created from this run. See https://docs.wandb.ai/guides/launch/create-job\n"
     ]
    },
    {
     "data": {
      "text/html": [
       "<style>\n",
       "    table.wandb td:nth-child(1) { padding: 0 10px; text-align: left ; width: auto;} td:nth-child(2) {text-align: left ; width: 100%}\n",
       "    .wandb-row { display: flex; flex-direction: row; flex-wrap: wrap; justify-content: flex-start; width: 100% }\n",
       "    .wandb-col { display: flex; flex-direction: column; flex-basis: 100%; flex: 1; padding: 10px; }\n",
       "    </style>\n",
       "<div class=\"wandb-row\"><div class=\"wandb-col\"><h3>Run history:</h3><br/><table class=\"wandb\"><tr><td>epoch</td><td>▁▁▁▂▂▂▂▂▂▃▃▃▃▃▃▄▄▄▄▄▅▅▅▅▅▅▆▆▆▆▆▆▇▇▇▇▇███</td></tr><tr><td>test_accuracy</td><td>▁</td></tr><tr><td>test_loss</td><td>▁</td></tr><tr><td>train_loss</td><td>██▇▇▆▆▆▅▅▅▄▄▄▄▄▄▃▃▃▃▃▃▃▂▂▂▂▂▂▂▂▂▂▁▁▁▁▁▁▁</td></tr></table><br/></div><div class=\"wandb-col\"><h3>Run summary:</h3><br/><table class=\"wandb\"><tr><td>epoch</td><td>70</td></tr><tr><td>test_accuracy</td><td>0.73507</td></tr><tr><td>test_loss</td><td>0.55502</td></tr><tr><td>train_loss</td><td>0.55079</td></tr></table><br/></div></div>"
      ],
      "text/plain": [
       "<IPython.core.display.HTML object>"
      ]
     },
     "metadata": {},
     "output_type": "display_data"
    },
    {
     "data": {
      "text/html": [
       " View run <strong style=\"color:#cdcd00\">golden-galaxy-16</strong> at: <a href='https://wandb.ai/pierrehogenhaug/modern_nlp_ex/runs/bzutwgmu' target=\"_blank\">https://wandb.ai/pierrehogenhaug/modern_nlp_ex/runs/bzutwgmu</a><br/>Synced 6 W&B file(s), 0 media file(s), 0 artifact file(s) and 0 other file(s)"
      ],
      "text/plain": [
       "<IPython.core.display.HTML object>"
      ]
     },
     "metadata": {},
     "output_type": "display_data"
    },
    {
     "data": {
      "text/html": [
       "Find logs at: <code>./wandb/run-20240313_110431-bzutwgmu/logs</code>"
      ],
      "text/plain": [
       "<IPython.core.display.HTML object>"
      ]
     },
     "metadata": {},
     "output_type": "display_data"
    },
    {
     "name": "stdout",
     "output_type": "stream",
     "text": [
      "\n",
      "Training with avg_pool, lr=0.01, batch_size=128, epochs=30\n"
     ]
    },
    {
     "data": {
      "text/html": [
       "Tracking run with wandb version 0.16.4"
      ],
      "text/plain": [
       "<IPython.core.display.HTML object>"
      ]
     },
     "metadata": {},
     "output_type": "display_data"
    },
    {
     "data": {
      "text/html": [
       "Run data is saved locally in <code>/Users/phog/Desktop/cleverThings/Modern_NLP/cs-552-modern-nlp/Exercises/Week 1 - Word Embeddings/wandb/run-20240313_110458-wicky2gd</code>"
      ],
      "text/plain": [
       "<IPython.core.display.HTML object>"
      ]
     },
     "metadata": {},
     "output_type": "display_data"
    },
    {
     "data": {
      "text/html": [
       "Syncing run <strong><a href='https://wandb.ai/pierrehogenhaug/modern_nlp_ex/runs/wicky2gd' target=\"_blank\">colorful-aardvark-17</a></strong> to <a href='https://wandb.ai/pierrehogenhaug/modern_nlp_ex' target=\"_blank\">Weights & Biases</a> (<a href='https://wandb.me/run' target=\"_blank\">docs</a>)<br/>"
      ],
      "text/plain": [
       "<IPython.core.display.HTML object>"
      ]
     },
     "metadata": {},
     "output_type": "display_data"
    },
    {
     "data": {
      "text/html": [
       " View project at <a href='https://wandb.ai/pierrehogenhaug/modern_nlp_ex' target=\"_blank\">https://wandb.ai/pierrehogenhaug/modern_nlp_ex</a>"
      ],
      "text/plain": [
       "<IPython.core.display.HTML object>"
      ]
     },
     "metadata": {},
     "output_type": "display_data"
    },
    {
     "data": {
      "text/html": [
       " View run at <a href='https://wandb.ai/pierrehogenhaug/modern_nlp_ex/runs/wicky2gd' target=\"_blank\">https://wandb.ai/pierrehogenhaug/modern_nlp_ex/runs/wicky2gd</a>"
      ],
      "text/plain": [
       "<IPython.core.display.HTML object>"
      ]
     },
     "metadata": {},
     "output_type": "display_data"
    },
    {
     "name": "stdout",
     "output_type": "stream",
     "text": [
      "Epoch 1/30 | Loss: 0.6946\n",
      "Epoch 2/30 | Loss: 0.6894\n",
      "Epoch 3/30 | Loss: 0.6858\n",
      "Epoch 4/30 | Loss: 0.6822\n",
      "Epoch 5/30 | Loss: 0.6789\n",
      "Epoch 6/30 | Loss: 0.6757\n",
      "Epoch 7/30 | Loss: 0.6727\n",
      "Epoch 8/30 | Loss: 0.6698\n",
      "Epoch 9/30 | Loss: 0.6670\n",
      "Epoch 10/30 | Loss: 0.6645\n",
      "Epoch 11/30 | Loss: 0.6619\n",
      "Epoch 12/30 | Loss: 0.6595\n",
      "Epoch 13/30 | Loss: 0.6572\n",
      "Epoch 14/30 | Loss: 0.6549\n",
      "Epoch 15/30 | Loss: 0.6527\n",
      "Epoch 16/30 | Loss: 0.6507\n",
      "Epoch 17/30 | Loss: 0.6487\n",
      "Epoch 18/30 | Loss: 0.6468\n",
      "Epoch 19/30 | Loss: 0.6448\n",
      "Epoch 20/30 | Loss: 0.6430\n",
      "Epoch 21/30 | Loss: 0.6413\n",
      "Epoch 22/30 | Loss: 0.6396\n",
      "Epoch 23/30 | Loss: 0.6379\n",
      "Epoch 24/30 | Loss: 0.6363\n",
      "Epoch 25/30 | Loss: 0.6348\n",
      "Epoch 26/30 | Loss: 0.6332\n",
      "Epoch 27/30 | Loss: 0.6317\n",
      "Epoch 28/30 | Loss: 0.6304\n",
      "Epoch 29/30 | Loss: 0.6290\n",
      "Epoch 30/30 | Loss: 0.6276\n",
      "Test Acc: 69.81%\n"
     ]
    },
    {
     "name": "stderr",
     "output_type": "stream",
     "text": [
      "wandb: WARNING Source type is set to 'repo' but some required information is missing from the environment. A job will not be created from this run. See https://docs.wandb.ai/guides/launch/create-job\n"
     ]
    },
    {
     "data": {
      "text/html": [
       "<style>\n",
       "    table.wandb td:nth-child(1) { padding: 0 10px; text-align: left ; width: auto;} td:nth-child(2) {text-align: left ; width: 100%}\n",
       "    .wandb-row { display: flex; flex-direction: row; flex-wrap: wrap; justify-content: flex-start; width: 100% }\n",
       "    .wandb-col { display: flex; flex-direction: column; flex-basis: 100%; flex: 1; padding: 10px; }\n",
       "    </style>\n",
       "<div class=\"wandb-row\"><div class=\"wandb-col\"><h3>Run history:</h3><br/><table class=\"wandb\"><tr><td>epoch</td><td>▁▁▁▂▂▂▂▃▃▃▃▄▄▄▄▅▅▅▅▆▆▆▆▇▇▇▇███</td></tr><tr><td>test_accuracy</td><td>▁</td></tr><tr><td>test_loss</td><td>▁</td></tr><tr><td>train_loss</td><td>█▇▇▇▆▆▆▅▅▅▅▄▄▄▄▃▃▃▃▃▂▂▂▂▂▂▁▁▁▁</td></tr></table><br/></div><div class=\"wandb-col\"><h3>Run summary:</h3><br/><table class=\"wandb\"><tr><td>epoch</td><td>30</td></tr><tr><td>test_accuracy</td><td>0.69808</td></tr><tr><td>test_loss</td><td>0.62444</td></tr><tr><td>train_loss</td><td>0.62757</td></tr></table><br/></div></div>"
      ],
      "text/plain": [
       "<IPython.core.display.HTML object>"
      ]
     },
     "metadata": {},
     "output_type": "display_data"
    },
    {
     "data": {
      "text/html": [
       " View run <strong style=\"color:#cdcd00\">colorful-aardvark-17</strong> at: <a href='https://wandb.ai/pierrehogenhaug/modern_nlp_ex/runs/wicky2gd' target=\"_blank\">https://wandb.ai/pierrehogenhaug/modern_nlp_ex/runs/wicky2gd</a><br/>Synced 6 W&B file(s), 0 media file(s), 0 artifact file(s) and 0 other file(s)"
      ],
      "text/plain": [
       "<IPython.core.display.HTML object>"
      ]
     },
     "metadata": {},
     "output_type": "display_data"
    },
    {
     "data": {
      "text/html": [
       "Find logs at: <code>./wandb/run-20240313_110458-wicky2gd/logs</code>"
      ],
      "text/plain": [
       "<IPython.core.display.HTML object>"
      ]
     },
     "metadata": {},
     "output_type": "display_data"
    },
    {
     "name": "stdout",
     "output_type": "stream",
     "text": [
      "\n",
      "Training with avg_pool, lr=0.01, batch_size=128, epochs=50\n"
     ]
    },
    {
     "data": {
      "text/html": [
       "Tracking run with wandb version 0.16.4"
      ],
      "text/plain": [
       "<IPython.core.display.HTML object>"
      ]
     },
     "metadata": {},
     "output_type": "display_data"
    },
    {
     "data": {
      "text/html": [
       "Run data is saved locally in <code>/Users/phog/Desktop/cleverThings/Modern_NLP/cs-552-modern-nlp/Exercises/Week 1 - Word Embeddings/wandb/run-20240313_110511-b9vxtq2n</code>"
      ],
      "text/plain": [
       "<IPython.core.display.HTML object>"
      ]
     },
     "metadata": {},
     "output_type": "display_data"
    },
    {
     "data": {
      "text/html": [
       "Syncing run <strong><a href='https://wandb.ai/pierrehogenhaug/modern_nlp_ex/runs/b9vxtq2n' target=\"_blank\">effortless-voice-18</a></strong> to <a href='https://wandb.ai/pierrehogenhaug/modern_nlp_ex' target=\"_blank\">Weights & Biases</a> (<a href='https://wandb.me/run' target=\"_blank\">docs</a>)<br/>"
      ],
      "text/plain": [
       "<IPython.core.display.HTML object>"
      ]
     },
     "metadata": {},
     "output_type": "display_data"
    },
    {
     "data": {
      "text/html": [
       " View project at <a href='https://wandb.ai/pierrehogenhaug/modern_nlp_ex' target=\"_blank\">https://wandb.ai/pierrehogenhaug/modern_nlp_ex</a>"
      ],
      "text/plain": [
       "<IPython.core.display.HTML object>"
      ]
     },
     "metadata": {},
     "output_type": "display_data"
    },
    {
     "data": {
      "text/html": [
       " View run at <a href='https://wandb.ai/pierrehogenhaug/modern_nlp_ex/runs/b9vxtq2n' target=\"_blank\">https://wandb.ai/pierrehogenhaug/modern_nlp_ex/runs/b9vxtq2n</a>"
      ],
      "text/plain": [
       "<IPython.core.display.HTML object>"
      ]
     },
     "metadata": {},
     "output_type": "display_data"
    },
    {
     "name": "stdout",
     "output_type": "stream",
     "text": [
      "Epoch 1/50 | Loss: 0.6928\n",
      "Epoch 2/50 | Loss: 0.6887\n",
      "Epoch 3/50 | Loss: 0.6851\n",
      "Epoch 4/50 | Loss: 0.6815\n",
      "Epoch 5/50 | Loss: 0.6781\n",
      "Epoch 6/50 | Loss: 0.6750\n",
      "Epoch 7/50 | Loss: 0.6719\n",
      "Epoch 8/50 | Loss: 0.6690\n",
      "Epoch 9/50 | Loss: 0.6662\n",
      "Epoch 10/50 | Loss: 0.6635\n",
      "Epoch 11/50 | Loss: 0.6609\n",
      "Epoch 12/50 | Loss: 0.6585\n",
      "Epoch 13/50 | Loss: 0.6561\n",
      "Epoch 14/50 | Loss: 0.6538\n",
      "Epoch 15/50 | Loss: 0.6516\n",
      "Epoch 16/50 | Loss: 0.6496\n",
      "Epoch 17/50 | Loss: 0.6474\n",
      "Epoch 18/50 | Loss: 0.6455\n",
      "Epoch 19/50 | Loss: 0.6436\n",
      "Epoch 20/50 | Loss: 0.6417\n",
      "Epoch 21/50 | Loss: 0.6399\n",
      "Epoch 22/50 | Loss: 0.6382\n",
      "Epoch 23/50 | Loss: 0.6366\n",
      "Epoch 24/50 | Loss: 0.6349\n",
      "Epoch 25/50 | Loss: 0.6332\n",
      "Epoch 26/50 | Loss: 0.6318\n",
      "Epoch 27/50 | Loss: 0.6303\n",
      "Epoch 28/50 | Loss: 0.6288\n",
      "Epoch 29/50 | Loss: 0.6274\n",
      "Epoch 30/50 | Loss: 0.6260\n",
      "Epoch 31/50 | Loss: 0.6246\n",
      "Epoch 32/50 | Loss: 0.6232\n",
      "Epoch 33/50 | Loss: 0.6219\n",
      "Epoch 34/50 | Loss: 0.6207\n",
      "Epoch 35/50 | Loss: 0.6195\n",
      "Epoch 36/50 | Loss: 0.6182\n",
      "Epoch 37/50 | Loss: 0.6170\n",
      "Epoch 38/50 | Loss: 0.6158\n",
      "Epoch 39/50 | Loss: 0.6147\n",
      "Epoch 40/50 | Loss: 0.6136\n",
      "Epoch 41/50 | Loss: 0.6125\n",
      "Epoch 42/50 | Loss: 0.6113\n",
      "Epoch 43/50 | Loss: 0.6103\n",
      "Epoch 44/50 | Loss: 0.6093\n",
      "Epoch 45/50 | Loss: 0.6082\n",
      "Epoch 46/50 | Loss: 0.6072\n",
      "Epoch 47/50 | Loss: 0.6062\n",
      "Epoch 48/50 | Loss: 0.6051\n",
      "Epoch 49/50 | Loss: 0.6042\n",
      "Epoch 50/50 | Loss: 0.6032\n",
      "Test Acc: 70.47%\n"
     ]
    },
    {
     "name": "stderr",
     "output_type": "stream",
     "text": [
      "wandb: WARNING Source type is set to 'repo' but some required information is missing from the environment. A job will not be created from this run. See https://docs.wandb.ai/guides/launch/create-job\n"
     ]
    },
    {
     "data": {
      "text/html": [
       "<style>\n",
       "    table.wandb td:nth-child(1) { padding: 0 10px; text-align: left ; width: auto;} td:nth-child(2) {text-align: left ; width: 100%}\n",
       "    .wandb-row { display: flex; flex-direction: row; flex-wrap: wrap; justify-content: flex-start; width: 100% }\n",
       "    .wandb-col { display: flex; flex-direction: column; flex-basis: 100%; flex: 1; padding: 10px; }\n",
       "    </style>\n",
       "<div class=\"wandb-row\"><div class=\"wandb-col\"><h3>Run history:</h3><br/><table class=\"wandb\"><tr><td>epoch</td><td>▁▁▁▁▂▂▂▂▂▃▃▃▃▃▃▄▄▄▄▄▅▅▅▅▅▅▆▆▆▆▆▆▇▇▇▇▇███</td></tr><tr><td>test_accuracy</td><td>▁</td></tr><tr><td>test_loss</td><td>▁</td></tr><tr><td>train_loss</td><td>██▇▇▇▆▆▆▆▅▅▅▅▄▄▄▄▄▄▃▃▃▃▃▃▃▂▂▂▂▂▂▂▂▂▁▁▁▁▁</td></tr></table><br/></div><div class=\"wandb-col\"><h3>Run summary:</h3><br/><table class=\"wandb\"><tr><td>epoch</td><td>50</td></tr><tr><td>test_accuracy</td><td>0.70471</td></tr><tr><td>test_loss</td><td>0.60853</td></tr><tr><td>train_loss</td><td>0.60324</td></tr></table><br/></div></div>"
      ],
      "text/plain": [
       "<IPython.core.display.HTML object>"
      ]
     },
     "metadata": {},
     "output_type": "display_data"
    },
    {
     "data": {
      "text/html": [
       " View run <strong style=\"color:#cdcd00\">effortless-voice-18</strong> at: <a href='https://wandb.ai/pierrehogenhaug/modern_nlp_ex/runs/b9vxtq2n' target=\"_blank\">https://wandb.ai/pierrehogenhaug/modern_nlp_ex/runs/b9vxtq2n</a><br/>Synced 6 W&B file(s), 0 media file(s), 0 artifact file(s) and 0 other file(s)"
      ],
      "text/plain": [
       "<IPython.core.display.HTML object>"
      ]
     },
     "metadata": {},
     "output_type": "display_data"
    },
    {
     "data": {
      "text/html": [
       "Find logs at: <code>./wandb/run-20240313_110511-b9vxtq2n/logs</code>"
      ],
      "text/plain": [
       "<IPython.core.display.HTML object>"
      ]
     },
     "metadata": {},
     "output_type": "display_data"
    },
    {
     "name": "stdout",
     "output_type": "stream",
     "text": [
      "\n",
      "Training with avg_pool, lr=0.01, batch_size=128, epochs=70\n"
     ]
    },
    {
     "data": {
      "text/html": [
       "Tracking run with wandb version 0.16.4"
      ],
      "text/plain": [
       "<IPython.core.display.HTML object>"
      ]
     },
     "metadata": {},
     "output_type": "display_data"
    },
    {
     "data": {
      "text/html": [
       "Run data is saved locally in <code>/Users/phog/Desktop/cleverThings/Modern_NLP/cs-552-modern-nlp/Exercises/Week 1 - Word Embeddings/wandb/run-20240313_110528-xhru1hjz</code>"
      ],
      "text/plain": [
       "<IPython.core.display.HTML object>"
      ]
     },
     "metadata": {},
     "output_type": "display_data"
    },
    {
     "data": {
      "text/html": [
       "Syncing run <strong><a href='https://wandb.ai/pierrehogenhaug/modern_nlp_ex/runs/xhru1hjz' target=\"_blank\">zesty-glitter-19</a></strong> to <a href='https://wandb.ai/pierrehogenhaug/modern_nlp_ex' target=\"_blank\">Weights & Biases</a> (<a href='https://wandb.me/run' target=\"_blank\">docs</a>)<br/>"
      ],
      "text/plain": [
       "<IPython.core.display.HTML object>"
      ]
     },
     "metadata": {},
     "output_type": "display_data"
    },
    {
     "data": {
      "text/html": [
       " View project at <a href='https://wandb.ai/pierrehogenhaug/modern_nlp_ex' target=\"_blank\">https://wandb.ai/pierrehogenhaug/modern_nlp_ex</a>"
      ],
      "text/plain": [
       "<IPython.core.display.HTML object>"
      ]
     },
     "metadata": {},
     "output_type": "display_data"
    },
    {
     "data": {
      "text/html": [
       " View run at <a href='https://wandb.ai/pierrehogenhaug/modern_nlp_ex/runs/xhru1hjz' target=\"_blank\">https://wandb.ai/pierrehogenhaug/modern_nlp_ex/runs/xhru1hjz</a>"
      ],
      "text/plain": [
       "<IPython.core.display.HTML object>"
      ]
     },
     "metadata": {},
     "output_type": "display_data"
    },
    {
     "name": "stdout",
     "output_type": "stream",
     "text": [
      "Epoch 1/70 | Loss: 0.6924\n",
      "Epoch 2/70 | Loss: 0.6881\n",
      "Epoch 3/70 | Loss: 0.6844\n",
      "Epoch 4/70 | Loss: 0.6809\n",
      "Epoch 5/70 | Loss: 0.6776\n",
      "Epoch 6/70 | Loss: 0.6745\n",
      "Epoch 7/70 | Loss: 0.6715\n",
      "Epoch 8/70 | Loss: 0.6687\n",
      "Epoch 9/70 | Loss: 0.6659\n",
      "Epoch 10/70 | Loss: 0.6632\n",
      "Epoch 11/70 | Loss: 0.6608\n",
      "Epoch 12/70 | Loss: 0.6583\n",
      "Epoch 13/70 | Loss: 0.6560\n",
      "Epoch 14/70 | Loss: 0.6538\n",
      "Epoch 15/70 | Loss: 0.6517\n",
      "Epoch 16/70 | Loss: 0.6496\n",
      "Epoch 17/70 | Loss: 0.6476\n",
      "Epoch 18/70 | Loss: 0.6456\n",
      "Epoch 19/70 | Loss: 0.6438\n",
      "Epoch 20/70 | Loss: 0.6419\n",
      "Epoch 21/70 | Loss: 0.6402\n",
      "Epoch 22/70 | Loss: 0.6385\n",
      "Epoch 23/70 | Loss: 0.6368\n",
      "Epoch 24/70 | Loss: 0.6353\n",
      "Epoch 25/70 | Loss: 0.6337\n",
      "Epoch 26/70 | Loss: 0.6322\n",
      "Epoch 27/70 | Loss: 0.6307\n",
      "Epoch 28/70 | Loss: 0.6293\n",
      "Epoch 29/70 | Loss: 0.6279\n",
      "Epoch 30/70 | Loss: 0.6264\n",
      "Epoch 31/70 | Loss: 0.6251\n",
      "Epoch 32/70 | Loss: 0.6238\n",
      "Epoch 33/70 | Loss: 0.6226\n",
      "Epoch 34/70 | Loss: 0.6213\n",
      "Epoch 35/70 | Loss: 0.6201\n",
      "Epoch 36/70 | Loss: 0.6188\n",
      "Epoch 37/70 | Loss: 0.6177\n",
      "Epoch 38/70 | Loss: 0.6166\n",
      "Epoch 39/70 | Loss: 0.6155\n",
      "Epoch 40/70 | Loss: 0.6142\n",
      "Epoch 41/70 | Loss: 0.6132\n",
      "Epoch 42/70 | Loss: 0.6122\n",
      "Epoch 43/70 | Loss: 0.6111\n",
      "Epoch 44/70 | Loss: 0.6101\n",
      "Epoch 45/70 | Loss: 0.6090\n",
      "Epoch 46/70 | Loss: 0.6081\n",
      "Epoch 47/70 | Loss: 0.6071\n",
      "Epoch 48/70 | Loss: 0.6060\n",
      "Epoch 49/70 | Loss: 0.6051\n",
      "Epoch 50/70 | Loss: 0.6042\n",
      "Epoch 51/70 | Loss: 0.6033\n",
      "Epoch 52/70 | Loss: 0.6024\n",
      "Epoch 53/70 | Loss: 0.6014\n",
      "Epoch 54/70 | Loss: 0.6006\n",
      "Epoch 55/70 | Loss: 0.5998\n",
      "Epoch 56/70 | Loss: 0.5989\n",
      "Epoch 57/70 | Loss: 0.5980\n",
      "Epoch 58/70 | Loss: 0.5971\n",
      "Epoch 59/70 | Loss: 0.5963\n",
      "Epoch 60/70 | Loss: 0.5954\n",
      "Epoch 61/70 | Loss: 0.5947\n",
      "Epoch 62/70 | Loss: 0.5940\n",
      "Epoch 63/70 | Loss: 0.5931\n",
      "Epoch 64/70 | Loss: 0.5924\n",
      "Epoch 65/70 | Loss: 0.5915\n",
      "Epoch 66/70 | Loss: 0.5909\n",
      "Epoch 67/70 | Loss: 0.5901\n",
      "Epoch 68/70 | Loss: 0.5893\n",
      "Epoch 69/70 | Loss: 0.5886\n",
      "Epoch 70/70 | Loss: 0.5878\n",
      "Test Acc: 71.01%\n"
     ]
    },
    {
     "name": "stderr",
     "output_type": "stream",
     "text": [
      "wandb: WARNING Source type is set to 'repo' but some required information is missing from the environment. A job will not be created from this run. See https://docs.wandb.ai/guides/launch/create-job\n"
     ]
    },
    {
     "data": {
      "text/html": [
       "<style>\n",
       "    table.wandb td:nth-child(1) { padding: 0 10px; text-align: left ; width: auto;} td:nth-child(2) {text-align: left ; width: 100%}\n",
       "    .wandb-row { display: flex; flex-direction: row; flex-wrap: wrap; justify-content: flex-start; width: 100% }\n",
       "    .wandb-col { display: flex; flex-direction: column; flex-basis: 100%; flex: 1; padding: 10px; }\n",
       "    </style>\n",
       "<div class=\"wandb-row\"><div class=\"wandb-col\"><h3>Run history:</h3><br/><table class=\"wandb\"><tr><td>epoch</td><td>▁▁▁▂▂▂▂▂▂▃▃▃▃▃▃▄▄▄▄▄▅▅▅▅▅▅▆▆▆▆▆▆▇▇▇▇▇███</td></tr><tr><td>test_accuracy</td><td>▁</td></tr><tr><td>test_loss</td><td>▁</td></tr><tr><td>train_loss</td><td>██▇▇▆▆▆▆▅▅▅▅▄▄▄▄▄▃▃▃▃▃▃▃▃▂▂▂▂▂▂▂▂▂▁▁▁▁▁▁</td></tr></table><br/></div><div class=\"wandb-col\"><h3>Run summary:</h3><br/><table class=\"wandb\"><tr><td>epoch</td><td>70</td></tr><tr><td>test_accuracy</td><td>0.71015</td></tr><tr><td>test_loss</td><td>0.58939</td></tr><tr><td>train_loss</td><td>0.58781</td></tr></table><br/></div></div>"
      ],
      "text/plain": [
       "<IPython.core.display.HTML object>"
      ]
     },
     "metadata": {},
     "output_type": "display_data"
    },
    {
     "data": {
      "text/html": [
       " View run <strong style=\"color:#cdcd00\">zesty-glitter-19</strong> at: <a href='https://wandb.ai/pierrehogenhaug/modern_nlp_ex/runs/xhru1hjz' target=\"_blank\">https://wandb.ai/pierrehogenhaug/modern_nlp_ex/runs/xhru1hjz</a><br/>Synced 6 W&B file(s), 0 media file(s), 0 artifact file(s) and 0 other file(s)"
      ],
      "text/plain": [
       "<IPython.core.display.HTML object>"
      ]
     },
     "metadata": {},
     "output_type": "display_data"
    },
    {
     "data": {
      "text/html": [
       "Find logs at: <code>./wandb/run-20240313_110528-xhru1hjz/logs</code>"
      ],
      "text/plain": [
       "<IPython.core.display.HTML object>"
      ]
     },
     "metadata": {},
     "output_type": "display_data"
    },
    {
     "name": "stdout",
     "output_type": "stream",
     "text": [
      "\n",
      "Training with avg_pool, lr=0.1, batch_size=32, epochs=30\n"
     ]
    },
    {
     "data": {
      "text/html": [
       "Tracking run with wandb version 0.16.4"
      ],
      "text/plain": [
       "<IPython.core.display.HTML object>"
      ]
     },
     "metadata": {},
     "output_type": "display_data"
    },
    {
     "data": {
      "text/html": [
       "Run data is saved locally in <code>/Users/phog/Desktop/cleverThings/Modern_NLP/cs-552-modern-nlp/Exercises/Week 1 - Word Embeddings/wandb/run-20240313_110547-x0e1s0ul</code>"
      ],
      "text/plain": [
       "<IPython.core.display.HTML object>"
      ]
     },
     "metadata": {},
     "output_type": "display_data"
    },
    {
     "data": {
      "text/html": [
       "Syncing run <strong><a href='https://wandb.ai/pierrehogenhaug/modern_nlp_ex/runs/x0e1s0ul' target=\"_blank\">winter-sound-20</a></strong> to <a href='https://wandb.ai/pierrehogenhaug/modern_nlp_ex' target=\"_blank\">Weights & Biases</a> (<a href='https://wandb.me/run' target=\"_blank\">docs</a>)<br/>"
      ],
      "text/plain": [
       "<IPython.core.display.HTML object>"
      ]
     },
     "metadata": {},
     "output_type": "display_data"
    },
    {
     "data": {
      "text/html": [
       " View project at <a href='https://wandb.ai/pierrehogenhaug/modern_nlp_ex' target=\"_blank\">https://wandb.ai/pierrehogenhaug/modern_nlp_ex</a>"
      ],
      "text/plain": [
       "<IPython.core.display.HTML object>"
      ]
     },
     "metadata": {},
     "output_type": "display_data"
    },
    {
     "data": {
      "text/html": [
       " View run at <a href='https://wandb.ai/pierrehogenhaug/modern_nlp_ex/runs/x0e1s0ul' target=\"_blank\">https://wandb.ai/pierrehogenhaug/modern_nlp_ex/runs/x0e1s0ul</a>"
      ],
      "text/plain": [
       "<IPython.core.display.HTML object>"
      ]
     },
     "metadata": {},
     "output_type": "display_data"
    },
    {
     "name": "stdout",
     "output_type": "stream",
     "text": [
      "Epoch 1/30 | Loss: 0.6480\n",
      "Epoch 2/30 | Loss: 0.5989\n",
      "Epoch 3/30 | Loss: 0.5729\n",
      "Epoch 4/30 | Loss: 0.5552\n",
      "Epoch 5/30 | Loss: 0.5417\n",
      "Epoch 6/30 | Loss: 0.5317\n",
      "Epoch 7/30 | Loss: 0.5234\n",
      "Epoch 8/30 | Loss: 0.5167\n",
      "Epoch 9/30 | Loss: 0.5105\n",
      "Epoch 10/30 | Loss: 0.5055\n",
      "Epoch 11/30 | Loss: 0.5007\n",
      "Epoch 12/30 | Loss: 0.4971\n",
      "Epoch 13/30 | Loss: 0.4937\n",
      "Epoch 14/30 | Loss: 0.4904\n",
      "Epoch 15/30 | Loss: 0.4877\n",
      "Epoch 16/30 | Loss: 0.4854\n",
      "Epoch 17/30 | Loss: 0.4831\n",
      "Epoch 18/30 | Loss: 0.4803\n",
      "Epoch 19/30 | Loss: 0.4786\n",
      "Epoch 20/30 | Loss: 0.4768\n",
      "Epoch 21/30 | Loss: 0.4750\n",
      "Epoch 22/30 | Loss: 0.4732\n",
      "Epoch 23/30 | Loss: 0.4721\n",
      "Epoch 24/30 | Loss: 0.4704\n",
      "Epoch 25/30 | Loss: 0.4693\n",
      "Epoch 26/30 | Loss: 0.4680\n",
      "Epoch 27/30 | Loss: 0.4669\n",
      "Epoch 28/30 | Loss: 0.4658\n",
      "Epoch 29/30 | Loss: 0.4646\n",
      "Epoch 30/30 | Loss: 0.4640\n",
      "Test Acc: 79.13%\n"
     ]
    },
    {
     "name": "stderr",
     "output_type": "stream",
     "text": [
      "wandb: WARNING Source type is set to 'repo' but some required information is missing from the environment. A job will not be created from this run. See https://docs.wandb.ai/guides/launch/create-job\n"
     ]
    },
    {
     "data": {
      "text/html": [
       "<style>\n",
       "    table.wandb td:nth-child(1) { padding: 0 10px; text-align: left ; width: auto;} td:nth-child(2) {text-align: left ; width: 100%}\n",
       "    .wandb-row { display: flex; flex-direction: row; flex-wrap: wrap; justify-content: flex-start; width: 100% }\n",
       "    .wandb-col { display: flex; flex-direction: column; flex-basis: 100%; flex: 1; padding: 10px; }\n",
       "    </style>\n",
       "<div class=\"wandb-row\"><div class=\"wandb-col\"><h3>Run history:</h3><br/><table class=\"wandb\"><tr><td>epoch</td><td>▁▁▁▂▂▂▂▃▃▃▃▄▄▄▄▅▅▅▅▆▆▆▆▇▇▇▇███</td></tr><tr><td>test_accuracy</td><td>▁</td></tr><tr><td>test_loss</td><td>▁</td></tr><tr><td>train_loss</td><td>█▆▅▄▄▄▃▃▃▃▂▂▂▂▂▂▂▂▂▁▁▁▁▁▁▁▁▁▁▁</td></tr></table><br/></div><div class=\"wandb-col\"><h3>Run summary:</h3><br/><table class=\"wandb\"><tr><td>epoch</td><td>30</td></tr><tr><td>test_accuracy</td><td>0.79133</td></tr><tr><td>test_loss</td><td>0.46076</td></tr><tr><td>train_loss</td><td>0.46402</td></tr></table><br/></div></div>"
      ],
      "text/plain": [
       "<IPython.core.display.HTML object>"
      ]
     },
     "metadata": {},
     "output_type": "display_data"
    },
    {
     "data": {
      "text/html": [
       " View run <strong style=\"color:#cdcd00\">winter-sound-20</strong> at: <a href='https://wandb.ai/pierrehogenhaug/modern_nlp_ex/runs/x0e1s0ul' target=\"_blank\">https://wandb.ai/pierrehogenhaug/modern_nlp_ex/runs/x0e1s0ul</a><br/>Synced 6 W&B file(s), 0 media file(s), 0 artifact file(s) and 0 other file(s)"
      ],
      "text/plain": [
       "<IPython.core.display.HTML object>"
      ]
     },
     "metadata": {},
     "output_type": "display_data"
    },
    {
     "data": {
      "text/html": [
       "Find logs at: <code>./wandb/run-20240313_110547-x0e1s0ul/logs</code>"
      ],
      "text/plain": [
       "<IPython.core.display.HTML object>"
      ]
     },
     "metadata": {},
     "output_type": "display_data"
    },
    {
     "name": "stdout",
     "output_type": "stream",
     "text": [
      "\n",
      "Training with avg_pool, lr=0.1, batch_size=32, epochs=50\n"
     ]
    },
    {
     "data": {
      "text/html": [
       "Tracking run with wandb version 0.16.4"
      ],
      "text/plain": [
       "<IPython.core.display.HTML object>"
      ]
     },
     "metadata": {},
     "output_type": "display_data"
    },
    {
     "data": {
      "text/html": [
       "Run data is saved locally in <code>/Users/phog/Desktop/cleverThings/Modern_NLP/cs-552-modern-nlp/Exercises/Week 1 - Word Embeddings/wandb/run-20240313_110603-nup0xa83</code>"
      ],
      "text/plain": [
       "<IPython.core.display.HTML object>"
      ]
     },
     "metadata": {},
     "output_type": "display_data"
    },
    {
     "data": {
      "text/html": [
       "Syncing run <strong><a href='https://wandb.ai/pierrehogenhaug/modern_nlp_ex/runs/nup0xa83' target=\"_blank\">prime-sky-21</a></strong> to <a href='https://wandb.ai/pierrehogenhaug/modern_nlp_ex' target=\"_blank\">Weights & Biases</a> (<a href='https://wandb.me/run' target=\"_blank\">docs</a>)<br/>"
      ],
      "text/plain": [
       "<IPython.core.display.HTML object>"
      ]
     },
     "metadata": {},
     "output_type": "display_data"
    },
    {
     "data": {
      "text/html": [
       " View project at <a href='https://wandb.ai/pierrehogenhaug/modern_nlp_ex' target=\"_blank\">https://wandb.ai/pierrehogenhaug/modern_nlp_ex</a>"
      ],
      "text/plain": [
       "<IPython.core.display.HTML object>"
      ]
     },
     "metadata": {},
     "output_type": "display_data"
    },
    {
     "data": {
      "text/html": [
       " View run at <a href='https://wandb.ai/pierrehogenhaug/modern_nlp_ex/runs/nup0xa83' target=\"_blank\">https://wandb.ai/pierrehogenhaug/modern_nlp_ex/runs/nup0xa83</a>"
      ],
      "text/plain": [
       "<IPython.core.display.HTML object>"
      ]
     },
     "metadata": {},
     "output_type": "display_data"
    },
    {
     "name": "stdout",
     "output_type": "stream",
     "text": [
      "Epoch 1/50 | Loss: 0.6499\n",
      "Epoch 2/50 | Loss: 0.5996\n",
      "Epoch 3/50 | Loss: 0.5730\n",
      "Epoch 4/50 | Loss: 0.5547\n",
      "Epoch 5/50 | Loss: 0.5416\n",
      "Epoch 6/50 | Loss: 0.5312\n",
      "Epoch 7/50 | Loss: 0.5227\n",
      "Epoch 8/50 | Loss: 0.5158\n",
      "Epoch 9/50 | Loss: 0.5098\n",
      "Epoch 10/50 | Loss: 0.5051\n",
      "Epoch 11/50 | Loss: 0.5008\n",
      "Epoch 12/50 | Loss: 0.4969\n",
      "Epoch 13/50 | Loss: 0.4931\n",
      "Epoch 14/50 | Loss: 0.4901\n",
      "Epoch 15/50 | Loss: 0.4873\n",
      "Epoch 16/50 | Loss: 0.4850\n",
      "Epoch 17/50 | Loss: 0.4829\n",
      "Epoch 18/50 | Loss: 0.4808\n",
      "Epoch 19/50 | Loss: 0.4780\n",
      "Epoch 20/50 | Loss: 0.4764\n",
      "Epoch 21/50 | Loss: 0.4748\n",
      "Epoch 22/50 | Loss: 0.4731\n",
      "Epoch 23/50 | Loss: 0.4716\n",
      "Epoch 24/50 | Loss: 0.4704\n",
      "Epoch 25/50 | Loss: 0.4687\n",
      "Epoch 26/50 | Loss: 0.4673\n",
      "Epoch 27/50 | Loss: 0.4665\n",
      "Epoch 28/50 | Loss: 0.4652\n",
      "Epoch 29/50 | Loss: 0.4644\n",
      "Epoch 30/50 | Loss: 0.4633\n",
      "Epoch 31/50 | Loss: 0.4626\n",
      "Epoch 32/50 | Loss: 0.4619\n",
      "Epoch 33/50 | Loss: 0.4609\n",
      "Epoch 34/50 | Loss: 0.4597\n",
      "Epoch 35/50 | Loss: 0.4594\n",
      "Epoch 36/50 | Loss: 0.4584\n",
      "Epoch 37/50 | Loss: 0.4577\n",
      "Epoch 38/50 | Loss: 0.4574\n",
      "Epoch 39/50 | Loss: 0.4568\n",
      "Epoch 40/50 | Loss: 0.4559\n",
      "Epoch 41/50 | Loss: 0.4555\n",
      "Epoch 42/50 | Loss: 0.4552\n",
      "Epoch 43/50 | Loss: 0.4546\n",
      "Epoch 44/50 | Loss: 0.4540\n",
      "Epoch 45/50 | Loss: 0.4533\n",
      "Epoch 46/50 | Loss: 0.4528\n",
      "Epoch 47/50 | Loss: 0.4525\n",
      "Epoch 48/50 | Loss: 0.4516\n",
      "Epoch 49/50 | Loss: 0.4519\n",
      "Epoch 50/50 | Loss: 0.4509\n",
      "Test Acc: 79.74%\n"
     ]
    },
    {
     "name": "stderr",
     "output_type": "stream",
     "text": [
      "wandb: WARNING Source type is set to 'repo' but some required information is missing from the environment. A job will not be created from this run. See https://docs.wandb.ai/guides/launch/create-job\n"
     ]
    },
    {
     "data": {
      "text/html": [
       "<style>\n",
       "    table.wandb td:nth-child(1) { padding: 0 10px; text-align: left ; width: auto;} td:nth-child(2) {text-align: left ; width: 100%}\n",
       "    .wandb-row { display: flex; flex-direction: row; flex-wrap: wrap; justify-content: flex-start; width: 100% }\n",
       "    .wandb-col { display: flex; flex-direction: column; flex-basis: 100%; flex: 1; padding: 10px; }\n",
       "    </style>\n",
       "<div class=\"wandb-row\"><div class=\"wandb-col\"><h3>Run history:</h3><br/><table class=\"wandb\"><tr><td>epoch</td><td>▁▁▁▁▂▂▂▂▂▃▃▃▃▃▃▄▄▄▄▄▅▅▅▅▅▅▆▆▆▆▆▆▇▇▇▇▇███</td></tr><tr><td>test_accuracy</td><td>▁</td></tr><tr><td>test_loss</td><td>▁</td></tr><tr><td>train_loss</td><td>█▆▅▅▄▄▃▃▃▃▂▂▂▂▂▂▂▂▂▂▂▂▂▁▁▁▁▁▁▁▁▁▁▁▁▁▁▁▁▁</td></tr></table><br/></div><div class=\"wandb-col\"><h3>Run summary:</h3><br/><table class=\"wandb\"><tr><td>epoch</td><td>50</td></tr><tr><td>test_accuracy</td><td>0.79742</td></tr><tr><td>test_loss</td><td>0.4501</td></tr><tr><td>train_loss</td><td>0.45091</td></tr></table><br/></div></div>"
      ],
      "text/plain": [
       "<IPython.core.display.HTML object>"
      ]
     },
     "metadata": {},
     "output_type": "display_data"
    },
    {
     "data": {
      "text/html": [
       " View run <strong style=\"color:#cdcd00\">prime-sky-21</strong> at: <a href='https://wandb.ai/pierrehogenhaug/modern_nlp_ex/runs/nup0xa83' target=\"_blank\">https://wandb.ai/pierrehogenhaug/modern_nlp_ex/runs/nup0xa83</a><br/>Synced 6 W&B file(s), 0 media file(s), 0 artifact file(s) and 0 other file(s)"
      ],
      "text/plain": [
       "<IPython.core.display.HTML object>"
      ]
     },
     "metadata": {},
     "output_type": "display_data"
    },
    {
     "data": {
      "text/html": [
       "Find logs at: <code>./wandb/run-20240313_110603-nup0xa83/logs</code>"
      ],
      "text/plain": [
       "<IPython.core.display.HTML object>"
      ]
     },
     "metadata": {},
     "output_type": "display_data"
    },
    {
     "name": "stdout",
     "output_type": "stream",
     "text": [
      "\n",
      "Training with avg_pool, lr=0.1, batch_size=32, epochs=70\n"
     ]
    },
    {
     "data": {
      "text/html": [
       "Tracking run with wandb version 0.16.4"
      ],
      "text/plain": [
       "<IPython.core.display.HTML object>"
      ]
     },
     "metadata": {},
     "output_type": "display_data"
    },
    {
     "data": {
      "text/html": [
       "Run data is saved locally in <code>/Users/phog/Desktop/cleverThings/Modern_NLP/cs-552-modern-nlp/Exercises/Week 1 - Word Embeddings/wandb/run-20240313_110627-lwpjw3rf</code>"
      ],
      "text/plain": [
       "<IPython.core.display.HTML object>"
      ]
     },
     "metadata": {},
     "output_type": "display_data"
    },
    {
     "data": {
      "text/html": [
       "Syncing run <strong><a href='https://wandb.ai/pierrehogenhaug/modern_nlp_ex/runs/lwpjw3rf' target=\"_blank\">lunar-water-22</a></strong> to <a href='https://wandb.ai/pierrehogenhaug/modern_nlp_ex' target=\"_blank\">Weights & Biases</a> (<a href='https://wandb.me/run' target=\"_blank\">docs</a>)<br/>"
      ],
      "text/plain": [
       "<IPython.core.display.HTML object>"
      ]
     },
     "metadata": {},
     "output_type": "display_data"
    },
    {
     "data": {
      "text/html": [
       " View project at <a href='https://wandb.ai/pierrehogenhaug/modern_nlp_ex' target=\"_blank\">https://wandb.ai/pierrehogenhaug/modern_nlp_ex</a>"
      ],
      "text/plain": [
       "<IPython.core.display.HTML object>"
      ]
     },
     "metadata": {},
     "output_type": "display_data"
    },
    {
     "data": {
      "text/html": [
       " View run at <a href='https://wandb.ai/pierrehogenhaug/modern_nlp_ex/runs/lwpjw3rf' target=\"_blank\">https://wandb.ai/pierrehogenhaug/modern_nlp_ex/runs/lwpjw3rf</a>"
      ],
      "text/plain": [
       "<IPython.core.display.HTML object>"
      ]
     },
     "metadata": {},
     "output_type": "display_data"
    },
    {
     "name": "stdout",
     "output_type": "stream",
     "text": [
      "Epoch 1/70 | Loss: 0.6479\n",
      "Epoch 2/70 | Loss: 0.5994\n",
      "Epoch 3/70 | Loss: 0.5729\n",
      "Epoch 4/70 | Loss: 0.5548\n",
      "Epoch 5/70 | Loss: 0.5415\n",
      "Epoch 6/70 | Loss: 0.5314\n",
      "Epoch 7/70 | Loss: 0.5227\n",
      "Epoch 8/70 | Loss: 0.5164\n",
      "Epoch 9/70 | Loss: 0.5103\n",
      "Epoch 10/70 | Loss: 0.5054\n",
      "Epoch 11/70 | Loss: 0.5009\n",
      "Epoch 12/70 | Loss: 0.4968\n",
      "Epoch 13/70 | Loss: 0.4933\n",
      "Epoch 14/70 | Loss: 0.4900\n",
      "Epoch 15/70 | Loss: 0.4876\n",
      "Epoch 16/70 | Loss: 0.4846\n",
      "Epoch 17/70 | Loss: 0.4823\n",
      "Epoch 18/70 | Loss: 0.4800\n",
      "Epoch 19/70 | Loss: 0.4781\n",
      "Epoch 20/70 | Loss: 0.4761\n",
      "Epoch 21/70 | Loss: 0.4748\n",
      "Epoch 22/70 | Loss: 0.4728\n",
      "Epoch 23/70 | Loss: 0.4715\n",
      "Epoch 24/70 | Loss: 0.4697\n",
      "Epoch 25/70 | Loss: 0.4685\n",
      "Epoch 26/70 | Loss: 0.4674\n",
      "Epoch 27/70 | Loss: 0.4660\n",
      "Epoch 28/70 | Loss: 0.4652\n",
      "Epoch 29/70 | Loss: 0.4642\n",
      "Epoch 30/70 | Loss: 0.4634\n",
      "Epoch 31/70 | Loss: 0.4620\n",
      "Epoch 32/70 | Loss: 0.4611\n",
      "Epoch 33/70 | Loss: 0.4606\n",
      "Epoch 34/70 | Loss: 0.4596\n",
      "Epoch 35/70 | Loss: 0.4593\n",
      "Epoch 36/70 | Loss: 0.4581\n",
      "Epoch 37/70 | Loss: 0.4578\n",
      "Epoch 38/70 | Loss: 0.4568\n",
      "Epoch 39/70 | Loss: 0.4561\n",
      "Epoch 40/70 | Loss: 0.4554\n",
      "Epoch 41/70 | Loss: 0.4550\n",
      "Epoch 42/70 | Loss: 0.4542\n",
      "Epoch 43/70 | Loss: 0.4542\n",
      "Epoch 44/70 | Loss: 0.4536\n",
      "Epoch 45/70 | Loss: 0.4534\n",
      "Epoch 46/70 | Loss: 0.4525\n",
      "Epoch 47/70 | Loss: 0.4521\n",
      "Epoch 48/70 | Loss: 0.4515\n",
      "Epoch 49/70 | Loss: 0.4514\n",
      "Epoch 50/70 | Loss: 0.4509\n",
      "Epoch 51/70 | Loss: 0.4506\n",
      "Epoch 52/70 | Loss: 0.4501\n",
      "Epoch 53/70 | Loss: 0.4497\n",
      "Epoch 54/70 | Loss: 0.4493\n",
      "Epoch 55/70 | Loss: 0.4491\n",
      "Epoch 56/70 | Loss: 0.4491\n",
      "Epoch 57/70 | Loss: 0.4484\n",
      "Epoch 58/70 | Loss: 0.4478\n",
      "Epoch 59/70 | Loss: 0.4479\n",
      "Epoch 60/70 | Loss: 0.4473\n",
      "Epoch 61/70 | Loss: 0.4473\n",
      "Epoch 62/70 | Loss: 0.4466\n",
      "Epoch 63/70 | Loss: 0.4467\n",
      "Epoch 64/70 | Loss: 0.4463\n",
      "Epoch 65/70 | Loss: 0.4460\n",
      "Epoch 66/70 | Loss: 0.4460\n",
      "Epoch 67/70 | Loss: 0.4461\n",
      "Epoch 68/70 | Loss: 0.4462\n",
      "Epoch 69/70 | Loss: 0.4456\n",
      "Epoch 70/70 | Loss: 0.4451\n",
      "Test Acc: 79.53%\n"
     ]
    },
    {
     "name": "stderr",
     "output_type": "stream",
     "text": [
      "wandb: WARNING Source type is set to 'repo' but some required information is missing from the environment. A job will not be created from this run. See https://docs.wandb.ai/guides/launch/create-job\n"
     ]
    },
    {
     "data": {
      "text/html": [
       "<style>\n",
       "    table.wandb td:nth-child(1) { padding: 0 10px; text-align: left ; width: auto;} td:nth-child(2) {text-align: left ; width: 100%}\n",
       "    .wandb-row { display: flex; flex-direction: row; flex-wrap: wrap; justify-content: flex-start; width: 100% }\n",
       "    .wandb-col { display: flex; flex-direction: column; flex-basis: 100%; flex: 1; padding: 10px; }\n",
       "    </style>\n",
       "<div class=\"wandb-row\"><div class=\"wandb-col\"><h3>Run history:</h3><br/><table class=\"wandb\"><tr><td>epoch</td><td>▁▁▁▂▂▂▂▂▂▃▃▃▃▃▃▄▄▄▄▄▅▅▅▅▅▅▆▆▆▆▆▆▇▇▇▇▇███</td></tr><tr><td>test_accuracy</td><td>▁</td></tr><tr><td>test_loss</td><td>▁</td></tr><tr><td>train_loss</td><td>█▆▅▄▃▃▃▃▂▂▂▂▂▂▂▂▂▂▂▂▁▁▁▁▁▁▁▁▁▁▁▁▁▁▁▁▁▁▁▁</td></tr></table><br/></div><div class=\"wandb-col\"><h3>Run summary:</h3><br/><table class=\"wandb\"><tr><td>epoch</td><td>70</td></tr><tr><td>test_accuracy</td><td>0.79533</td></tr><tr><td>test_loss</td><td>0.44676</td></tr><tr><td>train_loss</td><td>0.44511</td></tr></table><br/></div></div>"
      ],
      "text/plain": [
       "<IPython.core.display.HTML object>"
      ]
     },
     "metadata": {},
     "output_type": "display_data"
    },
    {
     "data": {
      "text/html": [
       " View run <strong style=\"color:#cdcd00\">lunar-water-22</strong> at: <a href='https://wandb.ai/pierrehogenhaug/modern_nlp_ex/runs/lwpjw3rf' target=\"_blank\">https://wandb.ai/pierrehogenhaug/modern_nlp_ex/runs/lwpjw3rf</a><br/>Synced 6 W&B file(s), 0 media file(s), 0 artifact file(s) and 0 other file(s)"
      ],
      "text/plain": [
       "<IPython.core.display.HTML object>"
      ]
     },
     "metadata": {},
     "output_type": "display_data"
    },
    {
     "data": {
      "text/html": [
       "Find logs at: <code>./wandb/run-20240313_110627-lwpjw3rf/logs</code>"
      ],
      "text/plain": [
       "<IPython.core.display.HTML object>"
      ]
     },
     "metadata": {},
     "output_type": "display_data"
    },
    {
     "name": "stdout",
     "output_type": "stream",
     "text": [
      "\n",
      "Training with avg_pool, lr=0.1, batch_size=64, epochs=30\n"
     ]
    },
    {
     "data": {
      "text/html": [
       "Tracking run with wandb version 0.16.4"
      ],
      "text/plain": [
       "<IPython.core.display.HTML object>"
      ]
     },
     "metadata": {},
     "output_type": "display_data"
    },
    {
     "data": {
      "text/html": [
       "Run data is saved locally in <code>/Users/phog/Desktop/cleverThings/Modern_NLP/cs-552-modern-nlp/Exercises/Week 1 - Word Embeddings/wandb/run-20240313_110656-e29y6sfy</code>"
      ],
      "text/plain": [
       "<IPython.core.display.HTML object>"
      ]
     },
     "metadata": {},
     "output_type": "display_data"
    },
    {
     "data": {
      "text/html": [
       "Syncing run <strong><a href='https://wandb.ai/pierrehogenhaug/modern_nlp_ex/runs/e29y6sfy' target=\"_blank\">jolly-wood-23</a></strong> to <a href='https://wandb.ai/pierrehogenhaug/modern_nlp_ex' target=\"_blank\">Weights & Biases</a> (<a href='https://wandb.me/run' target=\"_blank\">docs</a>)<br/>"
      ],
      "text/plain": [
       "<IPython.core.display.HTML object>"
      ]
     },
     "metadata": {},
     "output_type": "display_data"
    },
    {
     "data": {
      "text/html": [
       " View project at <a href='https://wandb.ai/pierrehogenhaug/modern_nlp_ex' target=\"_blank\">https://wandb.ai/pierrehogenhaug/modern_nlp_ex</a>"
      ],
      "text/plain": [
       "<IPython.core.display.HTML object>"
      ]
     },
     "metadata": {},
     "output_type": "display_data"
    },
    {
     "data": {
      "text/html": [
       " View run at <a href='https://wandb.ai/pierrehogenhaug/modern_nlp_ex/runs/e29y6sfy' target=\"_blank\">https://wandb.ai/pierrehogenhaug/modern_nlp_ex/runs/e29y6sfy</a>"
      ],
      "text/plain": [
       "<IPython.core.display.HTML object>"
      ]
     },
     "metadata": {},
     "output_type": "display_data"
    },
    {
     "name": "stdout",
     "output_type": "stream",
     "text": [
      "Epoch 1/30 | Loss: 0.6660\n",
      "Epoch 2/30 | Loss: 0.6289\n",
      "Epoch 3/30 | Loss: 0.6062\n",
      "Epoch 4/30 | Loss: 0.5899\n",
      "Epoch 5/30 | Loss: 0.5777\n",
      "Epoch 6/30 | Loss: 0.5671\n",
      "Epoch 7/30 | Loss: 0.5585\n",
      "Epoch 8/30 | Loss: 0.5508\n",
      "Epoch 9/30 | Loss: 0.5445\n",
      "Epoch 10/30 | Loss: 0.5385\n",
      "Epoch 11/30 | Loss: 0.5338\n",
      "Epoch 12/30 | Loss: 0.5291\n",
      "Epoch 13/30 | Loss: 0.5253\n",
      "Epoch 14/30 | Loss: 0.5214\n",
      "Epoch 15/30 | Loss: 0.5179\n",
      "Epoch 16/30 | Loss: 0.5149\n",
      "Epoch 17/30 | Loss: 0.5118\n",
      "Epoch 18/30 | Loss: 0.5093\n",
      "Epoch 19/30 | Loss: 0.5068\n",
      "Epoch 20/30 | Loss: 0.5043\n",
      "Epoch 21/30 | Loss: 0.5024\n",
      "Epoch 22/30 | Loss: 0.5002\n",
      "Epoch 23/30 | Loss: 0.4983\n",
      "Epoch 24/30 | Loss: 0.4963\n",
      "Epoch 25/30 | Loss: 0.4947\n",
      "Epoch 26/30 | Loss: 0.4932\n",
      "Epoch 27/30 | Loss: 0.4917\n",
      "Epoch 28/30 | Loss: 0.4899\n",
      "Epoch 29/30 | Loss: 0.4887\n",
      "Epoch 30/30 | Loss: 0.4875\n",
      "Test Acc: 78.19%\n"
     ]
    },
    {
     "name": "stderr",
     "output_type": "stream",
     "text": [
      "wandb: WARNING Source type is set to 'repo' but some required information is missing from the environment. A job will not be created from this run. See https://docs.wandb.ai/guides/launch/create-job\n"
     ]
    },
    {
     "data": {
      "text/html": [
       "<style>\n",
       "    table.wandb td:nth-child(1) { padding: 0 10px; text-align: left ; width: auto;} td:nth-child(2) {text-align: left ; width: 100%}\n",
       "    .wandb-row { display: flex; flex-direction: row; flex-wrap: wrap; justify-content: flex-start; width: 100% }\n",
       "    .wandb-col { display: flex; flex-direction: column; flex-basis: 100%; flex: 1; padding: 10px; }\n",
       "    </style>\n",
       "<div class=\"wandb-row\"><div class=\"wandb-col\"><h3>Run history:</h3><br/><table class=\"wandb\"><tr><td>epoch</td><td>▁▁▁▂▂▂▂▃▃▃▃▄▄▄▄▅▅▅▅▆▆▆▆▇▇▇▇███</td></tr><tr><td>test_accuracy</td><td>▁</td></tr><tr><td>test_loss</td><td>▁</td></tr><tr><td>train_loss</td><td>█▇▆▅▅▄▄▃▃▃▃▃▂▂▂▂▂▂▂▂▂▁▁▁▁▁▁▁▁▁</td></tr></table><br/></div><div class=\"wandb-col\"><h3>Run summary:</h3><br/><table class=\"wandb\"><tr><td>epoch</td><td>30</td></tr><tr><td>test_accuracy</td><td>0.78195</td></tr><tr><td>test_loss</td><td>0.48153</td></tr><tr><td>train_loss</td><td>0.48753</td></tr></table><br/></div></div>"
      ],
      "text/plain": [
       "<IPython.core.display.HTML object>"
      ]
     },
     "metadata": {},
     "output_type": "display_data"
    },
    {
     "data": {
      "text/html": [
       " View run <strong style=\"color:#cdcd00\">jolly-wood-23</strong> at: <a href='https://wandb.ai/pierrehogenhaug/modern_nlp_ex/runs/e29y6sfy' target=\"_blank\">https://wandb.ai/pierrehogenhaug/modern_nlp_ex/runs/e29y6sfy</a><br/>Synced 6 W&B file(s), 0 media file(s), 0 artifact file(s) and 0 other file(s)"
      ],
      "text/plain": [
       "<IPython.core.display.HTML object>"
      ]
     },
     "metadata": {},
     "output_type": "display_data"
    },
    {
     "data": {
      "text/html": [
       "Find logs at: <code>./wandb/run-20240313_110656-e29y6sfy/logs</code>"
      ],
      "text/plain": [
       "<IPython.core.display.HTML object>"
      ]
     },
     "metadata": {},
     "output_type": "display_data"
    },
    {
     "name": "stdout",
     "output_type": "stream",
     "text": [
      "\n",
      "Training with avg_pool, lr=0.1, batch_size=64, epochs=50\n"
     ]
    },
    {
     "data": {
      "text/html": [
       "Tracking run with wandb version 0.16.4"
      ],
      "text/plain": [
       "<IPython.core.display.HTML object>"
      ]
     },
     "metadata": {},
     "output_type": "display_data"
    },
    {
     "data": {
      "text/html": [
       "Run data is saved locally in <code>/Users/phog/Desktop/cleverThings/Modern_NLP/cs-552-modern-nlp/Exercises/Week 1 - Word Embeddings/wandb/run-20240313_110711-j2t7j0lp</code>"
      ],
      "text/plain": [
       "<IPython.core.display.HTML object>"
      ]
     },
     "metadata": {},
     "output_type": "display_data"
    },
    {
     "data": {
      "text/html": [
       "Syncing run <strong><a href='https://wandb.ai/pierrehogenhaug/modern_nlp_ex/runs/j2t7j0lp' target=\"_blank\">serene-thunder-24</a></strong> to <a href='https://wandb.ai/pierrehogenhaug/modern_nlp_ex' target=\"_blank\">Weights & Biases</a> (<a href='https://wandb.me/run' target=\"_blank\">docs</a>)<br/>"
      ],
      "text/plain": [
       "<IPython.core.display.HTML object>"
      ]
     },
     "metadata": {},
     "output_type": "display_data"
    },
    {
     "data": {
      "text/html": [
       " View project at <a href='https://wandb.ai/pierrehogenhaug/modern_nlp_ex' target=\"_blank\">https://wandb.ai/pierrehogenhaug/modern_nlp_ex</a>"
      ],
      "text/plain": [
       "<IPython.core.display.HTML object>"
      ]
     },
     "metadata": {},
     "output_type": "display_data"
    },
    {
     "data": {
      "text/html": [
       " View run at <a href='https://wandb.ai/pierrehogenhaug/modern_nlp_ex/runs/j2t7j0lp' target=\"_blank\">https://wandb.ai/pierrehogenhaug/modern_nlp_ex/runs/j2t7j0lp</a>"
      ],
      "text/plain": [
       "<IPython.core.display.HTML object>"
      ]
     },
     "metadata": {},
     "output_type": "display_data"
    },
    {
     "name": "stdout",
     "output_type": "stream",
     "text": [
      "Epoch 1/50 | Loss: 0.6667\n",
      "Epoch 2/50 | Loss: 0.6297\n",
      "Epoch 3/50 | Loss: 0.6080\n",
      "Epoch 4/50 | Loss: 0.5918\n",
      "Epoch 5/50 | Loss: 0.5790\n",
      "Epoch 6/50 | Loss: 0.5692\n",
      "Epoch 7/50 | Loss: 0.5602\n",
      "Epoch 8/50 | Loss: 0.5525\n",
      "Epoch 9/50 | Loss: 0.5458\n",
      "Epoch 10/50 | Loss: 0.5404\n",
      "Epoch 11/50 | Loss: 0.5353\n",
      "Epoch 12/50 | Loss: 0.5309\n",
      "Epoch 13/50 | Loss: 0.5269\n",
      "Epoch 14/50 | Loss: 0.5230\n",
      "Epoch 15/50 | Loss: 0.5193\n",
      "Epoch 16/50 | Loss: 0.5164\n",
      "Epoch 17/50 | Loss: 0.5135\n",
      "Epoch 18/50 | Loss: 0.5110\n",
      "Epoch 19/50 | Loss: 0.5082\n",
      "Epoch 20/50 | Loss: 0.5059\n",
      "Epoch 21/50 | Loss: 0.5037\n",
      "Epoch 22/50 | Loss: 0.5018\n",
      "Epoch 23/50 | Loss: 0.4999\n",
      "Epoch 24/50 | Loss: 0.4978\n",
      "Epoch 25/50 | Loss: 0.4961\n",
      "Epoch 26/50 | Loss: 0.4943\n",
      "Epoch 27/50 | Loss: 0.4930\n",
      "Epoch 28/50 | Loss: 0.4914\n",
      "Epoch 29/50 | Loss: 0.4901\n",
      "Epoch 30/50 | Loss: 0.4886\n",
      "Epoch 31/50 | Loss: 0.4874\n",
      "Epoch 32/50 | Loss: 0.4861\n",
      "Epoch 33/50 | Loss: 0.4848\n",
      "Epoch 34/50 | Loss: 0.4839\n",
      "Epoch 35/50 | Loss: 0.4827\n",
      "Epoch 36/50 | Loss: 0.4818\n",
      "Epoch 37/50 | Loss: 0.4808\n",
      "Epoch 38/50 | Loss: 0.4799\n",
      "Epoch 39/50 | Loss: 0.4789\n",
      "Epoch 40/50 | Loss: 0.4781\n",
      "Epoch 41/50 | Loss: 0.4768\n",
      "Epoch 42/50 | Loss: 0.4762\n",
      "Epoch 43/50 | Loss: 0.4752\n",
      "Epoch 44/50 | Loss: 0.4747\n",
      "Epoch 45/50 | Loss: 0.4739\n",
      "Epoch 46/50 | Loss: 0.4735\n",
      "Epoch 47/50 | Loss: 0.4721\n",
      "Epoch 48/50 | Loss: 0.4716\n",
      "Epoch 49/50 | Loss: 0.4711\n",
      "Epoch 50/50 | Loss: 0.4703\n",
      "Test Acc: 79.07%\n"
     ]
    },
    {
     "name": "stderr",
     "output_type": "stream",
     "text": [
      "wandb: WARNING Source type is set to 'repo' but some required information is missing from the environment. A job will not be created from this run. See https://docs.wandb.ai/guides/launch/create-job\n"
     ]
    },
    {
     "data": {
      "text/html": [
       "<style>\n",
       "    table.wandb td:nth-child(1) { padding: 0 10px; text-align: left ; width: auto;} td:nth-child(2) {text-align: left ; width: 100%}\n",
       "    .wandb-row { display: flex; flex-direction: row; flex-wrap: wrap; justify-content: flex-start; width: 100% }\n",
       "    .wandb-col { display: flex; flex-direction: column; flex-basis: 100%; flex: 1; padding: 10px; }\n",
       "    </style>\n",
       "<div class=\"wandb-row\"><div class=\"wandb-col\"><h3>Run history:</h3><br/><table class=\"wandb\"><tr><td>epoch</td><td>▁▁▁▁▂▂▂▂▂▃▃▃▃▃▃▄▄▄▄▄▅▅▅▅▅▅▆▆▆▆▆▆▇▇▇▇▇███</td></tr><tr><td>test_accuracy</td><td>▁</td></tr><tr><td>test_loss</td><td>▁</td></tr><tr><td>train_loss</td><td>█▇▆▅▅▄▄▄▃▃▃▃▃▃▂▂▂▂▂▂▂▂▂▂▂▂▂▁▁▁▁▁▁▁▁▁▁▁▁▁</td></tr></table><br/></div><div class=\"wandb-col\"><h3>Run summary:</h3><br/><table class=\"wandb\"><tr><td>epoch</td><td>50</td></tr><tr><td>test_accuracy</td><td>0.7907</td></tr><tr><td>test_loss</td><td>0.46133</td></tr><tr><td>train_loss</td><td>0.47031</td></tr></table><br/></div></div>"
      ],
      "text/plain": [
       "<IPython.core.display.HTML object>"
      ]
     },
     "metadata": {},
     "output_type": "display_data"
    },
    {
     "data": {
      "text/html": [
       " View run <strong style=\"color:#cdcd00\">serene-thunder-24</strong> at: <a href='https://wandb.ai/pierrehogenhaug/modern_nlp_ex/runs/j2t7j0lp' target=\"_blank\">https://wandb.ai/pierrehogenhaug/modern_nlp_ex/runs/j2t7j0lp</a><br/>Synced 6 W&B file(s), 0 media file(s), 0 artifact file(s) and 0 other file(s)"
      ],
      "text/plain": [
       "<IPython.core.display.HTML object>"
      ]
     },
     "metadata": {},
     "output_type": "display_data"
    },
    {
     "data": {
      "text/html": [
       "Find logs at: <code>./wandb/run-20240313_110711-j2t7j0lp/logs</code>"
      ],
      "text/plain": [
       "<IPython.core.display.HTML object>"
      ]
     },
     "metadata": {},
     "output_type": "display_data"
    },
    {
     "name": "stdout",
     "output_type": "stream",
     "text": [
      "\n",
      "Training with avg_pool, lr=0.1, batch_size=64, epochs=70\n"
     ]
    },
    {
     "data": {
      "text/html": [
       "Tracking run with wandb version 0.16.4"
      ],
      "text/plain": [
       "<IPython.core.display.HTML object>"
      ]
     },
     "metadata": {},
     "output_type": "display_data"
    },
    {
     "data": {
      "text/html": [
       "Run data is saved locally in <code>/Users/phog/Desktop/cleverThings/Modern_NLP/cs-552-modern-nlp/Exercises/Week 1 - Word Embeddings/wandb/run-20240313_110730-afv9w96p</code>"
      ],
      "text/plain": [
       "<IPython.core.display.HTML object>"
      ]
     },
     "metadata": {},
     "output_type": "display_data"
    },
    {
     "data": {
      "text/html": [
       "Syncing run <strong><a href='https://wandb.ai/pierrehogenhaug/modern_nlp_ex/runs/afv9w96p' target=\"_blank\">efficient-snow-25</a></strong> to <a href='https://wandb.ai/pierrehogenhaug/modern_nlp_ex' target=\"_blank\">Weights & Biases</a> (<a href='https://wandb.me/run' target=\"_blank\">docs</a>)<br/>"
      ],
      "text/plain": [
       "<IPython.core.display.HTML object>"
      ]
     },
     "metadata": {},
     "output_type": "display_data"
    },
    {
     "data": {
      "text/html": [
       " View project at <a href='https://wandb.ai/pierrehogenhaug/modern_nlp_ex' target=\"_blank\">https://wandb.ai/pierrehogenhaug/modern_nlp_ex</a>"
      ],
      "text/plain": [
       "<IPython.core.display.HTML object>"
      ]
     },
     "metadata": {},
     "output_type": "display_data"
    },
    {
     "data": {
      "text/html": [
       " View run at <a href='https://wandb.ai/pierrehogenhaug/modern_nlp_ex/runs/afv9w96p' target=\"_blank\">https://wandb.ai/pierrehogenhaug/modern_nlp_ex/runs/afv9w96p</a>"
      ],
      "text/plain": [
       "<IPython.core.display.HTML object>"
      ]
     },
     "metadata": {},
     "output_type": "display_data"
    },
    {
     "name": "stdout",
     "output_type": "stream",
     "text": [
      "Epoch 1/70 | Loss: 0.6657\n",
      "Epoch 2/70 | Loss: 0.6286\n",
      "Epoch 3/70 | Loss: 0.6061\n",
      "Epoch 4/70 | Loss: 0.5895\n",
      "Epoch 5/70 | Loss: 0.5767\n",
      "Epoch 6/70 | Loss: 0.5662\n",
      "Epoch 7/70 | Loss: 0.5573\n",
      "Epoch 8/70 | Loss: 0.5495\n",
      "Epoch 9/70 | Loss: 0.5431\n",
      "Epoch 10/70 | Loss: 0.5373\n",
      "Epoch 11/70 | Loss: 0.5323\n",
      "Epoch 12/70 | Loss: 0.5275\n",
      "Epoch 13/70 | Loss: 0.5234\n",
      "Epoch 14/70 | Loss: 0.5199\n",
      "Epoch 15/70 | Loss: 0.5160\n",
      "Epoch 16/70 | Loss: 0.5128\n",
      "Epoch 17/70 | Loss: 0.5102\n",
      "Epoch 18/70 | Loss: 0.5074\n",
      "Epoch 19/70 | Loss: 0.5049\n",
      "Epoch 20/70 | Loss: 0.5028\n",
      "Epoch 21/70 | Loss: 0.5000\n",
      "Epoch 22/70 | Loss: 0.4982\n",
      "Epoch 23/70 | Loss: 0.4963\n",
      "Epoch 24/70 | Loss: 0.4942\n",
      "Epoch 25/70 | Loss: 0.4927\n",
      "Epoch 26/70 | Loss: 0.4911\n",
      "Epoch 27/70 | Loss: 0.4895\n",
      "Epoch 28/70 | Loss: 0.4881\n",
      "Epoch 29/70 | Loss: 0.4865\n",
      "Epoch 30/70 | Loss: 0.4851\n",
      "Epoch 31/70 | Loss: 0.4837\n",
      "Epoch 32/70 | Loss: 0.4824\n",
      "Epoch 33/70 | Loss: 0.4815\n",
      "Epoch 34/70 | Loss: 0.4801\n",
      "Epoch 35/70 | Loss: 0.4789\n",
      "Epoch 36/70 | Loss: 0.4779\n",
      "Epoch 37/70 | Loss: 0.4770\n",
      "Epoch 38/70 | Loss: 0.4759\n",
      "Epoch 39/70 | Loss: 0.4753\n",
      "Epoch 40/70 | Loss: 0.4742\n",
      "Epoch 41/70 | Loss: 0.4735\n",
      "Epoch 42/70 | Loss: 0.4726\n",
      "Epoch 43/70 | Loss: 0.4716\n",
      "Epoch 44/70 | Loss: 0.4710\n",
      "Epoch 45/70 | Loss: 0.4703\n",
      "Epoch 46/70 | Loss: 0.4695\n",
      "Epoch 47/70 | Loss: 0.4691\n",
      "Epoch 48/70 | Loss: 0.4682\n",
      "Epoch 49/70 | Loss: 0.4676\n",
      "Epoch 50/70 | Loss: 0.4667\n",
      "Epoch 51/70 | Loss: 0.4661\n",
      "Epoch 52/70 | Loss: 0.4654\n",
      "Epoch 53/70 | Loss: 0.4650\n",
      "Epoch 54/70 | Loss: 0.4646\n",
      "Epoch 55/70 | Loss: 0.4637\n",
      "Epoch 56/70 | Loss: 0.4634\n",
      "Epoch 57/70 | Loss: 0.4629\n",
      "Epoch 58/70 | Loss: 0.4622\n",
      "Epoch 59/70 | Loss: 0.4619\n",
      "Epoch 60/70 | Loss: 0.4612\n",
      "Epoch 61/70 | Loss: 0.4611\n",
      "Epoch 62/70 | Loss: 0.4606\n",
      "Epoch 63/70 | Loss: 0.4601\n",
      "Epoch 64/70 | Loss: 0.4597\n",
      "Epoch 65/70 | Loss: 0.4589\n",
      "Epoch 66/70 | Loss: 0.4586\n",
      "Epoch 67/70 | Loss: 0.4584\n",
      "Epoch 68/70 | Loss: 0.4581\n",
      "Epoch 69/70 | Loss: 0.4578\n",
      "Epoch 70/70 | Loss: 0.4571\n",
      "Test Acc: 78.71%\n"
     ]
    },
    {
     "name": "stderr",
     "output_type": "stream",
     "text": [
      "wandb: WARNING Source type is set to 'repo' but some required information is missing from the environment. A job will not be created from this run. See https://docs.wandb.ai/guides/launch/create-job\n"
     ]
    },
    {
     "data": {
      "text/html": [
       "<style>\n",
       "    table.wandb td:nth-child(1) { padding: 0 10px; text-align: left ; width: auto;} td:nth-child(2) {text-align: left ; width: 100%}\n",
       "    .wandb-row { display: flex; flex-direction: row; flex-wrap: wrap; justify-content: flex-start; width: 100% }\n",
       "    .wandb-col { display: flex; flex-direction: column; flex-basis: 100%; flex: 1; padding: 10px; }\n",
       "    </style>\n",
       "<div class=\"wandb-row\"><div class=\"wandb-col\"><h3>Run history:</h3><br/><table class=\"wandb\"><tr><td>epoch</td><td>▁▁▁▂▂▂▂▂▂▃▃▃▃▃▃▄▄▄▄▄▅▅▅▅▅▅▆▆▆▆▆▆▇▇▇▇▇███</td></tr><tr><td>test_accuracy</td><td>▁</td></tr><tr><td>test_loss</td><td>▁</td></tr><tr><td>train_loss</td><td>█▇▅▅▄▄▄▃▃▃▃▃▂▂▂▂▂▂▂▂▂▂▂▂▁▁▁▁▁▁▁▁▁▁▁▁▁▁▁▁</td></tr></table><br/></div><div class=\"wandb-col\"><h3>Run summary:</h3><br/><table class=\"wandb\"><tr><td>epoch</td><td>70</td></tr><tr><td>test_accuracy</td><td>0.78712</td></tr><tr><td>test_loss</td><td>0.46084</td></tr><tr><td>train_loss</td><td>0.45707</td></tr></table><br/></div></div>"
      ],
      "text/plain": [
       "<IPython.core.display.HTML object>"
      ]
     },
     "metadata": {},
     "output_type": "display_data"
    },
    {
     "data": {
      "text/html": [
       " View run <strong style=\"color:#cdcd00\">efficient-snow-25</strong> at: <a href='https://wandb.ai/pierrehogenhaug/modern_nlp_ex/runs/afv9w96p' target=\"_blank\">https://wandb.ai/pierrehogenhaug/modern_nlp_ex/runs/afv9w96p</a><br/>Synced 6 W&B file(s), 0 media file(s), 0 artifact file(s) and 0 other file(s)"
      ],
      "text/plain": [
       "<IPython.core.display.HTML object>"
      ]
     },
     "metadata": {},
     "output_type": "display_data"
    },
    {
     "data": {
      "text/html": [
       "Find logs at: <code>./wandb/run-20240313_110730-afv9w96p/logs</code>"
      ],
      "text/plain": [
       "<IPython.core.display.HTML object>"
      ]
     },
     "metadata": {},
     "output_type": "display_data"
    },
    {
     "name": "stdout",
     "output_type": "stream",
     "text": [
      "\n",
      "Training with avg_pool, lr=0.1, batch_size=128, epochs=30\n"
     ]
    },
    {
     "data": {
      "text/html": [
       "Tracking run with wandb version 0.16.4"
      ],
      "text/plain": [
       "<IPython.core.display.HTML object>"
      ]
     },
     "metadata": {},
     "output_type": "display_data"
    },
    {
     "data": {
      "text/html": [
       "Run data is saved locally in <code>/Users/phog/Desktop/cleverThings/Modern_NLP/cs-552-modern-nlp/Exercises/Week 1 - Word Embeddings/wandb/run-20240313_110752-smy7hkjc</code>"
      ],
      "text/plain": [
       "<IPython.core.display.HTML object>"
      ]
     },
     "metadata": {},
     "output_type": "display_data"
    },
    {
     "data": {
      "text/html": [
       "Syncing run <strong><a href='https://wandb.ai/pierrehogenhaug/modern_nlp_ex/runs/smy7hkjc' target=\"_blank\">serene-silence-26</a></strong> to <a href='https://wandb.ai/pierrehogenhaug/modern_nlp_ex' target=\"_blank\">Weights & Biases</a> (<a href='https://wandb.me/run' target=\"_blank\">docs</a>)<br/>"
      ],
      "text/plain": [
       "<IPython.core.display.HTML object>"
      ]
     },
     "metadata": {},
     "output_type": "display_data"
    },
    {
     "data": {
      "text/html": [
       " View project at <a href='https://wandb.ai/pierrehogenhaug/modern_nlp_ex' target=\"_blank\">https://wandb.ai/pierrehogenhaug/modern_nlp_ex</a>"
      ],
      "text/plain": [
       "<IPython.core.display.HTML object>"
      ]
     },
     "metadata": {},
     "output_type": "display_data"
    },
    {
     "data": {
      "text/html": [
       " View run at <a href='https://wandb.ai/pierrehogenhaug/modern_nlp_ex/runs/smy7hkjc' target=\"_blank\">https://wandb.ai/pierrehogenhaug/modern_nlp_ex/runs/smy7hkjc</a>"
      ],
      "text/plain": [
       "<IPython.core.display.HTML object>"
      ]
     },
     "metadata": {},
     "output_type": "display_data"
    },
    {
     "name": "stdout",
     "output_type": "stream",
     "text": [
      "Epoch 1/30 | Loss: 0.6759\n",
      "Epoch 2/30 | Loss: 0.6506\n",
      "Epoch 3/30 | Loss: 0.6326\n",
      "Epoch 4/30 | Loss: 0.6196\n",
      "Epoch 5/30 | Loss: 0.6085\n",
      "Epoch 6/30 | Loss: 0.5993\n",
      "Epoch 7/30 | Loss: 0.5913\n",
      "Epoch 8/30 | Loss: 0.5843\n",
      "Epoch 9/30 | Loss: 0.5779\n",
      "Epoch 10/30 | Loss: 0.5723\n",
      "Epoch 11/30 | Loss: 0.5671\n",
      "Epoch 12/30 | Loss: 0.5624\n",
      "Epoch 13/30 | Loss: 0.5583\n",
      "Epoch 14/30 | Loss: 0.5540\n",
      "Epoch 15/30 | Loss: 0.5503\n",
      "Epoch 16/30 | Loss: 0.5469\n",
      "Epoch 17/30 | Loss: 0.5439\n",
      "Epoch 18/30 | Loss: 0.5408\n",
      "Epoch 19/30 | Loss: 0.5377\n",
      "Epoch 20/30 | Loss: 0.5349\n",
      "Epoch 21/30 | Loss: 0.5324\n",
      "Epoch 22/30 | Loss: 0.5302\n",
      "Epoch 23/30 | Loss: 0.5279\n",
      "Epoch 24/30 | Loss: 0.5258\n",
      "Epoch 25/30 | Loss: 0.5238\n",
      "Epoch 26/30 | Loss: 0.5216\n",
      "Epoch 27/30 | Loss: 0.5199\n",
      "Epoch 28/30 | Loss: 0.5181\n",
      "Epoch 29/30 | Loss: 0.5164\n",
      "Epoch 30/30 | Loss: 0.5149\n",
      "Test Acc: 76.49%\n"
     ]
    },
    {
     "name": "stderr",
     "output_type": "stream",
     "text": [
      "wandb: WARNING Source type is set to 'repo' but some required information is missing from the environment. A job will not be created from this run. See https://docs.wandb.ai/guides/launch/create-job\n"
     ]
    },
    {
     "data": {
      "text/html": [
       "<style>\n",
       "    table.wandb td:nth-child(1) { padding: 0 10px; text-align: left ; width: auto;} td:nth-child(2) {text-align: left ; width: 100%}\n",
       "    .wandb-row { display: flex; flex-direction: row; flex-wrap: wrap; justify-content: flex-start; width: 100% }\n",
       "    .wandb-col { display: flex; flex-direction: column; flex-basis: 100%; flex: 1; padding: 10px; }\n",
       "    </style>\n",
       "<div class=\"wandb-row\"><div class=\"wandb-col\"><h3>Run history:</h3><br/><table class=\"wandb\"><tr><td>epoch</td><td>▁▁▁▂▂▂▂▃▃▃▃▄▄▄▄▅▅▅▅▆▆▆▆▇▇▇▇███</td></tr><tr><td>test_accuracy</td><td>▁</td></tr><tr><td>test_loss</td><td>▁</td></tr><tr><td>train_loss</td><td>█▇▆▆▅▅▄▄▄▃▃▃▃▃▃▂▂▂▂▂▂▂▂▁▁▁▁▁▁▁</td></tr></table><br/></div><div class=\"wandb-col\"><h3>Run summary:</h3><br/><table class=\"wandb\"><tr><td>epoch</td><td>30</td></tr><tr><td>test_accuracy</td><td>0.76493</td></tr><tr><td>test_loss</td><td>0.51499</td></tr><tr><td>train_loss</td><td>0.51487</td></tr></table><br/></div></div>"
      ],
      "text/plain": [
       "<IPython.core.display.HTML object>"
      ]
     },
     "metadata": {},
     "output_type": "display_data"
    },
    {
     "data": {
      "text/html": [
       " View run <strong style=\"color:#cdcd00\">serene-silence-26</strong> at: <a href='https://wandb.ai/pierrehogenhaug/modern_nlp_ex/runs/smy7hkjc' target=\"_blank\">https://wandb.ai/pierrehogenhaug/modern_nlp_ex/runs/smy7hkjc</a><br/>Synced 6 W&B file(s), 0 media file(s), 0 artifact file(s) and 0 other file(s)"
      ],
      "text/plain": [
       "<IPython.core.display.HTML object>"
      ]
     },
     "metadata": {},
     "output_type": "display_data"
    },
    {
     "data": {
      "text/html": [
       "Find logs at: <code>./wandb/run-20240313_110752-smy7hkjc/logs</code>"
      ],
      "text/plain": [
       "<IPython.core.display.HTML object>"
      ]
     },
     "metadata": {},
     "output_type": "display_data"
    },
    {
     "name": "stdout",
     "output_type": "stream",
     "text": [
      "\n",
      "Training with avg_pool, lr=0.1, batch_size=128, epochs=50\n"
     ]
    },
    {
     "data": {
      "text/html": [
       "Tracking run with wandb version 0.16.4"
      ],
      "text/plain": [
       "<IPython.core.display.HTML object>"
      ]
     },
     "metadata": {},
     "output_type": "display_data"
    },
    {
     "data": {
      "text/html": [
       "Run data is saved locally in <code>/Users/phog/Desktop/cleverThings/Modern_NLP/cs-552-modern-nlp/Exercises/Week 1 - Word Embeddings/wandb/run-20240313_110805-a57z4eho</code>"
      ],
      "text/plain": [
       "<IPython.core.display.HTML object>"
      ]
     },
     "metadata": {},
     "output_type": "display_data"
    },
    {
     "data": {
      "text/html": [
       "Syncing run <strong><a href='https://wandb.ai/pierrehogenhaug/modern_nlp_ex/runs/a57z4eho' target=\"_blank\">solar-field-27</a></strong> to <a href='https://wandb.ai/pierrehogenhaug/modern_nlp_ex' target=\"_blank\">Weights & Biases</a> (<a href='https://wandb.me/run' target=\"_blank\">docs</a>)<br/>"
      ],
      "text/plain": [
       "<IPython.core.display.HTML object>"
      ]
     },
     "metadata": {},
     "output_type": "display_data"
    },
    {
     "data": {
      "text/html": [
       " View project at <a href='https://wandb.ai/pierrehogenhaug/modern_nlp_ex' target=\"_blank\">https://wandb.ai/pierrehogenhaug/modern_nlp_ex</a>"
      ],
      "text/plain": [
       "<IPython.core.display.HTML object>"
      ]
     },
     "metadata": {},
     "output_type": "display_data"
    },
    {
     "data": {
      "text/html": [
       " View run at <a href='https://wandb.ai/pierrehogenhaug/modern_nlp_ex/runs/a57z4eho' target=\"_blank\">https://wandb.ai/pierrehogenhaug/modern_nlp_ex/runs/a57z4eho</a>"
      ],
      "text/plain": [
       "<IPython.core.display.HTML object>"
      ]
     },
     "metadata": {},
     "output_type": "display_data"
    },
    {
     "name": "stdout",
     "output_type": "stream",
     "text": [
      "Epoch 1/50 | Loss: 0.6744\n",
      "Epoch 2/50 | Loss: 0.6499\n",
      "Epoch 3/50 | Loss: 0.6328\n",
      "Epoch 4/50 | Loss: 0.6193\n",
      "Epoch 5/50 | Loss: 0.6085\n",
      "Epoch 6/50 | Loss: 0.5993\n",
      "Epoch 7/50 | Loss: 0.5915\n",
      "Epoch 8/50 | Loss: 0.5842\n",
      "Epoch 9/50 | Loss: 0.5778\n",
      "Epoch 10/50 | Loss: 0.5721\n",
      "Epoch 11/50 | Loss: 0.5668\n",
      "Epoch 12/50 | Loss: 0.5619\n",
      "Epoch 13/50 | Loss: 0.5576\n",
      "Epoch 14/50 | Loss: 0.5540\n",
      "Epoch 15/50 | Loss: 0.5501\n",
      "Epoch 16/50 | Loss: 0.5466\n",
      "Epoch 17/50 | Loss: 0.5434\n",
      "Epoch 18/50 | Loss: 0.5403\n",
      "Epoch 19/50 | Loss: 0.5374\n",
      "Epoch 20/50 | Loss: 0.5345\n",
      "Epoch 21/50 | Loss: 0.5320\n",
      "Epoch 22/50 | Loss: 0.5298\n",
      "Epoch 23/50 | Loss: 0.5275\n",
      "Epoch 24/50 | Loss: 0.5252\n",
      "Epoch 25/50 | Loss: 0.5232\n",
      "Epoch 26/50 | Loss: 0.5210\n",
      "Epoch 27/50 | Loss: 0.5192\n",
      "Epoch 28/50 | Loss: 0.5176\n",
      "Epoch 29/50 | Loss: 0.5159\n",
      "Epoch 30/50 | Loss: 0.5142\n",
      "Epoch 31/50 | Loss: 0.5127\n",
      "Epoch 32/50 | Loss: 0.5110\n",
      "Epoch 33/50 | Loss: 0.5097\n",
      "Epoch 34/50 | Loss: 0.5083\n",
      "Epoch 35/50 | Loss: 0.5067\n",
      "Epoch 36/50 | Loss: 0.5055\n",
      "Epoch 37/50 | Loss: 0.5043\n",
      "Epoch 38/50 | Loss: 0.5031\n",
      "Epoch 39/50 | Loss: 0.5018\n",
      "Epoch 40/50 | Loss: 0.5006\n",
      "Epoch 41/50 | Loss: 0.4997\n",
      "Epoch 42/50 | Loss: 0.4988\n",
      "Epoch 43/50 | Loss: 0.4976\n",
      "Epoch 44/50 | Loss: 0.4968\n",
      "Epoch 45/50 | Loss: 0.4958\n",
      "Epoch 46/50 | Loss: 0.4947\n",
      "Epoch 47/50 | Loss: 0.4939\n",
      "Epoch 48/50 | Loss: 0.4930\n",
      "Epoch 49/50 | Loss: 0.4921\n",
      "Epoch 50/50 | Loss: 0.4912\n",
      "Test Acc: 77.25%\n"
     ]
    },
    {
     "name": "stderr",
     "output_type": "stream",
     "text": [
      "wandb: WARNING Source type is set to 'repo' but some required information is missing from the environment. A job will not be created from this run. See https://docs.wandb.ai/guides/launch/create-job\n"
     ]
    },
    {
     "data": {
      "text/html": [
       "<style>\n",
       "    table.wandb td:nth-child(1) { padding: 0 10px; text-align: left ; width: auto;} td:nth-child(2) {text-align: left ; width: 100%}\n",
       "    .wandb-row { display: flex; flex-direction: row; flex-wrap: wrap; justify-content: flex-start; width: 100% }\n",
       "    .wandb-col { display: flex; flex-direction: column; flex-basis: 100%; flex: 1; padding: 10px; }\n",
       "    </style>\n",
       "<div class=\"wandb-row\"><div class=\"wandb-col\"><h3>Run history:</h3><br/><table class=\"wandb\"><tr><td>epoch</td><td>▁▁▁▁▂▂▂▂▂▃▃▃▃▃▃▄▄▄▄▄▅▅▅▅▅▅▆▆▆▆▆▆▇▇▇▇▇███</td></tr><tr><td>test_accuracy</td><td>▁</td></tr><tr><td>test_loss</td><td>▁</td></tr><tr><td>train_loss</td><td>█▇▆▆▅▅▅▄▄▄▄▃▃▃▃▃▃▂▂▂▂▂▂▂▂▂▂▂▂▂▁▁▁▁▁▁▁▁▁▁</td></tr></table><br/></div><div class=\"wandb-col\"><h3>Run summary:</h3><br/><table class=\"wandb\"><tr><td>epoch</td><td>50</td></tr><tr><td>test_accuracy</td><td>0.77255</td></tr><tr><td>test_loss</td><td>0.49601</td></tr><tr><td>train_loss</td><td>0.49118</td></tr></table><br/></div></div>"
      ],
      "text/plain": [
       "<IPython.core.display.HTML object>"
      ]
     },
     "metadata": {},
     "output_type": "display_data"
    },
    {
     "data": {
      "text/html": [
       " View run <strong style=\"color:#cdcd00\">solar-field-27</strong> at: <a href='https://wandb.ai/pierrehogenhaug/modern_nlp_ex/runs/a57z4eho' target=\"_blank\">https://wandb.ai/pierrehogenhaug/modern_nlp_ex/runs/a57z4eho</a><br/>Synced 6 W&B file(s), 0 media file(s), 0 artifact file(s) and 0 other file(s)"
      ],
      "text/plain": [
       "<IPython.core.display.HTML object>"
      ]
     },
     "metadata": {},
     "output_type": "display_data"
    },
    {
     "data": {
      "text/html": [
       "Find logs at: <code>./wandb/run-20240313_110805-a57z4eho/logs</code>"
      ],
      "text/plain": [
       "<IPython.core.display.HTML object>"
      ]
     },
     "metadata": {},
     "output_type": "display_data"
    },
    {
     "name": "stdout",
     "output_type": "stream",
     "text": [
      "\n",
      "Training with avg_pool, lr=0.1, batch_size=128, epochs=70\n"
     ]
    },
    {
     "data": {
      "text/html": [
       "Tracking run with wandb version 0.16.4"
      ],
      "text/plain": [
       "<IPython.core.display.HTML object>"
      ]
     },
     "metadata": {},
     "output_type": "display_data"
    },
    {
     "data": {
      "text/html": [
       "Run data is saved locally in <code>/Users/phog/Desktop/cleverThings/Modern_NLP/cs-552-modern-nlp/Exercises/Week 1 - Word Embeddings/wandb/run-20240313_110822-8rd4arzl</code>"
      ],
      "text/plain": [
       "<IPython.core.display.HTML object>"
      ]
     },
     "metadata": {},
     "output_type": "display_data"
    },
    {
     "data": {
      "text/html": [
       "Syncing run <strong><a href='https://wandb.ai/pierrehogenhaug/modern_nlp_ex/runs/8rd4arzl' target=\"_blank\">silver-dawn-28</a></strong> to <a href='https://wandb.ai/pierrehogenhaug/modern_nlp_ex' target=\"_blank\">Weights & Biases</a> (<a href='https://wandb.me/run' target=\"_blank\">docs</a>)<br/>"
      ],
      "text/plain": [
       "<IPython.core.display.HTML object>"
      ]
     },
     "metadata": {},
     "output_type": "display_data"
    },
    {
     "data": {
      "text/html": [
       " View project at <a href='https://wandb.ai/pierrehogenhaug/modern_nlp_ex' target=\"_blank\">https://wandb.ai/pierrehogenhaug/modern_nlp_ex</a>"
      ],
      "text/plain": [
       "<IPython.core.display.HTML object>"
      ]
     },
     "metadata": {},
     "output_type": "display_data"
    },
    {
     "data": {
      "text/html": [
       " View run at <a href='https://wandb.ai/pierrehogenhaug/modern_nlp_ex/runs/8rd4arzl' target=\"_blank\">https://wandb.ai/pierrehogenhaug/modern_nlp_ex/runs/8rd4arzl</a>"
      ],
      "text/plain": [
       "<IPython.core.display.HTML object>"
      ]
     },
     "metadata": {},
     "output_type": "display_data"
    },
    {
     "name": "stdout",
     "output_type": "stream",
     "text": [
      "Epoch 1/70 | Loss: 0.6792\n",
      "Epoch 2/70 | Loss: 0.6530\n",
      "Epoch 3/70 | Loss: 0.6349\n",
      "Epoch 4/70 | Loss: 0.6213\n",
      "Epoch 5/70 | Loss: 0.6103\n",
      "Epoch 6/70 | Loss: 0.6011\n",
      "Epoch 7/70 | Loss: 0.5928\n",
      "Epoch 8/70 | Loss: 0.5856\n",
      "Epoch 9/70 | Loss: 0.5791\n",
      "Epoch 10/70 | Loss: 0.5736\n",
      "Epoch 11/70 | Loss: 0.5686\n",
      "Epoch 12/70 | Loss: 0.5637\n",
      "Epoch 13/70 | Loss: 0.5593\n",
      "Epoch 14/70 | Loss: 0.5553\n",
      "Epoch 15/70 | Loss: 0.5513\n",
      "Epoch 16/70 | Loss: 0.5482\n",
      "Epoch 17/70 | Loss: 0.5448\n",
      "Epoch 18/70 | Loss: 0.5417\n",
      "Epoch 19/70 | Loss: 0.5389\n",
      "Epoch 20/70 | Loss: 0.5362\n",
      "Epoch 21/70 | Loss: 0.5336\n",
      "Epoch 22/70 | Loss: 0.5311\n",
      "Epoch 23/70 | Loss: 0.5289\n",
      "Epoch 24/70 | Loss: 0.5266\n",
      "Epoch 25/70 | Loss: 0.5244\n",
      "Epoch 26/70 | Loss: 0.5225\n",
      "Epoch 27/70 | Loss: 0.5208\n",
      "Epoch 28/70 | Loss: 0.5188\n",
      "Epoch 29/70 | Loss: 0.5174\n",
      "Epoch 30/70 | Loss: 0.5156\n",
      "Epoch 31/70 | Loss: 0.5142\n",
      "Epoch 32/70 | Loss: 0.5125\n",
      "Epoch 33/70 | Loss: 0.5112\n",
      "Epoch 34/70 | Loss: 0.5100\n",
      "Epoch 35/70 | Loss: 0.5085\n",
      "Epoch 36/70 | Loss: 0.5072\n",
      "Epoch 37/70 | Loss: 0.5059\n",
      "Epoch 38/70 | Loss: 0.5048\n",
      "Epoch 39/70 | Loss: 0.5036\n",
      "Epoch 40/70 | Loss: 0.5024\n",
      "Epoch 41/70 | Loss: 0.5012\n",
      "Epoch 42/70 | Loss: 0.5003\n",
      "Epoch 43/70 | Loss: 0.4994\n",
      "Epoch 44/70 | Loss: 0.4981\n",
      "Epoch 45/70 | Loss: 0.4973\n",
      "Epoch 46/70 | Loss: 0.4963\n",
      "Epoch 47/70 | Loss: 0.4953\n",
      "Epoch 48/70 | Loss: 0.4943\n",
      "Epoch 49/70 | Loss: 0.4934\n",
      "Epoch 50/70 | Loss: 0.4927\n",
      "Epoch 51/70 | Loss: 0.4921\n",
      "Epoch 52/70 | Loss: 0.4911\n",
      "Epoch 53/70 | Loss: 0.4902\n",
      "Epoch 54/70 | Loss: 0.4898\n",
      "Epoch 55/70 | Loss: 0.4889\n",
      "Epoch 56/70 | Loss: 0.4882\n",
      "Epoch 57/70 | Loss: 0.4874\n",
      "Epoch 58/70 | Loss: 0.4868\n",
      "Epoch 59/70 | Loss: 0.4860\n",
      "Epoch 60/70 | Loss: 0.4853\n",
      "Epoch 61/70 | Loss: 0.4851\n",
      "Epoch 62/70 | Loss: 0.4841\n",
      "Epoch 63/70 | Loss: 0.4836\n",
      "Epoch 64/70 | Loss: 0.4830\n",
      "Epoch 65/70 | Loss: 0.4823\n",
      "Epoch 66/70 | Loss: 0.4818\n",
      "Epoch 67/70 | Loss: 0.4813\n",
      "Epoch 68/70 | Loss: 0.4807\n",
      "Epoch 69/70 | Loss: 0.4805\n",
      "Epoch 70/70 | Loss: 0.4797\n",
      "Test Acc: 78.15%\n"
     ]
    },
    {
     "name": "stderr",
     "output_type": "stream",
     "text": [
      "wandb: WARNING Source type is set to 'repo' but some required information is missing from the environment. A job will not be created from this run. See https://docs.wandb.ai/guides/launch/create-job\n"
     ]
    },
    {
     "data": {
      "text/html": [
       "<style>\n",
       "    table.wandb td:nth-child(1) { padding: 0 10px; text-align: left ; width: auto;} td:nth-child(2) {text-align: left ; width: 100%}\n",
       "    .wandb-row { display: flex; flex-direction: row; flex-wrap: wrap; justify-content: flex-start; width: 100% }\n",
       "    .wandb-col { display: flex; flex-direction: column; flex-basis: 100%; flex: 1; padding: 10px; }\n",
       "    </style>\n",
       "<div class=\"wandb-row\"><div class=\"wandb-col\"><h3>Run history:</h3><br/><table class=\"wandb\"><tr><td>epoch</td><td>▁▁▁▂▂▂▂▂▂▃▃▃▃▃▃▄▄▄▄▄▅▅▅▅▅▅▆▆▆▆▆▆▇▇▇▇▇███</td></tr><tr><td>test_accuracy</td><td>▁</td></tr><tr><td>test_loss</td><td>▁</td></tr><tr><td>train_loss</td><td>█▇▆▅▅▄▄▄▄▃▃▃▃▃▃▂▂▂▂▂▂▂▂▂▂▂▂▂▁▁▁▁▁▁▁▁▁▁▁▁</td></tr></table><br/></div><div class=\"wandb-col\"><h3>Run summary:</h3><br/><table class=\"wandb\"><tr><td>epoch</td><td>70</td></tr><tr><td>test_accuracy</td><td>0.78155</td></tr><tr><td>test_loss</td><td>0.48021</td></tr><tr><td>train_loss</td><td>0.4797</td></tr></table><br/></div></div>"
      ],
      "text/plain": [
       "<IPython.core.display.HTML object>"
      ]
     },
     "metadata": {},
     "output_type": "display_data"
    },
    {
     "data": {
      "text/html": [
       " View run <strong style=\"color:#cdcd00\">silver-dawn-28</strong> at: <a href='https://wandb.ai/pierrehogenhaug/modern_nlp_ex/runs/8rd4arzl' target=\"_blank\">https://wandb.ai/pierrehogenhaug/modern_nlp_ex/runs/8rd4arzl</a><br/>Synced 6 W&B file(s), 0 media file(s), 0 artifact file(s) and 0 other file(s)"
      ],
      "text/plain": [
       "<IPython.core.display.HTML object>"
      ]
     },
     "metadata": {},
     "output_type": "display_data"
    },
    {
     "data": {
      "text/html": [
       "Find logs at: <code>./wandb/run-20240313_110822-8rd4arzl/logs</code>"
      ],
      "text/plain": [
       "<IPython.core.display.HTML object>"
      ]
     },
     "metadata": {},
     "output_type": "display_data"
    },
    {
     "name": "stdout",
     "output_type": "stream",
     "text": [
      "\n",
      "Training with max_pool, lr=0.001, batch_size=32, epochs=30\n"
     ]
    },
    {
     "data": {
      "text/html": [
       "Tracking run with wandb version 0.16.4"
      ],
      "text/plain": [
       "<IPython.core.display.HTML object>"
      ]
     },
     "metadata": {},
     "output_type": "display_data"
    },
    {
     "data": {
      "text/html": [
       "Run data is saved locally in <code>/Users/phog/Desktop/cleverThings/Modern_NLP/cs-552-modern-nlp/Exercises/Week 1 - Word Embeddings/wandb/run-20240313_110840-p1oeim7i</code>"
      ],
      "text/plain": [
       "<IPython.core.display.HTML object>"
      ]
     },
     "metadata": {},
     "output_type": "display_data"
    },
    {
     "data": {
      "text/html": [
       "Syncing run <strong><a href='https://wandb.ai/pierrehogenhaug/modern_nlp_ex/runs/p1oeim7i' target=\"_blank\">fancy-shape-29</a></strong> to <a href='https://wandb.ai/pierrehogenhaug/modern_nlp_ex' target=\"_blank\">Weights & Biases</a> (<a href='https://wandb.me/run' target=\"_blank\">docs</a>)<br/>"
      ],
      "text/plain": [
       "<IPython.core.display.HTML object>"
      ]
     },
     "metadata": {},
     "output_type": "display_data"
    },
    {
     "data": {
      "text/html": [
       " View project at <a href='https://wandb.ai/pierrehogenhaug/modern_nlp_ex' target=\"_blank\">https://wandb.ai/pierrehogenhaug/modern_nlp_ex</a>"
      ],
      "text/plain": [
       "<IPython.core.display.HTML object>"
      ]
     },
     "metadata": {},
     "output_type": "display_data"
    },
    {
     "data": {
      "text/html": [
       " View run at <a href='https://wandb.ai/pierrehogenhaug/modern_nlp_ex/runs/p1oeim7i' target=\"_blank\">https://wandb.ai/pierrehogenhaug/modern_nlp_ex/runs/p1oeim7i</a>"
      ],
      "text/plain": [
       "<IPython.core.display.HTML object>"
      ]
     },
     "metadata": {},
     "output_type": "display_data"
    },
    {
     "name": "stdout",
     "output_type": "stream",
     "text": [
      "Epoch 1/30 | Loss: 0.6932\n",
      "Epoch 2/30 | Loss: 0.6883\n",
      "Epoch 3/30 | Loss: 0.6843\n",
      "Epoch 4/30 | Loss: 0.6805\n",
      "Epoch 5/30 | Loss: 0.6769\n",
      "Epoch 6/30 | Loss: 0.6736\n",
      "Epoch 7/30 | Loss: 0.6705\n",
      "Epoch 8/30 | Loss: 0.6676\n",
      "Epoch 9/30 | Loss: 0.6649\n",
      "Epoch 10/30 | Loss: 0.6624\n",
      "Epoch 11/30 | Loss: 0.6601\n",
      "Epoch 12/30 | Loss: 0.6577\n",
      "Epoch 13/30 | Loss: 0.6556\n",
      "Epoch 14/30 | Loss: 0.6536\n",
      "Epoch 15/30 | Loss: 0.6517\n",
      "Epoch 16/30 | Loss: 0.6499\n",
      "Epoch 17/30 | Loss: 0.6483\n",
      "Epoch 18/30 | Loss: 0.6466\n",
      "Epoch 19/30 | Loss: 0.6450\n",
      "Epoch 20/30 | Loss: 0.6437\n",
      "Epoch 21/30 | Loss: 0.6423\n",
      "Epoch 22/30 | Loss: 0.6410\n",
      "Epoch 23/30 | Loss: 0.6398\n",
      "Epoch 24/30 | Loss: 0.6385\n",
      "Epoch 25/30 | Loss: 0.6373\n",
      "Epoch 26/30 | Loss: 0.6364\n",
      "Epoch 27/30 | Loss: 0.6353\n",
      "Epoch 28/30 | Loss: 0.6342\n",
      "Epoch 29/30 | Loss: 0.6332\n",
      "Epoch 30/30 | Loss: 0.6324\n",
      "Test Acc: 65.47%\n"
     ]
    },
    {
     "name": "stderr",
     "output_type": "stream",
     "text": [
      "wandb: WARNING Source type is set to 'repo' but some required information is missing from the environment. A job will not be created from this run. See https://docs.wandb.ai/guides/launch/create-job\n"
     ]
    },
    {
     "data": {
      "text/html": [
       "<style>\n",
       "    table.wandb td:nth-child(1) { padding: 0 10px; text-align: left ; width: auto;} td:nth-child(2) {text-align: left ; width: 100%}\n",
       "    .wandb-row { display: flex; flex-direction: row; flex-wrap: wrap; justify-content: flex-start; width: 100% }\n",
       "    .wandb-col { display: flex; flex-direction: column; flex-basis: 100%; flex: 1; padding: 10px; }\n",
       "    </style>\n",
       "<div class=\"wandb-row\"><div class=\"wandb-col\"><h3>Run history:</h3><br/><table class=\"wandb\"><tr><td>epoch</td><td>▁▁▁▂▂▂▂▃▃▃▃▄▄▄▄▅▅▅▅▆▆▆▆▇▇▇▇███</td></tr><tr><td>test_accuracy</td><td>▁</td></tr><tr><td>test_loss</td><td>▁</td></tr><tr><td>train_loss</td><td>█▇▇▇▆▆▅▅▅▄▄▄▄▃▃▃▃▃▂▂▂▂▂▂▂▁▁▁▁▁</td></tr></table><br/></div><div class=\"wandb-col\"><h3>Run summary:</h3><br/><table class=\"wandb\"><tr><td>epoch</td><td>30</td></tr><tr><td>test_accuracy</td><td>0.65465</td></tr><tr><td>test_loss</td><td>0.63417</td></tr><tr><td>train_loss</td><td>0.63242</td></tr></table><br/></div></div>"
      ],
      "text/plain": [
       "<IPython.core.display.HTML object>"
      ]
     },
     "metadata": {},
     "output_type": "display_data"
    },
    {
     "data": {
      "text/html": [
       " View run <strong style=\"color:#cdcd00\">fancy-shape-29</strong> at: <a href='https://wandb.ai/pierrehogenhaug/modern_nlp_ex/runs/p1oeim7i' target=\"_blank\">https://wandb.ai/pierrehogenhaug/modern_nlp_ex/runs/p1oeim7i</a><br/>Synced 6 W&B file(s), 0 media file(s), 0 artifact file(s) and 0 other file(s)"
      ],
      "text/plain": [
       "<IPython.core.display.HTML object>"
      ]
     },
     "metadata": {},
     "output_type": "display_data"
    },
    {
     "data": {
      "text/html": [
       "Find logs at: <code>./wandb/run-20240313_110840-p1oeim7i/logs</code>"
      ],
      "text/plain": [
       "<IPython.core.display.HTML object>"
      ]
     },
     "metadata": {},
     "output_type": "display_data"
    },
    {
     "name": "stdout",
     "output_type": "stream",
     "text": [
      "\n",
      "Training with max_pool, lr=0.001, batch_size=32, epochs=50\n"
     ]
    },
    {
     "data": {
      "text/html": [
       "Tracking run with wandb version 0.16.4"
      ],
      "text/plain": [
       "<IPython.core.display.HTML object>"
      ]
     },
     "metadata": {},
     "output_type": "display_data"
    },
    {
     "data": {
      "text/html": [
       "Run data is saved locally in <code>/Users/phog/Desktop/cleverThings/Modern_NLP/cs-552-modern-nlp/Exercises/Week 1 - Word Embeddings/wandb/run-20240313_110857-xekb3272</code>"
      ],
      "text/plain": [
       "<IPython.core.display.HTML object>"
      ]
     },
     "metadata": {},
     "output_type": "display_data"
    },
    {
     "data": {
      "text/html": [
       "Syncing run <strong><a href='https://wandb.ai/pierrehogenhaug/modern_nlp_ex/runs/xekb3272' target=\"_blank\">astral-wave-30</a></strong> to <a href='https://wandb.ai/pierrehogenhaug/modern_nlp_ex' target=\"_blank\">Weights & Biases</a> (<a href='https://wandb.me/run' target=\"_blank\">docs</a>)<br/>"
      ],
      "text/plain": [
       "<IPython.core.display.HTML object>"
      ]
     },
     "metadata": {},
     "output_type": "display_data"
    },
    {
     "data": {
      "text/html": [
       " View project at <a href='https://wandb.ai/pierrehogenhaug/modern_nlp_ex' target=\"_blank\">https://wandb.ai/pierrehogenhaug/modern_nlp_ex</a>"
      ],
      "text/plain": [
       "<IPython.core.display.HTML object>"
      ]
     },
     "metadata": {},
     "output_type": "display_data"
    },
    {
     "data": {
      "text/html": [
       " View run at <a href='https://wandb.ai/pierrehogenhaug/modern_nlp_ex/runs/xekb3272' target=\"_blank\">https://wandb.ai/pierrehogenhaug/modern_nlp_ex/runs/xekb3272</a>"
      ],
      "text/plain": [
       "<IPython.core.display.HTML object>"
      ]
     },
     "metadata": {},
     "output_type": "display_data"
    },
    {
     "name": "stdout",
     "output_type": "stream",
     "text": [
      "Epoch 1/50 | Loss: 0.6899\n",
      "Epoch 2/50 | Loss: 0.6860\n",
      "Epoch 3/50 | Loss: 0.6824\n",
      "Epoch 4/50 | Loss: 0.6790\n",
      "Epoch 5/50 | Loss: 0.6758\n",
      "Epoch 6/50 | Loss: 0.6728\n",
      "Epoch 7/50 | Loss: 0.6699\n",
      "Epoch 8/50 | Loss: 0.6673\n",
      "Epoch 9/50 | Loss: 0.6647\n",
      "Epoch 10/50 | Loss: 0.6623\n",
      "Epoch 11/50 | Loss: 0.6601\n",
      "Epoch 12/50 | Loss: 0.6579\n",
      "Epoch 13/50 | Loss: 0.6560\n",
      "Epoch 14/50 | Loss: 0.6541\n",
      "Epoch 15/50 | Loss: 0.6523\n",
      "Epoch 16/50 | Loss: 0.6505\n",
      "Epoch 17/50 | Loss: 0.6489\n",
      "Epoch 18/50 | Loss: 0.6473\n",
      "Epoch 19/50 | Loss: 0.6458\n",
      "Epoch 20/50 | Loss: 0.6444\n",
      "Epoch 21/50 | Loss: 0.6429\n",
      "Epoch 22/50 | Loss: 0.6418\n",
      "Epoch 23/50 | Loss: 0.6405\n",
      "Epoch 24/50 | Loss: 0.6394\n",
      "Epoch 25/50 | Loss: 0.6382\n",
      "Epoch 26/50 | Loss: 0.6372\n",
      "Epoch 27/50 | Loss: 0.6361\n",
      "Epoch 28/50 | Loss: 0.6351\n",
      "Epoch 29/50 | Loss: 0.6343\n",
      "Epoch 30/50 | Loss: 0.6333\n",
      "Epoch 31/50 | Loss: 0.6324\n",
      "Epoch 32/50 | Loss: 0.6315\n",
      "Epoch 33/50 | Loss: 0.6308\n",
      "Epoch 34/50 | Loss: 0.6300\n",
      "Epoch 35/50 | Loss: 0.6293\n",
      "Epoch 36/50 | Loss: 0.6286\n",
      "Epoch 37/50 | Loss: 0.6278\n",
      "Epoch 38/50 | Loss: 0.6272\n",
      "Epoch 39/50 | Loss: 0.6265\n",
      "Epoch 40/50 | Loss: 0.6259\n",
      "Epoch 41/50 | Loss: 0.6252\n",
      "Epoch 42/50 | Loss: 0.6247\n",
      "Epoch 43/50 | Loss: 0.6243\n",
      "Epoch 44/50 | Loss: 0.6237\n",
      "Epoch 45/50 | Loss: 0.6230\n",
      "Epoch 46/50 | Loss: 0.6227\n",
      "Epoch 47/50 | Loss: 0.6221\n",
      "Epoch 48/50 | Loss: 0.6216\n",
      "Epoch 49/50 | Loss: 0.6212\n",
      "Epoch 50/50 | Loss: 0.6208\n",
      "Test Acc: 66.55%\n"
     ]
    },
    {
     "name": "stderr",
     "output_type": "stream",
     "text": [
      "wandb: WARNING Source type is set to 'repo' but some required information is missing from the environment. A job will not be created from this run. See https://docs.wandb.ai/guides/launch/create-job\n"
     ]
    },
    {
     "data": {
      "text/html": [
       "<style>\n",
       "    table.wandb td:nth-child(1) { padding: 0 10px; text-align: left ; width: auto;} td:nth-child(2) {text-align: left ; width: 100%}\n",
       "    .wandb-row { display: flex; flex-direction: row; flex-wrap: wrap; justify-content: flex-start; width: 100% }\n",
       "    .wandb-col { display: flex; flex-direction: column; flex-basis: 100%; flex: 1; padding: 10px; }\n",
       "    </style>\n",
       "<div class=\"wandb-row\"><div class=\"wandb-col\"><h3>Run history:</h3><br/><table class=\"wandb\"><tr><td>epoch</td><td>▁▁▁▁▂▂▂▂▂▃▃▃▃▃▃▄▄▄▄▄▅▅▅▅▅▅▆▆▆▆▆▆▇▇▇▇▇███</td></tr><tr><td>test_accuracy</td><td>▁</td></tr><tr><td>test_loss</td><td>▁</td></tr><tr><td>train_loss</td><td>██▇▇▆▆▆▅▅▅▅▄▄▄▄▄▃▃▃▃▃▃▂▂▂▂▂▂▂▂▂▂▁▁▁▁▁▁▁▁</td></tr></table><br/></div><div class=\"wandb-col\"><h3>Run summary:</h3><br/><table class=\"wandb\"><tr><td>epoch</td><td>50</td></tr><tr><td>test_accuracy</td><td>0.66554</td></tr><tr><td>test_loss</td><td>0.62101</td></tr><tr><td>train_loss</td><td>0.62084</td></tr></table><br/></div></div>"
      ],
      "text/plain": [
       "<IPython.core.display.HTML object>"
      ]
     },
     "metadata": {},
     "output_type": "display_data"
    },
    {
     "data": {
      "text/html": [
       " View run <strong style=\"color:#cdcd00\">astral-wave-30</strong> at: <a href='https://wandb.ai/pierrehogenhaug/modern_nlp_ex/runs/xekb3272' target=\"_blank\">https://wandb.ai/pierrehogenhaug/modern_nlp_ex/runs/xekb3272</a><br/>Synced 6 W&B file(s), 0 media file(s), 0 artifact file(s) and 0 other file(s)"
      ],
      "text/plain": [
       "<IPython.core.display.HTML object>"
      ]
     },
     "metadata": {},
     "output_type": "display_data"
    },
    {
     "data": {
      "text/html": [
       "Find logs at: <code>./wandb/run-20240313_110857-xekb3272/logs</code>"
      ],
      "text/plain": [
       "<IPython.core.display.HTML object>"
      ]
     },
     "metadata": {},
     "output_type": "display_data"
    },
    {
     "name": "stdout",
     "output_type": "stream",
     "text": [
      "\n",
      "Training with max_pool, lr=0.001, batch_size=32, epochs=70\n"
     ]
    },
    {
     "data": {
      "text/html": [
       "Tracking run with wandb version 0.16.4"
      ],
      "text/plain": [
       "<IPython.core.display.HTML object>"
      ]
     },
     "metadata": {},
     "output_type": "display_data"
    },
    {
     "data": {
      "text/html": [
       "Run data is saved locally in <code>/Users/phog/Desktop/cleverThings/Modern_NLP/cs-552-modern-nlp/Exercises/Week 1 - Word Embeddings/wandb/run-20240313_110920-as1g2joj</code>"
      ],
      "text/plain": [
       "<IPython.core.display.HTML object>"
      ]
     },
     "metadata": {},
     "output_type": "display_data"
    },
    {
     "data": {
      "text/html": [
       "Syncing run <strong><a href='https://wandb.ai/pierrehogenhaug/modern_nlp_ex/runs/as1g2joj' target=\"_blank\">sparkling-galaxy-31</a></strong> to <a href='https://wandb.ai/pierrehogenhaug/modern_nlp_ex' target=\"_blank\">Weights & Biases</a> (<a href='https://wandb.me/run' target=\"_blank\">docs</a>)<br/>"
      ],
      "text/plain": [
       "<IPython.core.display.HTML object>"
      ]
     },
     "metadata": {},
     "output_type": "display_data"
    },
    {
     "data": {
      "text/html": [
       " View project at <a href='https://wandb.ai/pierrehogenhaug/modern_nlp_ex' target=\"_blank\">https://wandb.ai/pierrehogenhaug/modern_nlp_ex</a>"
      ],
      "text/plain": [
       "<IPython.core.display.HTML object>"
      ]
     },
     "metadata": {},
     "output_type": "display_data"
    },
    {
     "data": {
      "text/html": [
       " View run at <a href='https://wandb.ai/pierrehogenhaug/modern_nlp_ex/runs/as1g2joj' target=\"_blank\">https://wandb.ai/pierrehogenhaug/modern_nlp_ex/runs/as1g2joj</a>"
      ],
      "text/plain": [
       "<IPython.core.display.HTML object>"
      ]
     },
     "metadata": {},
     "output_type": "display_data"
    },
    {
     "name": "stdout",
     "output_type": "stream",
     "text": [
      "Epoch 1/70 | Loss: 0.6923\n",
      "Epoch 2/70 | Loss: 0.6881\n",
      "Epoch 3/70 | Loss: 0.6842\n",
      "Epoch 4/70 | Loss: 0.6805\n",
      "Epoch 5/70 | Loss: 0.6772\n",
      "Epoch 6/70 | Loss: 0.6739\n",
      "Epoch 7/70 | Loss: 0.6708\n",
      "Epoch 8/70 | Loss: 0.6680\n",
      "Epoch 9/70 | Loss: 0.6654\n",
      "Epoch 10/70 | Loss: 0.6630\n",
      "Epoch 11/70 | Loss: 0.6606\n",
      "Epoch 12/70 | Loss: 0.6582\n",
      "Epoch 13/70 | Loss: 0.6562\n",
      "Epoch 14/70 | Loss: 0.6543\n",
      "Epoch 15/70 | Loss: 0.6525\n",
      "Epoch 16/70 | Loss: 0.6507\n",
      "Epoch 17/70 | Loss: 0.6488\n",
      "Epoch 18/70 | Loss: 0.6473\n",
      "Epoch 19/70 | Loss: 0.6458\n",
      "Epoch 20/70 | Loss: 0.6444\n",
      "Epoch 21/70 | Loss: 0.6428\n",
      "Epoch 22/70 | Loss: 0.6416\n",
      "Epoch 23/70 | Loss: 0.6404\n",
      "Epoch 24/70 | Loss: 0.6391\n",
      "Epoch 25/70 | Loss: 0.6379\n",
      "Epoch 26/70 | Loss: 0.6368\n",
      "Epoch 27/70 | Loss: 0.6357\n",
      "Epoch 28/70 | Loss: 0.6347\n",
      "Epoch 29/70 | Loss: 0.6337\n",
      "Epoch 30/70 | Loss: 0.6328\n",
      "Epoch 31/70 | Loss: 0.6318\n",
      "Epoch 32/70 | Loss: 0.6310\n",
      "Epoch 33/70 | Loss: 0.6302\n",
      "Epoch 34/70 | Loss: 0.6294\n",
      "Epoch 35/70 | Loss: 0.6286\n",
      "Epoch 36/70 | Loss: 0.6278\n",
      "Epoch 37/70 | Loss: 0.6272\n",
      "Epoch 38/70 | Loss: 0.6265\n",
      "Epoch 39/70 | Loss: 0.6259\n",
      "Epoch 40/70 | Loss: 0.6253\n",
      "Epoch 41/70 | Loss: 0.6246\n",
      "Epoch 42/70 | Loss: 0.6239\n",
      "Epoch 43/70 | Loss: 0.6234\n",
      "Epoch 44/70 | Loss: 0.6229\n",
      "Epoch 45/70 | Loss: 0.6223\n",
      "Epoch 46/70 | Loss: 0.6218\n",
      "Epoch 47/70 | Loss: 0.6213\n",
      "Epoch 48/70 | Loss: 0.6208\n",
      "Epoch 49/70 | Loss: 0.6204\n",
      "Epoch 50/70 | Loss: 0.6200\n",
      "Epoch 51/70 | Loss: 0.6194\n",
      "Epoch 52/70 | Loss: 0.6191\n",
      "Epoch 53/70 | Loss: 0.6187\n",
      "Epoch 54/70 | Loss: 0.6182\n",
      "Epoch 55/70 | Loss: 0.6177\n",
      "Epoch 56/70 | Loss: 0.6175\n",
      "Epoch 57/70 | Loss: 0.6172\n",
      "Epoch 58/70 | Loss: 0.6167\n",
      "Epoch 59/70 | Loss: 0.6165\n",
      "Epoch 60/70 | Loss: 0.6161\n",
      "Epoch 61/70 | Loss: 0.6158\n",
      "Epoch 62/70 | Loss: 0.6155\n",
      "Epoch 63/70 | Loss: 0.6153\n",
      "Epoch 64/70 | Loss: 0.6149\n",
      "Epoch 65/70 | Loss: 0.6146\n",
      "Epoch 66/70 | Loss: 0.6144\n",
      "Epoch 67/70 | Loss: 0.6140\n",
      "Epoch 68/70 | Loss: 0.6138\n",
      "Epoch 69/70 | Loss: 0.6135\n",
      "Epoch 70/70 | Loss: 0.6132\n",
      "Test Acc: 66.00%\n"
     ]
    },
    {
     "name": "stderr",
     "output_type": "stream",
     "text": [
      "wandb: WARNING Source type is set to 'repo' but some required information is missing from the environment. A job will not be created from this run. See https://docs.wandb.ai/guides/launch/create-job\n"
     ]
    },
    {
     "data": {
      "text/html": [
       "<style>\n",
       "    table.wandb td:nth-child(1) { padding: 0 10px; text-align: left ; width: auto;} td:nth-child(2) {text-align: left ; width: 100%}\n",
       "    .wandb-row { display: flex; flex-direction: row; flex-wrap: wrap; justify-content: flex-start; width: 100% }\n",
       "    .wandb-col { display: flex; flex-direction: column; flex-basis: 100%; flex: 1; padding: 10px; }\n",
       "    </style>\n",
       "<div class=\"wandb-row\"><div class=\"wandb-col\"><h3>Run history:</h3><br/><table class=\"wandb\"><tr><td>epoch</td><td>▁▁▁▂▂▂▂▂▂▃▃▃▃▃▃▄▄▄▄▄▅▅▅▅▅▅▆▆▆▆▆▆▇▇▇▇▇███</td></tr><tr><td>test_accuracy</td><td>▁</td></tr><tr><td>test_loss</td><td>▁</td></tr><tr><td>train_loss</td><td>██▇▆▆▆▅▅▄▄▄▄▄▃▃▃▃▃▃▂▂▂▂▂▂▂▂▂▂▂▁▁▁▁▁▁▁▁▁▁</td></tr></table><br/></div><div class=\"wandb-col\"><h3>Run summary:</h3><br/><table class=\"wandb\"><tr><td>epoch</td><td>70</td></tr><tr><td>test_accuracy</td><td>0.66004</td></tr><tr><td>test_loss</td><td>0.61615</td></tr><tr><td>train_loss</td><td>0.61321</td></tr></table><br/></div></div>"
      ],
      "text/plain": [
       "<IPython.core.display.HTML object>"
      ]
     },
     "metadata": {},
     "output_type": "display_data"
    },
    {
     "data": {
      "text/html": [
       " View run <strong style=\"color:#cdcd00\">sparkling-galaxy-31</strong> at: <a href='https://wandb.ai/pierrehogenhaug/modern_nlp_ex/runs/as1g2joj' target=\"_blank\">https://wandb.ai/pierrehogenhaug/modern_nlp_ex/runs/as1g2joj</a><br/>Synced 6 W&B file(s), 0 media file(s), 0 artifact file(s) and 0 other file(s)"
      ],
      "text/plain": [
       "<IPython.core.display.HTML object>"
      ]
     },
     "metadata": {},
     "output_type": "display_data"
    },
    {
     "data": {
      "text/html": [
       "Find logs at: <code>./wandb/run-20240313_110920-as1g2joj/logs</code>"
      ],
      "text/plain": [
       "<IPython.core.display.HTML object>"
      ]
     },
     "metadata": {},
     "output_type": "display_data"
    },
    {
     "name": "stdout",
     "output_type": "stream",
     "text": [
      "\n",
      "Training with max_pool, lr=0.001, batch_size=64, epochs=30\n"
     ]
    },
    {
     "data": {
      "text/html": [
       "Tracking run with wandb version 0.16.4"
      ],
      "text/plain": [
       "<IPython.core.display.HTML object>"
      ]
     },
     "metadata": {},
     "output_type": "display_data"
    },
    {
     "data": {
      "text/html": [
       "Run data is saved locally in <code>/Users/phog/Desktop/cleverThings/Modern_NLP/cs-552-modern-nlp/Exercises/Week 1 - Word Embeddings/wandb/run-20240313_110949-9pyjp7rf</code>"
      ],
      "text/plain": [
       "<IPython.core.display.HTML object>"
      ]
     },
     "metadata": {},
     "output_type": "display_data"
    },
    {
     "data": {
      "text/html": [
       "Syncing run <strong><a href='https://wandb.ai/pierrehogenhaug/modern_nlp_ex/runs/9pyjp7rf' target=\"_blank\">sandy-sea-32</a></strong> to <a href='https://wandb.ai/pierrehogenhaug/modern_nlp_ex' target=\"_blank\">Weights & Biases</a> (<a href='https://wandb.me/run' target=\"_blank\">docs</a>)<br/>"
      ],
      "text/plain": [
       "<IPython.core.display.HTML object>"
      ]
     },
     "metadata": {},
     "output_type": "display_data"
    },
    {
     "data": {
      "text/html": [
       " View project at <a href='https://wandb.ai/pierrehogenhaug/modern_nlp_ex' target=\"_blank\">https://wandb.ai/pierrehogenhaug/modern_nlp_ex</a>"
      ],
      "text/plain": [
       "<IPython.core.display.HTML object>"
      ]
     },
     "metadata": {},
     "output_type": "display_data"
    },
    {
     "data": {
      "text/html": [
       " View run at <a href='https://wandb.ai/pierrehogenhaug/modern_nlp_ex/runs/9pyjp7rf' target=\"_blank\">https://wandb.ai/pierrehogenhaug/modern_nlp_ex/runs/9pyjp7rf</a>"
      ],
      "text/plain": [
       "<IPython.core.display.HTML object>"
      ]
     },
     "metadata": {},
     "output_type": "display_data"
    },
    {
     "name": "stdout",
     "output_type": "stream",
     "text": [
      "Epoch 1/30 | Loss: 0.7018\n",
      "Epoch 2/30 | Loss: 0.6949\n",
      "Epoch 3/30 | Loss: 0.6928\n",
      "Epoch 4/30 | Loss: 0.6907\n",
      "Epoch 5/30 | Loss: 0.6888\n",
      "Epoch 6/30 | Loss: 0.6868\n",
      "Epoch 7/30 | Loss: 0.6850\n",
      "Epoch 8/30 | Loss: 0.6832\n",
      "Epoch 9/30 | Loss: 0.6813\n",
      "Epoch 10/30 | Loss: 0.6797\n",
      "Epoch 11/30 | Loss: 0.6780\n",
      "Epoch 12/30 | Loss: 0.6765\n",
      "Epoch 13/30 | Loss: 0.6748\n",
      "Epoch 14/30 | Loss: 0.6733\n",
      "Epoch 15/30 | Loss: 0.6720\n",
      "Epoch 16/30 | Loss: 0.6704\n",
      "Epoch 17/30 | Loss: 0.6691\n",
      "Epoch 18/30 | Loss: 0.6678\n",
      "Epoch 19/30 | Loss: 0.6666\n",
      "Epoch 20/30 | Loss: 0.6653\n",
      "Epoch 21/30 | Loss: 0.6639\n",
      "Epoch 22/30 | Loss: 0.6629\n",
      "Epoch 23/30 | Loss: 0.6618\n",
      "Epoch 24/30 | Loss: 0.6606\n",
      "Epoch 25/30 | Loss: 0.6595\n",
      "Epoch 26/30 | Loss: 0.6583\n",
      "Epoch 27/30 | Loss: 0.6574\n",
      "Epoch 28/30 | Loss: 0.6563\n",
      "Epoch 29/30 | Loss: 0.6554\n",
      "Epoch 30/30 | Loss: 0.6544\n",
      "Test Acc: 63.94%\n"
     ]
    },
    {
     "name": "stderr",
     "output_type": "stream",
     "text": [
      "wandb: WARNING Source type is set to 'repo' but some required information is missing from the environment. A job will not be created from this run. See https://docs.wandb.ai/guides/launch/create-job\n"
     ]
    },
    {
     "data": {
      "text/html": [
       "<style>\n",
       "    table.wandb td:nth-child(1) { padding: 0 10px; text-align: left ; width: auto;} td:nth-child(2) {text-align: left ; width: 100%}\n",
       "    .wandb-row { display: flex; flex-direction: row; flex-wrap: wrap; justify-content: flex-start; width: 100% }\n",
       "    .wandb-col { display: flex; flex-direction: column; flex-basis: 100%; flex: 1; padding: 10px; }\n",
       "    </style>\n",
       "<div class=\"wandb-row\"><div class=\"wandb-col\"><h3>Run history:</h3><br/><table class=\"wandb\"><tr><td>epoch</td><td>▁▁▁▂▂▂▂▃▃▃▃▄▄▄▄▅▅▅▅▆▆▆▆▇▇▇▇███</td></tr><tr><td>test_accuracy</td><td>▁</td></tr><tr><td>test_loss</td><td>▁</td></tr><tr><td>train_loss</td><td>█▇▇▆▆▆▆▅▅▅▄▄▄▄▄▃▃▃▃▃▂▂▂▂▂▂▁▁▁▁</td></tr></table><br/></div><div class=\"wandb-col\"><h3>Run summary:</h3><br/><table class=\"wandb\"><tr><td>epoch</td><td>30</td></tr><tr><td>test_accuracy</td><td>0.63943</td></tr><tr><td>test_loss</td><td>0.65443</td></tr><tr><td>train_loss</td><td>0.65443</td></tr></table><br/></div></div>"
      ],
      "text/plain": [
       "<IPython.core.display.HTML object>"
      ]
     },
     "metadata": {},
     "output_type": "display_data"
    },
    {
     "data": {
      "text/html": [
       " View run <strong style=\"color:#cdcd00\">sandy-sea-32</strong> at: <a href='https://wandb.ai/pierrehogenhaug/modern_nlp_ex/runs/9pyjp7rf' target=\"_blank\">https://wandb.ai/pierrehogenhaug/modern_nlp_ex/runs/9pyjp7rf</a><br/>Synced 6 W&B file(s), 0 media file(s), 0 artifact file(s) and 0 other file(s)"
      ],
      "text/plain": [
       "<IPython.core.display.HTML object>"
      ]
     },
     "metadata": {},
     "output_type": "display_data"
    },
    {
     "data": {
      "text/html": [
       "Find logs at: <code>./wandb/run-20240313_110949-9pyjp7rf/logs</code>"
      ],
      "text/plain": [
       "<IPython.core.display.HTML object>"
      ]
     },
     "metadata": {},
     "output_type": "display_data"
    },
    {
     "name": "stdout",
     "output_type": "stream",
     "text": [
      "\n",
      "Training with max_pool, lr=0.001, batch_size=64, epochs=50\n"
     ]
    },
    {
     "data": {
      "text/html": [
       "Tracking run with wandb version 0.16.4"
      ],
      "text/plain": [
       "<IPython.core.display.HTML object>"
      ]
     },
     "metadata": {},
     "output_type": "display_data"
    },
    {
     "data": {
      "text/html": [
       "Run data is saved locally in <code>/Users/phog/Desktop/cleverThings/Modern_NLP/cs-552-modern-nlp/Exercises/Week 1 - Word Embeddings/wandb/run-20240313_111004-0h9ab5sm</code>"
      ],
      "text/plain": [
       "<IPython.core.display.HTML object>"
      ]
     },
     "metadata": {},
     "output_type": "display_data"
    },
    {
     "data": {
      "text/html": [
       "Syncing run <strong><a href='https://wandb.ai/pierrehogenhaug/modern_nlp_ex/runs/0h9ab5sm' target=\"_blank\">driven-puddle-33</a></strong> to <a href='https://wandb.ai/pierrehogenhaug/modern_nlp_ex' target=\"_blank\">Weights & Biases</a> (<a href='https://wandb.me/run' target=\"_blank\">docs</a>)<br/>"
      ],
      "text/plain": [
       "<IPython.core.display.HTML object>"
      ]
     },
     "metadata": {},
     "output_type": "display_data"
    },
    {
     "data": {
      "text/html": [
       " View project at <a href='https://wandb.ai/pierrehogenhaug/modern_nlp_ex' target=\"_blank\">https://wandb.ai/pierrehogenhaug/modern_nlp_ex</a>"
      ],
      "text/plain": [
       "<IPython.core.display.HTML object>"
      ]
     },
     "metadata": {},
     "output_type": "display_data"
    },
    {
     "data": {
      "text/html": [
       " View run at <a href='https://wandb.ai/pierrehogenhaug/modern_nlp_ex/runs/0h9ab5sm' target=\"_blank\">https://wandb.ai/pierrehogenhaug/modern_nlp_ex/runs/0h9ab5sm</a>"
      ],
      "text/plain": [
       "<IPython.core.display.HTML object>"
      ]
     },
     "metadata": {},
     "output_type": "display_data"
    },
    {
     "name": "stdout",
     "output_type": "stream",
     "text": [
      "Epoch 1/50 | Loss: 0.6951\n",
      "Epoch 2/50 | Loss: 0.6927\n",
      "Epoch 3/50 | Loss: 0.6906\n",
      "Epoch 4/50 | Loss: 0.6886\n",
      "Epoch 5/50 | Loss: 0.6866\n",
      "Epoch 6/50 | Loss: 0.6848\n",
      "Epoch 7/50 | Loss: 0.6829\n",
      "Epoch 8/50 | Loss: 0.6811\n",
      "Epoch 9/50 | Loss: 0.6793\n",
      "Epoch 10/50 | Loss: 0.6777\n",
      "Epoch 11/50 | Loss: 0.6761\n",
      "Epoch 12/50 | Loss: 0.6745\n",
      "Epoch 13/50 | Loss: 0.6730\n",
      "Epoch 14/50 | Loss: 0.6714\n",
      "Epoch 15/50 | Loss: 0.6701\n",
      "Epoch 16/50 | Loss: 0.6687\n",
      "Epoch 17/50 | Loss: 0.6674\n",
      "Epoch 18/50 | Loss: 0.6661\n",
      "Epoch 19/50 | Loss: 0.6648\n",
      "Epoch 20/50 | Loss: 0.6636\n",
      "Epoch 21/50 | Loss: 0.6624\n",
      "Epoch 22/50 | Loss: 0.6613\n",
      "Epoch 23/50 | Loss: 0.6601\n",
      "Epoch 24/50 | Loss: 0.6590\n",
      "Epoch 25/50 | Loss: 0.6580\n",
      "Epoch 26/50 | Loss: 0.6569\n",
      "Epoch 27/50 | Loss: 0.6559\n",
      "Epoch 28/50 | Loss: 0.6550\n",
      "Epoch 29/50 | Loss: 0.6540\n",
      "Epoch 30/50 | Loss: 0.6531\n",
      "Epoch 31/50 | Loss: 0.6521\n",
      "Epoch 32/50 | Loss: 0.6513\n",
      "Epoch 33/50 | Loss: 0.6504\n",
      "Epoch 34/50 | Loss: 0.6497\n",
      "Epoch 35/50 | Loss: 0.6487\n",
      "Epoch 36/50 | Loss: 0.6480\n",
      "Epoch 37/50 | Loss: 0.6472\n",
      "Epoch 38/50 | Loss: 0.6465\n",
      "Epoch 39/50 | Loss: 0.6458\n",
      "Epoch 40/50 | Loss: 0.6451\n",
      "Epoch 41/50 | Loss: 0.6443\n",
      "Epoch 42/50 | Loss: 0.6437\n",
      "Epoch 43/50 | Loss: 0.6431\n",
      "Epoch 44/50 | Loss: 0.6424\n",
      "Epoch 45/50 | Loss: 0.6417\n",
      "Epoch 46/50 | Loss: 0.6411\n",
      "Epoch 47/50 | Loss: 0.6405\n",
      "Epoch 48/50 | Loss: 0.6399\n",
      "Epoch 49/50 | Loss: 0.6393\n",
      "Epoch 50/50 | Loss: 0.6388\n",
      "Test Acc: 66.55%\n"
     ]
    },
    {
     "name": "stderr",
     "output_type": "stream",
     "text": [
      "wandb: WARNING Source type is set to 'repo' but some required information is missing from the environment. A job will not be created from this run. See https://docs.wandb.ai/guides/launch/create-job\n"
     ]
    },
    {
     "data": {
      "text/html": [
       "<style>\n",
       "    table.wandb td:nth-child(1) { padding: 0 10px; text-align: left ; width: auto;} td:nth-child(2) {text-align: left ; width: 100%}\n",
       "    .wandb-row { display: flex; flex-direction: row; flex-wrap: wrap; justify-content: flex-start; width: 100% }\n",
       "    .wandb-col { display: flex; flex-direction: column; flex-basis: 100%; flex: 1; padding: 10px; }\n",
       "    </style>\n",
       "<div class=\"wandb-row\"><div class=\"wandb-col\"><h3>Run history:</h3><br/><table class=\"wandb\"><tr><td>epoch</td><td>▁▁▁▁▂▂▂▂▂▃▃▃▃▃▃▄▄▄▄▄▅▅▅▅▅▅▆▆▆▆▆▆▇▇▇▇▇███</td></tr><tr><td>test_accuracy</td><td>▁</td></tr><tr><td>test_loss</td><td>▁</td></tr><tr><td>train_loss</td><td>██▇▇▇▆▆▆▆▅▅▅▅▅▄▄▄▄▄▄▃▃▃▃▃▃▂▂▂▂▂▂▂▂▂▁▁▁▁▁</td></tr></table><br/></div><div class=\"wandb-col\"><h3>Run summary:</h3><br/><table class=\"wandb\"><tr><td>epoch</td><td>50</td></tr><tr><td>test_accuracy</td><td>0.66551</td></tr><tr><td>test_loss</td><td>0.6367</td></tr><tr><td>train_loss</td><td>0.63876</td></tr></table><br/></div></div>"
      ],
      "text/plain": [
       "<IPython.core.display.HTML object>"
      ]
     },
     "metadata": {},
     "output_type": "display_data"
    },
    {
     "data": {
      "text/html": [
       " View run <strong style=\"color:#cdcd00\">driven-puddle-33</strong> at: <a href='https://wandb.ai/pierrehogenhaug/modern_nlp_ex/runs/0h9ab5sm' target=\"_blank\">https://wandb.ai/pierrehogenhaug/modern_nlp_ex/runs/0h9ab5sm</a><br/>Synced 6 W&B file(s), 0 media file(s), 0 artifact file(s) and 0 other file(s)"
      ],
      "text/plain": [
       "<IPython.core.display.HTML object>"
      ]
     },
     "metadata": {},
     "output_type": "display_data"
    },
    {
     "data": {
      "text/html": [
       "Find logs at: <code>./wandb/run-20240313_111004-0h9ab5sm/logs</code>"
      ],
      "text/plain": [
       "<IPython.core.display.HTML object>"
      ]
     },
     "metadata": {},
     "output_type": "display_data"
    },
    {
     "name": "stdout",
     "output_type": "stream",
     "text": [
      "\n",
      "Training with max_pool, lr=0.001, batch_size=64, epochs=70\n"
     ]
    },
    {
     "data": {
      "text/html": [
       "Tracking run with wandb version 0.16.4"
      ],
      "text/plain": [
       "<IPython.core.display.HTML object>"
      ]
     },
     "metadata": {},
     "output_type": "display_data"
    },
    {
     "data": {
      "text/html": [
       "Run data is saved locally in <code>/Users/phog/Desktop/cleverThings/Modern_NLP/cs-552-modern-nlp/Exercises/Week 1 - Word Embeddings/wandb/run-20240313_111023-3xdlft1h</code>"
      ],
      "text/plain": [
       "<IPython.core.display.HTML object>"
      ]
     },
     "metadata": {},
     "output_type": "display_data"
    },
    {
     "data": {
      "text/html": [
       "Syncing run <strong><a href='https://wandb.ai/pierrehogenhaug/modern_nlp_ex/runs/3xdlft1h' target=\"_blank\">playful-sunset-34</a></strong> to <a href='https://wandb.ai/pierrehogenhaug/modern_nlp_ex' target=\"_blank\">Weights & Biases</a> (<a href='https://wandb.me/run' target=\"_blank\">docs</a>)<br/>"
      ],
      "text/plain": [
       "<IPython.core.display.HTML object>"
      ]
     },
     "metadata": {},
     "output_type": "display_data"
    },
    {
     "data": {
      "text/html": [
       " View project at <a href='https://wandb.ai/pierrehogenhaug/modern_nlp_ex' target=\"_blank\">https://wandb.ai/pierrehogenhaug/modern_nlp_ex</a>"
      ],
      "text/plain": [
       "<IPython.core.display.HTML object>"
      ]
     },
     "metadata": {},
     "output_type": "display_data"
    },
    {
     "data": {
      "text/html": [
       " View run at <a href='https://wandb.ai/pierrehogenhaug/modern_nlp_ex/runs/3xdlft1h' target=\"_blank\">https://wandb.ai/pierrehogenhaug/modern_nlp_ex/runs/3xdlft1h</a>"
      ],
      "text/plain": [
       "<IPython.core.display.HTML object>"
      ]
     },
     "metadata": {},
     "output_type": "display_data"
    },
    {
     "name": "stdout",
     "output_type": "stream",
     "text": [
      "Epoch 1/70 | Loss: 0.6934\n",
      "Epoch 2/70 | Loss: 0.6906\n",
      "Epoch 3/70 | Loss: 0.6885\n",
      "Epoch 4/70 | Loss: 0.6864\n",
      "Epoch 5/70 | Loss: 0.6845\n",
      "Epoch 6/70 | Loss: 0.6826\n",
      "Epoch 7/70 | Loss: 0.6807\n",
      "Epoch 8/70 | Loss: 0.6790\n",
      "Epoch 9/70 | Loss: 0.6772\n",
      "Epoch 10/70 | Loss: 0.6756\n",
      "Epoch 11/70 | Loss: 0.6739\n",
      "Epoch 12/70 | Loss: 0.6724\n",
      "Epoch 13/70 | Loss: 0.6710\n",
      "Epoch 14/70 | Loss: 0.6695\n",
      "Epoch 15/70 | Loss: 0.6680\n",
      "Epoch 16/70 | Loss: 0.6666\n",
      "Epoch 17/70 | Loss: 0.6654\n",
      "Epoch 18/70 | Loss: 0.6641\n",
      "Epoch 19/70 | Loss: 0.6628\n",
      "Epoch 20/70 | Loss: 0.6617\n",
      "Epoch 21/70 | Loss: 0.6604\n",
      "Epoch 22/70 | Loss: 0.6593\n",
      "Epoch 23/70 | Loss: 0.6582\n",
      "Epoch 24/70 | Loss: 0.6571\n",
      "Epoch 25/70 | Loss: 0.6561\n",
      "Epoch 26/70 | Loss: 0.6551\n",
      "Epoch 27/70 | Loss: 0.6541\n",
      "Epoch 28/70 | Loss: 0.6531\n",
      "Epoch 29/70 | Loss: 0.6522\n",
      "Epoch 30/70 | Loss: 0.6514\n",
      "Epoch 31/70 | Loss: 0.6504\n",
      "Epoch 32/70 | Loss: 0.6496\n",
      "Epoch 33/70 | Loss: 0.6487\n",
      "Epoch 34/70 | Loss: 0.6479\n",
      "Epoch 35/70 | Loss: 0.6471\n",
      "Epoch 36/70 | Loss: 0.6464\n",
      "Epoch 37/70 | Loss: 0.6456\n",
      "Epoch 38/70 | Loss: 0.6449\n",
      "Epoch 39/70 | Loss: 0.6442\n",
      "Epoch 40/70 | Loss: 0.6435\n",
      "Epoch 41/70 | Loss: 0.6428\n",
      "Epoch 42/70 | Loss: 0.6421\n",
      "Epoch 43/70 | Loss: 0.6415\n",
      "Epoch 44/70 | Loss: 0.6409\n",
      "Epoch 45/70 | Loss: 0.6402\n",
      "Epoch 46/70 | Loss: 0.6397\n",
      "Epoch 47/70 | Loss: 0.6391\n",
      "Epoch 48/70 | Loss: 0.6385\n",
      "Epoch 49/70 | Loss: 0.6379\n",
      "Epoch 50/70 | Loss: 0.6373\n",
      "Epoch 51/70 | Loss: 0.6368\n",
      "Epoch 52/70 | Loss: 0.6362\n",
      "Epoch 53/70 | Loss: 0.6358\n",
      "Epoch 54/70 | Loss: 0.6352\n",
      "Epoch 55/70 | Loss: 0.6347\n",
      "Epoch 56/70 | Loss: 0.6343\n",
      "Epoch 57/70 | Loss: 0.6338\n",
      "Epoch 58/70 | Loss: 0.6334\n",
      "Epoch 59/70 | Loss: 0.6329\n",
      "Epoch 60/70 | Loss: 0.6325\n",
      "Epoch 61/70 | Loss: 0.6320\n",
      "Epoch 62/70 | Loss: 0.6316\n",
      "Epoch 63/70 | Loss: 0.6311\n",
      "Epoch 64/70 | Loss: 0.6308\n",
      "Epoch 65/70 | Loss: 0.6304\n",
      "Epoch 66/70 | Loss: 0.6300\n",
      "Epoch 67/70 | Loss: 0.6296\n",
      "Epoch 68/70 | Loss: 0.6292\n",
      "Epoch 69/70 | Loss: 0.6289\n",
      "Epoch 70/70 | Loss: 0.6285\n",
      "Test Acc: 66.39%\n"
     ]
    },
    {
     "name": "stderr",
     "output_type": "stream",
     "text": [
      "wandb: WARNING Source type is set to 'repo' but some required information is missing from the environment. A job will not be created from this run. See https://docs.wandb.ai/guides/launch/create-job\n"
     ]
    },
    {
     "data": {
      "text/html": [
       "<style>\n",
       "    table.wandb td:nth-child(1) { padding: 0 10px; text-align: left ; width: auto;} td:nth-child(2) {text-align: left ; width: 100%}\n",
       "    .wandb-row { display: flex; flex-direction: row; flex-wrap: wrap; justify-content: flex-start; width: 100% }\n",
       "    .wandb-col { display: flex; flex-direction: column; flex-basis: 100%; flex: 1; padding: 10px; }\n",
       "    </style>\n",
       "<div class=\"wandb-row\"><div class=\"wandb-col\"><h3>Run history:</h3><br/><table class=\"wandb\"><tr><td>epoch</td><td>▁▁▁▂▂▂▂▂▂▃▃▃▃▃▃▄▄▄▄▄▅▅▅▅▅▅▆▆▆▆▆▆▇▇▇▇▇███</td></tr><tr><td>test_accuracy</td><td>▁</td></tr><tr><td>test_loss</td><td>▁</td></tr><tr><td>train_loss</td><td>██▇▇▆▆▆▆▅▅▅▅▄▄▄▄▄▃▃▃▃▃▃▃▂▂▂▂▂▂▂▂▂▁▁▁▁▁▁▁</td></tr></table><br/></div><div class=\"wandb-col\"><h3>Run summary:</h3><br/><table class=\"wandb\"><tr><td>epoch</td><td>70</td></tr><tr><td>test_accuracy</td><td>0.66391</td></tr><tr><td>test_loss</td><td>0.62691</td></tr><tr><td>train_loss</td><td>0.62849</td></tr></table><br/></div></div>"
      ],
      "text/plain": [
       "<IPython.core.display.HTML object>"
      ]
     },
     "metadata": {},
     "output_type": "display_data"
    },
    {
     "data": {
      "text/html": [
       " View run <strong style=\"color:#cdcd00\">playful-sunset-34</strong> at: <a href='https://wandb.ai/pierrehogenhaug/modern_nlp_ex/runs/3xdlft1h' target=\"_blank\">https://wandb.ai/pierrehogenhaug/modern_nlp_ex/runs/3xdlft1h</a><br/>Synced 6 W&B file(s), 0 media file(s), 0 artifact file(s) and 0 other file(s)"
      ],
      "text/plain": [
       "<IPython.core.display.HTML object>"
      ]
     },
     "metadata": {},
     "output_type": "display_data"
    },
    {
     "data": {
      "text/html": [
       "Find logs at: <code>./wandb/run-20240313_111023-3xdlft1h/logs</code>"
      ],
      "text/plain": [
       "<IPython.core.display.HTML object>"
      ]
     },
     "metadata": {},
     "output_type": "display_data"
    },
    {
     "name": "stdout",
     "output_type": "stream",
     "text": [
      "\n",
      "Training with max_pool, lr=0.001, batch_size=128, epochs=30\n"
     ]
    },
    {
     "data": {
      "text/html": [
       "Tracking run with wandb version 0.16.4"
      ],
      "text/plain": [
       "<IPython.core.display.HTML object>"
      ]
     },
     "metadata": {},
     "output_type": "display_data"
    },
    {
     "data": {
      "text/html": [
       "Run data is saved locally in <code>/Users/phog/Desktop/cleverThings/Modern_NLP/cs-552-modern-nlp/Exercises/Week 1 - Word Embeddings/wandb/run-20240313_111045-ii13puhz</code>"
      ],
      "text/plain": [
       "<IPython.core.display.HTML object>"
      ]
     },
     "metadata": {},
     "output_type": "display_data"
    },
    {
     "data": {
      "text/html": [
       "Syncing run <strong><a href='https://wandb.ai/pierrehogenhaug/modern_nlp_ex/runs/ii13puhz' target=\"_blank\">light-smoke-35</a></strong> to <a href='https://wandb.ai/pierrehogenhaug/modern_nlp_ex' target=\"_blank\">Weights & Biases</a> (<a href='https://wandb.me/run' target=\"_blank\">docs</a>)<br/>"
      ],
      "text/plain": [
       "<IPython.core.display.HTML object>"
      ]
     },
     "metadata": {},
     "output_type": "display_data"
    },
    {
     "data": {
      "text/html": [
       " View project at <a href='https://wandb.ai/pierrehogenhaug/modern_nlp_ex' target=\"_blank\">https://wandb.ai/pierrehogenhaug/modern_nlp_ex</a>"
      ],
      "text/plain": [
       "<IPython.core.display.HTML object>"
      ]
     },
     "metadata": {},
     "output_type": "display_data"
    },
    {
     "data": {
      "text/html": [
       " View run at <a href='https://wandb.ai/pierrehogenhaug/modern_nlp_ex/runs/ii13puhz' target=\"_blank\">https://wandb.ai/pierrehogenhaug/modern_nlp_ex/runs/ii13puhz</a>"
      ],
      "text/plain": [
       "<IPython.core.display.HTML object>"
      ]
     },
     "metadata": {},
     "output_type": "display_data"
    },
    {
     "name": "stdout",
     "output_type": "stream",
     "text": [
      "Epoch 1/30 | Loss: 0.7027\n",
      "Epoch 2/30 | Loss: 0.6957\n",
      "Epoch 3/30 | Loss: 0.6946\n",
      "Epoch 4/30 | Loss: 0.6934\n",
      "Epoch 5/30 | Loss: 0.6924\n",
      "Epoch 6/30 | Loss: 0.6913\n",
      "Epoch 7/30 | Loss: 0.6902\n",
      "Epoch 8/30 | Loss: 0.6892\n",
      "Epoch 9/30 | Loss: 0.6882\n",
      "Epoch 10/30 | Loss: 0.6872\n",
      "Epoch 11/30 | Loss: 0.6862\n",
      "Epoch 12/30 | Loss: 0.6853\n",
      "Epoch 13/30 | Loss: 0.6843\n",
      "Epoch 14/30 | Loss: 0.6834\n",
      "Epoch 15/30 | Loss: 0.6824\n",
      "Epoch 16/30 | Loss: 0.6816\n",
      "Epoch 17/30 | Loss: 0.6807\n",
      "Epoch 18/30 | Loss: 0.6798\n",
      "Epoch 19/30 | Loss: 0.6790\n",
      "Epoch 20/30 | Loss: 0.6781\n",
      "Epoch 21/30 | Loss: 0.6773\n",
      "Epoch 22/30 | Loss: 0.6765\n",
      "Epoch 23/30 | Loss: 0.6757\n",
      "Epoch 24/30 | Loss: 0.6748\n",
      "Epoch 25/30 | Loss: 0.6741\n",
      "Epoch 26/30 | Loss: 0.6733\n",
      "Epoch 27/30 | Loss: 0.6726\n",
      "Epoch 28/30 | Loss: 0.6718\n",
      "Epoch 29/30 | Loss: 0.6711\n",
      "Epoch 30/30 | Loss: 0.6704\n",
      "Test Acc: 61.77%\n"
     ]
    },
    {
     "name": "stderr",
     "output_type": "stream",
     "text": [
      "wandb: WARNING Source type is set to 'repo' but some required information is missing from the environment. A job will not be created from this run. See https://docs.wandb.ai/guides/launch/create-job\n"
     ]
    },
    {
     "data": {
      "text/html": [
       "<style>\n",
       "    table.wandb td:nth-child(1) { padding: 0 10px; text-align: left ; width: auto;} td:nth-child(2) {text-align: left ; width: 100%}\n",
       "    .wandb-row { display: flex; flex-direction: row; flex-wrap: wrap; justify-content: flex-start; width: 100% }\n",
       "    .wandb-col { display: flex; flex-direction: column; flex-basis: 100%; flex: 1; padding: 10px; }\n",
       "    </style>\n",
       "<div class=\"wandb-row\"><div class=\"wandb-col\"><h3>Run history:</h3><br/><table class=\"wandb\"><tr><td>epoch</td><td>▁▁▁▂▂▂▂▃▃▃▃▄▄▄▄▅▅▅▅▆▆▆▆▇▇▇▇███</td></tr><tr><td>test_accuracy</td><td>▁</td></tr><tr><td>test_loss</td><td>▁</td></tr><tr><td>train_loss</td><td>█▆▆▆▆▆▅▅▅▅▄▄▄▄▄▃▃▃▃▃▂▂▂▂▂▂▁▁▁▁</td></tr></table><br/></div><div class=\"wandb-col\"><h3>Run summary:</h3><br/><table class=\"wandb\"><tr><td>epoch</td><td>30</td></tr><tr><td>test_accuracy</td><td>0.61768</td></tr><tr><td>test_loss</td><td>0.66999</td></tr><tr><td>train_loss</td><td>0.67037</td></tr></table><br/></div></div>"
      ],
      "text/plain": [
       "<IPython.core.display.HTML object>"
      ]
     },
     "metadata": {},
     "output_type": "display_data"
    },
    {
     "data": {
      "text/html": [
       " View run <strong style=\"color:#cdcd00\">light-smoke-35</strong> at: <a href='https://wandb.ai/pierrehogenhaug/modern_nlp_ex/runs/ii13puhz' target=\"_blank\">https://wandb.ai/pierrehogenhaug/modern_nlp_ex/runs/ii13puhz</a><br/>Synced 6 W&B file(s), 0 media file(s), 0 artifact file(s) and 0 other file(s)"
      ],
      "text/plain": [
       "<IPython.core.display.HTML object>"
      ]
     },
     "metadata": {},
     "output_type": "display_data"
    },
    {
     "data": {
      "text/html": [
       "Find logs at: <code>./wandb/run-20240313_111045-ii13puhz/logs</code>"
      ],
      "text/plain": [
       "<IPython.core.display.HTML object>"
      ]
     },
     "metadata": {},
     "output_type": "display_data"
    },
    {
     "name": "stdout",
     "output_type": "stream",
     "text": [
      "\n",
      "Training with max_pool, lr=0.001, batch_size=128, epochs=50\n"
     ]
    },
    {
     "data": {
      "text/html": [
       "Tracking run with wandb version 0.16.4"
      ],
      "text/plain": [
       "<IPython.core.display.HTML object>"
      ]
     },
     "metadata": {},
     "output_type": "display_data"
    },
    {
     "data": {
      "text/html": [
       "Run data is saved locally in <code>/Users/phog/Desktop/cleverThings/Modern_NLP/cs-552-modern-nlp/Exercises/Week 1 - Word Embeddings/wandb/run-20240313_111058-wm3736ck</code>"
      ],
      "text/plain": [
       "<IPython.core.display.HTML object>"
      ]
     },
     "metadata": {},
     "output_type": "display_data"
    },
    {
     "data": {
      "text/html": [
       "Syncing run <strong><a href='https://wandb.ai/pierrehogenhaug/modern_nlp_ex/runs/wm3736ck' target=\"_blank\">noble-wildflower-36</a></strong> to <a href='https://wandb.ai/pierrehogenhaug/modern_nlp_ex' target=\"_blank\">Weights & Biases</a> (<a href='https://wandb.me/run' target=\"_blank\">docs</a>)<br/>"
      ],
      "text/plain": [
       "<IPython.core.display.HTML object>"
      ]
     },
     "metadata": {},
     "output_type": "display_data"
    },
    {
     "data": {
      "text/html": [
       " View project at <a href='https://wandb.ai/pierrehogenhaug/modern_nlp_ex' target=\"_blank\">https://wandb.ai/pierrehogenhaug/modern_nlp_ex</a>"
      ],
      "text/plain": [
       "<IPython.core.display.HTML object>"
      ]
     },
     "metadata": {},
     "output_type": "display_data"
    },
    {
     "data": {
      "text/html": [
       " View run at <a href='https://wandb.ai/pierrehogenhaug/modern_nlp_ex/runs/wm3736ck' target=\"_blank\">https://wandb.ai/pierrehogenhaug/modern_nlp_ex/runs/wm3736ck</a>"
      ],
      "text/plain": [
       "<IPython.core.display.HTML object>"
      ]
     },
     "metadata": {},
     "output_type": "display_data"
    },
    {
     "name": "stdout",
     "output_type": "stream",
     "text": [
      "Epoch 1/50 | Loss: 0.6891\n",
      "Epoch 2/50 | Loss: 0.6871\n",
      "Epoch 3/50 | Loss: 0.6861\n",
      "Epoch 4/50 | Loss: 0.6851\n",
      "Epoch 5/50 | Loss: 0.6842\n",
      "Epoch 6/50 | Loss: 0.6832\n",
      "Epoch 7/50 | Loss: 0.6823\n",
      "Epoch 8/50 | Loss: 0.6813\n",
      "Epoch 9/50 | Loss: 0.6805\n",
      "Epoch 10/50 | Loss: 0.6795\n",
      "Epoch 11/50 | Loss: 0.6787\n",
      "Epoch 12/50 | Loss: 0.6779\n",
      "Epoch 13/50 | Loss: 0.6770\n",
      "Epoch 14/50 | Loss: 0.6762\n",
      "Epoch 15/50 | Loss: 0.6754\n",
      "Epoch 16/50 | Loss: 0.6747\n",
      "Epoch 17/50 | Loss: 0.6738\n",
      "Epoch 18/50 | Loss: 0.6731\n",
      "Epoch 19/50 | Loss: 0.6723\n",
      "Epoch 20/50 | Loss: 0.6715\n",
      "Epoch 21/50 | Loss: 0.6709\n",
      "Epoch 22/50 | Loss: 0.6701\n",
      "Epoch 23/50 | Loss: 0.6693\n",
      "Epoch 24/50 | Loss: 0.6687\n",
      "Epoch 25/50 | Loss: 0.6680\n",
      "Epoch 26/50 | Loss: 0.6672\n",
      "Epoch 27/50 | Loss: 0.6666\n",
      "Epoch 28/50 | Loss: 0.6660\n",
      "Epoch 29/50 | Loss: 0.6654\n",
      "Epoch 30/50 | Loss: 0.6646\n",
      "Epoch 31/50 | Loss: 0.6641\n",
      "Epoch 32/50 | Loss: 0.6634\n",
      "Epoch 33/50 | Loss: 0.6628\n",
      "Epoch 34/50 | Loss: 0.6623\n",
      "Epoch 35/50 | Loss: 0.6616\n",
      "Epoch 36/50 | Loss: 0.6611\n",
      "Epoch 37/50 | Loss: 0.6604\n",
      "Epoch 38/50 | Loss: 0.6599\n",
      "Epoch 39/50 | Loss: 0.6594\n",
      "Epoch 40/50 | Loss: 0.6589\n",
      "Epoch 41/50 | Loss: 0.6583\n",
      "Epoch 42/50 | Loss: 0.6577\n",
      "Epoch 43/50 | Loss: 0.6572\n",
      "Epoch 44/50 | Loss: 0.6567\n",
      "Epoch 45/50 | Loss: 0.6562\n",
      "Epoch 46/50 | Loss: 0.6557\n",
      "Epoch 47/50 | Loss: 0.6552\n",
      "Epoch 48/50 | Loss: 0.6546\n",
      "Epoch 49/50 | Loss: 0.6542\n",
      "Epoch 50/50 | Loss: 0.6537\n",
      "Test Acc: 63.99%\n"
     ]
    },
    {
     "name": "stderr",
     "output_type": "stream",
     "text": [
      "wandb: WARNING Source type is set to 'repo' but some required information is missing from the environment. A job will not be created from this run. See https://docs.wandb.ai/guides/launch/create-job\n"
     ]
    },
    {
     "data": {
      "text/html": [
       "<style>\n",
       "    table.wandb td:nth-child(1) { padding: 0 10px; text-align: left ; width: auto;} td:nth-child(2) {text-align: left ; width: 100%}\n",
       "    .wandb-row { display: flex; flex-direction: row; flex-wrap: wrap; justify-content: flex-start; width: 100% }\n",
       "    .wandb-col { display: flex; flex-direction: column; flex-basis: 100%; flex: 1; padding: 10px; }\n",
       "    </style>\n",
       "<div class=\"wandb-row\"><div class=\"wandb-col\"><h3>Run history:</h3><br/><table class=\"wandb\"><tr><td>epoch</td><td>▁▁▁▁▂▂▂▂▂▃▃▃▃▃▃▄▄▄▄▄▅▅▅▅▅▅▆▆▆▆▆▆▇▇▇▇▇███</td></tr><tr><td>test_accuracy</td><td>▁</td></tr><tr><td>test_loss</td><td>▁</td></tr><tr><td>train_loss</td><td>██▇▇▇▇▆▆▆▆▆▅▅▅▅▅▄▄▄▄▄▄▃▃▃▃▃▃▂▂▂▂▂▂▂▂▁▁▁▁</td></tr></table><br/></div><div class=\"wandb-col\"><h3>Run summary:</h3><br/><table class=\"wandb\"><tr><td>epoch</td><td>50</td></tr><tr><td>test_accuracy</td><td>0.63993</td></tr><tr><td>test_loss</td><td>0.65504</td></tr><tr><td>train_loss</td><td>0.65372</td></tr></table><br/></div></div>"
      ],
      "text/plain": [
       "<IPython.core.display.HTML object>"
      ]
     },
     "metadata": {},
     "output_type": "display_data"
    },
    {
     "data": {
      "text/html": [
       " View run <strong style=\"color:#cdcd00\">noble-wildflower-36</strong> at: <a href='https://wandb.ai/pierrehogenhaug/modern_nlp_ex/runs/wm3736ck' target=\"_blank\">https://wandb.ai/pierrehogenhaug/modern_nlp_ex/runs/wm3736ck</a><br/>Synced 6 W&B file(s), 0 media file(s), 0 artifact file(s) and 0 other file(s)"
      ],
      "text/plain": [
       "<IPython.core.display.HTML object>"
      ]
     },
     "metadata": {},
     "output_type": "display_data"
    },
    {
     "data": {
      "text/html": [
       "Find logs at: <code>./wandb/run-20240313_111058-wm3736ck/logs</code>"
      ],
      "text/plain": [
       "<IPython.core.display.HTML object>"
      ]
     },
     "metadata": {},
     "output_type": "display_data"
    },
    {
     "name": "stdout",
     "output_type": "stream",
     "text": [
      "\n",
      "Training with max_pool, lr=0.001, batch_size=128, epochs=70\n"
     ]
    },
    {
     "data": {
      "text/html": [
       "Tracking run with wandb version 0.16.4"
      ],
      "text/plain": [
       "<IPython.core.display.HTML object>"
      ]
     },
     "metadata": {},
     "output_type": "display_data"
    },
    {
     "data": {
      "text/html": [
       "Run data is saved locally in <code>/Users/phog/Desktop/cleverThings/Modern_NLP/cs-552-modern-nlp/Exercises/Week 1 - Word Embeddings/wandb/run-20240313_111114-yb0s8v73</code>"
      ],
      "text/plain": [
       "<IPython.core.display.HTML object>"
      ]
     },
     "metadata": {},
     "output_type": "display_data"
    },
    {
     "data": {
      "text/html": [
       "Syncing run <strong><a href='https://wandb.ai/pierrehogenhaug/modern_nlp_ex/runs/yb0s8v73' target=\"_blank\">youthful-wind-37</a></strong> to <a href='https://wandb.ai/pierrehogenhaug/modern_nlp_ex' target=\"_blank\">Weights & Biases</a> (<a href='https://wandb.me/run' target=\"_blank\">docs</a>)<br/>"
      ],
      "text/plain": [
       "<IPython.core.display.HTML object>"
      ]
     },
     "metadata": {},
     "output_type": "display_data"
    },
    {
     "data": {
      "text/html": [
       " View project at <a href='https://wandb.ai/pierrehogenhaug/modern_nlp_ex' target=\"_blank\">https://wandb.ai/pierrehogenhaug/modern_nlp_ex</a>"
      ],
      "text/plain": [
       "<IPython.core.display.HTML object>"
      ]
     },
     "metadata": {},
     "output_type": "display_data"
    },
    {
     "data": {
      "text/html": [
       " View run at <a href='https://wandb.ai/pierrehogenhaug/modern_nlp_ex/runs/yb0s8v73' target=\"_blank\">https://wandb.ai/pierrehogenhaug/modern_nlp_ex/runs/yb0s8v73</a>"
      ],
      "text/plain": [
       "<IPython.core.display.HTML object>"
      ]
     },
     "metadata": {},
     "output_type": "display_data"
    },
    {
     "name": "stdout",
     "output_type": "stream",
     "text": [
      "Epoch 1/70 | Loss: 0.7024\n",
      "Epoch 2/70 | Loss: 0.6912\n",
      "Epoch 3/70 | Loss: 0.6902\n",
      "Epoch 4/70 | Loss: 0.6891\n",
      "Epoch 5/70 | Loss: 0.6882\n",
      "Epoch 6/70 | Loss: 0.6872\n",
      "Epoch 7/70 | Loss: 0.6863\n",
      "Epoch 8/70 | Loss: 0.6854\n",
      "Epoch 9/70 | Loss: 0.6845\n",
      "Epoch 10/70 | Loss: 0.6835\n",
      "Epoch 11/70 | Loss: 0.6827\n",
      "Epoch 12/70 | Loss: 0.6818\n",
      "Epoch 13/70 | Loss: 0.6810\n",
      "Epoch 14/70 | Loss: 0.6801\n",
      "Epoch 15/70 | Loss: 0.6793\n",
      "Epoch 16/70 | Loss: 0.6785\n",
      "Epoch 17/70 | Loss: 0.6777\n",
      "Epoch 18/70 | Loss: 0.6769\n",
      "Epoch 19/70 | Loss: 0.6761\n",
      "Epoch 20/70 | Loss: 0.6753\n",
      "Epoch 21/70 | Loss: 0.6745\n",
      "Epoch 22/70 | Loss: 0.6738\n",
      "Epoch 23/70 | Loss: 0.6731\n",
      "Epoch 24/70 | Loss: 0.6723\n",
      "Epoch 25/70 | Loss: 0.6716\n",
      "Epoch 26/70 | Loss: 0.6709\n",
      "Epoch 27/70 | Loss: 0.6702\n",
      "Epoch 28/70 | Loss: 0.6695\n",
      "Epoch 29/70 | Loss: 0.6688\n",
      "Epoch 30/70 | Loss: 0.6682\n",
      "Epoch 31/70 | Loss: 0.6675\n",
      "Epoch 32/70 | Loss: 0.6668\n",
      "Epoch 33/70 | Loss: 0.6662\n",
      "Epoch 34/70 | Loss: 0.6656\n",
      "Epoch 35/70 | Loss: 0.6650\n",
      "Epoch 36/70 | Loss: 0.6644\n",
      "Epoch 37/70 | Loss: 0.6637\n",
      "Epoch 38/70 | Loss: 0.6632\n",
      "Epoch 39/70 | Loss: 0.6626\n",
      "Epoch 40/70 | Loss: 0.6620\n",
      "Epoch 41/70 | Loss: 0.6614\n",
      "Epoch 42/70 | Loss: 0.6608\n",
      "Epoch 43/70 | Loss: 0.6601\n",
      "Epoch 44/70 | Loss: 0.6598\n",
      "Epoch 45/70 | Loss: 0.6592\n",
      "Epoch 46/70 | Loss: 0.6586\n",
      "Epoch 47/70 | Loss: 0.6581\n",
      "Epoch 48/70 | Loss: 0.6576\n",
      "Epoch 49/70 | Loss: 0.6571\n",
      "Epoch 50/70 | Loss: 0.6565\n",
      "Epoch 51/70 | Loss: 0.6561\n",
      "Epoch 52/70 | Loss: 0.6555\n",
      "Epoch 53/70 | Loss: 0.6550\n",
      "Epoch 54/70 | Loss: 0.6545\n",
      "Epoch 55/70 | Loss: 0.6542\n",
      "Epoch 56/70 | Loss: 0.6536\n",
      "Epoch 57/70 | Loss: 0.6530\n",
      "Epoch 58/70 | Loss: 0.6527\n",
      "Epoch 59/70 | Loss: 0.6522\n",
      "Epoch 60/70 | Loss: 0.6518\n",
      "Epoch 61/70 | Loss: 0.6513\n",
      "Epoch 62/70 | Loss: 0.6508\n",
      "Epoch 63/70 | Loss: 0.6504\n",
      "Epoch 64/70 | Loss: 0.6500\n",
      "Epoch 65/70 | Loss: 0.6495\n",
      "Epoch 66/70 | Loss: 0.6491\n",
      "Epoch 67/70 | Loss: 0.6487\n",
      "Epoch 68/70 | Loss: 0.6483\n",
      "Epoch 69/70 | Loss: 0.6480\n",
      "Epoch 70/70 | Loss: 0.6475\n",
      "Test Acc: 64.04%\n"
     ]
    },
    {
     "name": "stderr",
     "output_type": "stream",
     "text": [
      "wandb: WARNING Source type is set to 'repo' but some required information is missing from the environment. A job will not be created from this run. See https://docs.wandb.ai/guides/launch/create-job\n"
     ]
    },
    {
     "data": {
      "text/html": [
       "<style>\n",
       "    table.wandb td:nth-child(1) { padding: 0 10px; text-align: left ; width: auto;} td:nth-child(2) {text-align: left ; width: 100%}\n",
       "    .wandb-row { display: flex; flex-direction: row; flex-wrap: wrap; justify-content: flex-start; width: 100% }\n",
       "    .wandb-col { display: flex; flex-direction: column; flex-basis: 100%; flex: 1; padding: 10px; }\n",
       "    </style>\n",
       "<div class=\"wandb-row\"><div class=\"wandb-col\"><h3>Run history:</h3><br/><table class=\"wandb\"><tr><td>epoch</td><td>▁▁▁▂▂▂▂▂▂▃▃▃▃▃▃▄▄▄▄▄▅▅▅▅▅▅▆▆▆▆▆▆▇▇▇▇▇███</td></tr><tr><td>test_accuracy</td><td>▁</td></tr><tr><td>test_loss</td><td>▁</td></tr><tr><td>train_loss</td><td>█▇▆▆▆▆▅▅▅▅▅▅▄▄▄▄▄▄▃▃▃▃▃▃▃▂▂▂▂▂▂▂▂▂▁▁▁▁▁▁</td></tr></table><br/></div><div class=\"wandb-col\"><h3>Run summary:</h3><br/><table class=\"wandb\"><tr><td>epoch</td><td>70</td></tr><tr><td>test_accuracy</td><td>0.64043</td></tr><tr><td>test_loss</td><td>0.6489</td></tr><tr><td>train_loss</td><td>0.64754</td></tr></table><br/></div></div>"
      ],
      "text/plain": [
       "<IPython.core.display.HTML object>"
      ]
     },
     "metadata": {},
     "output_type": "display_data"
    },
    {
     "data": {
      "text/html": [
       " View run <strong style=\"color:#cdcd00\">youthful-wind-37</strong> at: <a href='https://wandb.ai/pierrehogenhaug/modern_nlp_ex/runs/yb0s8v73' target=\"_blank\">https://wandb.ai/pierrehogenhaug/modern_nlp_ex/runs/yb0s8v73</a><br/>Synced 6 W&B file(s), 0 media file(s), 0 artifact file(s) and 0 other file(s)"
      ],
      "text/plain": [
       "<IPython.core.display.HTML object>"
      ]
     },
     "metadata": {},
     "output_type": "display_data"
    },
    {
     "data": {
      "text/html": [
       "Find logs at: <code>./wandb/run-20240313_111114-yb0s8v73/logs</code>"
      ],
      "text/plain": [
       "<IPython.core.display.HTML object>"
      ]
     },
     "metadata": {},
     "output_type": "display_data"
    },
    {
     "name": "stdout",
     "output_type": "stream",
     "text": [
      "\n",
      "Training with max_pool, lr=0.01, batch_size=32, epochs=30\n"
     ]
    },
    {
     "data": {
      "text/html": [
       "Tracking run with wandb version 0.16.4"
      ],
      "text/plain": [
       "<IPython.core.display.HTML object>"
      ]
     },
     "metadata": {},
     "output_type": "display_data"
    },
    {
     "data": {
      "text/html": [
       "Run data is saved locally in <code>/Users/phog/Desktop/cleverThings/Modern_NLP/cs-552-modern-nlp/Exercises/Week 1 - Word Embeddings/wandb/run-20240313_111133-n2a0kei8</code>"
      ],
      "text/plain": [
       "<IPython.core.display.HTML object>"
      ]
     },
     "metadata": {},
     "output_type": "display_data"
    },
    {
     "data": {
      "text/html": [
       "Syncing run <strong><a href='https://wandb.ai/pierrehogenhaug/modern_nlp_ex/runs/n2a0kei8' target=\"_blank\">radiant-dream-38</a></strong> to <a href='https://wandb.ai/pierrehogenhaug/modern_nlp_ex' target=\"_blank\">Weights & Biases</a> (<a href='https://wandb.me/run' target=\"_blank\">docs</a>)<br/>"
      ],
      "text/plain": [
       "<IPython.core.display.HTML object>"
      ]
     },
     "metadata": {},
     "output_type": "display_data"
    },
    {
     "data": {
      "text/html": [
       " View project at <a href='https://wandb.ai/pierrehogenhaug/modern_nlp_ex' target=\"_blank\">https://wandb.ai/pierrehogenhaug/modern_nlp_ex</a>"
      ],
      "text/plain": [
       "<IPython.core.display.HTML object>"
      ]
     },
     "metadata": {},
     "output_type": "display_data"
    },
    {
     "data": {
      "text/html": [
       " View run at <a href='https://wandb.ai/pierrehogenhaug/modern_nlp_ex/runs/n2a0kei8' target=\"_blank\">https://wandb.ai/pierrehogenhaug/modern_nlp_ex/runs/n2a0kei8</a>"
      ],
      "text/plain": [
       "<IPython.core.display.HTML object>"
      ]
     },
     "metadata": {},
     "output_type": "display_data"
    },
    {
     "name": "stdout",
     "output_type": "stream",
     "text": [
      "Epoch 1/30 | Loss: 0.6799\n",
      "Epoch 2/30 | Loss: 0.6536\n",
      "Epoch 3/30 | Loss: 0.6392\n",
      "Epoch 4/30 | Loss: 0.6300\n",
      "Epoch 5/30 | Loss: 0.6239\n",
      "Epoch 6/30 | Loss: 0.6198\n",
      "Epoch 7/30 | Loss: 0.6164\n",
      "Epoch 8/30 | Loss: 0.6141\n",
      "Epoch 9/30 | Loss: 0.6125\n",
      "Epoch 10/30 | Loss: 0.6112\n",
      "Epoch 11/30 | Loss: 0.6101\n",
      "Epoch 12/30 | Loss: 0.6094\n",
      "Epoch 13/30 | Loss: 0.6087\n",
      "Epoch 14/30 | Loss: 0.6083\n",
      "Epoch 15/30 | Loss: 0.6073\n",
      "Epoch 16/30 | Loss: 0.6071\n",
      "Epoch 17/30 | Loss: 0.6069\n",
      "Epoch 18/30 | Loss: 0.6068\n",
      "Epoch 19/30 | Loss: 0.6063\n",
      "Epoch 20/30 | Loss: 0.6063\n",
      "Epoch 21/30 | Loss: 0.6064\n",
      "Epoch 22/30 | Loss: 0.6062\n",
      "Epoch 23/30 | Loss: 0.6060\n",
      "Epoch 24/30 | Loss: 0.6060\n",
      "Epoch 25/30 | Loss: 0.6057\n",
      "Epoch 26/30 | Loss: 0.6055\n",
      "Epoch 27/30 | Loss: 0.6057\n",
      "Epoch 28/30 | Loss: 0.6057\n",
      "Epoch 29/30 | Loss: 0.6059\n",
      "Epoch 30/30 | Loss: 0.6054\n",
      "Test Acc: 66.26%\n"
     ]
    },
    {
     "name": "stderr",
     "output_type": "stream",
     "text": [
      "wandb: WARNING Source type is set to 'repo' but some required information is missing from the environment. A job will not be created from this run. See https://docs.wandb.ai/guides/launch/create-job\n"
     ]
    },
    {
     "data": {
      "text/html": [
       "<style>\n",
       "    table.wandb td:nth-child(1) { padding: 0 10px; text-align: left ; width: auto;} td:nth-child(2) {text-align: left ; width: 100%}\n",
       "    .wandb-row { display: flex; flex-direction: row; flex-wrap: wrap; justify-content: flex-start; width: 100% }\n",
       "    .wandb-col { display: flex; flex-direction: column; flex-basis: 100%; flex: 1; padding: 10px; }\n",
       "    </style>\n",
       "<div class=\"wandb-row\"><div class=\"wandb-col\"><h3>Run history:</h3><br/><table class=\"wandb\"><tr><td>epoch</td><td>▁▁▁▂▂▂▂▃▃▃▃▄▄▄▄▅▅▅▅▆▆▆▆▇▇▇▇███</td></tr><tr><td>test_accuracy</td><td>▁</td></tr><tr><td>test_loss</td><td>▁</td></tr><tr><td>train_loss</td><td>█▆▄▃▃▂▂▂▂▂▁▁▁▁▁▁▁▁▁▁▁▁▁▁▁▁▁▁▁▁</td></tr></table><br/></div><div class=\"wandb-col\"><h3>Run summary:</h3><br/><table class=\"wandb\"><tr><td>epoch</td><td>30</td></tr><tr><td>test_accuracy</td><td>0.66264</td></tr><tr><td>test_loss</td><td>0.60873</td></tr><tr><td>train_loss</td><td>0.60544</td></tr></table><br/></div></div>"
      ],
      "text/plain": [
       "<IPython.core.display.HTML object>"
      ]
     },
     "metadata": {},
     "output_type": "display_data"
    },
    {
     "data": {
      "text/html": [
       " View run <strong style=\"color:#cdcd00\">radiant-dream-38</strong> at: <a href='https://wandb.ai/pierrehogenhaug/modern_nlp_ex/runs/n2a0kei8' target=\"_blank\">https://wandb.ai/pierrehogenhaug/modern_nlp_ex/runs/n2a0kei8</a><br/>Synced 6 W&B file(s), 0 media file(s), 0 artifact file(s) and 0 other file(s)"
      ],
      "text/plain": [
       "<IPython.core.display.HTML object>"
      ]
     },
     "metadata": {},
     "output_type": "display_data"
    },
    {
     "data": {
      "text/html": [
       "Find logs at: <code>./wandb/run-20240313_111133-n2a0kei8/logs</code>"
      ],
      "text/plain": [
       "<IPython.core.display.HTML object>"
      ]
     },
     "metadata": {},
     "output_type": "display_data"
    },
    {
     "name": "stdout",
     "output_type": "stream",
     "text": [
      "\n",
      "Training with max_pool, lr=0.01, batch_size=32, epochs=50\n"
     ]
    },
    {
     "data": {
      "text/html": [
       "Tracking run with wandb version 0.16.4"
      ],
      "text/plain": [
       "<IPython.core.display.HTML object>"
      ]
     },
     "metadata": {},
     "output_type": "display_data"
    },
    {
     "data": {
      "text/html": [
       "Run data is saved locally in <code>/Users/phog/Desktop/cleverThings/Modern_NLP/cs-552-modern-nlp/Exercises/Week 1 - Word Embeddings/wandb/run-20240313_111152-xz7o3y2s</code>"
      ],
      "text/plain": [
       "<IPython.core.display.HTML object>"
      ]
     },
     "metadata": {},
     "output_type": "display_data"
    },
    {
     "data": {
      "text/html": [
       "Syncing run <strong><a href='https://wandb.ai/pierrehogenhaug/modern_nlp_ex/runs/xz7o3y2s' target=\"_blank\">laced-wind-39</a></strong> to <a href='https://wandb.ai/pierrehogenhaug/modern_nlp_ex' target=\"_blank\">Weights & Biases</a> (<a href='https://wandb.me/run' target=\"_blank\">docs</a>)<br/>"
      ],
      "text/plain": [
       "<IPython.core.display.HTML object>"
      ]
     },
     "metadata": {},
     "output_type": "display_data"
    },
    {
     "data": {
      "text/html": [
       " View project at <a href='https://wandb.ai/pierrehogenhaug/modern_nlp_ex' target=\"_blank\">https://wandb.ai/pierrehogenhaug/modern_nlp_ex</a>"
      ],
      "text/plain": [
       "<IPython.core.display.HTML object>"
      ]
     },
     "metadata": {},
     "output_type": "display_data"
    },
    {
     "data": {
      "text/html": [
       " View run at <a href='https://wandb.ai/pierrehogenhaug/modern_nlp_ex/runs/xz7o3y2s' target=\"_blank\">https://wandb.ai/pierrehogenhaug/modern_nlp_ex/runs/xz7o3y2s</a>"
      ],
      "text/plain": [
       "<IPython.core.display.HTML object>"
      ]
     },
     "metadata": {},
     "output_type": "display_data"
    },
    {
     "name": "stdout",
     "output_type": "stream",
     "text": [
      "Epoch 1/50 | Loss: 0.6816\n",
      "Epoch 2/50 | Loss: 0.6564\n",
      "Epoch 3/50 | Loss: 0.6412\n",
      "Epoch 4/50 | Loss: 0.6318\n",
      "Epoch 5/50 | Loss: 0.6256\n",
      "Epoch 6/50 | Loss: 0.6213\n",
      "Epoch 7/50 | Loss: 0.6178\n",
      "Epoch 8/50 | Loss: 0.6153\n",
      "Epoch 9/50 | Loss: 0.6134\n",
      "Epoch 10/50 | Loss: 0.6120\n",
      "Epoch 11/50 | Loss: 0.6110\n",
      "Epoch 12/50 | Loss: 0.6100\n",
      "Epoch 13/50 | Loss: 0.6099\n",
      "Epoch 14/50 | Loss: 0.6085\n",
      "Epoch 15/50 | Loss: 0.6080\n",
      "Epoch 16/50 | Loss: 0.6082\n",
      "Epoch 17/50 | Loss: 0.6078\n",
      "Epoch 18/50 | Loss: 0.6074\n",
      "Epoch 19/50 | Loss: 0.6076\n",
      "Epoch 20/50 | Loss: 0.6069\n",
      "Epoch 21/50 | Loss: 0.6067\n",
      "Epoch 22/50 | Loss: 0.6069\n",
      "Epoch 23/50 | Loss: 0.6069\n",
      "Epoch 24/50 | Loss: 0.6069\n",
      "Epoch 25/50 | Loss: 0.6064\n",
      "Epoch 26/50 | Loss: 0.6064\n",
      "Epoch 27/50 | Loss: 0.6063\n",
      "Epoch 28/50 | Loss: 0.6064\n",
      "Epoch 29/50 | Loss: 0.6064\n",
      "Epoch 30/50 | Loss: 0.6062\n",
      "Epoch 31/50 | Loss: 0.6062\n",
      "Epoch 32/50 | Loss: 0.6060\n",
      "Epoch 33/50 | Loss: 0.6063\n",
      "Epoch 34/50 | Loss: 0.6058\n",
      "Epoch 35/50 | Loss: 0.6061\n",
      "Epoch 36/50 | Loss: 0.6059\n",
      "Epoch 37/50 | Loss: 0.6059\n",
      "Epoch 38/50 | Loss: 0.6058\n",
      "Epoch 39/50 | Loss: 0.6062\n",
      "Epoch 40/50 | Loss: 0.6057\n",
      "Epoch 41/50 | Loss: 0.6060\n",
      "Epoch 42/50 | Loss: 0.6061\n",
      "Epoch 43/50 | Loss: 0.6058\n",
      "Epoch 44/50 | Loss: 0.6062\n",
      "Epoch 45/50 | Loss: 0.6059\n",
      "Epoch 46/50 | Loss: 0.6060\n",
      "Epoch 47/50 | Loss: 0.6058\n",
      "Epoch 48/50 | Loss: 0.6063\n",
      "Epoch 49/50 | Loss: 0.6061\n",
      "Epoch 50/50 | Loss: 0.6059\n",
      "Test Acc: 66.58%\n"
     ]
    },
    {
     "name": "stderr",
     "output_type": "stream",
     "text": [
      "wandb: WARNING Source type is set to 'repo' but some required information is missing from the environment. A job will not be created from this run. See https://docs.wandb.ai/guides/launch/create-job\n"
     ]
    },
    {
     "data": {
      "text/html": [
       "<style>\n",
       "    table.wandb td:nth-child(1) { padding: 0 10px; text-align: left ; width: auto;} td:nth-child(2) {text-align: left ; width: 100%}\n",
       "    .wandb-row { display: flex; flex-direction: row; flex-wrap: wrap; justify-content: flex-start; width: 100% }\n",
       "    .wandb-col { display: flex; flex-direction: column; flex-basis: 100%; flex: 1; padding: 10px; }\n",
       "    </style>\n",
       "<div class=\"wandb-row\"><div class=\"wandb-col\"><h3>Run history:</h3><br/><table class=\"wandb\"><tr><td>epoch</td><td>▁▁▁▁▂▂▂▂▂▃▃▃▃▃▃▄▄▄▄▄▅▅▅▅▅▅▆▆▆▆▆▆▇▇▇▇▇███</td></tr><tr><td>test_accuracy</td><td>▁</td></tr><tr><td>test_loss</td><td>▁</td></tr><tr><td>train_loss</td><td>█▆▄▃▂▂▂▂▁▁▁▁▁▁▁▁▁▁▁▁▁▁▁▁▁▁▁▁▁▁▁▁▁▁▁▁▁▁▁▁</td></tr></table><br/></div><div class=\"wandb-col\"><h3>Run summary:</h3><br/><table class=\"wandb\"><tr><td>epoch</td><td>50</td></tr><tr><td>test_accuracy</td><td>0.66583</td></tr><tr><td>test_loss</td><td>0.61375</td></tr><tr><td>train_loss</td><td>0.60585</td></tr></table><br/></div></div>"
      ],
      "text/plain": [
       "<IPython.core.display.HTML object>"
      ]
     },
     "metadata": {},
     "output_type": "display_data"
    },
    {
     "data": {
      "text/html": [
       " View run <strong style=\"color:#cdcd00\">laced-wind-39</strong> at: <a href='https://wandb.ai/pierrehogenhaug/modern_nlp_ex/runs/xz7o3y2s' target=\"_blank\">https://wandb.ai/pierrehogenhaug/modern_nlp_ex/runs/xz7o3y2s</a><br/>Synced 6 W&B file(s), 0 media file(s), 0 artifact file(s) and 0 other file(s)"
      ],
      "text/plain": [
       "<IPython.core.display.HTML object>"
      ]
     },
     "metadata": {},
     "output_type": "display_data"
    },
    {
     "data": {
      "text/html": [
       "Find logs at: <code>./wandb/run-20240313_111152-xz7o3y2s/logs</code>"
      ],
      "text/plain": [
       "<IPython.core.display.HTML object>"
      ]
     },
     "metadata": {},
     "output_type": "display_data"
    },
    {
     "name": "stdout",
     "output_type": "stream",
     "text": [
      "\n",
      "Training with max_pool, lr=0.01, batch_size=32, epochs=70\n"
     ]
    },
    {
     "data": {
      "text/html": [
       "Tracking run with wandb version 0.16.4"
      ],
      "text/plain": [
       "<IPython.core.display.HTML object>"
      ]
     },
     "metadata": {},
     "output_type": "display_data"
    },
    {
     "data": {
      "text/html": [
       "Run data is saved locally in <code>/Users/phog/Desktop/cleverThings/Modern_NLP/cs-552-modern-nlp/Exercises/Week 1 - Word Embeddings/wandb/run-20240313_111214-yxh8c5hb</code>"
      ],
      "text/plain": [
       "<IPython.core.display.HTML object>"
      ]
     },
     "metadata": {},
     "output_type": "display_data"
    },
    {
     "data": {
      "text/html": [
       "Syncing run <strong><a href='https://wandb.ai/pierrehogenhaug/modern_nlp_ex/runs/yxh8c5hb' target=\"_blank\">proud-disco-40</a></strong> to <a href='https://wandb.ai/pierrehogenhaug/modern_nlp_ex' target=\"_blank\">Weights & Biases</a> (<a href='https://wandb.me/run' target=\"_blank\">docs</a>)<br/>"
      ],
      "text/plain": [
       "<IPython.core.display.HTML object>"
      ]
     },
     "metadata": {},
     "output_type": "display_data"
    },
    {
     "data": {
      "text/html": [
       " View project at <a href='https://wandb.ai/pierrehogenhaug/modern_nlp_ex' target=\"_blank\">https://wandb.ai/pierrehogenhaug/modern_nlp_ex</a>"
      ],
      "text/plain": [
       "<IPython.core.display.HTML object>"
      ]
     },
     "metadata": {},
     "output_type": "display_data"
    },
    {
     "data": {
      "text/html": [
       " View run at <a href='https://wandb.ai/pierrehogenhaug/modern_nlp_ex/runs/yxh8c5hb' target=\"_blank\">https://wandb.ai/pierrehogenhaug/modern_nlp_ex/runs/yxh8c5hb</a>"
      ],
      "text/plain": [
       "<IPython.core.display.HTML object>"
      ]
     },
     "metadata": {},
     "output_type": "display_data"
    },
    {
     "name": "stdout",
     "output_type": "stream",
     "text": [
      "Epoch 1/70 | Loss: 0.6804\n",
      "Epoch 2/70 | Loss: 0.6549\n",
      "Epoch 3/70 | Loss: 0.6404\n",
      "Epoch 4/70 | Loss: 0.6311\n",
      "Epoch 5/70 | Loss: 0.6247\n",
      "Epoch 6/70 | Loss: 0.6207\n",
      "Epoch 7/70 | Loss: 0.6173\n",
      "Epoch 8/70 | Loss: 0.6149\n",
      "Epoch 9/70 | Loss: 0.6130\n",
      "Epoch 10/70 | Loss: 0.6118\n",
      "Epoch 11/70 | Loss: 0.6107\n",
      "Epoch 12/70 | Loss: 0.6098\n",
      "Epoch 13/70 | Loss: 0.6090\n",
      "Epoch 14/70 | Loss: 0.6085\n",
      "Epoch 15/70 | Loss: 0.6080\n",
      "Epoch 16/70 | Loss: 0.6079\n",
      "Epoch 17/70 | Loss: 0.6073\n",
      "Epoch 18/70 | Loss: 0.6068\n",
      "Epoch 19/70 | Loss: 0.6068\n",
      "Epoch 20/70 | Loss: 0.6068\n",
      "Epoch 21/70 | Loss: 0.6064\n",
      "Epoch 22/70 | Loss: 0.6062\n",
      "Epoch 23/70 | Loss: 0.6062\n",
      "Epoch 24/70 | Loss: 0.6065\n",
      "Epoch 25/70 | Loss: 0.6061\n",
      "Epoch 26/70 | Loss: 0.6060\n",
      "Epoch 27/70 | Loss: 0.6062\n",
      "Epoch 28/70 | Loss: 0.6065\n",
      "Epoch 29/70 | Loss: 0.6059\n",
      "Epoch 30/70 | Loss: 0.6059\n",
      "Epoch 31/70 | Loss: 0.6058\n",
      "Epoch 32/70 | Loss: 0.6056\n",
      "Epoch 33/70 | Loss: 0.6059\n",
      "Epoch 34/70 | Loss: 0.6057\n",
      "Epoch 35/70 | Loss: 0.6058\n",
      "Epoch 36/70 | Loss: 0.6061\n",
      "Epoch 37/70 | Loss: 0.6059\n",
      "Epoch 38/70 | Loss: 0.6058\n",
      "Epoch 39/70 | Loss: 0.6054\n",
      "Epoch 40/70 | Loss: 0.6059\n",
      "Epoch 41/70 | Loss: 0.6056\n",
      "Epoch 42/70 | Loss: 0.6055\n",
      "Epoch 43/70 | Loss: 0.6059\n",
      "Epoch 44/70 | Loss: 0.6052\n",
      "Epoch 45/70 | Loss: 0.6054\n",
      "Epoch 46/70 | Loss: 0.6055\n",
      "Epoch 47/70 | Loss: 0.6052\n",
      "Epoch 48/70 | Loss: 0.6054\n",
      "Epoch 49/70 | Loss: 0.6056\n",
      "Epoch 50/70 | Loss: 0.6057\n",
      "Epoch 51/70 | Loss: 0.6055\n",
      "Epoch 52/70 | Loss: 0.6059\n",
      "Epoch 53/70 | Loss: 0.6058\n",
      "Epoch 54/70 | Loss: 0.6057\n",
      "Epoch 55/70 | Loss: 0.6058\n",
      "Epoch 56/70 | Loss: 0.6055\n",
      "Epoch 57/70 | Loss: 0.6062\n",
      "Epoch 58/70 | Loss: 0.6055\n",
      "Epoch 59/70 | Loss: 0.6058\n",
      "Epoch 60/70 | Loss: 0.6058\n",
      "Epoch 61/70 | Loss: 0.6057\n",
      "Epoch 62/70 | Loss: 0.6058\n",
      "Epoch 63/70 | Loss: 0.6056\n",
      "Epoch 64/70 | Loss: 0.6058\n",
      "Epoch 65/70 | Loss: 0.6058\n",
      "Epoch 66/70 | Loss: 0.6059\n",
      "Epoch 67/70 | Loss: 0.6060\n",
      "Epoch 68/70 | Loss: 0.6056\n",
      "Epoch 69/70 | Loss: 0.6059\n",
      "Epoch 70/70 | Loss: 0.6058\n",
      "Test Acc: 66.44%\n"
     ]
    },
    {
     "name": "stderr",
     "output_type": "stream",
     "text": [
      "wandb: WARNING Source type is set to 'repo' but some required information is missing from the environment. A job will not be created from this run. See https://docs.wandb.ai/guides/launch/create-job\n"
     ]
    },
    {
     "data": {
      "text/html": [
       "<style>\n",
       "    table.wandb td:nth-child(1) { padding: 0 10px; text-align: left ; width: auto;} td:nth-child(2) {text-align: left ; width: 100%}\n",
       "    .wandb-row { display: flex; flex-direction: row; flex-wrap: wrap; justify-content: flex-start; width: 100% }\n",
       "    .wandb-col { display: flex; flex-direction: column; flex-basis: 100%; flex: 1; padding: 10px; }\n",
       "    </style>\n",
       "<div class=\"wandb-row\"><div class=\"wandb-col\"><h3>Run history:</h3><br/><table class=\"wandb\"><tr><td>epoch</td><td>▁▁▁▂▂▂▂▂▂▃▃▃▃▃▃▄▄▄▄▄▅▅▅▅▅▅▆▆▆▆▆▆▇▇▇▇▇███</td></tr><tr><td>test_accuracy</td><td>▁</td></tr><tr><td>test_loss</td><td>▁</td></tr><tr><td>train_loss</td><td>█▆▃▂▂▂▂▁▁▁▁▁▁▁▁▁▁▁▁▁▁▁▁▁▁▁▁▁▁▁▁▁▁▁▁▁▁▁▁▁</td></tr></table><br/></div><div class=\"wandb-col\"><h3>Run summary:</h3><br/><table class=\"wandb\"><tr><td>epoch</td><td>70</td></tr><tr><td>test_accuracy</td><td>0.66444</td></tr><tr><td>test_loss</td><td>0.60995</td></tr><tr><td>train_loss</td><td>0.60581</td></tr></table><br/></div></div>"
      ],
      "text/plain": [
       "<IPython.core.display.HTML object>"
      ]
     },
     "metadata": {},
     "output_type": "display_data"
    },
    {
     "data": {
      "text/html": [
       " View run <strong style=\"color:#cdcd00\">proud-disco-40</strong> at: <a href='https://wandb.ai/pierrehogenhaug/modern_nlp_ex/runs/yxh8c5hb' target=\"_blank\">https://wandb.ai/pierrehogenhaug/modern_nlp_ex/runs/yxh8c5hb</a><br/>Synced 6 W&B file(s), 0 media file(s), 0 artifact file(s) and 0 other file(s)"
      ],
      "text/plain": [
       "<IPython.core.display.HTML object>"
      ]
     },
     "metadata": {},
     "output_type": "display_data"
    },
    {
     "data": {
      "text/html": [
       "Find logs at: <code>./wandb/run-20240313_111214-yxh8c5hb/logs</code>"
      ],
      "text/plain": [
       "<IPython.core.display.HTML object>"
      ]
     },
     "metadata": {},
     "output_type": "display_data"
    },
    {
     "name": "stdout",
     "output_type": "stream",
     "text": [
      "\n",
      "Training with max_pool, lr=0.01, batch_size=64, epochs=30\n"
     ]
    },
    {
     "data": {
      "text/html": [
       "Tracking run with wandb version 0.16.4"
      ],
      "text/plain": [
       "<IPython.core.display.HTML object>"
      ]
     },
     "metadata": {},
     "output_type": "display_data"
    },
    {
     "data": {
      "text/html": [
       "Run data is saved locally in <code>/Users/phog/Desktop/cleverThings/Modern_NLP/cs-552-modern-nlp/Exercises/Week 1 - Word Embeddings/wandb/run-20240313_111243-5ql71oo8</code>"
      ],
      "text/plain": [
       "<IPython.core.display.HTML object>"
      ]
     },
     "metadata": {},
     "output_type": "display_data"
    },
    {
     "data": {
      "text/html": [
       "Syncing run <strong><a href='https://wandb.ai/pierrehogenhaug/modern_nlp_ex/runs/5ql71oo8' target=\"_blank\">charmed-sponge-41</a></strong> to <a href='https://wandb.ai/pierrehogenhaug/modern_nlp_ex' target=\"_blank\">Weights & Biases</a> (<a href='https://wandb.me/run' target=\"_blank\">docs</a>)<br/>"
      ],
      "text/plain": [
       "<IPython.core.display.HTML object>"
      ]
     },
     "metadata": {},
     "output_type": "display_data"
    },
    {
     "data": {
      "text/html": [
       " View project at <a href='https://wandb.ai/pierrehogenhaug/modern_nlp_ex' target=\"_blank\">https://wandb.ai/pierrehogenhaug/modern_nlp_ex</a>"
      ],
      "text/plain": [
       "<IPython.core.display.HTML object>"
      ]
     },
     "metadata": {},
     "output_type": "display_data"
    },
    {
     "data": {
      "text/html": [
       " View run at <a href='https://wandb.ai/pierrehogenhaug/modern_nlp_ex/runs/5ql71oo8' target=\"_blank\">https://wandb.ai/pierrehogenhaug/modern_nlp_ex/runs/5ql71oo8</a>"
      ],
      "text/plain": [
       "<IPython.core.display.HTML object>"
      ]
     },
     "metadata": {},
     "output_type": "display_data"
    },
    {
     "name": "stdout",
     "output_type": "stream",
     "text": [
      "Epoch 1/30 | Loss: 0.6859\n",
      "Epoch 2/30 | Loss: 0.6694\n",
      "Epoch 3/30 | Loss: 0.6576\n",
      "Epoch 4/30 | Loss: 0.6482\n",
      "Epoch 5/30 | Loss: 0.6416\n",
      "Epoch 6/30 | Loss: 0.6361\n",
      "Epoch 7/30 | Loss: 0.6314\n",
      "Epoch 8/30 | Loss: 0.6276\n",
      "Epoch 9/30 | Loss: 0.6248\n",
      "Epoch 10/30 | Loss: 0.6218\n",
      "Epoch 11/30 | Loss: 0.6202\n",
      "Epoch 12/30 | Loss: 0.6184\n",
      "Epoch 13/30 | Loss: 0.6168\n",
      "Epoch 14/30 | Loss: 0.6154\n",
      "Epoch 15/30 | Loss: 0.6142\n",
      "Epoch 16/30 | Loss: 0.6133\n",
      "Epoch 17/30 | Loss: 0.6123\n",
      "Epoch 18/30 | Loss: 0.6115\n",
      "Epoch 19/30 | Loss: 0.6110\n",
      "Epoch 20/30 | Loss: 0.6103\n",
      "Epoch 21/30 | Loss: 0.6095\n",
      "Epoch 22/30 | Loss: 0.6092\n",
      "Epoch 23/30 | Loss: 0.6089\n",
      "Epoch 24/30 | Loss: 0.6085\n",
      "Epoch 25/30 | Loss: 0.6082\n",
      "Epoch 26/30 | Loss: 0.6076\n",
      "Epoch 27/30 | Loss: 0.6075\n",
      "Epoch 28/30 | Loss: 0.6072\n",
      "Epoch 29/30 | Loss: 0.6069\n",
      "Epoch 30/30 | Loss: 0.6068\n",
      "Test Acc: 66.34%\n"
     ]
    },
    {
     "name": "stderr",
     "output_type": "stream",
     "text": [
      "wandb: WARNING Source type is set to 'repo' but some required information is missing from the environment. A job will not be created from this run. See https://docs.wandb.ai/guides/launch/create-job\n"
     ]
    },
    {
     "data": {
      "text/html": [
       "<style>\n",
       "    table.wandb td:nth-child(1) { padding: 0 10px; text-align: left ; width: auto;} td:nth-child(2) {text-align: left ; width: 100%}\n",
       "    .wandb-row { display: flex; flex-direction: row; flex-wrap: wrap; justify-content: flex-start; width: 100% }\n",
       "    .wandb-col { display: flex; flex-direction: column; flex-basis: 100%; flex: 1; padding: 10px; }\n",
       "    </style>\n",
       "<div class=\"wandb-row\"><div class=\"wandb-col\"><h3>Run history:</h3><br/><table class=\"wandb\"><tr><td>epoch</td><td>▁▁▁▂▂▂▂▃▃▃▃▄▄▄▄▅▅▅▅▆▆▆▆▇▇▇▇███</td></tr><tr><td>test_accuracy</td><td>▁</td></tr><tr><td>test_loss</td><td>▁</td></tr><tr><td>train_loss</td><td>█▇▅▅▄▄▃▃▃▂▂▂▂▂▂▂▁▁▁▁▁▁▁▁▁▁▁▁▁▁</td></tr></table><br/></div><div class=\"wandb-col\"><h3>Run summary:</h3><br/><table class=\"wandb\"><tr><td>epoch</td><td>30</td></tr><tr><td>test_accuracy</td><td>0.66342</td></tr><tr><td>test_loss</td><td>0.60752</td></tr><tr><td>train_loss</td><td>0.60677</td></tr></table><br/></div></div>"
      ],
      "text/plain": [
       "<IPython.core.display.HTML object>"
      ]
     },
     "metadata": {},
     "output_type": "display_data"
    },
    {
     "data": {
      "text/html": [
       " View run <strong style=\"color:#cdcd00\">charmed-sponge-41</strong> at: <a href='https://wandb.ai/pierrehogenhaug/modern_nlp_ex/runs/5ql71oo8' target=\"_blank\">https://wandb.ai/pierrehogenhaug/modern_nlp_ex/runs/5ql71oo8</a><br/>Synced 6 W&B file(s), 0 media file(s), 0 artifact file(s) and 0 other file(s)"
      ],
      "text/plain": [
       "<IPython.core.display.HTML object>"
      ]
     },
     "metadata": {},
     "output_type": "display_data"
    },
    {
     "data": {
      "text/html": [
       "Find logs at: <code>./wandb/run-20240313_111243-5ql71oo8/logs</code>"
      ],
      "text/plain": [
       "<IPython.core.display.HTML object>"
      ]
     },
     "metadata": {},
     "output_type": "display_data"
    },
    {
     "name": "stdout",
     "output_type": "stream",
     "text": [
      "\n",
      "Training with max_pool, lr=0.01, batch_size=64, epochs=50\n"
     ]
    },
    {
     "data": {
      "text/html": [
       "Tracking run with wandb version 0.16.4"
      ],
      "text/plain": [
       "<IPython.core.display.HTML object>"
      ]
     },
     "metadata": {},
     "output_type": "display_data"
    },
    {
     "data": {
      "text/html": [
       "Run data is saved locally in <code>/Users/phog/Desktop/cleverThings/Modern_NLP/cs-552-modern-nlp/Exercises/Week 1 - Word Embeddings/wandb/run-20240313_111257-cz7l2zth</code>"
      ],
      "text/plain": [
       "<IPython.core.display.HTML object>"
      ]
     },
     "metadata": {},
     "output_type": "display_data"
    },
    {
     "data": {
      "text/html": [
       "Syncing run <strong><a href='https://wandb.ai/pierrehogenhaug/modern_nlp_ex/runs/cz7l2zth' target=\"_blank\">avid-salad-42</a></strong> to <a href='https://wandb.ai/pierrehogenhaug/modern_nlp_ex' target=\"_blank\">Weights & Biases</a> (<a href='https://wandb.me/run' target=\"_blank\">docs</a>)<br/>"
      ],
      "text/plain": [
       "<IPython.core.display.HTML object>"
      ]
     },
     "metadata": {},
     "output_type": "display_data"
    },
    {
     "data": {
      "text/html": [
       " View project at <a href='https://wandb.ai/pierrehogenhaug/modern_nlp_ex' target=\"_blank\">https://wandb.ai/pierrehogenhaug/modern_nlp_ex</a>"
      ],
      "text/plain": [
       "<IPython.core.display.HTML object>"
      ]
     },
     "metadata": {},
     "output_type": "display_data"
    },
    {
     "data": {
      "text/html": [
       " View run at <a href='https://wandb.ai/pierrehogenhaug/modern_nlp_ex/runs/cz7l2zth' target=\"_blank\">https://wandb.ai/pierrehogenhaug/modern_nlp_ex/runs/cz7l2zth</a>"
      ],
      "text/plain": [
       "<IPython.core.display.HTML object>"
      ]
     },
     "metadata": {},
     "output_type": "display_data"
    },
    {
     "name": "stdout",
     "output_type": "stream",
     "text": [
      "Epoch 1/50 | Loss: 0.6858\n",
      "Epoch 2/50 | Loss: 0.6700\n",
      "Epoch 3/50 | Loss: 0.6583\n",
      "Epoch 4/50 | Loss: 0.6489\n",
      "Epoch 5/50 | Loss: 0.6421\n",
      "Epoch 6/50 | Loss: 0.6368\n",
      "Epoch 7/50 | Loss: 0.6321\n",
      "Epoch 8/50 | Loss: 0.6283\n",
      "Epoch 9/50 | Loss: 0.6250\n",
      "Epoch 10/50 | Loss: 0.6228\n",
      "Epoch 11/50 | Loss: 0.6204\n",
      "Epoch 12/50 | Loss: 0.6185\n",
      "Epoch 13/50 | Loss: 0.6170\n",
      "Epoch 14/50 | Loss: 0.6156\n",
      "Epoch 15/50 | Loss: 0.6145\n",
      "Epoch 16/50 | Loss: 0.6135\n",
      "Epoch 17/50 | Loss: 0.6124\n",
      "Epoch 18/50 | Loss: 0.6116\n",
      "Epoch 19/50 | Loss: 0.6109\n",
      "Epoch 20/50 | Loss: 0.6101\n",
      "Epoch 21/50 | Loss: 0.6095\n",
      "Epoch 22/50 | Loss: 0.6094\n",
      "Epoch 23/50 | Loss: 0.6086\n",
      "Epoch 24/50 | Loss: 0.6082\n",
      "Epoch 25/50 | Loss: 0.6078\n",
      "Epoch 26/50 | Loss: 0.6078\n",
      "Epoch 27/50 | Loss: 0.6072\n",
      "Epoch 28/50 | Loss: 0.6070\n",
      "Epoch 29/50 | Loss: 0.6069\n",
      "Epoch 30/50 | Loss: 0.6067\n",
      "Epoch 31/50 | Loss: 0.6065\n",
      "Epoch 32/50 | Loss: 0.6063\n",
      "Epoch 33/50 | Loss: 0.6060\n",
      "Epoch 34/50 | Loss: 0.6059\n",
      "Epoch 35/50 | Loss: 0.6058\n",
      "Epoch 36/50 | Loss: 0.6056\n",
      "Epoch 37/50 | Loss: 0.6054\n",
      "Epoch 38/50 | Loss: 0.6056\n",
      "Epoch 39/50 | Loss: 0.6053\n",
      "Epoch 40/50 | Loss: 0.6055\n",
      "Epoch 41/50 | Loss: 0.6053\n",
      "Epoch 42/50 | Loss: 0.6052\n",
      "Epoch 43/50 | Loss: 0.6046\n",
      "Epoch 44/50 | Loss: 0.6048\n",
      "Epoch 45/50 | Loss: 0.6048\n",
      "Epoch 46/50 | Loss: 0.6050\n",
      "Epoch 47/50 | Loss: 0.6051\n",
      "Epoch 48/50 | Loss: 0.6047\n",
      "Epoch 49/50 | Loss: 0.6050\n",
      "Epoch 50/50 | Loss: 0.6048\n",
      "Test Acc: 66.50%\n"
     ]
    },
    {
     "name": "stderr",
     "output_type": "stream",
     "text": [
      "wandb: WARNING Source type is set to 'repo' but some required information is missing from the environment. A job will not be created from this run. See https://docs.wandb.ai/guides/launch/create-job\n"
     ]
    },
    {
     "data": {
      "text/html": [
       "<style>\n",
       "    table.wandb td:nth-child(1) { padding: 0 10px; text-align: left ; width: auto;} td:nth-child(2) {text-align: left ; width: 100%}\n",
       "    .wandb-row { display: flex; flex-direction: row; flex-wrap: wrap; justify-content: flex-start; width: 100% }\n",
       "    .wandb-col { display: flex; flex-direction: column; flex-basis: 100%; flex: 1; padding: 10px; }\n",
       "    </style>\n",
       "<div class=\"wandb-row\"><div class=\"wandb-col\"><h3>Run history:</h3><br/><table class=\"wandb\"><tr><td>epoch</td><td>▁▁▁▁▂▂▂▂▂▃▃▃▃▃▃▄▄▄▄▄▅▅▅▅▅▅▆▆▆▆▆▆▇▇▇▇▇███</td></tr><tr><td>test_accuracy</td><td>▁</td></tr><tr><td>test_loss</td><td>▁</td></tr><tr><td>train_loss</td><td>█▇▆▅▄▃▃▃▂▂▂▂▂▂▂▂▁▁▁▁▁▁▁▁▁▁▁▁▁▁▁▁▁▁▁▁▁▁▁▁</td></tr></table><br/></div><div class=\"wandb-col\"><h3>Run summary:</h3><br/><table class=\"wandb\"><tr><td>epoch</td><td>50</td></tr><tr><td>test_accuracy</td><td>0.66501</td></tr><tr><td>test_loss</td><td>0.60787</td></tr><tr><td>train_loss</td><td>0.60478</td></tr></table><br/></div></div>"
      ],
      "text/plain": [
       "<IPython.core.display.HTML object>"
      ]
     },
     "metadata": {},
     "output_type": "display_data"
    },
    {
     "data": {
      "text/html": [
       " View run <strong style=\"color:#cdcd00\">avid-salad-42</strong> at: <a href='https://wandb.ai/pierrehogenhaug/modern_nlp_ex/runs/cz7l2zth' target=\"_blank\">https://wandb.ai/pierrehogenhaug/modern_nlp_ex/runs/cz7l2zth</a><br/>Synced 6 W&B file(s), 0 media file(s), 0 artifact file(s) and 0 other file(s)"
      ],
      "text/plain": [
       "<IPython.core.display.HTML object>"
      ]
     },
     "metadata": {},
     "output_type": "display_data"
    },
    {
     "data": {
      "text/html": [
       "Find logs at: <code>./wandb/run-20240313_111257-cz7l2zth/logs</code>"
      ],
      "text/plain": [
       "<IPython.core.display.HTML object>"
      ]
     },
     "metadata": {},
     "output_type": "display_data"
    },
    {
     "name": "stdout",
     "output_type": "stream",
     "text": [
      "\n",
      "Training with max_pool, lr=0.01, batch_size=64, epochs=70\n"
     ]
    },
    {
     "data": {
      "text/html": [
       "Tracking run with wandb version 0.16.4"
      ],
      "text/plain": [
       "<IPython.core.display.HTML object>"
      ]
     },
     "metadata": {},
     "output_type": "display_data"
    },
    {
     "data": {
      "text/html": [
       "Run data is saved locally in <code>/Users/phog/Desktop/cleverThings/Modern_NLP/cs-552-modern-nlp/Exercises/Week 1 - Word Embeddings/wandb/run-20240313_111316-4j4pioh0</code>"
      ],
      "text/plain": [
       "<IPython.core.display.HTML object>"
      ]
     },
     "metadata": {},
     "output_type": "display_data"
    },
    {
     "data": {
      "text/html": [
       "Syncing run <strong><a href='https://wandb.ai/pierrehogenhaug/modern_nlp_ex/runs/4j4pioh0' target=\"_blank\">vibrant-oath-43</a></strong> to <a href='https://wandb.ai/pierrehogenhaug/modern_nlp_ex' target=\"_blank\">Weights & Biases</a> (<a href='https://wandb.me/run' target=\"_blank\">docs</a>)<br/>"
      ],
      "text/plain": [
       "<IPython.core.display.HTML object>"
      ]
     },
     "metadata": {},
     "output_type": "display_data"
    },
    {
     "data": {
      "text/html": [
       " View project at <a href='https://wandb.ai/pierrehogenhaug/modern_nlp_ex' target=\"_blank\">https://wandb.ai/pierrehogenhaug/modern_nlp_ex</a>"
      ],
      "text/plain": [
       "<IPython.core.display.HTML object>"
      ]
     },
     "metadata": {},
     "output_type": "display_data"
    },
    {
     "data": {
      "text/html": [
       " View run at <a href='https://wandb.ai/pierrehogenhaug/modern_nlp_ex/runs/4j4pioh0' target=\"_blank\">https://wandb.ai/pierrehogenhaug/modern_nlp_ex/runs/4j4pioh0</a>"
      ],
      "text/plain": [
       "<IPython.core.display.HTML object>"
      ]
     },
     "metadata": {},
     "output_type": "display_data"
    },
    {
     "name": "stdout",
     "output_type": "stream",
     "text": [
      "Epoch 1/70 | Loss: 0.6875\n",
      "Epoch 2/70 | Loss: 0.6706\n",
      "Epoch 3/70 | Loss: 0.6588\n",
      "Epoch 4/70 | Loss: 0.6497\n",
      "Epoch 5/70 | Loss: 0.6423\n",
      "Epoch 6/70 | Loss: 0.6369\n",
      "Epoch 7/70 | Loss: 0.6324\n",
      "Epoch 8/70 | Loss: 0.6285\n",
      "Epoch 9/70 | Loss: 0.6257\n",
      "Epoch 10/70 | Loss: 0.6232\n",
      "Epoch 11/70 | Loss: 0.6209\n",
      "Epoch 12/70 | Loss: 0.6189\n",
      "Epoch 13/70 | Loss: 0.6174\n",
      "Epoch 14/70 | Loss: 0.6162\n",
      "Epoch 15/70 | Loss: 0.6151\n",
      "Epoch 16/70 | Loss: 0.6139\n",
      "Epoch 17/70 | Loss: 0.6129\n",
      "Epoch 18/70 | Loss: 0.6123\n",
      "Epoch 19/70 | Loss: 0.6113\n",
      "Epoch 20/70 | Loss: 0.6108\n",
      "Epoch 21/70 | Loss: 0.6103\n",
      "Epoch 22/70 | Loss: 0.6098\n",
      "Epoch 23/70 | Loss: 0.6096\n",
      "Epoch 24/70 | Loss: 0.6091\n",
      "Epoch 25/70 | Loss: 0.6088\n",
      "Epoch 26/70 | Loss: 0.6084\n",
      "Epoch 27/70 | Loss: 0.6083\n",
      "Epoch 28/70 | Loss: 0.6077\n",
      "Epoch 29/70 | Loss: 0.6076\n",
      "Epoch 30/70 | Loss: 0.6073\n",
      "Epoch 31/70 | Loss: 0.6072\n",
      "Epoch 32/70 | Loss: 0.6071\n",
      "Epoch 33/70 | Loss: 0.6069\n",
      "Epoch 34/70 | Loss: 0.6066\n",
      "Epoch 35/70 | Loss: 0.6067\n",
      "Epoch 36/70 | Loss: 0.6063\n",
      "Epoch 37/70 | Loss: 0.6064\n",
      "Epoch 38/70 | Loss: 0.6061\n",
      "Epoch 39/70 | Loss: 0.6062\n",
      "Epoch 40/70 | Loss: 0.6060\n",
      "Epoch 41/70 | Loss: 0.6060\n",
      "Epoch 42/70 | Loss: 0.6057\n",
      "Epoch 43/70 | Loss: 0.6059\n",
      "Epoch 44/70 | Loss: 0.6058\n",
      "Epoch 45/70 | Loss: 0.6061\n",
      "Epoch 46/70 | Loss: 0.6056\n",
      "Epoch 47/70 | Loss: 0.6055\n",
      "Epoch 48/70 | Loss: 0.6059\n",
      "Epoch 49/70 | Loss: 0.6056\n",
      "Epoch 50/70 | Loss: 0.6056\n",
      "Epoch 51/70 | Loss: 0.6054\n",
      "Epoch 52/70 | Loss: 0.6055\n",
      "Epoch 53/70 | Loss: 0.6057\n",
      "Epoch 54/70 | Loss: 0.6056\n",
      "Epoch 55/70 | Loss: 0.6053\n",
      "Epoch 56/70 | Loss: 0.6053\n",
      "Epoch 57/70 | Loss: 0.6054\n",
      "Epoch 58/70 | Loss: 0.6053\n",
      "Epoch 59/70 | Loss: 0.6055\n",
      "Epoch 60/70 | Loss: 0.6053\n",
      "Epoch 61/70 | Loss: 0.6050\n",
      "Epoch 62/70 | Loss: 0.6053\n",
      "Epoch 63/70 | Loss: 0.6053\n",
      "Epoch 64/70 | Loss: 0.6051\n",
      "Epoch 65/70 | Loss: 0.6052\n",
      "Epoch 66/70 | Loss: 0.6053\n",
      "Epoch 67/70 | Loss: 0.6052\n",
      "Epoch 68/70 | Loss: 0.6049\n",
      "Epoch 69/70 | Loss: 0.6051\n",
      "Epoch 70/70 | Loss: 0.6052\n",
      "Test Acc: 66.86%\n"
     ]
    },
    {
     "name": "stderr",
     "output_type": "stream",
     "text": [
      "wandb: WARNING Source type is set to 'repo' but some required information is missing from the environment. A job will not be created from this run. See https://docs.wandb.ai/guides/launch/create-job\n"
     ]
    },
    {
     "data": {
      "text/html": [
       "<style>\n",
       "    table.wandb td:nth-child(1) { padding: 0 10px; text-align: left ; width: auto;} td:nth-child(2) {text-align: left ; width: 100%}\n",
       "    .wandb-row { display: flex; flex-direction: row; flex-wrap: wrap; justify-content: flex-start; width: 100% }\n",
       "    .wandb-col { display: flex; flex-direction: column; flex-basis: 100%; flex: 1; padding: 10px; }\n",
       "    </style>\n",
       "<div class=\"wandb-row\"><div class=\"wandb-col\"><h3>Run history:</h3><br/><table class=\"wandb\"><tr><td>epoch</td><td>▁▁▁▂▂▂▂▂▂▃▃▃▃▃▃▄▄▄▄▄▅▅▅▅▅▅▆▆▆▆▆▆▇▇▇▇▇███</td></tr><tr><td>test_accuracy</td><td>▁</td></tr><tr><td>test_loss</td><td>▁</td></tr><tr><td>train_loss</td><td>█▇▅▄▃▃▂▂▂▂▂▁▁▁▁▁▁▁▁▁▁▁▁▁▁▁▁▁▁▁▁▁▁▁▁▁▁▁▁▁</td></tr></table><br/></div><div class=\"wandb-col\"><h3>Run summary:</h3><br/><table class=\"wandb\"><tr><td>epoch</td><td>70</td></tr><tr><td>test_accuracy</td><td>0.66859</td></tr><tr><td>test_loss</td><td>0.60646</td></tr><tr><td>train_loss</td><td>0.6052</td></tr></table><br/></div></div>"
      ],
      "text/plain": [
       "<IPython.core.display.HTML object>"
      ]
     },
     "metadata": {},
     "output_type": "display_data"
    },
    {
     "data": {
      "text/html": [
       " View run <strong style=\"color:#cdcd00\">vibrant-oath-43</strong> at: <a href='https://wandb.ai/pierrehogenhaug/modern_nlp_ex/runs/4j4pioh0' target=\"_blank\">https://wandb.ai/pierrehogenhaug/modern_nlp_ex/runs/4j4pioh0</a><br/>Synced 6 W&B file(s), 0 media file(s), 0 artifact file(s) and 0 other file(s)"
      ],
      "text/plain": [
       "<IPython.core.display.HTML object>"
      ]
     },
     "metadata": {},
     "output_type": "display_data"
    },
    {
     "data": {
      "text/html": [
       "Find logs at: <code>./wandb/run-20240313_111316-4j4pioh0/logs</code>"
      ],
      "text/plain": [
       "<IPython.core.display.HTML object>"
      ]
     },
     "metadata": {},
     "output_type": "display_data"
    },
    {
     "name": "stdout",
     "output_type": "stream",
     "text": [
      "\n",
      "Training with max_pool, lr=0.01, batch_size=128, epochs=30\n"
     ]
    },
    {
     "data": {
      "text/html": [
       "Tracking run with wandb version 0.16.4"
      ],
      "text/plain": [
       "<IPython.core.display.HTML object>"
      ]
     },
     "metadata": {},
     "output_type": "display_data"
    },
    {
     "data": {
      "text/html": [
       "Run data is saved locally in <code>/Users/phog/Desktop/cleverThings/Modern_NLP/cs-552-modern-nlp/Exercises/Week 1 - Word Embeddings/wandb/run-20240313_111339-xh0vf9ap</code>"
      ],
      "text/plain": [
       "<IPython.core.display.HTML object>"
      ]
     },
     "metadata": {},
     "output_type": "display_data"
    },
    {
     "data": {
      "text/html": [
       "Syncing run <strong><a href='https://wandb.ai/pierrehogenhaug/modern_nlp_ex/runs/xh0vf9ap' target=\"_blank\">crisp-pyramid-44</a></strong> to <a href='https://wandb.ai/pierrehogenhaug/modern_nlp_ex' target=\"_blank\">Weights & Biases</a> (<a href='https://wandb.me/run' target=\"_blank\">docs</a>)<br/>"
      ],
      "text/plain": [
       "<IPython.core.display.HTML object>"
      ]
     },
     "metadata": {},
     "output_type": "display_data"
    },
    {
     "data": {
      "text/html": [
       " View project at <a href='https://wandb.ai/pierrehogenhaug/modern_nlp_ex' target=\"_blank\">https://wandb.ai/pierrehogenhaug/modern_nlp_ex</a>"
      ],
      "text/plain": [
       "<IPython.core.display.HTML object>"
      ]
     },
     "metadata": {},
     "output_type": "display_data"
    },
    {
     "data": {
      "text/html": [
       " View run at <a href='https://wandb.ai/pierrehogenhaug/modern_nlp_ex/runs/xh0vf9ap' target=\"_blank\">https://wandb.ai/pierrehogenhaug/modern_nlp_ex/runs/xh0vf9ap</a>"
      ],
      "text/plain": [
       "<IPython.core.display.HTML object>"
      ]
     },
     "metadata": {},
     "output_type": "display_data"
    },
    {
     "name": "stdout",
     "output_type": "stream",
     "text": [
      "Epoch 1/30 | Loss: 0.6935\n",
      "Epoch 2/30 | Loss: 0.6833\n",
      "Epoch 3/30 | Loss: 0.6748\n",
      "Epoch 4/30 | Loss: 0.6679\n",
      "Epoch 5/30 | Loss: 0.6614\n",
      "Epoch 6/30 | Loss: 0.6563\n",
      "Epoch 7/30 | Loss: 0.6517\n",
      "Epoch 8/30 | Loss: 0.6475\n",
      "Epoch 9/30 | Loss: 0.6442\n",
      "Epoch 10/30 | Loss: 0.6409\n",
      "Epoch 11/30 | Loss: 0.6378\n",
      "Epoch 12/30 | Loss: 0.6353\n",
      "Epoch 13/30 | Loss: 0.6332\n",
      "Epoch 14/30 | Loss: 0.6310\n",
      "Epoch 15/30 | Loss: 0.6291\n",
      "Epoch 16/30 | Loss: 0.6274\n",
      "Epoch 17/30 | Loss: 0.6257\n",
      "Epoch 18/30 | Loss: 0.6243\n",
      "Epoch 19/30 | Loss: 0.6231\n",
      "Epoch 20/30 | Loss: 0.6220\n",
      "Epoch 21/30 | Loss: 0.6207\n",
      "Epoch 22/30 | Loss: 0.6198\n",
      "Epoch 23/30 | Loss: 0.6192\n",
      "Epoch 24/30 | Loss: 0.6180\n",
      "Epoch 25/30 | Loss: 0.6174\n",
      "Epoch 26/30 | Loss: 0.6166\n",
      "Epoch 27/30 | Loss: 0.6158\n",
      "Epoch 28/30 | Loss: 0.6151\n",
      "Epoch 29/30 | Loss: 0.6146\n",
      "Epoch 30/30 | Loss: 0.6141\n",
      "Test Acc: 66.27%\n"
     ]
    },
    {
     "name": "stderr",
     "output_type": "stream",
     "text": [
      "wandb: WARNING Source type is set to 'repo' but some required information is missing from the environment. A job will not be created from this run. See https://docs.wandb.ai/guides/launch/create-job\n"
     ]
    },
    {
     "data": {
      "text/html": [
       "<style>\n",
       "    table.wandb td:nth-child(1) { padding: 0 10px; text-align: left ; width: auto;} td:nth-child(2) {text-align: left ; width: 100%}\n",
       "    .wandb-row { display: flex; flex-direction: row; flex-wrap: wrap; justify-content: flex-start; width: 100% }\n",
       "    .wandb-col { display: flex; flex-direction: column; flex-basis: 100%; flex: 1; padding: 10px; }\n",
       "    </style>\n",
       "<div class=\"wandb-row\"><div class=\"wandb-col\"><h3>Run history:</h3><br/><table class=\"wandb\"><tr><td>epoch</td><td>▁▁▁▂▂▂▂▃▃▃▃▄▄▄▄▅▅▅▅▆▆▆▆▇▇▇▇███</td></tr><tr><td>test_accuracy</td><td>▁</td></tr><tr><td>test_loss</td><td>▁</td></tr><tr><td>train_loss</td><td>█▇▆▆▅▅▄▄▄▃▃▃▃▂▂▂▂▂▂▂▂▂▁▁▁▁▁▁▁▁</td></tr></table><br/></div><div class=\"wandb-col\"><h3>Run summary:</h3><br/><table class=\"wandb\"><tr><td>epoch</td><td>30</td></tr><tr><td>test_accuracy</td><td>0.66268</td></tr><tr><td>test_loss</td><td>0.6136</td></tr><tr><td>train_loss</td><td>0.61412</td></tr></table><br/></div></div>"
      ],
      "text/plain": [
       "<IPython.core.display.HTML object>"
      ]
     },
     "metadata": {},
     "output_type": "display_data"
    },
    {
     "data": {
      "text/html": [
       " View run <strong style=\"color:#cdcd00\">crisp-pyramid-44</strong> at: <a href='https://wandb.ai/pierrehogenhaug/modern_nlp_ex/runs/xh0vf9ap' target=\"_blank\">https://wandb.ai/pierrehogenhaug/modern_nlp_ex/runs/xh0vf9ap</a><br/>Synced 6 W&B file(s), 0 media file(s), 0 artifact file(s) and 0 other file(s)"
      ],
      "text/plain": [
       "<IPython.core.display.HTML object>"
      ]
     },
     "metadata": {},
     "output_type": "display_data"
    },
    {
     "data": {
      "text/html": [
       "Find logs at: <code>./wandb/run-20240313_111339-xh0vf9ap/logs</code>"
      ],
      "text/plain": [
       "<IPython.core.display.HTML object>"
      ]
     },
     "metadata": {},
     "output_type": "display_data"
    },
    {
     "name": "stdout",
     "output_type": "stream",
     "text": [
      "\n",
      "Training with max_pool, lr=0.01, batch_size=128, epochs=50\n"
     ]
    },
    {
     "data": {
      "text/html": [
       "Tracking run with wandb version 0.16.4"
      ],
      "text/plain": [
       "<IPython.core.display.HTML object>"
      ]
     },
     "metadata": {},
     "output_type": "display_data"
    },
    {
     "data": {
      "text/html": [
       "Run data is saved locally in <code>/Users/phog/Desktop/cleverThings/Modern_NLP/cs-552-modern-nlp/Exercises/Week 1 - Word Embeddings/wandb/run-20240313_111351-93ymp2tx</code>"
      ],
      "text/plain": [
       "<IPython.core.display.HTML object>"
      ]
     },
     "metadata": {},
     "output_type": "display_data"
    },
    {
     "data": {
      "text/html": [
       "Syncing run <strong><a href='https://wandb.ai/pierrehogenhaug/modern_nlp_ex/runs/93ymp2tx' target=\"_blank\">splendid-flower-45</a></strong> to <a href='https://wandb.ai/pierrehogenhaug/modern_nlp_ex' target=\"_blank\">Weights & Biases</a> (<a href='https://wandb.me/run' target=\"_blank\">docs</a>)<br/>"
      ],
      "text/plain": [
       "<IPython.core.display.HTML object>"
      ]
     },
     "metadata": {},
     "output_type": "display_data"
    },
    {
     "data": {
      "text/html": [
       " View project at <a href='https://wandb.ai/pierrehogenhaug/modern_nlp_ex' target=\"_blank\">https://wandb.ai/pierrehogenhaug/modern_nlp_ex</a>"
      ],
      "text/plain": [
       "<IPython.core.display.HTML object>"
      ]
     },
     "metadata": {},
     "output_type": "display_data"
    },
    {
     "data": {
      "text/html": [
       " View run at <a href='https://wandb.ai/pierrehogenhaug/modern_nlp_ex/runs/93ymp2tx' target=\"_blank\">https://wandb.ai/pierrehogenhaug/modern_nlp_ex/runs/93ymp2tx</a>"
      ],
      "text/plain": [
       "<IPython.core.display.HTML object>"
      ]
     },
     "metadata": {},
     "output_type": "display_data"
    },
    {
     "name": "stdout",
     "output_type": "stream",
     "text": [
      "Epoch 1/50 | Loss: 0.6882\n",
      "Epoch 2/50 | Loss: 0.6791\n",
      "Epoch 3/50 | Loss: 0.6715\n",
      "Epoch 4/50 | Loss: 0.6647\n",
      "Epoch 5/50 | Loss: 0.6593\n",
      "Epoch 6/50 | Loss: 0.6543\n",
      "Epoch 7/50 | Loss: 0.6498\n",
      "Epoch 8/50 | Loss: 0.6461\n",
      "Epoch 9/50 | Loss: 0.6426\n",
      "Epoch 10/50 | Loss: 0.6395\n",
      "Epoch 11/50 | Loss: 0.6369\n",
      "Epoch 12/50 | Loss: 0.6344\n",
      "Epoch 13/50 | Loss: 0.6322\n",
      "Epoch 14/50 | Loss: 0.6300\n",
      "Epoch 15/50 | Loss: 0.6284\n",
      "Epoch 16/50 | Loss: 0.6267\n",
      "Epoch 17/50 | Loss: 0.6255\n",
      "Epoch 18/50 | Loss: 0.6240\n",
      "Epoch 19/50 | Loss: 0.6228\n",
      "Epoch 20/50 | Loss: 0.6217\n",
      "Epoch 21/50 | Loss: 0.6204\n",
      "Epoch 22/50 | Loss: 0.6199\n",
      "Epoch 23/50 | Loss: 0.6188\n",
      "Epoch 24/50 | Loss: 0.6180\n",
      "Epoch 25/50 | Loss: 0.6173\n",
      "Epoch 26/50 | Loss: 0.6166\n",
      "Epoch 27/50 | Loss: 0.6157\n",
      "Epoch 28/50 | Loss: 0.6151\n",
      "Epoch 29/50 | Loss: 0.6147\n",
      "Epoch 30/50 | Loss: 0.6140\n",
      "Epoch 31/50 | Loss: 0.6138\n",
      "Epoch 32/50 | Loss: 0.6131\n",
      "Epoch 33/50 | Loss: 0.6128\n",
      "Epoch 34/50 | Loss: 0.6124\n",
      "Epoch 35/50 | Loss: 0.6122\n",
      "Epoch 36/50 | Loss: 0.6118\n",
      "Epoch 37/50 | Loss: 0.6114\n",
      "Epoch 38/50 | Loss: 0.6112\n",
      "Epoch 39/50 | Loss: 0.6110\n",
      "Epoch 40/50 | Loss: 0.6106\n",
      "Epoch 41/50 | Loss: 0.6102\n",
      "Epoch 42/50 | Loss: 0.6099\n",
      "Epoch 43/50 | Loss: 0.6099\n",
      "Epoch 44/50 | Loss: 0.6094\n",
      "Epoch 45/50 | Loss: 0.6093\n",
      "Epoch 46/50 | Loss: 0.6094\n",
      "Epoch 47/50 | Loss: 0.6089\n",
      "Epoch 48/50 | Loss: 0.6087\n",
      "Epoch 49/50 | Loss: 0.6087\n",
      "Epoch 50/50 | Loss: 0.6086\n",
      "Test Acc: 66.87%\n"
     ]
    },
    {
     "name": "stderr",
     "output_type": "stream",
     "text": [
      "wandb: WARNING Source type is set to 'repo' but some required information is missing from the environment. A job will not be created from this run. See https://docs.wandb.ai/guides/launch/create-job\n"
     ]
    },
    {
     "data": {
      "text/html": [
       "<style>\n",
       "    table.wandb td:nth-child(1) { padding: 0 10px; text-align: left ; width: auto;} td:nth-child(2) {text-align: left ; width: 100%}\n",
       "    .wandb-row { display: flex; flex-direction: row; flex-wrap: wrap; justify-content: flex-start; width: 100% }\n",
       "    .wandb-col { display: flex; flex-direction: column; flex-basis: 100%; flex: 1; padding: 10px; }\n",
       "    </style>\n",
       "<div class=\"wandb-row\"><div class=\"wandb-col\"><h3>Run history:</h3><br/><table class=\"wandb\"><tr><td>epoch</td><td>▁▁▁▁▂▂▂▂▂▃▃▃▃▃▃▄▄▄▄▄▅▅▅▅▅▅▆▆▆▆▆▆▇▇▇▇▇███</td></tr><tr><td>test_accuracy</td><td>▁</td></tr><tr><td>test_loss</td><td>▁</td></tr><tr><td>train_loss</td><td>█▇▇▆▅▅▄▄▃▃▃▃▃▂▂▂▂▂▂▂▂▂▂▂▁▁▁▁▁▁▁▁▁▁▁▁▁▁▁▁</td></tr></table><br/></div><div class=\"wandb-col\"><h3>Run summary:</h3><br/><table class=\"wandb\"><tr><td>epoch</td><td>50</td></tr><tr><td>test_accuracy</td><td>0.66871</td></tr><tr><td>test_loss</td><td>0.60629</td></tr><tr><td>train_loss</td><td>0.60859</td></tr></table><br/></div></div>"
      ],
      "text/plain": [
       "<IPython.core.display.HTML object>"
      ]
     },
     "metadata": {},
     "output_type": "display_data"
    },
    {
     "data": {
      "text/html": [
       " View run <strong style=\"color:#cdcd00\">splendid-flower-45</strong> at: <a href='https://wandb.ai/pierrehogenhaug/modern_nlp_ex/runs/93ymp2tx' target=\"_blank\">https://wandb.ai/pierrehogenhaug/modern_nlp_ex/runs/93ymp2tx</a><br/>Synced 6 W&B file(s), 0 media file(s), 0 artifact file(s) and 0 other file(s)"
      ],
      "text/plain": [
       "<IPython.core.display.HTML object>"
      ]
     },
     "metadata": {},
     "output_type": "display_data"
    },
    {
     "data": {
      "text/html": [
       "Find logs at: <code>./wandb/run-20240313_111351-93ymp2tx/logs</code>"
      ],
      "text/plain": [
       "<IPython.core.display.HTML object>"
      ]
     },
     "metadata": {},
     "output_type": "display_data"
    },
    {
     "name": "stdout",
     "output_type": "stream",
     "text": [
      "\n",
      "Training with max_pool, lr=0.01, batch_size=128, epochs=70\n"
     ]
    },
    {
     "data": {
      "text/html": [
       "Tracking run with wandb version 0.16.4"
      ],
      "text/plain": [
       "<IPython.core.display.HTML object>"
      ]
     },
     "metadata": {},
     "output_type": "display_data"
    },
    {
     "data": {
      "text/html": [
       "Run data is saved locally in <code>/Users/phog/Desktop/cleverThings/Modern_NLP/cs-552-modern-nlp/Exercises/Week 1 - Word Embeddings/wandb/run-20240313_111408-3q6u8a5u</code>"
      ],
      "text/plain": [
       "<IPython.core.display.HTML object>"
      ]
     },
     "metadata": {},
     "output_type": "display_data"
    },
    {
     "data": {
      "text/html": [
       "Syncing run <strong><a href='https://wandb.ai/pierrehogenhaug/modern_nlp_ex/runs/3q6u8a5u' target=\"_blank\">graceful-haze-46</a></strong> to <a href='https://wandb.ai/pierrehogenhaug/modern_nlp_ex' target=\"_blank\">Weights & Biases</a> (<a href='https://wandb.me/run' target=\"_blank\">docs</a>)<br/>"
      ],
      "text/plain": [
       "<IPython.core.display.HTML object>"
      ]
     },
     "metadata": {},
     "output_type": "display_data"
    },
    {
     "data": {
      "text/html": [
       " View project at <a href='https://wandb.ai/pierrehogenhaug/modern_nlp_ex' target=\"_blank\">https://wandb.ai/pierrehogenhaug/modern_nlp_ex</a>"
      ],
      "text/plain": [
       "<IPython.core.display.HTML object>"
      ]
     },
     "metadata": {},
     "output_type": "display_data"
    },
    {
     "data": {
      "text/html": [
       " View run at <a href='https://wandb.ai/pierrehogenhaug/modern_nlp_ex/runs/3q6u8a5u' target=\"_blank\">https://wandb.ai/pierrehogenhaug/modern_nlp_ex/runs/3q6u8a5u</a>"
      ],
      "text/plain": [
       "<IPython.core.display.HTML object>"
      ]
     },
     "metadata": {},
     "output_type": "display_data"
    },
    {
     "name": "stdout",
     "output_type": "stream",
     "text": [
      "Epoch 1/70 | Loss: 0.6962\n",
      "Epoch 2/70 | Loss: 0.6857\n",
      "Epoch 3/70 | Loss: 0.6772\n",
      "Epoch 4/70 | Loss: 0.6695\n",
      "Epoch 5/70 | Loss: 0.6632\n",
      "Epoch 6/70 | Loss: 0.6577\n",
      "Epoch 7/70 | Loss: 0.6527\n",
      "Epoch 8/70 | Loss: 0.6483\n",
      "Epoch 9/70 | Loss: 0.6448\n",
      "Epoch 10/70 | Loss: 0.6411\n",
      "Epoch 11/70 | Loss: 0.6381\n",
      "Epoch 12/70 | Loss: 0.6355\n",
      "Epoch 13/70 | Loss: 0.6331\n",
      "Epoch 14/70 | Loss: 0.6309\n",
      "Epoch 15/70 | Loss: 0.6290\n",
      "Epoch 16/70 | Loss: 0.6272\n",
      "Epoch 17/70 | Loss: 0.6255\n",
      "Epoch 18/70 | Loss: 0.6239\n",
      "Epoch 19/70 | Loss: 0.6227\n",
      "Epoch 20/70 | Loss: 0.6217\n",
      "Epoch 21/70 | Loss: 0.6204\n",
      "Epoch 22/70 | Loss: 0.6192\n",
      "Epoch 23/70 | Loss: 0.6184\n",
      "Epoch 24/70 | Loss: 0.6176\n",
      "Epoch 25/70 | Loss: 0.6167\n",
      "Epoch 26/70 | Loss: 0.6159\n",
      "Epoch 27/70 | Loss: 0.6150\n",
      "Epoch 28/70 | Loss: 0.6144\n",
      "Epoch 29/70 | Loss: 0.6141\n",
      "Epoch 30/70 | Loss: 0.6134\n",
      "Epoch 31/70 | Loss: 0.6131\n",
      "Epoch 32/70 | Loss: 0.6124\n",
      "Epoch 33/70 | Loss: 0.6121\n",
      "Epoch 34/70 | Loss: 0.6115\n",
      "Epoch 35/70 | Loss: 0.6110\n",
      "Epoch 36/70 | Loss: 0.6107\n",
      "Epoch 37/70 | Loss: 0.6102\n",
      "Epoch 38/70 | Loss: 0.6098\n",
      "Epoch 39/70 | Loss: 0.6096\n",
      "Epoch 40/70 | Loss: 0.6093\n",
      "Epoch 41/70 | Loss: 0.6091\n",
      "Epoch 42/70 | Loss: 0.6089\n",
      "Epoch 43/70 | Loss: 0.6085\n",
      "Epoch 44/70 | Loss: 0.6083\n",
      "Epoch 45/70 | Loss: 0.6079\n",
      "Epoch 46/70 | Loss: 0.6078\n",
      "Epoch 47/70 | Loss: 0.6076\n",
      "Epoch 48/70 | Loss: 0.6077\n",
      "Epoch 49/70 | Loss: 0.6073\n",
      "Epoch 50/70 | Loss: 0.6073\n",
      "Epoch 51/70 | Loss: 0.6070\n",
      "Epoch 52/70 | Loss: 0.6071\n",
      "Epoch 53/70 | Loss: 0.6068\n",
      "Epoch 54/70 | Loss: 0.6066\n",
      "Epoch 55/70 | Loss: 0.6067\n",
      "Epoch 56/70 | Loss: 0.6064\n",
      "Epoch 57/70 | Loss: 0.6064\n",
      "Epoch 58/70 | Loss: 0.6063\n",
      "Epoch 59/70 | Loss: 0.6060\n",
      "Epoch 60/70 | Loss: 0.6061\n",
      "Epoch 61/70 | Loss: 0.6059\n",
      "Epoch 62/70 | Loss: 0.6056\n",
      "Epoch 63/70 | Loss: 0.6056\n",
      "Epoch 64/70 | Loss: 0.6055\n",
      "Epoch 65/70 | Loss: 0.6057\n",
      "Epoch 66/70 | Loss: 0.6055\n",
      "Epoch 67/70 | Loss: 0.6053\n",
      "Epoch 68/70 | Loss: 0.6052\n",
      "Epoch 69/70 | Loss: 0.6052\n",
      "Epoch 70/70 | Loss: 0.6051\n",
      "Test Acc: 67.27%\n"
     ]
    },
    {
     "name": "stderr",
     "output_type": "stream",
     "text": [
      "wandb: WARNING Source type is set to 'repo' but some required information is missing from the environment. A job will not be created from this run. See https://docs.wandb.ai/guides/launch/create-job\n"
     ]
    },
    {
     "data": {
      "text/html": [
       "<style>\n",
       "    table.wandb td:nth-child(1) { padding: 0 10px; text-align: left ; width: auto;} td:nth-child(2) {text-align: left ; width: 100%}\n",
       "    .wandb-row { display: flex; flex-direction: row; flex-wrap: wrap; justify-content: flex-start; width: 100% }\n",
       "    .wandb-col { display: flex; flex-direction: column; flex-basis: 100%; flex: 1; padding: 10px; }\n",
       "    </style>\n",
       "<div class=\"wandb-row\"><div class=\"wandb-col\"><h3>Run history:</h3><br/><table class=\"wandb\"><tr><td>epoch</td><td>▁▁▁▂▂▂▂▂▂▃▃▃▃▃▃▄▄▄▄▄▅▅▅▅▅▅▆▆▆▆▆▆▇▇▇▇▇███</td></tr><tr><td>test_accuracy</td><td>▁</td></tr><tr><td>test_loss</td><td>▁</td></tr><tr><td>train_loss</td><td>█▇▆▅▄▄▄▃▃▃▂▂▂▂▂▂▂▂▂▁▁▁▁▁▁▁▁▁▁▁▁▁▁▁▁▁▁▁▁▁</td></tr></table><br/></div><div class=\"wandb-col\"><h3>Run summary:</h3><br/><table class=\"wandb\"><tr><td>epoch</td><td>70</td></tr><tr><td>test_accuracy</td><td>0.67267</td></tr><tr><td>test_loss</td><td>0.60704</td></tr><tr><td>train_loss</td><td>0.60514</td></tr></table><br/></div></div>"
      ],
      "text/plain": [
       "<IPython.core.display.HTML object>"
      ]
     },
     "metadata": {},
     "output_type": "display_data"
    },
    {
     "data": {
      "text/html": [
       " View run <strong style=\"color:#cdcd00\">graceful-haze-46</strong> at: <a href='https://wandb.ai/pierrehogenhaug/modern_nlp_ex/runs/3q6u8a5u' target=\"_blank\">https://wandb.ai/pierrehogenhaug/modern_nlp_ex/runs/3q6u8a5u</a><br/>Synced 6 W&B file(s), 0 media file(s), 0 artifact file(s) and 0 other file(s)"
      ],
      "text/plain": [
       "<IPython.core.display.HTML object>"
      ]
     },
     "metadata": {},
     "output_type": "display_data"
    },
    {
     "data": {
      "text/html": [
       "Find logs at: <code>./wandb/run-20240313_111408-3q6u8a5u/logs</code>"
      ],
      "text/plain": [
       "<IPython.core.display.HTML object>"
      ]
     },
     "metadata": {},
     "output_type": "display_data"
    },
    {
     "name": "stdout",
     "output_type": "stream",
     "text": [
      "\n",
      "Training with max_pool, lr=0.1, batch_size=32, epochs=30\n"
     ]
    },
    {
     "data": {
      "text/html": [
       "Tracking run with wandb version 0.16.4"
      ],
      "text/plain": [
       "<IPython.core.display.HTML object>"
      ]
     },
     "metadata": {},
     "output_type": "display_data"
    },
    {
     "data": {
      "text/html": [
       "Run data is saved locally in <code>/Users/phog/Desktop/cleverThings/Modern_NLP/cs-552-modern-nlp/Exercises/Week 1 - Word Embeddings/wandb/run-20240313_111427-frx94snt</code>"
      ],
      "text/plain": [
       "<IPython.core.display.HTML object>"
      ]
     },
     "metadata": {},
     "output_type": "display_data"
    },
    {
     "data": {
      "text/html": [
       "Syncing run <strong><a href='https://wandb.ai/pierrehogenhaug/modern_nlp_ex/runs/frx94snt' target=\"_blank\">mild-gorge-47</a></strong> to <a href='https://wandb.ai/pierrehogenhaug/modern_nlp_ex' target=\"_blank\">Weights & Biases</a> (<a href='https://wandb.me/run' target=\"_blank\">docs</a>)<br/>"
      ],
      "text/plain": [
       "<IPython.core.display.HTML object>"
      ]
     },
     "metadata": {},
     "output_type": "display_data"
    },
    {
     "data": {
      "text/html": [
       " View project at <a href='https://wandb.ai/pierrehogenhaug/modern_nlp_ex' target=\"_blank\">https://wandb.ai/pierrehogenhaug/modern_nlp_ex</a>"
      ],
      "text/plain": [
       "<IPython.core.display.HTML object>"
      ]
     },
     "metadata": {},
     "output_type": "display_data"
    },
    {
     "data": {
      "text/html": [
       " View run at <a href='https://wandb.ai/pierrehogenhaug/modern_nlp_ex/runs/frx94snt' target=\"_blank\">https://wandb.ai/pierrehogenhaug/modern_nlp_ex/runs/frx94snt</a>"
      ],
      "text/plain": [
       "<IPython.core.display.HTML object>"
      ]
     },
     "metadata": {},
     "output_type": "display_data"
    },
    {
     "name": "stdout",
     "output_type": "stream",
     "text": [
      "Epoch 1/30 | Loss: 1.2407\n",
      "Epoch 2/30 | Loss: 1.0347\n",
      "Epoch 3/30 | Loss: 0.9906\n",
      "Epoch 4/30 | Loss: 0.9564\n",
      "Epoch 5/30 | Loss: 0.9455\n",
      "Epoch 6/30 | Loss: 0.9429\n",
      "Epoch 7/30 | Loss: 0.9880\n",
      "Epoch 8/30 | Loss: 0.9479\n",
      "Epoch 9/30 | Loss: 0.9777\n",
      "Epoch 10/30 | Loss: 0.9412\n",
      "Epoch 11/30 | Loss: 0.9585\n",
      "Epoch 12/30 | Loss: 0.9378\n",
      "Epoch 13/30 | Loss: 0.9777\n",
      "Epoch 14/30 | Loss: 0.9377\n",
      "Epoch 15/30 | Loss: 0.9495\n",
      "Epoch 16/30 | Loss: 0.9572\n",
      "Epoch 17/30 | Loss: 0.9526\n",
      "Epoch 18/30 | Loss: 0.9617\n",
      "Epoch 19/30 | Loss: 0.9362\n",
      "Epoch 20/30 | Loss: 0.9415\n",
      "Epoch 21/30 | Loss: 0.9545\n",
      "Epoch 22/30 | Loss: 0.9321\n",
      "Epoch 23/30 | Loss: 0.9518\n",
      "Epoch 24/30 | Loss: 0.9631\n",
      "Epoch 25/30 | Loss: 0.9598\n",
      "Epoch 26/30 | Loss: 0.9401\n",
      "Epoch 27/30 | Loss: 0.9482\n",
      "Epoch 28/30 | Loss: 0.9427\n",
      "Epoch 29/30 | Loss: 0.9507\n",
      "Epoch 30/30 | Loss: 0.9393\n",
      "Test Acc: 65.42%\n"
     ]
    },
    {
     "name": "stderr",
     "output_type": "stream",
     "text": [
      "wandb: WARNING Source type is set to 'repo' but some required information is missing from the environment. A job will not be created from this run. See https://docs.wandb.ai/guides/launch/create-job\n"
     ]
    },
    {
     "data": {
      "text/html": [
       "<style>\n",
       "    table.wandb td:nth-child(1) { padding: 0 10px; text-align: left ; width: auto;} td:nth-child(2) {text-align: left ; width: 100%}\n",
       "    .wandb-row { display: flex; flex-direction: row; flex-wrap: wrap; justify-content: flex-start; width: 100% }\n",
       "    .wandb-col { display: flex; flex-direction: column; flex-basis: 100%; flex: 1; padding: 10px; }\n",
       "    </style>\n",
       "<div class=\"wandb-row\"><div class=\"wandb-col\"><h3>Run history:</h3><br/><table class=\"wandb\"><tr><td>epoch</td><td>▁▁▁▂▂▂▂▃▃▃▃▄▄▄▄▅▅▅▅▆▆▆▆▇▇▇▇███</td></tr><tr><td>test_accuracy</td><td>▁</td></tr><tr><td>test_loss</td><td>▁</td></tr><tr><td>train_loss</td><td>█▃▂▂▁▁▂▁▂▁▂▁▂▁▁▂▁▂▁▁▂▁▁▂▂▁▁▁▁▁</td></tr></table><br/></div><div class=\"wandb-col\"><h3>Run summary:</h3><br/><table class=\"wandb\"><tr><td>epoch</td><td>30</td></tr><tr><td>test_accuracy</td><td>0.65415</td></tr><tr><td>test_loss</td><td>0.67402</td></tr><tr><td>train_loss</td><td>0.93928</td></tr></table><br/></div></div>"
      ],
      "text/plain": [
       "<IPython.core.display.HTML object>"
      ]
     },
     "metadata": {},
     "output_type": "display_data"
    },
    {
     "data": {
      "text/html": [
       " View run <strong style=\"color:#cdcd00\">mild-gorge-47</strong> at: <a href='https://wandb.ai/pierrehogenhaug/modern_nlp_ex/runs/frx94snt' target=\"_blank\">https://wandb.ai/pierrehogenhaug/modern_nlp_ex/runs/frx94snt</a><br/>Synced 6 W&B file(s), 0 media file(s), 0 artifact file(s) and 0 other file(s)"
      ],
      "text/plain": [
       "<IPython.core.display.HTML object>"
      ]
     },
     "metadata": {},
     "output_type": "display_data"
    },
    {
     "data": {
      "text/html": [
       "Find logs at: <code>./wandb/run-20240313_111427-frx94snt/logs</code>"
      ],
      "text/plain": [
       "<IPython.core.display.HTML object>"
      ]
     },
     "metadata": {},
     "output_type": "display_data"
    },
    {
     "name": "stdout",
     "output_type": "stream",
     "text": [
      "\n",
      "Training with max_pool, lr=0.1, batch_size=32, epochs=50\n"
     ]
    },
    {
     "data": {
      "text/html": [
       "Tracking run with wandb version 0.16.4"
      ],
      "text/plain": [
       "<IPython.core.display.HTML object>"
      ]
     },
     "metadata": {},
     "output_type": "display_data"
    },
    {
     "data": {
      "text/html": [
       "Run data is saved locally in <code>/Users/phog/Desktop/cleverThings/Modern_NLP/cs-552-modern-nlp/Exercises/Week 1 - Word Embeddings/wandb/run-20240313_111444-w3d4n16f</code>"
      ],
      "text/plain": [
       "<IPython.core.display.HTML object>"
      ]
     },
     "metadata": {},
     "output_type": "display_data"
    },
    {
     "data": {
      "text/html": [
       "Syncing run <strong><a href='https://wandb.ai/pierrehogenhaug/modern_nlp_ex/runs/w3d4n16f' target=\"_blank\">vital-firefly-48</a></strong> to <a href='https://wandb.ai/pierrehogenhaug/modern_nlp_ex' target=\"_blank\">Weights & Biases</a> (<a href='https://wandb.me/run' target=\"_blank\">docs</a>)<br/>"
      ],
      "text/plain": [
       "<IPython.core.display.HTML object>"
      ]
     },
     "metadata": {},
     "output_type": "display_data"
    },
    {
     "data": {
      "text/html": [
       " View project at <a href='https://wandb.ai/pierrehogenhaug/modern_nlp_ex' target=\"_blank\">https://wandb.ai/pierrehogenhaug/modern_nlp_ex</a>"
      ],
      "text/plain": [
       "<IPython.core.display.HTML object>"
      ]
     },
     "metadata": {},
     "output_type": "display_data"
    },
    {
     "data": {
      "text/html": [
       " View run at <a href='https://wandb.ai/pierrehogenhaug/modern_nlp_ex/runs/w3d4n16f' target=\"_blank\">https://wandb.ai/pierrehogenhaug/modern_nlp_ex/runs/w3d4n16f</a>"
      ],
      "text/plain": [
       "<IPython.core.display.HTML object>"
      ]
     },
     "metadata": {},
     "output_type": "display_data"
    },
    {
     "name": "stdout",
     "output_type": "stream",
     "text": [
      "Epoch 1/50 | Loss: 1.2415\n",
      "Epoch 2/50 | Loss: 1.0273\n",
      "Epoch 3/50 | Loss: 0.9891\n",
      "Epoch 4/50 | Loss: 0.9859\n",
      "Epoch 5/50 | Loss: 0.9675\n",
      "Epoch 6/50 | Loss: 0.9271\n",
      "Epoch 7/50 | Loss: 0.9576\n",
      "Epoch 8/50 | Loss: 0.9351\n",
      "Epoch 9/50 | Loss: 0.9461\n",
      "Epoch 10/50 | Loss: 0.9483\n",
      "Epoch 11/50 | Loss: 0.9677\n",
      "Epoch 12/50 | Loss: 0.9369\n",
      "Epoch 13/50 | Loss: 0.9472\n",
      "Epoch 14/50 | Loss: 0.9534\n",
      "Epoch 15/50 | Loss: 0.9527\n",
      "Epoch 16/50 | Loss: 0.9770\n",
      "Epoch 17/50 | Loss: 0.9156\n",
      "Epoch 18/50 | Loss: 0.9205\n",
      "Epoch 19/50 | Loss: 0.9383\n",
      "Epoch 20/50 | Loss: 0.9798\n",
      "Epoch 21/50 | Loss: 0.9235\n",
      "Epoch 22/50 | Loss: 0.9573\n",
      "Epoch 23/50 | Loss: 0.9581\n",
      "Epoch 24/50 | Loss: 0.9450\n",
      "Epoch 25/50 | Loss: 0.9332\n",
      "Epoch 26/50 | Loss: 0.9915\n",
      "Epoch 27/50 | Loss: 0.9452\n",
      "Epoch 28/50 | Loss: 0.9431\n",
      "Epoch 29/50 | Loss: 0.9260\n",
      "Epoch 30/50 | Loss: 0.9222\n",
      "Epoch 31/50 | Loss: 0.9375\n",
      "Epoch 32/50 | Loss: 0.9278\n",
      "Epoch 33/50 | Loss: 0.9668\n",
      "Epoch 34/50 | Loss: 0.9370\n",
      "Epoch 35/50 | Loss: 0.9398\n",
      "Epoch 36/50 | Loss: 0.9655\n",
      "Epoch 37/50 | Loss: 0.9500\n",
      "Epoch 38/50 | Loss: 0.9491\n",
      "Epoch 39/50 | Loss: 0.9674\n",
      "Epoch 40/50 | Loss: 0.9364\n",
      "Epoch 41/50 | Loss: 0.9574\n",
      "Epoch 42/50 | Loss: 0.9437\n",
      "Epoch 43/50 | Loss: 0.9387\n",
      "Epoch 44/50 | Loss: 0.9610\n",
      "Epoch 45/50 | Loss: 0.9422\n",
      "Epoch 46/50 | Loss: 0.9683\n",
      "Epoch 47/50 | Loss: 0.9330\n",
      "Epoch 48/50 | Loss: 0.9483\n",
      "Epoch 49/50 | Loss: 0.9300\n",
      "Epoch 50/50 | Loss: 0.9486\n",
      "Test Acc: 64.91%\n"
     ]
    },
    {
     "name": "stderr",
     "output_type": "stream",
     "text": [
      "wandb: WARNING Source type is set to 'repo' but some required information is missing from the environment. A job will not be created from this run. See https://docs.wandb.ai/guides/launch/create-job\n"
     ]
    },
    {
     "data": {
      "text/html": [
       "<style>\n",
       "    table.wandb td:nth-child(1) { padding: 0 10px; text-align: left ; width: auto;} td:nth-child(2) {text-align: left ; width: 100%}\n",
       "    .wandb-row { display: flex; flex-direction: row; flex-wrap: wrap; justify-content: flex-start; width: 100% }\n",
       "    .wandb-col { display: flex; flex-direction: column; flex-basis: 100%; flex: 1; padding: 10px; }\n",
       "    </style>\n",
       "<div class=\"wandb-row\"><div class=\"wandb-col\"><h3>Run history:</h3><br/><table class=\"wandb\"><tr><td>epoch</td><td>▁▁▁▁▂▂▂▂▂▃▃▃▃▃▃▄▄▄▄▄▅▅▅▅▅▅▆▆▆▆▆▆▇▇▇▇▇███</td></tr><tr><td>test_accuracy</td><td>▁</td></tr><tr><td>test_loss</td><td>▁</td></tr><tr><td>train_loss</td><td>█▃▃▃▁▂▁▂▂▁▂▂▂▁▁▁▁▂▂▂▃▂▂▁▁▁▂▁▂▂▂▂▂▂▁▂▂▁▂▂</td></tr></table><br/></div><div class=\"wandb-col\"><h3>Run summary:</h3><br/><table class=\"wandb\"><tr><td>epoch</td><td>50</td></tr><tr><td>test_accuracy</td><td>0.64906</td></tr><tr><td>test_loss</td><td>0.69253</td></tr><tr><td>train_loss</td><td>0.94863</td></tr></table><br/></div></div>"
      ],
      "text/plain": [
       "<IPython.core.display.HTML object>"
      ]
     },
     "metadata": {},
     "output_type": "display_data"
    },
    {
     "data": {
      "text/html": [
       " View run <strong style=\"color:#cdcd00\">vital-firefly-48</strong> at: <a href='https://wandb.ai/pierrehogenhaug/modern_nlp_ex/runs/w3d4n16f' target=\"_blank\">https://wandb.ai/pierrehogenhaug/modern_nlp_ex/runs/w3d4n16f</a><br/>Synced 6 W&B file(s), 0 media file(s), 0 artifact file(s) and 0 other file(s)"
      ],
      "text/plain": [
       "<IPython.core.display.HTML object>"
      ]
     },
     "metadata": {},
     "output_type": "display_data"
    },
    {
     "data": {
      "text/html": [
       "Find logs at: <code>./wandb/run-20240313_111444-w3d4n16f/logs</code>"
      ],
      "text/plain": [
       "<IPython.core.display.HTML object>"
      ]
     },
     "metadata": {},
     "output_type": "display_data"
    },
    {
     "name": "stdout",
     "output_type": "stream",
     "text": [
      "\n",
      "Training with max_pool, lr=0.1, batch_size=32, epochs=70\n"
     ]
    },
    {
     "data": {
      "text/html": [
       "Tracking run with wandb version 0.16.4"
      ],
      "text/plain": [
       "<IPython.core.display.HTML object>"
      ]
     },
     "metadata": {},
     "output_type": "display_data"
    },
    {
     "data": {
      "text/html": [
       "Run data is saved locally in <code>/Users/phog/Desktop/cleverThings/Modern_NLP/cs-552-modern-nlp/Exercises/Week 1 - Word Embeddings/wandb/run-20240313_111511-7chvopbl</code>"
      ],
      "text/plain": [
       "<IPython.core.display.HTML object>"
      ]
     },
     "metadata": {},
     "output_type": "display_data"
    },
    {
     "data": {
      "text/html": [
       "Syncing run <strong><a href='https://wandb.ai/pierrehogenhaug/modern_nlp_ex/runs/7chvopbl' target=\"_blank\">rosy-gorge-49</a></strong> to <a href='https://wandb.ai/pierrehogenhaug/modern_nlp_ex' target=\"_blank\">Weights & Biases</a> (<a href='https://wandb.me/run' target=\"_blank\">docs</a>)<br/>"
      ],
      "text/plain": [
       "<IPython.core.display.HTML object>"
      ]
     },
     "metadata": {},
     "output_type": "display_data"
    },
    {
     "data": {
      "text/html": [
       " View project at <a href='https://wandb.ai/pierrehogenhaug/modern_nlp_ex' target=\"_blank\">https://wandb.ai/pierrehogenhaug/modern_nlp_ex</a>"
      ],
      "text/plain": [
       "<IPython.core.display.HTML object>"
      ]
     },
     "metadata": {},
     "output_type": "display_data"
    },
    {
     "data": {
      "text/html": [
       " View run at <a href='https://wandb.ai/pierrehogenhaug/modern_nlp_ex/runs/7chvopbl' target=\"_blank\">https://wandb.ai/pierrehogenhaug/modern_nlp_ex/runs/7chvopbl</a>"
      ],
      "text/plain": [
       "<IPython.core.display.HTML object>"
      ]
     },
     "metadata": {},
     "output_type": "display_data"
    },
    {
     "name": "stdout",
     "output_type": "stream",
     "text": [
      "Epoch 1/70 | Loss: 1.2528\n",
      "Epoch 2/70 | Loss: 1.0330\n",
      "Epoch 3/70 | Loss: 0.9968\n",
      "Epoch 4/70 | Loss: 0.9591\n",
      "Epoch 5/70 | Loss: 0.9522\n",
      "Epoch 6/70 | Loss: 0.9557\n",
      "Epoch 7/70 | Loss: 0.9581\n",
      "Epoch 8/70 | Loss: 0.9842\n",
      "Epoch 9/70 | Loss: 0.9518\n",
      "Epoch 10/70 | Loss: 0.9244\n",
      "Epoch 11/70 | Loss: 0.9297\n",
      "Epoch 12/70 | Loss: 0.9412\n",
      "Epoch 13/70 | Loss: 0.9488\n",
      "Epoch 14/70 | Loss: 0.9514\n",
      "Epoch 15/70 | Loss: 0.9512\n",
      "Epoch 16/70 | Loss: 0.9788\n",
      "Epoch 17/70 | Loss: 0.9359\n",
      "Epoch 18/70 | Loss: 0.9642\n",
      "Epoch 19/70 | Loss: 0.9328\n",
      "Epoch 20/70 | Loss: 0.9350\n",
      "Epoch 21/70 | Loss: 0.9501\n",
      "Epoch 22/70 | Loss: 0.9632\n",
      "Epoch 23/70 | Loss: 0.9459\n",
      "Epoch 24/70 | Loss: 0.9569\n",
      "Epoch 25/70 | Loss: 0.9435\n",
      "Epoch 26/70 | Loss: 0.9382\n",
      "Epoch 27/70 | Loss: 0.9835\n",
      "Epoch 28/70 | Loss: 0.9461\n",
      "Epoch 29/70 | Loss: 0.9796\n",
      "Epoch 30/70 | Loss: 0.9478\n",
      "Epoch 31/70 | Loss: 0.9443\n",
      "Epoch 32/70 | Loss: 0.9559\n",
      "Epoch 33/70 | Loss: 0.9586\n",
      "Epoch 34/70 | Loss: 0.9306\n",
      "Epoch 35/70 | Loss: 0.9731\n",
      "Epoch 36/70 | Loss: 0.9840\n",
      "Epoch 37/70 | Loss: 0.9309\n",
      "Epoch 38/70 | Loss: 0.9500\n",
      "Epoch 39/70 | Loss: 0.9535\n",
      "Epoch 40/70 | Loss: 0.9567\n",
      "Epoch 41/70 | Loss: 0.9508\n",
      "Epoch 42/70 | Loss: 0.9737\n",
      "Epoch 43/70 | Loss: 0.9534\n",
      "Epoch 44/70 | Loss: 0.9426\n",
      "Epoch 45/70 | Loss: 0.9470\n",
      "Epoch 46/70 | Loss: 0.9786\n",
      "Epoch 47/70 | Loss: 0.9617\n",
      "Epoch 48/70 | Loss: 0.9466\n",
      "Epoch 49/70 | Loss: 0.9739\n",
      "Epoch 50/70 | Loss: 0.9370\n",
      "Epoch 51/70 | Loss: 0.9569\n",
      "Epoch 52/70 | Loss: 0.9394\n",
      "Epoch 53/70 | Loss: 0.9555\n",
      "Epoch 54/70 | Loss: 0.9591\n",
      "Epoch 55/70 | Loss: 0.9388\n",
      "Epoch 56/70 | Loss: 0.9754\n",
      "Epoch 57/70 | Loss: 0.9632\n",
      "Epoch 58/70 | Loss: 0.9174\n",
      "Epoch 59/70 | Loss: 0.9569\n",
      "Epoch 60/70 | Loss: 0.9562\n",
      "Epoch 61/70 | Loss: 0.9358\n",
      "Epoch 62/70 | Loss: 0.9388\n",
      "Epoch 63/70 | Loss: 0.9473\n",
      "Epoch 64/70 | Loss: 0.9500\n",
      "Epoch 65/70 | Loss: 0.9499\n",
      "Epoch 66/70 | Loss: 0.9414\n",
      "Epoch 67/70 | Loss: 0.9377\n",
      "Epoch 68/70 | Loss: 0.9765\n",
      "Epoch 69/70 | Loss: 0.9498\n",
      "Epoch 70/70 | Loss: 0.9413\n",
      "Test Acc: 52.75%\n"
     ]
    },
    {
     "name": "stderr",
     "output_type": "stream",
     "text": [
      "wandb: WARNING Source type is set to 'repo' but some required information is missing from the environment. A job will not be created from this run. See https://docs.wandb.ai/guides/launch/create-job\n"
     ]
    },
    {
     "data": {
      "text/html": [
       "<style>\n",
       "    table.wandb td:nth-child(1) { padding: 0 10px; text-align: left ; width: auto;} td:nth-child(2) {text-align: left ; width: 100%}\n",
       "    .wandb-row { display: flex; flex-direction: row; flex-wrap: wrap; justify-content: flex-start; width: 100% }\n",
       "    .wandb-col { display: flex; flex-direction: column; flex-basis: 100%; flex: 1; padding: 10px; }\n",
       "    </style>\n",
       "<div class=\"wandb-row\"><div class=\"wandb-col\"><h3>Run history:</h3><br/><table class=\"wandb\"><tr><td>epoch</td><td>▁▁▁▂▂▂▂▂▂▃▃▃▃▃▃▄▄▄▄▄▅▅▅▅▅▅▆▆▆▆▆▆▇▇▇▇▇███</td></tr><tr><td>test_accuracy</td><td>▁</td></tr><tr><td>test_loss</td><td>▁</td></tr><tr><td>train_loss</td><td>█▃▂▂▂▁▁▁▁▂▂▁▂▂▁▂▂▁▂▁▂▁▂▁▂▁▂▁▁▁▂▁▂▂▁▁▁▁▂▁</td></tr></table><br/></div><div class=\"wandb-col\"><h3>Run summary:</h3><br/><table class=\"wandb\"><tr><td>epoch</td><td>70</td></tr><tr><td>test_accuracy</td><td>0.52746</td></tr><tr><td>test_loss</td><td>1.33608</td></tr><tr><td>train_loss</td><td>0.94133</td></tr></table><br/></div></div>"
      ],
      "text/plain": [
       "<IPython.core.display.HTML object>"
      ]
     },
     "metadata": {},
     "output_type": "display_data"
    },
    {
     "data": {
      "text/html": [
       " View run <strong style=\"color:#cdcd00\">rosy-gorge-49</strong> at: <a href='https://wandb.ai/pierrehogenhaug/modern_nlp_ex/runs/7chvopbl' target=\"_blank\">https://wandb.ai/pierrehogenhaug/modern_nlp_ex/runs/7chvopbl</a><br/>Synced 6 W&B file(s), 0 media file(s), 0 artifact file(s) and 0 other file(s)"
      ],
      "text/plain": [
       "<IPython.core.display.HTML object>"
      ]
     },
     "metadata": {},
     "output_type": "display_data"
    },
    {
     "data": {
      "text/html": [
       "Find logs at: <code>./wandb/run-20240313_111511-7chvopbl/logs</code>"
      ],
      "text/plain": [
       "<IPython.core.display.HTML object>"
      ]
     },
     "metadata": {},
     "output_type": "display_data"
    },
    {
     "name": "stdout",
     "output_type": "stream",
     "text": [
      "\n",
      "Training with max_pool, lr=0.1, batch_size=64, epochs=30\n"
     ]
    },
    {
     "data": {
      "text/html": [
       "Tracking run with wandb version 0.16.4"
      ],
      "text/plain": [
       "<IPython.core.display.HTML object>"
      ]
     },
     "metadata": {},
     "output_type": "display_data"
    },
    {
     "data": {
      "text/html": [
       "Run data is saved locally in <code>/Users/phog/Desktop/cleverThings/Modern_NLP/cs-552-modern-nlp/Exercises/Week 1 - Word Embeddings/wandb/run-20240313_111541-nt6fl3st</code>"
      ],
      "text/plain": [
       "<IPython.core.display.HTML object>"
      ]
     },
     "metadata": {},
     "output_type": "display_data"
    },
    {
     "data": {
      "text/html": [
       "Syncing run <strong><a href='https://wandb.ai/pierrehogenhaug/modern_nlp_ex/runs/nt6fl3st' target=\"_blank\">dutiful-paper-50</a></strong> to <a href='https://wandb.ai/pierrehogenhaug/modern_nlp_ex' target=\"_blank\">Weights & Biases</a> (<a href='https://wandb.me/run' target=\"_blank\">docs</a>)<br/>"
      ],
      "text/plain": [
       "<IPython.core.display.HTML object>"
      ]
     },
     "metadata": {},
     "output_type": "display_data"
    },
    {
     "data": {
      "text/html": [
       " View project at <a href='https://wandb.ai/pierrehogenhaug/modern_nlp_ex' target=\"_blank\">https://wandb.ai/pierrehogenhaug/modern_nlp_ex</a>"
      ],
      "text/plain": [
       "<IPython.core.display.HTML object>"
      ]
     },
     "metadata": {},
     "output_type": "display_data"
    },
    {
     "data": {
      "text/html": [
       " View run at <a href='https://wandb.ai/pierrehogenhaug/modern_nlp_ex/runs/nt6fl3st' target=\"_blank\">https://wandb.ai/pierrehogenhaug/modern_nlp_ex/runs/nt6fl3st</a>"
      ],
      "text/plain": [
       "<IPython.core.display.HTML object>"
      ]
     },
     "metadata": {},
     "output_type": "display_data"
    },
    {
     "name": "stdout",
     "output_type": "stream",
     "text": [
      "Epoch 1/30 | Loss: 1.3809\n",
      "Epoch 2/30 | Loss: 1.1527\n",
      "Epoch 3/30 | Loss: 1.0533\n",
      "Epoch 4/30 | Loss: 0.9976\n",
      "Epoch 5/30 | Loss: 0.9732\n",
      "Epoch 6/30 | Loss: 0.9600\n",
      "Epoch 7/30 | Loss: 0.9472\n",
      "Epoch 8/30 | Loss: 0.9109\n",
      "Epoch 9/30 | Loss: 0.9485\n",
      "Epoch 10/30 | Loss: 0.9080\n",
      "Epoch 11/30 | Loss: 0.9468\n",
      "Epoch 12/30 | Loss: 0.9266\n",
      "Epoch 13/30 | Loss: 0.9478\n",
      "Epoch 14/30 | Loss: 0.9097\n",
      "Epoch 15/30 | Loss: 0.9235\n",
      "Epoch 16/30 | Loss: 0.9308\n",
      "Epoch 17/30 | Loss: 0.9669\n",
      "Epoch 18/30 | Loss: 0.9305\n",
      "Epoch 19/30 | Loss: 0.9434\n",
      "Epoch 20/30 | Loss: 0.9061\n",
      "Epoch 21/30 | Loss: 0.9242\n",
      "Epoch 22/30 | Loss: 0.9451\n",
      "Epoch 23/30 | Loss: 0.9208\n",
      "Epoch 24/30 | Loss: 0.9440\n",
      "Epoch 25/30 | Loss: 0.8977\n",
      "Epoch 26/30 | Loss: 0.9472\n",
      "Epoch 27/30 | Loss: 0.9388\n",
      "Epoch 28/30 | Loss: 0.9240\n",
      "Epoch 29/30 | Loss: 0.9270\n",
      "Epoch 30/30 | Loss: 0.8970\n",
      "Test Acc: 56.58%\n"
     ]
    },
    {
     "name": "stderr",
     "output_type": "stream",
     "text": [
      "wandb: WARNING Source type is set to 'repo' but some required information is missing from the environment. A job will not be created from this run. See https://docs.wandb.ai/guides/launch/create-job\n"
     ]
    },
    {
     "data": {
      "text/html": [
       "<style>\n",
       "    table.wandb td:nth-child(1) { padding: 0 10px; text-align: left ; width: auto;} td:nth-child(2) {text-align: left ; width: 100%}\n",
       "    .wandb-row { display: flex; flex-direction: row; flex-wrap: wrap; justify-content: flex-start; width: 100% }\n",
       "    .wandb-col { display: flex; flex-direction: column; flex-basis: 100%; flex: 1; padding: 10px; }\n",
       "    </style>\n",
       "<div class=\"wandb-row\"><div class=\"wandb-col\"><h3>Run history:</h3><br/><table class=\"wandb\"><tr><td>epoch</td><td>▁▁▁▂▂▂▂▃▃▃▃▄▄▄▄▅▅▅▅▆▆▆▆▇▇▇▇███</td></tr><tr><td>test_accuracy</td><td>▁</td></tr><tr><td>test_loss</td><td>▁</td></tr><tr><td>train_loss</td><td>█▅▃▂▂▂▂▁▂▁▂▁▂▁▁▁▂▁▂▁▁▂▁▂▁▂▂▁▁▁</td></tr></table><br/></div><div class=\"wandb-col\"><h3>Run summary:</h3><br/><table class=\"wandb\"><tr><td>epoch</td><td>30</td></tr><tr><td>test_accuracy</td><td>0.56578</td></tr><tr><td>test_loss</td><td>0.97792</td></tr><tr><td>train_loss</td><td>0.89695</td></tr></table><br/></div></div>"
      ],
      "text/plain": [
       "<IPython.core.display.HTML object>"
      ]
     },
     "metadata": {},
     "output_type": "display_data"
    },
    {
     "data": {
      "text/html": [
       " View run <strong style=\"color:#cdcd00\">dutiful-paper-50</strong> at: <a href='https://wandb.ai/pierrehogenhaug/modern_nlp_ex/runs/nt6fl3st' target=\"_blank\">https://wandb.ai/pierrehogenhaug/modern_nlp_ex/runs/nt6fl3st</a><br/>Synced 6 W&B file(s), 0 media file(s), 0 artifact file(s) and 0 other file(s)"
      ],
      "text/plain": [
       "<IPython.core.display.HTML object>"
      ]
     },
     "metadata": {},
     "output_type": "display_data"
    },
    {
     "data": {
      "text/html": [
       "Find logs at: <code>./wandb/run-20240313_111541-nt6fl3st/logs</code>"
      ],
      "text/plain": [
       "<IPython.core.display.HTML object>"
      ]
     },
     "metadata": {},
     "output_type": "display_data"
    },
    {
     "name": "stdout",
     "output_type": "stream",
     "text": [
      "\n",
      "Training with max_pool, lr=0.1, batch_size=64, epochs=50\n"
     ]
    },
    {
     "data": {
      "text/html": [
       "Tracking run with wandb version 0.16.4"
      ],
      "text/plain": [
       "<IPython.core.display.HTML object>"
      ]
     },
     "metadata": {},
     "output_type": "display_data"
    },
    {
     "data": {
      "text/html": [
       "Run data is saved locally in <code>/Users/phog/Desktop/cleverThings/Modern_NLP/cs-552-modern-nlp/Exercises/Week 1 - Word Embeddings/wandb/run-20240313_111556-u3uxxdwm</code>"
      ],
      "text/plain": [
       "<IPython.core.display.HTML object>"
      ]
     },
     "metadata": {},
     "output_type": "display_data"
    },
    {
     "data": {
      "text/html": [
       "Syncing run <strong><a href='https://wandb.ai/pierrehogenhaug/modern_nlp_ex/runs/u3uxxdwm' target=\"_blank\">icy-leaf-51</a></strong> to <a href='https://wandb.ai/pierrehogenhaug/modern_nlp_ex' target=\"_blank\">Weights & Biases</a> (<a href='https://wandb.me/run' target=\"_blank\">docs</a>)<br/>"
      ],
      "text/plain": [
       "<IPython.core.display.HTML object>"
      ]
     },
     "metadata": {},
     "output_type": "display_data"
    },
    {
     "data": {
      "text/html": [
       " View project at <a href='https://wandb.ai/pierrehogenhaug/modern_nlp_ex' target=\"_blank\">https://wandb.ai/pierrehogenhaug/modern_nlp_ex</a>"
      ],
      "text/plain": [
       "<IPython.core.display.HTML object>"
      ]
     },
     "metadata": {},
     "output_type": "display_data"
    },
    {
     "data": {
      "text/html": [
       " View run at <a href='https://wandb.ai/pierrehogenhaug/modern_nlp_ex/runs/u3uxxdwm' target=\"_blank\">https://wandb.ai/pierrehogenhaug/modern_nlp_ex/runs/u3uxxdwm</a>"
      ],
      "text/plain": [
       "<IPython.core.display.HTML object>"
      ]
     },
     "metadata": {},
     "output_type": "display_data"
    },
    {
     "name": "stdout",
     "output_type": "stream",
     "text": [
      "Epoch 1/50 | Loss: 1.3828\n",
      "Epoch 2/50 | Loss: 1.1579\n",
      "Epoch 3/50 | Loss: 1.0728\n",
      "Epoch 4/50 | Loss: 0.9839\n",
      "Epoch 5/50 | Loss: 0.9876\n",
      "Epoch 6/50 | Loss: 0.9400\n",
      "Epoch 7/50 | Loss: 0.9565\n",
      "Epoch 8/50 | Loss: 0.9549\n",
      "Epoch 9/50 | Loss: 0.8849\n",
      "Epoch 10/50 | Loss: 0.9284\n",
      "Epoch 11/50 | Loss: 0.9290\n",
      "Epoch 12/50 | Loss: 0.9412\n",
      "Epoch 13/50 | Loss: 0.9367\n",
      "Epoch 14/50 | Loss: 0.9292\n",
      "Epoch 15/50 | Loss: 0.9290\n",
      "Epoch 16/50 | Loss: 0.9558\n",
      "Epoch 17/50 | Loss: 0.9728\n",
      "Epoch 18/50 | Loss: 0.8895\n",
      "Epoch 19/50 | Loss: 0.9447\n",
      "Epoch 20/50 | Loss: 0.9472\n",
      "Epoch 21/50 | Loss: 0.9083\n",
      "Epoch 22/50 | Loss: 0.9354\n",
      "Epoch 23/50 | Loss: 0.9250\n",
      "Epoch 24/50 | Loss: 0.9348\n",
      "Epoch 25/50 | Loss: 0.9304\n",
      "Epoch 26/50 | Loss: 0.9080\n",
      "Epoch 27/50 | Loss: 0.9187\n",
      "Epoch 28/50 | Loss: 0.9469\n",
      "Epoch 29/50 | Loss: 0.9355\n",
      "Epoch 30/50 | Loss: 0.9296\n",
      "Epoch 31/50 | Loss: 0.8865\n",
      "Epoch 32/50 | Loss: 0.9558\n",
      "Epoch 33/50 | Loss: 0.9182\n",
      "Epoch 34/50 | Loss: 0.9324\n",
      "Epoch 35/50 | Loss: 0.9464\n",
      "Epoch 36/50 | Loss: 0.9322\n",
      "Epoch 37/50 | Loss: 0.9153\n",
      "Epoch 38/50 | Loss: 0.9303\n",
      "Epoch 39/50 | Loss: 0.8966\n",
      "Epoch 40/50 | Loss: 0.9044\n",
      "Epoch 41/50 | Loss: 0.9274\n",
      "Epoch 42/50 | Loss: 0.9291\n",
      "Epoch 43/50 | Loss: 0.9806\n",
      "Epoch 44/50 | Loss: 0.9251\n",
      "Epoch 45/50 | Loss: 0.9062\n",
      "Epoch 46/50 | Loss: 0.9258\n",
      "Epoch 47/50 | Loss: 0.9483\n",
      "Epoch 48/50 | Loss: 0.9275\n",
      "Epoch 49/50 | Loss: 0.9029\n",
      "Epoch 50/50 | Loss: 0.9610\n",
      "Test Acc: 66.77%\n"
     ]
    },
    {
     "name": "stderr",
     "output_type": "stream",
     "text": [
      "wandb: WARNING Source type is set to 'repo' but some required information is missing from the environment. A job will not be created from this run. See https://docs.wandb.ai/guides/launch/create-job\n"
     ]
    },
    {
     "data": {
      "text/html": [
       "<style>\n",
       "    table.wandb td:nth-child(1) { padding: 0 10px; text-align: left ; width: auto;} td:nth-child(2) {text-align: left ; width: 100%}\n",
       "    .wandb-row { display: flex; flex-direction: row; flex-wrap: wrap; justify-content: flex-start; width: 100% }\n",
       "    .wandb-col { display: flex; flex-direction: column; flex-basis: 100%; flex: 1; padding: 10px; }\n",
       "    </style>\n",
       "<div class=\"wandb-row\"><div class=\"wandb-col\"><h3>Run history:</h3><br/><table class=\"wandb\"><tr><td>epoch</td><td>▁▁▁▁▂▂▂▂▂▃▃▃▃▃▃▄▄▄▄▄▅▅▅▅▅▅▆▆▆▆▆▆▇▇▇▇▇███</td></tr><tr><td>test_accuracy</td><td>▁</td></tr><tr><td>test_loss</td><td>▁</td></tr><tr><td>train_loss</td><td>█▅▄▂▂▂▂▁▂▂▂▂▂▂▁▂▁▂▂▂▁▁▂▂▁▂▁▂▂▁▂▁▂▂▂▂▂▂▂▂</td></tr></table><br/></div><div class=\"wandb-col\"><h3>Run summary:</h3><br/><table class=\"wandb\"><tr><td>epoch</td><td>50</td></tr><tr><td>test_accuracy</td><td>0.6677</td></tr><tr><td>test_loss</td><td>0.63434</td></tr><tr><td>train_loss</td><td>0.96095</td></tr></table><br/></div></div>"
      ],
      "text/plain": [
       "<IPython.core.display.HTML object>"
      ]
     },
     "metadata": {},
     "output_type": "display_data"
    },
    {
     "data": {
      "text/html": [
       " View run <strong style=\"color:#cdcd00\">icy-leaf-51</strong> at: <a href='https://wandb.ai/pierrehogenhaug/modern_nlp_ex/runs/u3uxxdwm' target=\"_blank\">https://wandb.ai/pierrehogenhaug/modern_nlp_ex/runs/u3uxxdwm</a><br/>Synced 6 W&B file(s), 0 media file(s), 0 artifact file(s) and 0 other file(s)"
      ],
      "text/plain": [
       "<IPython.core.display.HTML object>"
      ]
     },
     "metadata": {},
     "output_type": "display_data"
    },
    {
     "data": {
      "text/html": [
       "Find logs at: <code>./wandb/run-20240313_111556-u3uxxdwm/logs</code>"
      ],
      "text/plain": [
       "<IPython.core.display.HTML object>"
      ]
     },
     "metadata": {},
     "output_type": "display_data"
    },
    {
     "name": "stdout",
     "output_type": "stream",
     "text": [
      "\n",
      "Training with max_pool, lr=0.1, batch_size=64, epochs=70\n"
     ]
    },
    {
     "data": {
      "text/html": [
       "Tracking run with wandb version 0.16.4"
      ],
      "text/plain": [
       "<IPython.core.display.HTML object>"
      ]
     },
     "metadata": {},
     "output_type": "display_data"
    },
    {
     "data": {
      "text/html": [
       "Run data is saved locally in <code>/Users/phog/Desktop/cleverThings/Modern_NLP/cs-552-modern-nlp/Exercises/Week 1 - Word Embeddings/wandb/run-20240313_111615-q3k35thu</code>"
      ],
      "text/plain": [
       "<IPython.core.display.HTML object>"
      ]
     },
     "metadata": {},
     "output_type": "display_data"
    },
    {
     "data": {
      "text/html": [
       "Syncing run <strong><a href='https://wandb.ai/pierrehogenhaug/modern_nlp_ex/runs/q3k35thu' target=\"_blank\">cool-frost-52</a></strong> to <a href='https://wandb.ai/pierrehogenhaug/modern_nlp_ex' target=\"_blank\">Weights & Biases</a> (<a href='https://wandb.me/run' target=\"_blank\">docs</a>)<br/>"
      ],
      "text/plain": [
       "<IPython.core.display.HTML object>"
      ]
     },
     "metadata": {},
     "output_type": "display_data"
    },
    {
     "data": {
      "text/html": [
       " View project at <a href='https://wandb.ai/pierrehogenhaug/modern_nlp_ex' target=\"_blank\">https://wandb.ai/pierrehogenhaug/modern_nlp_ex</a>"
      ],
      "text/plain": [
       "<IPython.core.display.HTML object>"
      ]
     },
     "metadata": {},
     "output_type": "display_data"
    },
    {
     "data": {
      "text/html": [
       " View run at <a href='https://wandb.ai/pierrehogenhaug/modern_nlp_ex/runs/q3k35thu' target=\"_blank\">https://wandb.ai/pierrehogenhaug/modern_nlp_ex/runs/q3k35thu</a>"
      ],
      "text/plain": [
       "<IPython.core.display.HTML object>"
      ]
     },
     "metadata": {},
     "output_type": "display_data"
    },
    {
     "name": "stdout",
     "output_type": "stream",
     "text": [
      "Epoch 1/70 | Loss: 1.3862\n",
      "Epoch 2/70 | Loss: 1.1617\n",
      "Epoch 3/70 | Loss: 1.0699\n",
      "Epoch 4/70 | Loss: 0.9854\n",
      "Epoch 5/70 | Loss: 0.9571\n",
      "Epoch 6/70 | Loss: 0.9510\n",
      "Epoch 7/70 | Loss: 0.9542\n",
      "Epoch 8/70 | Loss: 0.8909\n",
      "Epoch 9/70 | Loss: 0.9538\n",
      "Epoch 10/70 | Loss: 0.9437\n",
      "Epoch 11/70 | Loss: 0.9543\n",
      "Epoch 12/70 | Loss: 0.9034\n",
      "Epoch 13/70 | Loss: 0.9500\n",
      "Epoch 14/70 | Loss: 0.9067\n",
      "Epoch 15/70 | Loss: 0.9289\n",
      "Epoch 16/70 | Loss: 0.9446\n",
      "Epoch 17/70 | Loss: 0.9127\n",
      "Epoch 18/70 | Loss: 0.8797\n",
      "Epoch 19/70 | Loss: 0.9310\n",
      "Epoch 20/70 | Loss: 0.9202\n",
      "Epoch 21/70 | Loss: 0.9212\n",
      "Epoch 22/70 | Loss: 0.9394\n",
      "Epoch 23/70 | Loss: 0.9274\n",
      "Epoch 24/70 | Loss: 0.9390\n",
      "Epoch 25/70 | Loss: 0.9221\n",
      "Epoch 26/70 | Loss: 0.9214\n",
      "Epoch 27/70 | Loss: 0.9021\n",
      "Epoch 28/70 | Loss: 0.9325\n",
      "Epoch 29/70 | Loss: 0.8878\n",
      "Epoch 30/70 | Loss: 0.9241\n",
      "Epoch 31/70 | Loss: 0.8945\n",
      "Epoch 32/70 | Loss: 0.9745\n",
      "Epoch 33/70 | Loss: 0.9206\n",
      "Epoch 34/70 | Loss: 0.9635\n",
      "Epoch 35/70 | Loss: 0.8907\n",
      "Epoch 36/70 | Loss: 0.9493\n",
      "Epoch 37/70 | Loss: 0.9108\n",
      "Epoch 38/70 | Loss: 0.9025\n",
      "Epoch 39/70 | Loss: 0.9404\n",
      "Epoch 40/70 | Loss: 0.9141\n",
      "Epoch 41/70 | Loss: 0.9140\n",
      "Epoch 42/70 | Loss: 0.9262\n",
      "Epoch 43/70 | Loss: 0.8723\n",
      "Epoch 44/70 | Loss: 0.9581\n",
      "Epoch 45/70 | Loss: 0.9139\n",
      "Epoch 46/70 | Loss: 0.9142\n",
      "Epoch 47/70 | Loss: 0.9217\n",
      "Epoch 48/70 | Loss: 0.9164\n",
      "Epoch 49/70 | Loss: 0.9422\n",
      "Epoch 50/70 | Loss: 0.9216\n",
      "Epoch 51/70 | Loss: 0.9104\n",
      "Epoch 52/70 | Loss: 0.9208\n",
      "Epoch 53/70 | Loss: 0.9107\n",
      "Epoch 54/70 | Loss: 0.9001\n",
      "Epoch 55/70 | Loss: 0.9212\n",
      "Epoch 56/70 | Loss: 0.9210\n",
      "Epoch 57/70 | Loss: 0.9270\n",
      "Epoch 58/70 | Loss: 0.9433\n",
      "Epoch 59/70 | Loss: 0.9291\n",
      "Epoch 60/70 | Loss: 0.9316\n",
      "Epoch 61/70 | Loss: 0.9159\n",
      "Epoch 62/70 | Loss: 0.9585\n",
      "Epoch 63/70 | Loss: 0.9289\n",
      "Epoch 64/70 | Loss: 0.9244\n",
      "Epoch 65/70 | Loss: 0.9153\n",
      "Epoch 66/70 | Loss: 0.9366\n",
      "Epoch 67/70 | Loss: 0.9182\n",
      "Epoch 68/70 | Loss: 0.8909\n",
      "Epoch 69/70 | Loss: 0.9138\n",
      "Epoch 70/70 | Loss: 0.9260\n",
      "Test Acc: 65.17%\n"
     ]
    },
    {
     "name": "stderr",
     "output_type": "stream",
     "text": [
      "wandb: WARNING Source type is set to 'repo' but some required information is missing from the environment. A job will not be created from this run. See https://docs.wandb.ai/guides/launch/create-job\n"
     ]
    },
    {
     "data": {
      "text/html": [
       "<style>\n",
       "    table.wandb td:nth-child(1) { padding: 0 10px; text-align: left ; width: auto;} td:nth-child(2) {text-align: left ; width: 100%}\n",
       "    .wandb-row { display: flex; flex-direction: row; flex-wrap: wrap; justify-content: flex-start; width: 100% }\n",
       "    .wandb-col { display: flex; flex-direction: column; flex-basis: 100%; flex: 1; padding: 10px; }\n",
       "    </style>\n",
       "<div class=\"wandb-row\"><div class=\"wandb-col\"><h3>Run history:</h3><br/><table class=\"wandb\"><tr><td>epoch</td><td>▁▁▁▂▂▂▂▂▂▃▃▃▃▃▃▄▄▄▄▄▅▅▅▅▅▅▆▆▆▆▆▆▇▇▇▇▇███</td></tr><tr><td>test_accuracy</td><td>▁</td></tr><tr><td>test_loss</td><td>▁</td></tr><tr><td>train_loss</td><td>█▅▃▂▁▂▂▂▂▂▁▂▂▂▂▁▁▁▂▂▂▁▂▂▁▂▂▂▂▂▁▂▂▂▂▂▂▂▁▂</td></tr></table><br/></div><div class=\"wandb-col\"><h3>Run summary:</h3><br/><table class=\"wandb\"><tr><td>epoch</td><td>70</td></tr><tr><td>test_accuracy</td><td>0.65167</td></tr><tr><td>test_loss</td><td>0.68429</td></tr><tr><td>train_loss</td><td>0.92595</td></tr></table><br/></div></div>"
      ],
      "text/plain": [
       "<IPython.core.display.HTML object>"
      ]
     },
     "metadata": {},
     "output_type": "display_data"
    },
    {
     "data": {
      "text/html": [
       " View run <strong style=\"color:#cdcd00\">cool-frost-52</strong> at: <a href='https://wandb.ai/pierrehogenhaug/modern_nlp_ex/runs/q3k35thu' target=\"_blank\">https://wandb.ai/pierrehogenhaug/modern_nlp_ex/runs/q3k35thu</a><br/>Synced 6 W&B file(s), 0 media file(s), 0 artifact file(s) and 0 other file(s)"
      ],
      "text/plain": [
       "<IPython.core.display.HTML object>"
      ]
     },
     "metadata": {},
     "output_type": "display_data"
    },
    {
     "data": {
      "text/html": [
       "Find logs at: <code>./wandb/run-20240313_111615-q3k35thu/logs</code>"
      ],
      "text/plain": [
       "<IPython.core.display.HTML object>"
      ]
     },
     "metadata": {},
     "output_type": "display_data"
    },
    {
     "name": "stdout",
     "output_type": "stream",
     "text": [
      "\n",
      "Training with max_pool, lr=0.1, batch_size=128, epochs=30\n"
     ]
    },
    {
     "data": {
      "text/html": [
       "Tracking run with wandb version 0.16.4"
      ],
      "text/plain": [
       "<IPython.core.display.HTML object>"
      ]
     },
     "metadata": {},
     "output_type": "display_data"
    },
    {
     "data": {
      "text/html": [
       "Run data is saved locally in <code>/Users/phog/Desktop/cleverThings/Modern_NLP/cs-552-modern-nlp/Exercises/Week 1 - Word Embeddings/wandb/run-20240313_111638-c3wrb69q</code>"
      ],
      "text/plain": [
       "<IPython.core.display.HTML object>"
      ]
     },
     "metadata": {},
     "output_type": "display_data"
    },
    {
     "data": {
      "text/html": [
       "Syncing run <strong><a href='https://wandb.ai/pierrehogenhaug/modern_nlp_ex/runs/c3wrb69q' target=\"_blank\">helpful-elevator-53</a></strong> to <a href='https://wandb.ai/pierrehogenhaug/modern_nlp_ex' target=\"_blank\">Weights & Biases</a> (<a href='https://wandb.me/run' target=\"_blank\">docs</a>)<br/>"
      ],
      "text/plain": [
       "<IPython.core.display.HTML object>"
      ]
     },
     "metadata": {},
     "output_type": "display_data"
    },
    {
     "data": {
      "text/html": [
       " View project at <a href='https://wandb.ai/pierrehogenhaug/modern_nlp_ex' target=\"_blank\">https://wandb.ai/pierrehogenhaug/modern_nlp_ex</a>"
      ],
      "text/plain": [
       "<IPython.core.display.HTML object>"
      ]
     },
     "metadata": {},
     "output_type": "display_data"
    },
    {
     "data": {
      "text/html": [
       " View run at <a href='https://wandb.ai/pierrehogenhaug/modern_nlp_ex/runs/c3wrb69q' target=\"_blank\">https://wandb.ai/pierrehogenhaug/modern_nlp_ex/runs/c3wrb69q</a>"
      ],
      "text/plain": [
       "<IPython.core.display.HTML object>"
      ]
     },
     "metadata": {},
     "output_type": "display_data"
    },
    {
     "name": "stdout",
     "output_type": "stream",
     "text": [
      "Epoch 1/30 | Loss: 1.4730\n",
      "Epoch 2/30 | Loss: 1.3657\n",
      "Epoch 3/30 | Loss: 1.2237\n",
      "Epoch 4/30 | Loss: 1.1827\n",
      "Epoch 5/30 | Loss: 1.0405\n",
      "Epoch 6/30 | Loss: 1.0247\n",
      "Epoch 7/30 | Loss: 1.0346\n",
      "Epoch 8/30 | Loss: 1.0195\n",
      "Epoch 9/30 | Loss: 0.9633\n",
      "Epoch 10/30 | Loss: 0.9348\n",
      "Epoch 11/30 | Loss: 0.9615\n",
      "Epoch 12/30 | Loss: 0.9981\n",
      "Epoch 13/30 | Loss: 0.9163\n",
      "Epoch 14/30 | Loss: 0.9565\n",
      "Epoch 15/30 | Loss: 0.9582\n",
      "Epoch 16/30 | Loss: 0.9325\n",
      "Epoch 17/30 | Loss: 0.8845\n",
      "Epoch 18/30 | Loss: 0.9484\n",
      "Epoch 19/30 | Loss: 0.9531\n",
      "Epoch 20/30 | Loss: 0.9499\n",
      "Epoch 21/30 | Loss: 0.9598\n",
      "Epoch 22/30 | Loss: 0.9463\n",
      "Epoch 23/30 | Loss: 0.8990\n",
      "Epoch 24/30 | Loss: 0.9126\n",
      "Epoch 25/30 | Loss: 0.9784\n",
      "Epoch 26/30 | Loss: 0.9613\n",
      "Epoch 27/30 | Loss: 0.9795\n",
      "Epoch 28/30 | Loss: 0.9474\n",
      "Epoch 29/30 | Loss: 0.9420\n",
      "Epoch 30/30 | Loss: 0.8777\n",
      "Test Acc: 61.11%\n"
     ]
    },
    {
     "name": "stderr",
     "output_type": "stream",
     "text": [
      "wandb: WARNING Source type is set to 'repo' but some required information is missing from the environment. A job will not be created from this run. See https://docs.wandb.ai/guides/launch/create-job\n"
     ]
    },
    {
     "data": {
      "text/html": [
       "<style>\n",
       "    table.wandb td:nth-child(1) { padding: 0 10px; text-align: left ; width: auto;} td:nth-child(2) {text-align: left ; width: 100%}\n",
       "    .wandb-row { display: flex; flex-direction: row; flex-wrap: wrap; justify-content: flex-start; width: 100% }\n",
       "    .wandb-col { display: flex; flex-direction: column; flex-basis: 100%; flex: 1; padding: 10px; }\n",
       "    </style>\n",
       "<div class=\"wandb-row\"><div class=\"wandb-col\"><h3>Run history:</h3><br/><table class=\"wandb\"><tr><td>epoch</td><td>▁▁▁▂▂▂▂▃▃▃▃▄▄▄▄▅▅▅▅▆▆▆▆▇▇▇▇███</td></tr><tr><td>test_accuracy</td><td>▁</td></tr><tr><td>test_loss</td><td>▁</td></tr><tr><td>train_loss</td><td>█▇▅▅▃▃▃▃▂▂▂▂▁▂▂▂▁▂▂▂▂▂▁▁▂▂▂▂▂▁</td></tr></table><br/></div><div class=\"wandb-col\"><h3>Run summary:</h3><br/><table class=\"wandb\"><tr><td>epoch</td><td>30</td></tr><tr><td>test_accuracy</td><td>0.61106</td></tr><tr><td>test_loss</td><td>0.80261</td></tr><tr><td>train_loss</td><td>0.87768</td></tr></table><br/></div></div>"
      ],
      "text/plain": [
       "<IPython.core.display.HTML object>"
      ]
     },
     "metadata": {},
     "output_type": "display_data"
    },
    {
     "data": {
      "text/html": [
       " View run <strong style=\"color:#cdcd00\">helpful-elevator-53</strong> at: <a href='https://wandb.ai/pierrehogenhaug/modern_nlp_ex/runs/c3wrb69q' target=\"_blank\">https://wandb.ai/pierrehogenhaug/modern_nlp_ex/runs/c3wrb69q</a><br/>Synced 6 W&B file(s), 0 media file(s), 0 artifact file(s) and 0 other file(s)"
      ],
      "text/plain": [
       "<IPython.core.display.HTML object>"
      ]
     },
     "metadata": {},
     "output_type": "display_data"
    },
    {
     "data": {
      "text/html": [
       "Find logs at: <code>./wandb/run-20240313_111638-c3wrb69q/logs</code>"
      ],
      "text/plain": [
       "<IPython.core.display.HTML object>"
      ]
     },
     "metadata": {},
     "output_type": "display_data"
    },
    {
     "name": "stdout",
     "output_type": "stream",
     "text": [
      "\n",
      "Training with max_pool, lr=0.1, batch_size=128, epochs=50\n"
     ]
    },
    {
     "data": {
      "text/html": [
       "Tracking run with wandb version 0.16.4"
      ],
      "text/plain": [
       "<IPython.core.display.HTML object>"
      ]
     },
     "metadata": {},
     "output_type": "display_data"
    },
    {
     "data": {
      "text/html": [
       "Run data is saved locally in <code>/Users/phog/Desktop/cleverThings/Modern_NLP/cs-552-modern-nlp/Exercises/Week 1 - Word Embeddings/wandb/run-20240313_111652-g8fkajxw</code>"
      ],
      "text/plain": [
       "<IPython.core.display.HTML object>"
      ]
     },
     "metadata": {},
     "output_type": "display_data"
    },
    {
     "data": {
      "text/html": [
       "Syncing run <strong><a href='https://wandb.ai/pierrehogenhaug/modern_nlp_ex/runs/g8fkajxw' target=\"_blank\">devoted-bee-54</a></strong> to <a href='https://wandb.ai/pierrehogenhaug/modern_nlp_ex' target=\"_blank\">Weights & Biases</a> (<a href='https://wandb.me/run' target=\"_blank\">docs</a>)<br/>"
      ],
      "text/plain": [
       "<IPython.core.display.HTML object>"
      ]
     },
     "metadata": {},
     "output_type": "display_data"
    },
    {
     "data": {
      "text/html": [
       " View project at <a href='https://wandb.ai/pierrehogenhaug/modern_nlp_ex' target=\"_blank\">https://wandb.ai/pierrehogenhaug/modern_nlp_ex</a>"
      ],
      "text/plain": [
       "<IPython.core.display.HTML object>"
      ]
     },
     "metadata": {},
     "output_type": "display_data"
    },
    {
     "data": {
      "text/html": [
       " View run at <a href='https://wandb.ai/pierrehogenhaug/modern_nlp_ex/runs/g8fkajxw' target=\"_blank\">https://wandb.ai/pierrehogenhaug/modern_nlp_ex/runs/g8fkajxw</a>"
      ],
      "text/plain": [
       "<IPython.core.display.HTML object>"
      ]
     },
     "metadata": {},
     "output_type": "display_data"
    },
    {
     "name": "stdout",
     "output_type": "stream",
     "text": [
      "Epoch 1/50 | Loss: 1.4781\n",
      "Epoch 2/50 | Loss: 1.3759\n",
      "Epoch 3/50 | Loss: 1.2507\n",
      "Epoch 4/50 | Loss: 1.1357\n",
      "Epoch 5/50 | Loss: 0.9849\n",
      "Epoch 6/50 | Loss: 1.0825\n",
      "Epoch 7/50 | Loss: 1.0164\n",
      "Epoch 8/50 | Loss: 1.0173\n",
      "Epoch 9/50 | Loss: 0.9673\n",
      "Epoch 10/50 | Loss: 0.9531\n",
      "Epoch 11/50 | Loss: 0.9625\n",
      "Epoch 12/50 | Loss: 0.9234\n",
      "Epoch 13/50 | Loss: 0.9673\n",
      "Epoch 14/50 | Loss: 0.9605\n",
      "Epoch 15/50 | Loss: 0.9404\n",
      "Epoch 16/50 | Loss: 0.9431\n",
      "Epoch 17/50 | Loss: 0.9682\n",
      "Epoch 18/50 | Loss: 0.9323\n",
      "Epoch 19/50 | Loss: 0.9682\n",
      "Epoch 20/50 | Loss: 0.9436\n",
      "Epoch 21/50 | Loss: 0.9400\n",
      "Epoch 22/50 | Loss: 0.9023\n",
      "Epoch 23/50 | Loss: 0.9158\n",
      "Epoch 24/50 | Loss: 0.9284\n",
      "Epoch 25/50 | Loss: 0.9595\n",
      "Epoch 26/50 | Loss: 0.9486\n",
      "Epoch 27/50 | Loss: 0.9351\n",
      "Epoch 28/50 | Loss: 0.9543\n",
      "Epoch 29/50 | Loss: 0.9155\n",
      "Epoch 30/50 | Loss: 0.9272\n",
      "Epoch 31/50 | Loss: 0.9622\n",
      "Epoch 32/50 | Loss: 0.9643\n",
      "Epoch 33/50 | Loss: 0.9029\n",
      "Epoch 34/50 | Loss: 0.9309\n",
      "Epoch 35/50 | Loss: 0.9150\n",
      "Epoch 36/50 | Loss: 0.9630\n",
      "Epoch 37/50 | Loss: 0.9542\n",
      "Epoch 38/50 | Loss: 0.9598\n",
      "Epoch 39/50 | Loss: 0.9267\n",
      "Epoch 40/50 | Loss: 0.9006\n",
      "Epoch 41/50 | Loss: 0.8978\n",
      "Epoch 42/50 | Loss: 0.9312\n",
      "Epoch 43/50 | Loss: 0.9481\n",
      "Epoch 44/50 | Loss: 0.9642\n",
      "Epoch 45/50 | Loss: 0.9426\n",
      "Epoch 46/50 | Loss: 0.9065\n",
      "Epoch 47/50 | Loss: 0.9187\n",
      "Epoch 48/50 | Loss: 0.9269\n",
      "Epoch 49/50 | Loss: 0.9371\n",
      "Epoch 50/50 | Loss: 0.9150\n",
      "Test Acc: 52.76%\n"
     ]
    },
    {
     "name": "stderr",
     "output_type": "stream",
     "text": [
      "wandb: WARNING Source type is set to 'repo' but some required information is missing from the environment. A job will not be created from this run. See https://docs.wandb.ai/guides/launch/create-job\n"
     ]
    },
    {
     "data": {
      "text/html": [
       "<style>\n",
       "    table.wandb td:nth-child(1) { padding: 0 10px; text-align: left ; width: auto;} td:nth-child(2) {text-align: left ; width: 100%}\n",
       "    .wandb-row { display: flex; flex-direction: row; flex-wrap: wrap; justify-content: flex-start; width: 100% }\n",
       "    .wandb-col { display: flex; flex-direction: column; flex-basis: 100%; flex: 1; padding: 10px; }\n",
       "    </style>\n",
       "<div class=\"wandb-row\"><div class=\"wandb-col\"><h3>Run history:</h3><br/><table class=\"wandb\"><tr><td>epoch</td><td>▁▁▁▁▂▂▂▂▂▃▃▃▃▃▃▄▄▄▄▄▅▅▅▅▅▅▆▆▆▆▆▆▇▇▇▇▇███</td></tr><tr><td>test_accuracy</td><td>▁</td></tr><tr><td>test_loss</td><td>▁</td></tr><tr><td>train_loss</td><td>█▇▅▄▃▂▂▂▂▁▂▂▂▂▁▂▂▁▁▁▂▁▂▁▂▂▁▁▂▂▂▁▁▁▂▂▁▁▁▁</td></tr></table><br/></div><div class=\"wandb-col\"><h3>Run summary:</h3><br/><table class=\"wandb\"><tr><td>epoch</td><td>50</td></tr><tr><td>test_accuracy</td><td>0.52759</td></tr><tr><td>test_loss</td><td>1.32625</td></tr><tr><td>train_loss</td><td>0.91503</td></tr></table><br/></div></div>"
      ],
      "text/plain": [
       "<IPython.core.display.HTML object>"
      ]
     },
     "metadata": {},
     "output_type": "display_data"
    },
    {
     "data": {
      "text/html": [
       " View run <strong style=\"color:#cdcd00\">devoted-bee-54</strong> at: <a href='https://wandb.ai/pierrehogenhaug/modern_nlp_ex/runs/g8fkajxw' target=\"_blank\">https://wandb.ai/pierrehogenhaug/modern_nlp_ex/runs/g8fkajxw</a><br/>Synced 6 W&B file(s), 0 media file(s), 0 artifact file(s) and 0 other file(s)"
      ],
      "text/plain": [
       "<IPython.core.display.HTML object>"
      ]
     },
     "metadata": {},
     "output_type": "display_data"
    },
    {
     "data": {
      "text/html": [
       "Find logs at: <code>./wandb/run-20240313_111652-g8fkajxw/logs</code>"
      ],
      "text/plain": [
       "<IPython.core.display.HTML object>"
      ]
     },
     "metadata": {},
     "output_type": "display_data"
    },
    {
     "name": "stdout",
     "output_type": "stream",
     "text": [
      "\n",
      "Training with max_pool, lr=0.1, batch_size=128, epochs=70\n"
     ]
    },
    {
     "data": {
      "text/html": [
       "Tracking run with wandb version 0.16.4"
      ],
      "text/plain": [
       "<IPython.core.display.HTML object>"
      ]
     },
     "metadata": {},
     "output_type": "display_data"
    },
    {
     "data": {
      "text/html": [
       "Run data is saved locally in <code>/Users/phog/Desktop/cleverThings/Modern_NLP/cs-552-modern-nlp/Exercises/Week 1 - Word Embeddings/wandb/run-20240313_111709-all47p7a</code>"
      ],
      "text/plain": [
       "<IPython.core.display.HTML object>"
      ]
     },
     "metadata": {},
     "output_type": "display_data"
    },
    {
     "data": {
      "text/html": [
       "Syncing run <strong><a href='https://wandb.ai/pierrehogenhaug/modern_nlp_ex/runs/all47p7a' target=\"_blank\">robust-meadow-55</a></strong> to <a href='https://wandb.ai/pierrehogenhaug/modern_nlp_ex' target=\"_blank\">Weights & Biases</a> (<a href='https://wandb.me/run' target=\"_blank\">docs</a>)<br/>"
      ],
      "text/plain": [
       "<IPython.core.display.HTML object>"
      ]
     },
     "metadata": {},
     "output_type": "display_data"
    },
    {
     "data": {
      "text/html": [
       " View project at <a href='https://wandb.ai/pierrehogenhaug/modern_nlp_ex' target=\"_blank\">https://wandb.ai/pierrehogenhaug/modern_nlp_ex</a>"
      ],
      "text/plain": [
       "<IPython.core.display.HTML object>"
      ]
     },
     "metadata": {},
     "output_type": "display_data"
    },
    {
     "data": {
      "text/html": [
       " View run at <a href='https://wandb.ai/pierrehogenhaug/modern_nlp_ex/runs/all47p7a' target=\"_blank\">https://wandb.ai/pierrehogenhaug/modern_nlp_ex/runs/all47p7a</a>"
      ],
      "text/plain": [
       "<IPython.core.display.HTML object>"
      ]
     },
     "metadata": {},
     "output_type": "display_data"
    },
    {
     "name": "stdout",
     "output_type": "stream",
     "text": [
      "Epoch 1/70 | Loss: 1.4984\n",
      "Epoch 2/70 | Loss: 1.3735\n",
      "Epoch 3/70 | Loss: 1.2695\n",
      "Epoch 4/70 | Loss: 1.1828\n",
      "Epoch 5/70 | Loss: 1.0585\n",
      "Epoch 6/70 | Loss: 0.9812\n",
      "Epoch 7/70 | Loss: 1.0003\n",
      "Epoch 8/70 | Loss: 0.9652\n",
      "Epoch 9/70 | Loss: 0.9920\n",
      "Epoch 10/70 | Loss: 0.9648\n",
      "Epoch 11/70 | Loss: 0.9780\n",
      "Epoch 12/70 | Loss: 0.9459\n",
      "Epoch 13/70 | Loss: 0.9724\n",
      "Epoch 14/70 | Loss: 0.9330\n",
      "Epoch 15/70 | Loss: 0.9582\n",
      "Epoch 16/70 | Loss: 0.9262\n",
      "Epoch 17/70 | Loss: 0.9440\n",
      "Epoch 18/70 | Loss: 0.8854\n",
      "Epoch 19/70 | Loss: 0.9620\n",
      "Epoch 20/70 | Loss: 0.9528\n",
      "Epoch 21/70 | Loss: 0.9099\n",
      "Epoch 22/70 | Loss: 0.9412\n",
      "Epoch 23/70 | Loss: 0.8816\n",
      "Epoch 24/70 | Loss: 0.9303\n",
      "Epoch 25/70 | Loss: 0.9244\n",
      "Epoch 26/70 | Loss: 0.9194\n",
      "Epoch 27/70 | Loss: 0.9270\n",
      "Epoch 28/70 | Loss: 0.9660\n",
      "Epoch 29/70 | Loss: 0.9064\n",
      "Epoch 30/70 | Loss: 0.9175\n",
      "Epoch 31/70 | Loss: 0.9454\n",
      "Epoch 32/70 | Loss: 0.9363\n",
      "Epoch 33/70 | Loss: 0.9391\n",
      "Epoch 34/70 | Loss: 0.8407\n",
      "Epoch 35/70 | Loss: 0.9244\n",
      "Epoch 36/70 | Loss: 0.9413\n",
      "Epoch 37/70 | Loss: 0.8877\n",
      "Epoch 38/70 | Loss: 0.9038\n",
      "Epoch 39/70 | Loss: 0.9421\n",
      "Epoch 40/70 | Loss: 0.9216\n",
      "Epoch 41/70 | Loss: 0.9473\n",
      "Epoch 42/70 | Loss: 0.9460\n",
      "Epoch 43/70 | Loss: 0.9074\n",
      "Epoch 44/70 | Loss: 0.9193\n",
      "Epoch 45/70 | Loss: 0.9177\n",
      "Epoch 46/70 | Loss: 0.9194\n",
      "Epoch 47/70 | Loss: 0.8629\n",
      "Epoch 48/70 | Loss: 0.9726\n",
      "Epoch 49/70 | Loss: 0.9395\n",
      "Epoch 50/70 | Loss: 0.9142\n",
      "Epoch 51/70 | Loss: 0.9182\n",
      "Epoch 52/70 | Loss: 0.9468\n",
      "Epoch 53/70 | Loss: 0.9072\n",
      "Epoch 54/70 | Loss: 0.9528\n",
      "Epoch 55/70 | Loss: 0.9495\n",
      "Epoch 56/70 | Loss: 0.9758\n",
      "Epoch 57/70 | Loss: 0.9013\n",
      "Epoch 58/70 | Loss: 0.9025\n",
      "Epoch 59/70 | Loss: 0.9073\n",
      "Epoch 60/70 | Loss: 0.9285\n",
      "Epoch 61/70 | Loss: 0.9308\n",
      "Epoch 62/70 | Loss: 0.8994\n",
      "Epoch 63/70 | Loss: 0.9051\n",
      "Epoch 64/70 | Loss: 0.9294\n",
      "Epoch 65/70 | Loss: 0.9607\n",
      "Epoch 66/70 | Loss: 0.9096\n",
      "Epoch 67/70 | Loss: 0.9563\n",
      "Epoch 68/70 | Loss: 0.9107\n",
      "Epoch 69/70 | Loss: 0.9200\n",
      "Epoch 70/70 | Loss: 0.9484\n",
      "Test Acc: 65.95%\n"
     ]
    },
    {
     "name": "stderr",
     "output_type": "stream",
     "text": [
      "wandb: WARNING Source type is set to 'repo' but some required information is missing from the environment. A job will not be created from this run. See https://docs.wandb.ai/guides/launch/create-job\n"
     ]
    },
    {
     "data": {
      "text/html": [
       "<style>\n",
       "    table.wandb td:nth-child(1) { padding: 0 10px; text-align: left ; width: auto;} td:nth-child(2) {text-align: left ; width: 100%}\n",
       "    .wandb-row { display: flex; flex-direction: row; flex-wrap: wrap; justify-content: flex-start; width: 100% }\n",
       "    .wandb-col { display: flex; flex-direction: column; flex-basis: 100%; flex: 1; padding: 10px; }\n",
       "    </style>\n",
       "<div class=\"wandb-row\"><div class=\"wandb-col\"><h3>Run history:</h3><br/><table class=\"wandb\"><tr><td>epoch</td><td>▁▁▁▂▂▂▂▂▂▃▃▃▃▃▃▄▄▄▄▄▅▅▅▅▅▅▆▆▆▆▆▆▇▇▇▇▇███</td></tr><tr><td>test_accuracy</td><td>▁</td></tr><tr><td>test_loss</td><td>▁</td></tr><tr><td>train_loss</td><td>█▇▅▂▂▃▂▂▂▂▁▂▂▂▂▂▂▂▂▁▂▂▂▂▂▂▁▂▂▂▂▂▂▂▂▂▂▂▂▂</td></tr></table><br/></div><div class=\"wandb-col\"><h3>Run summary:</h3><br/><table class=\"wandb\"><tr><td>epoch</td><td>70</td></tr><tr><td>test_accuracy</td><td>0.65951</td></tr><tr><td>test_loss</td><td>0.65105</td></tr><tr><td>train_loss</td><td>0.9484</td></tr></table><br/></div></div>"
      ],
      "text/plain": [
       "<IPython.core.display.HTML object>"
      ]
     },
     "metadata": {},
     "output_type": "display_data"
    },
    {
     "data": {
      "text/html": [
       " View run <strong style=\"color:#cdcd00\">robust-meadow-55</strong> at: <a href='https://wandb.ai/pierrehogenhaug/modern_nlp_ex/runs/all47p7a' target=\"_blank\">https://wandb.ai/pierrehogenhaug/modern_nlp_ex/runs/all47p7a</a><br/>Synced 6 W&B file(s), 0 media file(s), 0 artifact file(s) and 0 other file(s)"
      ],
      "text/plain": [
       "<IPython.core.display.HTML object>"
      ]
     },
     "metadata": {},
     "output_type": "display_data"
    },
    {
     "data": {
      "text/html": [
       "Find logs at: <code>./wandb/run-20240313_111709-all47p7a/logs</code>"
      ],
      "text/plain": [
       "<IPython.core.display.HTML object>"
      ]
     },
     "metadata": {},
     "output_type": "display_data"
    }
   ],
   "source": [
    "import wandb \n",
    "\n",
    "dataset_avg = IMDBreviews(review_vectors_avg, movie_reviews['target'].values)\n",
    "dataset_max = IMDBreviews(review_vectors_max, movie_reviews['target'].values)\n",
    "\n",
    "# Hyperparameters sets\n",
    "learning_rates = [1e-3, 1e-2, 1e-1]\n",
    "batch_sizes = [32, 64, 128]\n",
    "num_epochs = [30, 50, 70]\n",
    "\n",
    "# Assuming train and test datasets are already defined\n",
    "def train_and_evaluate(dataset, learning_rate, batch_size, epochs, pool_type):\n",
    "    train_size = int(0.8 * len(dataset))\n",
    "    test_size = len(dataset) - train_size\n",
    "    train, test = torch.utils.data.random_split(dataset, [train_size, test_size])\n",
    "    \n",
    "    # Initialize wandb run\n",
    "    wandb.init(project=\"modern_nlp_ex_1\", entity=\"pierrehogenhaug\", reinit=True)\n",
    "    wandb.config.update({\n",
    "        \"learning_rate\": learning_rate,\n",
    "        \"batch_size\": batch_size,\n",
    "        \"epochs\": epochs,\n",
    "        \"pool_type\": pool_type  # Track the type of pooling used\n",
    "    })\n",
    "    \n",
    "    train_loader = DataLoader(train, batch_size=batch_size, shuffle=True)\n",
    "    test_loader = DataLoader(test, batch_size=batch_size)\n",
    "\n",
    "    model = SentimentAnalysisModel(dataset.x)\n",
    "    criterion = nn.BCELoss()\n",
    "    optimizer = optim.SGD(model.parameters(), lr=learning_rate)\n",
    "\n",
    "    # Training loop\n",
    "    model.train()\n",
    "    for epoch in range(epochs):\n",
    "        epoch_loss = 0\n",
    "        for _, data in enumerate(train_loader, 0):\n",
    "            inputs, labels = data\n",
    "            optimizer.zero_grad()\n",
    "            y_pred = model(inputs, labels.float())\n",
    "            loss = criterion(torch.squeeze(y_pred), labels.float())\n",
    "            epoch_loss += loss.item()\n",
    "            loss.backward()\n",
    "            optimizer.step()\n",
    "        \n",
    "        # Log the training loss to W&B after each epoch\n",
    "        wandb.log({\"epoch\": epoch + 1, \"train_loss\": epoch_loss / len(train_loader)})\n",
    "        print(f'Epoch {epoch + 1}/{epochs} | Loss: {epoch_loss / len(train_loader):.4f}')\n",
    "\n",
    "    # Evaluation loop\n",
    "    model.eval()\n",
    "    with torch.no_grad():\n",
    "        batch_loss = 0\n",
    "        batch_acc = 0\n",
    "        for _, data in enumerate(test_loader, 0):\n",
    "            inputs, labels = data\n",
    "            predictions = model(inputs, labels.float())\n",
    "            predictions = torch.squeeze(predictions)\n",
    "            test_loss = criterion(torch.squeeze(predictions), labels.float())\n",
    "            predictions = torch.tensor([1. if i > 0.5 else 0. for i in predictions])\n",
    "            acc = BinaryAccuracy()\n",
    "            acc = acc(labels, predictions)\n",
    "            batch_loss += test_loss.item()\n",
    "            batch_acc += acc.item()\n",
    "    test_loss = batch_loss / len(test_loader)\n",
    "    test_acc = batch_acc / len(test_loader)\n",
    "\n",
    "    # Log test loss and accuracy to wandb\n",
    "    wandb.log({\"test_loss\": test_loss, \"test_accuracy\": test_acc})\n",
    "    print(f'Test Acc: {test_acc*100:.2f}%')\n",
    "\n",
    "    # Finish the wandb run\n",
    "    wandb.finish()\n",
    "    \n",
    "# Loop over datasets, hyperparameters, and pool types\n",
    "for pool_type, dataset in [(\"avg_pool\", dataset_avg), (\"max_pool\", dataset_max)]:\n",
    "    for lr in learning_rates:\n",
    "        for bs in batch_sizes:\n",
    "            for epochs in num_epochs:\n",
    "                print(f\"\\nTraining with {pool_type}, lr={lr}, batch_size={bs}, epochs={epochs}\")\n",
    "                train_and_evaluate(dataset, lr, bs, epochs, pool_type)"
   ]
  },
  {
   "cell_type": "markdown",
   "metadata": {},
   "source": [
    "### 🎉 Congrats! You finished your first exercise session! \n",
    "\n",
    "Awesome work! Cu next week! 👋"
   ]
  }
 ],
 "metadata": {
  "kernelspec": {
   "display_name": "Python 3 (ipykernel)",
   "language": "python",
   "name": "python3"
  },
  "language_info": {
   "codemirror_mode": {
    "name": "ipython",
    "version": 3
   },
   "file_extension": ".py",
   "mimetype": "text/x-python",
   "name": "python",
   "nbconvert_exporter": "python",
   "pygments_lexer": "ipython3",
   "version": "3.10.13"
  },
  "vscode": {
   "interpreter": {
    "hash": "a8ced340a52f9326f5856e1d63a73f97bd9f0a225610b549ff7b502d766a19ce"
   }
  }
 },
 "nbformat": 4,
 "nbformat_minor": 4
}
